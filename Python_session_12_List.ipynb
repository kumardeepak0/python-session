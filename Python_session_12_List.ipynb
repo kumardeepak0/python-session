{
 "cells": [
  {
   "cell_type": "markdown",
   "id": "ca70c237",
   "metadata": {},
   "source": [
    "- array of element"
   ]
  },
  {
   "cell_type": "markdown",
   "id": "911e73ae",
   "metadata": {},
   "source": [
    "### List"
   ]
  },
  {
   "cell_type": "code",
   "execution_count": 3,
   "id": "3b2bbc8f",
   "metadata": {},
   "outputs": [],
   "source": [
    "string1='python'"
   ]
  },
  {
   "cell_type": "code",
   "execution_count": 4,
   "id": "a431f7bb",
   "metadata": {},
   "outputs": [
    {
     "data": {
      "text/plain": [
       "[1, 2, 3, 4]"
      ]
     },
     "execution_count": 4,
     "metadata": {},
     "output_type": "execute_result"
    }
   ],
   "source": [
    "list1=[1,2,3,4]\n",
    "list1  # you can write numbers"
   ]
  },
  {
   "cell_type": "code",
   "execution_count": 5,
   "id": "6913ba0a",
   "metadata": {},
   "outputs": [
    {
     "data": {
      "text/plain": [
       "['A', 'B', 'C', 'D']"
      ]
     },
     "execution_count": 5,
     "metadata": {},
     "output_type": "execute_result"
    }
   ],
   "source": [
    "list2=['A','B','C','D']\n",
    "list2  #you can write strings"
   ]
  },
  {
   "cell_type": "code",
   "execution_count": 6,
   "id": "9b978198",
   "metadata": {},
   "outputs": [
    {
     "data": {
      "text/plain": [
       "[1, 2, 3, 4, 'A', 'B', 'C', 'D']"
      ]
     },
     "execution_count": 6,
     "metadata": {},
     "output_type": "execute_result"
    }
   ],
   "source": [
    "list3=[1,2,3,4,'A','B','C','D']\n",
    "list3"
   ]
  },
  {
   "cell_type": "code",
   "execution_count": 7,
   "id": "20e0c644",
   "metadata": {},
   "outputs": [
    {
     "data": {
      "text/plain": [
       "[1, 'Apple', 10.5, (10+20j), True]"
      ]
     },
     "execution_count": 7,
     "metadata": {},
     "output_type": "execute_result"
    }
   ],
   "source": [
    "list4=[1,'Apple',10.5,10+20j,True]\n",
    "list4"
   ]
  },
  {
   "cell_type": "code",
   "execution_count": 8,
   "id": "8c954e59",
   "metadata": {},
   "outputs": [
    {
     "data": {
      "text/plain": [
       "[100, 100, 100]"
      ]
     },
     "execution_count": 8,
     "metadata": {},
     "output_type": "execute_result"
    }
   ],
   "source": [
    "list5=[100,100,100]\n",
    "list5"
   ]
  },
  {
   "cell_type": "code",
   "execution_count": 9,
   "id": "8052897e",
   "metadata": {},
   "outputs": [
    {
     "data": {
      "text/plain": [
       "[1, 2, 3, 4]"
      ]
     },
     "execution_count": 9,
     "metadata": {},
     "output_type": "execute_result"
    }
   ],
   "source": [
    "list6=[1,2,3,4]\n",
    "list6"
   ]
  },
  {
   "cell_type": "markdown",
   "id": "e97e06bc",
   "metadata": {},
   "source": [
    "- list is an array of elements\n",
    "- list elements heterogeneous (different) data types are allowed\n",
    "- duplicate are allowed\n",
    "- list in list also work"
   ]
  },
  {
   "cell_type": "markdown",
   "id": "39008fd9",
   "metadata": {},
   "source": [
    "$TYPE$"
   ]
  },
  {
   "cell_type": "code",
   "execution_count": 2,
   "id": "63930aa4",
   "metadata": {},
   "outputs": [],
   "source": [
    "x=[1,'abc',2,4]"
   ]
  },
  {
   "cell_type": "code",
   "execution_count": 4,
   "id": "85618776",
   "metadata": {},
   "outputs": [
    {
     "data": {
      "text/plain": [
       "list"
      ]
     },
     "execution_count": 4,
     "metadata": {},
     "output_type": "execute_result"
    }
   ],
   "source": [
    "type(x)"
   ]
  },
  {
   "cell_type": "code",
   "execution_count": 5,
   "id": "9c0e7aca",
   "metadata": {},
   "outputs": [],
   "source": [
    "list1=[1,2,3,4]"
   ]
  },
  {
   "cell_type": "code",
   "execution_count": 6,
   "id": "1e4c2b76",
   "metadata": {},
   "outputs": [],
   "source": [
    "list2=['A','B','C','D']"
   ]
  },
  {
   "cell_type": "code",
   "execution_count": 10,
   "id": "4dadcedc",
   "metadata": {},
   "outputs": [],
   "source": [
    "list3=[1,2,3,\"a\",\"b\",\"c\"]\n"
   ]
  },
  {
   "cell_type": "code",
   "execution_count": 7,
   "id": "7920be85",
   "metadata": {},
   "outputs": [
    {
     "data": {
      "text/plain": [
       "4"
      ]
     },
     "execution_count": 7,
     "metadata": {},
     "output_type": "execute_result"
    }
   ],
   "source": [
    "max(list1)"
   ]
  },
  {
   "cell_type": "code",
   "execution_count": 8,
   "id": "1865e458",
   "metadata": {},
   "outputs": [
    {
     "data": {
      "text/plain": [
       "'D'"
      ]
     },
     "execution_count": 8,
     "metadata": {},
     "output_type": "execute_result"
    }
   ],
   "source": [
    "max(list2)"
   ]
  },
  {
   "cell_type": "code",
   "execution_count": 12,
   "id": "a605e774",
   "metadata": {},
   "outputs": [
    {
     "ename": "TypeError",
     "evalue": "'>' not supported between instances of 'str' and 'int'",
     "output_type": "error",
     "traceback": [
      "\u001b[1;31m---------------------------------------------------------------------------\u001b[0m",
      "\u001b[1;31mTypeError\u001b[0m                                 Traceback (most recent call last)",
      "Cell \u001b[1;32mIn[12], line 1\u001b[0m\n\u001b[1;32m----> 1\u001b[0m \u001b[38;5;28mmax\u001b[39m(list3)\n",
      "\u001b[1;31mTypeError\u001b[0m: '>' not supported between instances of 'str' and 'int'"
     ]
    }
   ],
   "source": [
    "max(list3) # WE cannot compare different data types"
   ]
  },
  {
   "cell_type": "code",
   "execution_count": 13,
   "id": "ff205f17",
   "metadata": {},
   "outputs": [
    {
     "data": {
      "text/plain": [
       "1"
      ]
     },
     "execution_count": 13,
     "metadata": {},
     "output_type": "execute_result"
    }
   ],
   "source": [
    "min(list1)"
   ]
  },
  {
   "cell_type": "code",
   "execution_count": 14,
   "id": "1fe14586",
   "metadata": {},
   "outputs": [
    {
     "data": {
      "text/plain": [
       "'A'"
      ]
     },
     "execution_count": 14,
     "metadata": {},
     "output_type": "execute_result"
    }
   ],
   "source": [
    "min(list2)"
   ]
  },
  {
   "cell_type": "code",
   "execution_count": 15,
   "id": "feb5bf25",
   "metadata": {},
   "outputs": [
    {
     "ename": "TypeError",
     "evalue": "'<' not supported between instances of 'str' and 'int'",
     "output_type": "error",
     "traceback": [
      "\u001b[1;31m---------------------------------------------------------------------------\u001b[0m",
      "\u001b[1;31mTypeError\u001b[0m                                 Traceback (most recent call last)",
      "Cell \u001b[1;32mIn[15], line 1\u001b[0m\n\u001b[1;32m----> 1\u001b[0m \u001b[38;5;28mmin\u001b[39m(list3)\n",
      "\u001b[1;31mTypeError\u001b[0m: '<' not supported between instances of 'str' and 'int'"
     ]
    }
   ],
   "source": [
    "min(list3)"
   ]
  },
  {
   "cell_type": "markdown",
   "id": "0cdaba0b",
   "metadata": {},
   "source": [
    "$LENGTH$"
   ]
  },
  {
   "cell_type": "code",
   "execution_count": 16,
   "id": "ea2d5c44",
   "metadata": {},
   "outputs": [
    {
     "data": {
      "text/plain": [
       "4"
      ]
     },
     "execution_count": 16,
     "metadata": {},
     "output_type": "execute_result"
    }
   ],
   "source": [
    "len(list1)"
   ]
  },
  {
   "cell_type": "code",
   "execution_count": 17,
   "id": "7b2ecdff",
   "metadata": {},
   "outputs": [
    {
     "data": {
      "text/plain": [
       "4"
      ]
     },
     "execution_count": 17,
     "metadata": {},
     "output_type": "execute_result"
    }
   ],
   "source": [
    "len(list2)"
   ]
  },
  {
   "cell_type": "code",
   "execution_count": 18,
   "id": "2138b653",
   "metadata": {},
   "outputs": [
    {
     "data": {
      "text/plain": [
       "6"
      ]
     },
     "execution_count": 18,
     "metadata": {},
     "output_type": "execute_result"
    }
   ],
   "source": [
    "len(list3)"
   ]
  },
  {
   "cell_type": "code",
   "execution_count": 19,
   "id": "5191f1cf",
   "metadata": {},
   "outputs": [
    {
     "data": {
      "text/plain": [
       "10"
      ]
     },
     "execution_count": 19,
     "metadata": {},
     "output_type": "execute_result"
    }
   ],
   "source": [
    "sum(list1)"
   ]
  },
  {
   "cell_type": "code",
   "execution_count": 20,
   "id": "e5f10b78",
   "metadata": {},
   "outputs": [
    {
     "ename": "TypeError",
     "evalue": "unsupported operand type(s) for +: 'int' and 'str'",
     "output_type": "error",
     "traceback": [
      "\u001b[1;31m---------------------------------------------------------------------------\u001b[0m",
      "\u001b[1;31mTypeError\u001b[0m                                 Traceback (most recent call last)",
      "Cell \u001b[1;32mIn[20], line 1\u001b[0m\n\u001b[1;32m----> 1\u001b[0m \u001b[38;5;28msum\u001b[39m(list2)\n",
      "\u001b[1;31mTypeError\u001b[0m: unsupported operand type(s) for +: 'int' and 'str'"
     ]
    }
   ],
   "source": [
    "sum(list2)"
   ]
  },
  {
   "cell_type": "markdown",
   "id": "690581b6",
   "metadata": {},
   "source": [
    "- sum\n",
    "- eval\n",
    "- range"
   ]
  },
  {
   "cell_type": "markdown",
   "id": "83d97fd9",
   "metadata": {},
   "source": [
    "$IN$"
   ]
  },
  {
   "cell_type": "code",
   "execution_count": 21,
   "id": "d594bb24",
   "metadata": {},
   "outputs": [
    {
     "data": {
      "text/plain": [
       "[1, 2, 3, 4]"
      ]
     },
     "execution_count": 21,
     "metadata": {},
     "output_type": "execute_result"
    }
   ],
   "source": [
    "list1"
   ]
  },
  {
   "cell_type": "code",
   "execution_count": 26,
   "id": "8a8764b4",
   "metadata": {},
   "outputs": [
    {
     "name": "stdout",
     "output_type": "stream",
     "text": [
      "True\n",
      "True\n",
      "True\n",
      "False\n"
     ]
    }
   ],
   "source": [
    "print(1 in list1)\n",
    "print(2 in list1)\n",
    "print(3 in list1)\n",
    "print(5 in list1)"
   ]
  },
  {
   "cell_type": "code",
   "execution_count": 27,
   "id": "5efb1dc7",
   "metadata": {},
   "outputs": [
    {
     "name": "stdout",
     "output_type": "stream",
     "text": [
      "1\n",
      "2\n",
      "3\n",
      "4\n"
     ]
    }
   ],
   "source": [
    "for i in list1:\n",
    "    print(i)"
   ]
  },
  {
   "cell_type": "markdown",
   "id": "28c6a854",
   "metadata": {},
   "source": [
    "$Concatenation$"
   ]
  },
  {
   "cell_type": "code",
   "execution_count": 28,
   "id": "2b81fd63",
   "metadata": {},
   "outputs": [
    {
     "name": "stdout",
     "output_type": "stream",
     "text": [
      "[1, 2, 3, 4, 'A', 'B', 'C', 'D']\n",
      "['A', 'B', 'C', 'D', 1, 2, 3, 4]\n"
     ]
    }
   ],
   "source": [
    "print(list1+list2)\n",
    "print(list2+list1)"
   ]
  },
  {
   "cell_type": "code",
   "execution_count": 29,
   "id": "3364d5af",
   "metadata": {},
   "outputs": [],
   "source": [
    "new_list=list1+list2"
   ]
  },
  {
   "cell_type": "code",
   "execution_count": 30,
   "id": "2436b19d",
   "metadata": {},
   "outputs": [
    {
     "data": {
      "text/plain": [
       "[1, 2, 3, 4, 'A', 'B', 'C', 'D']"
      ]
     },
     "execution_count": 30,
     "metadata": {},
     "output_type": "execute_result"
    }
   ],
   "source": [
    "new_list"
   ]
  },
  {
   "cell_type": "code",
   "execution_count": 31,
   "id": "5502c822",
   "metadata": {},
   "outputs": [
    {
     "data": {
      "text/plain": [
       "[1, 2, 3, 4, 1, 2, 3, 4, 1, 2, 3, 4]"
      ]
     },
     "execution_count": 31,
     "metadata": {},
     "output_type": "execute_result"
    }
   ],
   "source": [
    "list1*3"
   ]
  },
  {
   "cell_type": "code",
   "execution_count": 34,
   "id": "4f635224",
   "metadata": {},
   "outputs": [
    {
     "ename": "TypeError",
     "evalue": "unsupported operand type(s) for -: 'list' and 'list'",
     "output_type": "error",
     "traceback": [
      "\u001b[1;31m---------------------------------------------------------------------------\u001b[0m",
      "\u001b[1;31mTypeError\u001b[0m                                 Traceback (most recent call last)",
      "Cell \u001b[1;32mIn[34], line 1\u001b[0m\n\u001b[1;32m----> 1\u001b[0m \u001b[38;5;28mprint\u001b[39m(list1\u001b[38;5;241m-\u001b[39mlist2)\n",
      "\u001b[1;31mTypeError\u001b[0m: unsupported operand type(s) for -: 'list' and 'list'"
     ]
    }
   ],
   "source": [
    "print(list1-list2)"
   ]
  },
  {
   "cell_type": "code",
   "execution_count": 35,
   "id": "155d444c",
   "metadata": {},
   "outputs": [
    {
     "ename": "TypeError",
     "evalue": "can't multiply sequence by non-int of type 'list'",
     "output_type": "error",
     "traceback": [
      "\u001b[1;31m---------------------------------------------------------------------------\u001b[0m",
      "\u001b[1;31mTypeError\u001b[0m                                 Traceback (most recent call last)",
      "Cell \u001b[1;32mIn[35], line 1\u001b[0m\n\u001b[1;32m----> 1\u001b[0m \u001b[38;5;28mprint\u001b[39m(list1\u001b[38;5;241m*\u001b[39mlist2)\n",
      "\u001b[1;31mTypeError\u001b[0m: can't multiply sequence by non-int of type 'list'"
     ]
    }
   ],
   "source": [
    "print(list1*list2)"
   ]
  },
  {
   "cell_type": "code",
   "execution_count": null,
   "id": "052f7f96",
   "metadata": {},
   "outputs": [],
   "source": [
    "list1-list2  #Fail\n",
    "list1*list2  #fail\n",
    "list1/list2  #fail\n",
    "# 'a'/'b'"
   ]
  },
  {
   "cell_type": "markdown",
   "id": "a3865279",
   "metadata": {},
   "source": [
    "$Index$"
   ]
  },
  {
   "cell_type": "code",
   "execution_count": 1,
   "id": "ebc22630",
   "metadata": {},
   "outputs": [],
   "source": [
    "list3=[1,2,3,4,'A','B','C','D']"
   ]
  },
  {
   "cell_type": "code",
   "execution_count": 3,
   "id": "000ef04b",
   "metadata": {},
   "outputs": [
    {
     "data": {
      "text/plain": [
       "(1, 2, 3, 4, 'A', 'B', 'C', 'D')"
      ]
     },
     "execution_count": 3,
     "metadata": {},
     "output_type": "execute_result"
    }
   ],
   "source": [
    "list3[0],list3[1],list3[2],list3[3],list3[4],list3[5],list3[6],list3[7]"
   ]
  },
  {
   "cell_type": "code",
   "execution_count": 41,
   "id": "05afc5f9",
   "metadata": {},
   "outputs": [
    {
     "name": "stdout",
     "output_type": "stream",
     "text": [
      "0 1\n",
      "1 2\n",
      "2 3\n",
      "3 4\n",
      "4 A\n",
      "5 B\n",
      "6 C\n",
      "7 D\n"
     ]
    }
   ],
   "source": [
    "for i in range(8):\n",
    "    print(i,list3[i])"
   ]
  },
  {
   "cell_type": "code",
   "execution_count": 42,
   "id": "1463a1d3",
   "metadata": {},
   "outputs": [
    {
     "name": "stdout",
     "output_type": "stream",
     "text": [
      "0 1\n",
      "1 2\n",
      "2 3\n",
      "3 4\n",
      "4 A\n",
      "5 B\n",
      "6 C\n",
      "7 D\n"
     ]
    }
   ],
   "source": [
    "for i in range(len(list3)):\n",
    "    print(i,list3[i])"
   ]
  },
  {
   "cell_type": "code",
   "execution_count": 45,
   "id": "edd52967",
   "metadata": {},
   "outputs": [
    {
     "name": "stdout",
     "output_type": "stream",
     "text": [
      "0 1\n",
      "-1 D\n",
      "-2 C\n",
      "-3 B\n",
      "-4 A\n",
      "-5 4\n",
      "-6 3\n",
      "-7 2\n"
     ]
    }
   ],
   "source": [
    "for i in range(len(list3)):\n",
    "    print(-i,list3[-i])"
   ]
  },
  {
   "cell_type": "code",
   "execution_count": 47,
   "id": "95f7a99b",
   "metadata": {},
   "outputs": [
    {
     "name": "stdout",
     "output_type": "stream",
     "text": [
      "positive index is:0 and negative index is -8:for an element1\n",
      "positive index is:1 and negative index is -7:for an element2\n",
      "positive index is:2 and negative index is -6:for an element3\n",
      "positive index is:3 and negative index is -5:for an element4\n",
      "positive index is:4 and negative index is -4:for an elementA\n",
      "positive index is:5 and negative index is -3:for an elementB\n",
      "positive index is:6 and negative index is -2:for an elementC\n",
      "positive index is:7 and negative index is -1:for an elementD\n"
     ]
    }
   ],
   "source": [
    "for i in range(len(list3)):\n",
    "    print('positive index is:{} and negative index is {}:for an element{}'.format(i,i-len(list3),list3[i]))"
   ]
  },
  {
   "cell_type": "code",
   "execution_count": null,
   "id": "b81741cf",
   "metadata": {},
   "outputs": [],
   "source": [
    "# WAP find the element which are having len<3:\n",
    "# list=['Apple','Ball','Cat','Ab','Cd','Ef']"
   ]
  },
  {
   "cell_type": "code",
   "execution_count": 53,
   "id": "4dc80801",
   "metadata": {},
   "outputs": [
    {
     "name": "stdout",
     "output_type": "stream",
     "text": [
      "Ab\n",
      "Cd\n",
      "Ef\n"
     ]
    }
   ],
   "source": [
    "list1=['Apple','Ball','Cat','Ab','Cd','Ef']\n",
    "for i in list1:\n",
    "    if len(i)<3:\n",
    "        print(i)"
   ]
  },
  {
   "cell_type": "code",
   "execution_count": 54,
   "id": "1634e693",
   "metadata": {},
   "outputs": [
    {
     "name": "stdout",
     "output_type": "stream",
     "text": [
      "Ab\n",
      "Cd\n",
      "Ef\n"
     ]
    }
   ],
   "source": [
    "list1=['Apple','Ball','Cat','Ab','Cd','Ef']\n",
    "for i in range(len(list1)):\n",
    "    if len(list1[i])<3:\n",
    "        print(list1[i])"
   ]
  },
  {
   "cell_type": "code",
   "execution_count": null,
   "id": "b9ff0878",
   "metadata": {},
   "outputs": [],
   "source": [
    "# WAP find the element which are having #:\n",
    "# list=['App#e','B#ll','C#t','Ab','Cd','Ef']"
   ]
  },
  {
   "cell_type": "code",
   "execution_count": 61,
   "id": "150496f6",
   "metadata": {},
   "outputs": [
    {
     "name": "stdout",
     "output_type": "stream",
     "text": [
      "App#e\n",
      "B#ll\n",
      "C#t\n"
     ]
    }
   ],
   "source": [
    " list1=['App#e','B#ll','C#t','Ab','Cd','Ef']\n",
    "for i in list1:\n",
    "    for j in i:\n",
    "        if j=='#':\n",
    "            print(i)"
   ]
  },
  {
   "cell_type": "code",
   "execution_count": 62,
   "id": "168cc516",
   "metadata": {},
   "outputs": [
    {
     "name": "stdout",
     "output_type": "stream",
     "text": [
      "App#e\n",
      "B#ll\n",
      "C#t\n"
     ]
    }
   ],
   "source": [
    "for i in list1:\n",
    "    if '#' in i:\n",
    "        print(i)"
   ]
  },
  {
   "cell_type": "code",
   "execution_count": 68,
   "id": "d3e0a13a",
   "metadata": {},
   "outputs": [
    {
     "name": "stdout",
     "output_type": "stream",
     "text": [
      "3\n"
     ]
    }
   ],
   "source": [
    "count=0\n",
    "for i in list1:\n",
    "    if '#' in i:\n",
    "        count+=1\n",
    "print(count)        "
   ]
  },
  {
   "cell_type": "code",
   "execution_count": 69,
   "id": "b247227b",
   "metadata": {},
   "outputs": [],
   "source": [
    "list1=[1,2,3,['Apple','Ball']]\n",
    "# retrive the ball using index\n",
    "# In the given list how many elements are there:4"
   ]
  },
  {
   "cell_type": "code",
   "execution_count": 72,
   "id": "0d2a54c4",
   "metadata": {},
   "outputs": [
    {
     "data": {
      "text/plain": [
       "'Ball'"
      ]
     },
     "execution_count": 72,
     "metadata": {},
     "output_type": "execute_result"
    }
   ],
   "source": [
    "list1[3][1]"
   ]
  },
  {
   "cell_type": "code",
   "execution_count": 73,
   "id": "1517dfc8",
   "metadata": {},
   "outputs": [],
   "source": [
    "list2=[[[[[[['Cherry']]]]]]]"
   ]
  },
  {
   "cell_type": "code",
   "execution_count": 88,
   "id": "eb0c037a",
   "metadata": {},
   "outputs": [
    {
     "data": {
      "text/plain": [
       "'Cherry'"
      ]
     },
     "execution_count": 88,
     "metadata": {},
     "output_type": "execute_result"
    }
   ],
   "source": [
    "list2[0][0][0][0][0][0][0]"
   ]
  },
  {
   "cell_type": "code",
   "execution_count": 93,
   "id": "3e7dec2f",
   "metadata": {},
   "outputs": [],
   "source": [
    "list3=[[[['A','B',[[[1,2,3,['car']]]]]]]]"
   ]
  },
  {
   "cell_type": "code",
   "execution_count": 98,
   "id": "de15a21e",
   "metadata": {},
   "outputs": [
    {
     "data": {
      "text/plain": [
       "'car'"
      ]
     },
     "execution_count": 98,
     "metadata": {},
     "output_type": "execute_result"
    }
   ],
   "source": [
    "list3[0][0][0][2][0][0][3][0]"
   ]
  },
  {
   "cell_type": "markdown",
   "id": "1de9199b",
   "metadata": {},
   "source": [
    "$Mutable$"
   ]
  },
  {
   "cell_type": "code",
   "execution_count": 101,
   "id": "92d65e64",
   "metadata": {},
   "outputs": [
    {
     "name": "stdout",
     "output_type": "stream",
     "text": [
      "[1, 2, 'xyz', 'abc', 'def']\n"
     ]
    }
   ],
   "source": [
    "list1=[1,2,3,'abc','def']\n",
    "list1[2]='xyz'\n",
    "print(list1)"
   ]
  },
  {
   "cell_type": "code",
   "execution_count": 10,
   "id": "d36415b6",
   "metadata": {},
   "outputs": [
    {
     "data": {
      "text/plain": [
       "[100, 'B', 'C']"
      ]
     },
     "execution_count": 10,
     "metadata": {},
     "output_type": "execute_result"
    }
   ],
   "source": [
    "list1=['A','B','C']\n",
    "list1[0]=100\n",
    "list1"
   ]
  },
  {
   "cell_type": "markdown",
   "id": "0a2735e5",
   "metadata": {},
   "source": [
    "$Slice$"
   ]
  },
  {
   "cell_type": "code",
   "execution_count": 103,
   "id": "2280d666",
   "metadata": {},
   "outputs": [],
   "source": [
    "list1=[1,10,20,30,'P','Y','T','H','0','N','a','b','c','D']\n"
   ]
  },
  {
   "cell_type": "code",
   "execution_count": 104,
   "id": "bfb32a67",
   "metadata": {},
   "outputs": [
    {
     "name": "stdout",
     "output_type": "stream",
     "text": [
      "[20, 'Y', '0', 'b']\n",
      "[]\n",
      "[]\n",
      "[20]\n",
      "['c']\n",
      "[]\n",
      "['c', 'N', 'T', 30]\n",
      "[]\n"
     ]
    }
   ],
   "source": [
    "print(list1[2:14:3])\n",
    "print(list1[2:14:-3])\n",
    "print(list1[2:-14:3])\n",
    "print(list1[2:-14:-3])\n",
    "print(list1[-2:14:3])\n",
    "print(list1[-2:-14:3])\n",
    "print(list1[-2:-14:-3])\n",
    "print(list1[-2:14:-3])"
   ]
  },
  {
   "cell_type": "markdown",
   "id": "17ae9c37",
   "metadata": {},
   "source": [
    "- Reading a list\n",
    "- Different way to provide elements\n",
    "- type/min/max/sum/len\n",
    "- in\n",
    "- concatenation\n",
    "- index\n",
    "- mutable\n",
    "- slice"
   ]
  },
  {
   "cell_type": "markdown",
   "id": "affd3c38",
   "metadata": {},
   "source": [
    "$List methods$"
   ]
  },
  {
   "cell_type": "code",
   "execution_count": 106,
   "id": "14d76d45",
   "metadata": {},
   "outputs": [
    {
     "data": {
      "text/plain": [
       "['__add__',\n",
       " '__class__',\n",
       " '__class_getitem__',\n",
       " '__contains__',\n",
       " '__delattr__',\n",
       " '__delitem__',\n",
       " '__dir__',\n",
       " '__doc__',\n",
       " '__eq__',\n",
       " '__format__',\n",
       " '__ge__',\n",
       " '__getattribute__',\n",
       " '__getitem__',\n",
       " '__getstate__',\n",
       " '__gt__',\n",
       " '__hash__',\n",
       " '__iadd__',\n",
       " '__imul__',\n",
       " '__init__',\n",
       " '__init_subclass__',\n",
       " '__iter__',\n",
       " '__le__',\n",
       " '__len__',\n",
       " '__lt__',\n",
       " '__mul__',\n",
       " '__ne__',\n",
       " '__new__',\n",
       " '__reduce__',\n",
       " '__reduce_ex__',\n",
       " '__repr__',\n",
       " '__reversed__',\n",
       " '__rmul__',\n",
       " '__setattr__',\n",
       " '__setitem__',\n",
       " '__sizeof__',\n",
       " '__str__',\n",
       " '__subclasshook__',\n",
       " 'append',\n",
       " 'clear',\n",
       " 'copy',\n",
       " 'count',\n",
       " 'extend',\n",
       " 'index',\n",
       " 'insert',\n",
       " 'pop',\n",
       " 'remove',\n",
       " 'reverse',\n",
       " 'sort']"
      ]
     },
     "execution_count": 106,
     "metadata": {},
     "output_type": "execute_result"
    }
   ],
   "source": [
    "dir([])"
   ]
  },
  {
   "cell_type": "markdown",
   "id": "2f6a08ca",
   "metadata": {},
   "source": [
    "$CLEAR$-$COPY$"
   ]
  },
  {
   "cell_type": "code",
   "execution_count": 107,
   "id": "660dcbe3",
   "metadata": {},
   "outputs": [
    {
     "name": "stdout",
     "output_type": "stream",
     "text": [
      "[1, 2, 3, 4]\n"
     ]
    }
   ],
   "source": [
    "list1=[1,2,3,4]\n",
    "# I want copy these elements in a list\n",
    "list2=list1.copy()\n",
    "print(list2)"
   ]
  },
  {
   "cell_type": "code",
   "execution_count": 109,
   "id": "ddc7a9fd",
   "metadata": {},
   "outputs": [
    {
     "data": {
      "text/plain": [
       "[]"
      ]
     },
     "execution_count": 109,
     "metadata": {},
     "output_type": "execute_result"
    }
   ],
   "source": [
    "list1.clear()\n",
    "list1"
   ]
  },
  {
   "cell_type": "code",
   "execution_count": 110,
   "id": "5b33ccf6",
   "metadata": {},
   "outputs": [
    {
     "name": "stdout",
     "output_type": "stream",
     "text": [
      "list1: []\n",
      "list2: [1, 2, 3, 4]\n"
     ]
    }
   ],
   "source": [
    "print('list1:',list1)\n",
    "print('list2:',list2)"
   ]
  },
  {
   "cell_type": "code",
   "execution_count": null,
   "id": "97071d15",
   "metadata": {},
   "outputs": [],
   "source": [
    "# Side heading\n",
    "# Write the code\n",
    "# Insight"
   ]
  },
  {
   "cell_type": "markdown",
   "id": "1d552c40",
   "metadata": {},
   "source": [
    "$Append$"
   ]
  },
  {
   "cell_type": "code",
   "execution_count": 3,
   "id": "1ef86ae0",
   "metadata": {},
   "outputs": [
    {
     "data": {
      "text/plain": [
       "[100, 200, 300]"
      ]
     },
     "execution_count": 3,
     "metadata": {},
     "output_type": "execute_result"
    }
   ],
   "source": [
    "# add something to the end \n",
    "list1=[100,200]\n",
    "list1.append(300)\n",
    "list1"
   ]
  },
  {
   "cell_type": "code",
   "execution_count": 4,
   "id": "a6aedeac",
   "metadata": {},
   "outputs": [
    {
     "data": {
      "text/plain": [
       "[100, 200, 300]"
      ]
     },
     "execution_count": 4,
     "metadata": {},
     "output_type": "execute_result"
    }
   ],
   "source": [
    "list1=[]\n",
    "list1.append(100)\n",
    "list1.append(200)\n",
    "list1.append(300)\n",
    "list1"
   ]
  },
  {
   "cell_type": "code",
   "execution_count": 31,
   "id": "a54673e1",
   "metadata": {},
   "outputs": [
    {
     "data": {
      "text/plain": [
       "[1, 2, 3, 4, 5, [100, 200]]"
      ]
     },
     "execution_count": 31,
     "metadata": {},
     "output_type": "execute_result"
    }
   ],
   "source": [
    "list1.append([100,200])\n",
    "list1"
   ]
  },
  {
   "cell_type": "code",
   "execution_count": 32,
   "id": "dfa35fc8",
   "metadata": {},
   "outputs": [
    {
     "data": {
      "text/plain": [
       "[1, 2, 3, 4, 5, [100, 200], 'apple']"
      ]
     },
     "execution_count": 32,
     "metadata": {},
     "output_type": "execute_result"
    }
   ],
   "source": [
    "list1.append('apple')\n",
    "list1"
   ]
  },
  {
   "cell_type": "code",
   "execution_count": 11,
   "id": "793e31df",
   "metadata": {},
   "outputs": [
    {
     "name": "stdout",
     "output_type": "stream",
     "text": [
      "1 4 9 16 25 "
     ]
    }
   ],
   "source": [
    "# Input list=[1,2,3,4,5]\n",
    "# create a new list=[1,4,9,16,25]\n",
    "\n",
    "list1=[1,2,3,4,5]\n",
    "for i in list1:\n",
    "    print(i*i,end=' ')\n",
    "# I don't want print the values, i want save the output in a list    "
   ]
  },
  {
   "cell_type": "code",
   "execution_count": 13,
   "id": "a0355082",
   "metadata": {},
   "outputs": [
    {
     "data": {
      "text/plain": [
       "[1, 4, 9, 16, 25]"
      ]
     },
     "execution_count": 13,
     "metadata": {},
     "output_type": "execute_result"
    }
   ],
   "source": [
    "list1=[1,2,3,4,5]\n",
    "output=[]\n",
    "for i in list1:\n",
    "    output.append(i*i)\n",
    "output    "
   ]
  },
  {
   "cell_type": "code",
   "execution_count": 25,
   "id": "77c3e644",
   "metadata": {},
   "outputs": [
    {
     "data": {
      "text/plain": [
       "'Hyd'"
      ]
     },
     "execution_count": 25,
     "metadata": {},
     "output_type": "execute_result"
    }
   ],
   "source": [
    "st1='hyd'\n",
    "st1.capitalize()"
   ]
  },
  {
   "cell_type": "code",
   "execution_count": 30,
   "id": "a87244d2",
   "metadata": {},
   "outputs": [
    {
     "name": "stdout",
     "output_type": "stream",
     "text": [
      "hyd\n",
      "bengaluru\n",
      "delhi\n"
     ]
    },
    {
     "data": {
      "text/plain": [
       "['Hyd', 'Bengaluru', 'Delhi']"
      ]
     },
     "execution_count": 30,
     "metadata": {},
     "output_type": "execute_result"
    }
   ],
   "source": [
    "\n",
    "list2=['hyd','bengaluru','delhi']\n",
    "# output=['Hyd','Bengaluru','Delhi']\n",
    "output=[]\n",
    "for i in list2:\n",
    "    print(i)\n",
    "    output.append(i.capitalize())\n",
    "output    "
   ]
  },
  {
   "cell_type": "code",
   "execution_count": 33,
   "id": "40a0b0ca",
   "metadata": {},
   "outputs": [
    {
     "name": "stdout",
     "output_type": "stream",
     "text": [
      "hyd\n",
      "bengaluru\n",
      "delhi\n"
     ]
    },
    {
     "data": {
      "text/plain": [
       "['Hyd', 'Bengaluru', 'Delhi']"
      ]
     },
     "execution_count": 33,
     "metadata": {},
     "output_type": "execute_result"
    }
   ],
   "source": [
    "import string\n",
    "list2=['hyd','bengaluru','delhi']\n",
    "# output=['Hyd','Bengaluru','Delhi']\n",
    "output=[]\n",
    "for string in list2:\n",
    "    print(string)\n",
    "    output.append(string.capitalize())\n",
    "output "
   ]
  },
  {
   "cell_type": "code",
   "execution_count": 34,
   "id": "ccb7e4fe",
   "metadata": {},
   "outputs": [],
   "source": [
    "list3=['h#d','beng#luru','delhi']\n",
    "#output=['h#d',beng#luru]"
   ]
  },
  {
   "cell_type": "code",
   "execution_count": 12,
   "id": "30f83358",
   "metadata": {},
   "outputs": [
    {
     "data": {
      "text/plain": [
       "['h#d', 'beng#luru']"
      ]
     },
     "execution_count": 12,
     "metadata": {},
     "output_type": "execute_result"
    }
   ],
   "source": [
    "list3=['h#d','beng#luru','delhi']\n",
    "output=[]\n",
    "for i in list3:\n",
    "    if '#'in i:\n",
    "        output.append(i)\n",
    "output       "
   ]
  },
  {
   "cell_type": "markdown",
   "id": "ef93d68b",
   "metadata": {},
   "source": [
    "$List Comprehension$"
   ]
  },
  {
   "cell_type": "code",
   "execution_count": 13,
   "id": "4ae70708",
   "metadata": {},
   "outputs": [
    {
     "data": {
      "text/plain": [
       "[1, 4, 9, 16, 25]"
      ]
     },
     "execution_count": 13,
     "metadata": {},
     "output_type": "execute_result"
    }
   ],
   "source": [
    "# code in a single line =====> speed the process\n",
    "list1=[1,2,3,4,5]  # input\n",
    "output=[]\n",
    "for i in list1:\n",
    "    output.append(i*i)\n",
    "output\n",
    "\n",
    "# step-1: intiliazed the list output=[]\n",
    "# step-2: iterate the loop\n",
    "# step-3: you save the output\n",
    "\n",
    "output1=[i*i for i in list1]\n",
    "output1\n",
    "\n",
    "#[<output> <for loop>]"
   ]
  },
  {
   "cell_type": "code",
   "execution_count": 14,
   "id": "5aece42c",
   "metadata": {},
   "outputs": [
    {
     "data": {
      "text/plain": [
       "['Hyd', 'Bengaluru', 'Delhi']"
      ]
     },
     "execution_count": 14,
     "metadata": {},
     "output_type": "execute_result"
    }
   ],
   "source": [
    "list2=['hyd','bengaluru','delhi']\n",
    "\n",
    "# output=['Hyd','Bengaluru','Delhi']\n",
    "output=[]\n",
    "for i in list2:\n",
    "    output.append(i.capitalize())\n",
    "output\n",
    "\n",
    "#[<output><foorloop>]\n",
    "output1=[i.capitalize() for i in list2]\n",
    "output1"
   ]
  },
  {
   "cell_type": "code",
   "execution_count": 16,
   "id": "15f3258a",
   "metadata": {},
   "outputs": [
    {
     "data": {
      "text/plain": [
       "[1, 2, 3, 4, 5, 6, 7, 8, 9, 10, 11, 12, 13, 14, 15, 16, 17, 18, 19, 20]"
      ]
     },
     "execution_count": 16,
     "metadata": {},
     "output_type": "execute_result"
    }
   ],
   "source": [
    "# create the list of 20 numbers from 1 to 20\n",
    "############################################M-1\n",
    "# for i in range(1,21):\n",
    "     # print(i)\n",
    "########################################### M-2\n",
    "numbers=[]\n",
    "for i in range(1,21):\n",
    "    numbers.append(i)\n",
    "numbers\n",
    "######################################### M-3\n",
    "numbers1=[i for i in range(1,21)]\n",
    "numbers1"
   ]
  },
  {
   "cell_type": "code",
   "execution_count": null,
   "id": "ed3df7e0",
   "metadata": {},
   "outputs": [],
   "source": [
    "# list comprehension with if condition"
   ]
  },
  {
   "cell_type": "code",
   "execution_count": 19,
   "id": "f05a5509",
   "metadata": {},
   "outputs": [
    {
     "data": {
      "text/plain": [
       "['h#d', 'beng#luru']"
      ]
     },
     "execution_count": 19,
     "metadata": {},
     "output_type": "execute_result"
    }
   ],
   "source": [
    "list3=['h#d','beng#luru','delhi']\n",
    "# output=['h#d','beng#luru']\n",
    "output=[]\n",
    "for i in list3:\n",
    "    if '#' in i:\n",
    "        output.append(i)\n",
    "output\n",
    "\n",
    "#[<o/p> <for loop><if_condition>]\n",
    "output1=[i for i in list3 if '#' in i]\n",
    "output1"
   ]
  },
  {
   "cell_type": "code",
   "execution_count": 20,
   "id": "5f942aa9",
   "metadata": {},
   "outputs": [
    {
     "data": {
      "text/plain": [
       "['ac', 'a']"
      ]
     },
     "execution_count": 20,
     "metadata": {},
     "output_type": "execute_result"
    }
   ],
   "source": [
    "list4=['abcd','abc','ac','a']\n",
    "output=[i for i in list4 if len(i)<3]\n",
    "output"
   ]
  },
  {
   "cell_type": "code",
   "execution_count": 21,
   "id": "4d100535",
   "metadata": {},
   "outputs": [
    {
     "name": "stdout",
     "output_type": "stream",
     "text": [
      "odd:1\n",
      "even:2\n",
      "odd:3\n",
      "even:4\n",
      "odd:5\n",
      "even:6\n"
     ]
    }
   ],
   "source": [
    "# if else\n",
    "list1=[1,2,3,4,5,6]\n",
    "for i in list1:\n",
    "    if i%2==0:\n",
    "        print(\"even:{}\".format(i))\n",
    "    else:\n",
    "        print(\"odd:{}\".format(i))"
   ]
  },
  {
   "cell_type": "code",
   "execution_count": 22,
   "id": "3455da39",
   "metadata": {},
   "outputs": [
    {
     "data": {
      "text/plain": [
       "['odd:1', 'even:2', 'odd:3', 'even:4', 'odd:5', 'even:6']"
      ]
     },
     "execution_count": 22,
     "metadata": {},
     "output_type": "execute_result"
    }
   ],
   "source": [
    "list1=[1,2,3,4,5,6]\n",
    "output=[]\n",
    "for i in list1:\n",
    "    if i%2==0:\n",
    "        output.append('even:{}'.format(i))\n",
    "    else:\n",
    "        output.append('odd:{}'.format(i))\n",
    "output"
   ]
  },
  {
   "cell_type": "code",
   "execution_count": 26,
   "id": "e924bea4",
   "metadata": {},
   "outputs": [
    {
     "data": {
      "text/plain": [
       "['odd:1', 'even:2', 'odd:3', 'even:4', 'odd:5', 'even:6']"
      ]
     },
     "execution_count": 26,
     "metadata": {},
     "output_type": "execute_result"
    }
   ],
   "source": [
    "# [<if_ouput><if_condition> else <else_output><for loop>]\n",
    "output1=[\"even:{}\".format(i) if i%2==0 else \"odd:{}\".format(i) for i in list1]\n",
    "output1"
   ]
  },
  {
   "cell_type": "markdown",
   "id": "73949492",
   "metadata": {},
   "source": [
    "$Count$"
   ]
  },
  {
   "cell_type": "code",
   "execution_count": 27,
   "id": "f59bf183",
   "metadata": {},
   "outputs": [
    {
     "data": {
      "text/plain": [
       "3"
      ]
     },
     "execution_count": 27,
     "metadata": {},
     "output_type": "execute_result"
    }
   ],
   "source": [
    "list1=[1,2,3,'A','B','B','B','C']\n",
    "list1.count('B')"
   ]
  },
  {
   "cell_type": "code",
   "execution_count": 28,
   "id": "40adeb80",
   "metadata": {},
   "outputs": [
    {
     "name": "stdout",
     "output_type": "stream",
     "text": [
      "3\n"
     ]
    }
   ],
   "source": [
    "count=0\n",
    "for i in list1:\n",
    "    if i=='B':\n",
    "        count=count+1\n",
    "print(count)        "
   ]
  },
  {
   "cell_type": "markdown",
   "id": "72c0b617",
   "metadata": {},
   "source": [
    "$Extend$"
   ]
  },
  {
   "cell_type": "code",
   "execution_count": 30,
   "id": "3ba8217c",
   "metadata": {},
   "outputs": [
    {
     "data": {
      "text/plain": [
       "['A', 'B', 'C', [1, 2, 3]]"
      ]
     },
     "execution_count": 30,
     "metadata": {},
     "output_type": "execute_result"
    }
   ],
   "source": [
    "list1=['A','B','C']\n",
    "list2=[1,2,3]\n",
    "list1.append(list2)   # ['A','B','C',[1,2,3]]\n",
    "list1"
   ]
  },
  {
   "cell_type": "code",
   "execution_count": 31,
   "id": "306bd737",
   "metadata": {},
   "outputs": [
    {
     "data": {
      "text/plain": [
       "[1, 2, 3, [1, 2, 3]]"
      ]
     },
     "execution_count": 31,
     "metadata": {},
     "output_type": "execute_result"
    }
   ],
   "source": [
    "list1=['A','B','C']\n",
    "list1=[1,2,3]\n",
    "list1.append(list2) # ['A','B','C',[1,2,3]]\n",
    "list1"
   ]
  },
  {
   "cell_type": "code",
   "execution_count": 32,
   "id": "47c3799c",
   "metadata": {},
   "outputs": [
    {
     "data": {
      "text/plain": [
       "['A', 'B', 'C', 1, 2, 3]"
      ]
     },
     "execution_count": 32,
     "metadata": {},
     "output_type": "execute_result"
    }
   ],
   "source": [
    "list1=['A','B','C']\n",
    "list2=[1,2,3]\n",
    "list3=list1+list2\n",
    "list3"
   ]
  },
  {
   "cell_type": "markdown",
   "id": "1f872caf",
   "metadata": {},
   "source": [
    "$Append$ $vs$ $Extend$ $vs$ $concat$"
   ]
  },
  {
   "cell_type": "markdown",
   "id": "73655d1e",
   "metadata": {},
   "source": [
    "- append will add the element at least,that element can be any type\n",
    "\n",
    "        - list1=[1,2,3]\n",
    "        \n",
    "        - list2=['A','B']\n",
    "        \n",
    "        - list1.append(list2)=[1,2,3,['A','B']]\n",
    "        \n",
    "- Extend will update the list by adding new elements,the results also save in same list \n",
    "\n",
    "        - list1=[1,2,3]\n",
    "        \n",
    "        - list2=['A','B']\n",
    "        \n",
    "        - list1.extend(list2)=[1,2,3,'A','B']\n",
    "        \n",
    "- concat will add two list,but the result will not update in a same list\n",
    "\n",
    "        - list1=[1,2,3]\n",
    "        \n",
    "        - list2=['A','B']\n",
    "        \n",
    "        - list1+list2=[1,2,3,'A','B']"
   ]
  },
  {
   "cell_type": "markdown",
   "id": "91486e87",
   "metadata": {},
   "source": [
    "$Iterator$"
   ]
  },
  {
   "cell_type": "markdown",
   "id": "787f4b86",
   "metadata": {},
   "source": [
    "- iterator word =======> loop\n",
    "- the elements we can print using for loop\n",
    "- string='python' we can print each letter using for loop\n",
    "- list1-[1,2,3] we can print each elements using for loop"
   ]
  },
  {
   "cell_type": "code",
   "execution_count": 34,
   "id": "d536bb46",
   "metadata": {},
   "outputs": [
    {
     "data": {
      "text/plain": [
       "<reversed at 0x1ec7c1d39a0>"
      ]
     },
     "execution_count": 34,
     "metadata": {},
     "output_type": "execute_result"
    }
   ],
   "source": [
    "val=reversed('python')\n",
    "val"
   ]
  },
  {
   "cell_type": "code",
   "execution_count": 35,
   "id": "10c17695",
   "metadata": {},
   "outputs": [
    {
     "name": "stdout",
     "output_type": "stream",
     "text": [
      "n\n",
      "o\n",
      "h\n",
      "t\n",
      "y\n",
      "p\n"
     ]
    }
   ],
   "source": [
    "for i in val:\n",
    "    print(i)"
   ]
  },
  {
   "cell_type": "code",
   "execution_count": 4,
   "id": "5b42080f",
   "metadata": {},
   "outputs": [
    {
     "name": "stdout",
     "output_type": "stream",
     "text": [
      "None\n",
      "None\n",
      "[1, 2, 3, 'p', 'y', 't', 'h', 'o', 'n', 'python']\n"
     ]
    }
   ],
   "source": [
    "list1=[1,2,3]\n",
    "print(list1.extend('python'))\n",
    "print(list1.append('python'))\n",
    "print(list1)"
   ]
  },
  {
   "cell_type": "markdown",
   "id": "f0f39e22",
   "metadata": {},
   "source": [
    "$pop$-$remove$-$del$"
   ]
  },
  {
   "cell_type": "code",
   "execution_count": 37,
   "id": "9045de77",
   "metadata": {},
   "outputs": [
    {
     "data": {
      "text/plain": [
       "[1, 2, 3, 'p', 'y', 't', 'h', 'o', 'n', 'python']"
      ]
     },
     "execution_count": 37,
     "metadata": {},
     "output_type": "execute_result"
    }
   ],
   "source": [
    "list1"
   ]
  },
  {
   "cell_type": "code",
   "execution_count": 38,
   "id": "9fd7ff1f",
   "metadata": {},
   "outputs": [
    {
     "data": {
      "text/plain": [
       "'python'"
      ]
     },
     "execution_count": 38,
     "metadata": {},
     "output_type": "execute_result"
    }
   ],
   "source": [
    "list1.pop()"
   ]
  },
  {
   "cell_type": "code",
   "execution_count": 39,
   "id": "dc9ad334",
   "metadata": {},
   "outputs": [
    {
     "data": {
      "text/plain": [
       "'n'"
      ]
     },
     "execution_count": 39,
     "metadata": {},
     "output_type": "execute_result"
    }
   ],
   "source": [
    "list1.pop()"
   ]
  },
  {
   "cell_type": "code",
   "execution_count": 40,
   "id": "108e42e3",
   "metadata": {},
   "outputs": [
    {
     "data": {
      "text/plain": [
       "[1, 2, 3, 'p', 'y', 't', 'h', 'o']"
      ]
     },
     "execution_count": 40,
     "metadata": {},
     "output_type": "execute_result"
    }
   ],
   "source": [
    "list1"
   ]
  },
  {
   "cell_type": "code",
   "execution_count": 41,
   "id": "c7ac3e2e",
   "metadata": {},
   "outputs": [
    {
     "data": {
      "text/plain": [
       "'t'"
      ]
     },
     "execution_count": 41,
     "metadata": {},
     "output_type": "execute_result"
    }
   ],
   "source": [
    "list1\n",
    "list1.pop(5)   # list1.pop(list1.imdex('t'))\n",
    "\n",
    "# in side bracket default arguments is there index=-1\n",
    "# -1 means last value\n",
    "# if you not provide any value\n",
    "# it will remove last value\n",
    "# if i provide any index, it will remove that element\n",
    "# it is also returning,which elements it is removing"
   ]
  },
  {
   "cell_type": "code",
   "execution_count": 42,
   "id": "0fd500a5",
   "metadata": {},
   "outputs": [
    {
     "ename": "IndexError",
     "evalue": "pop index out of range",
     "output_type": "error",
     "traceback": [
      "\u001b[1;31m---------------------------------------------------------------------------\u001b[0m",
      "\u001b[1;31mIndexError\u001b[0m                                Traceback (most recent call last)",
      "Cell \u001b[1;32mIn[42], line 1\u001b[0m\n\u001b[1;32m----> 1\u001b[0m list1\u001b[38;5;241m.\u001b[39mpop(\u001b[38;5;241m100\u001b[39m)\n",
      "\u001b[1;31mIndexError\u001b[0m: pop index out of range"
     ]
    }
   ],
   "source": [
    "list1.pop(100)"
   ]
  },
  {
   "cell_type": "code",
   "execution_count": 43,
   "id": "8aa13b81",
   "metadata": {},
   "outputs": [
    {
     "data": {
      "text/plain": [
       "[200, 100, 300]"
      ]
     },
     "execution_count": 43,
     "metadata": {},
     "output_type": "execute_result"
    }
   ],
   "source": [
    "list1=[100,200,100,300]  # duplicates are allowed\n",
    "list1.remove(100)\n",
    "list1"
   ]
  },
  {
   "cell_type": "code",
   "execution_count": 44,
   "id": "8fe19b91",
   "metadata": {},
   "outputs": [],
   "source": [
    "del(list1)"
   ]
  },
  {
   "cell_type": "code",
   "execution_count": 45,
   "id": "270daa01",
   "metadata": {},
   "outputs": [
    {
     "ename": "NameError",
     "evalue": "name 'list1' is not defined",
     "output_type": "error",
     "traceback": [
      "\u001b[1;31m---------------------------------------------------------------------------\u001b[0m",
      "\u001b[1;31mNameError\u001b[0m                                 Traceback (most recent call last)",
      "Cell \u001b[1;32mIn[45], line 1\u001b[0m\n\u001b[1;32m----> 1\u001b[0m list1\n",
      "\u001b[1;31mNameError\u001b[0m: name 'list1' is not defined"
     ]
    }
   ],
   "source": [
    "list1"
   ]
  },
  {
   "cell_type": "code",
   "execution_count": 46,
   "id": "fca2db4e",
   "metadata": {},
   "outputs": [
    {
     "data": {
      "text/plain": [
       "[100, 200, 300]"
      ]
     },
     "execution_count": 46,
     "metadata": {},
     "output_type": "execute_result"
    }
   ],
   "source": [
    "list1=[100,200,100,300]\n",
    "del list1[2]\n",
    "list1"
   ]
  },
  {
   "cell_type": "code",
   "execution_count": 47,
   "id": "6cf15262",
   "metadata": {},
   "outputs": [
    {
     "data": {
      "text/plain": [
       "['__add__',\n",
       " '__class__',\n",
       " '__class_getitem__',\n",
       " '__contains__',\n",
       " '__delattr__',\n",
       " '__delitem__',\n",
       " '__dir__',\n",
       " '__doc__',\n",
       " '__eq__',\n",
       " '__format__',\n",
       " '__ge__',\n",
       " '__getattribute__',\n",
       " '__getitem__',\n",
       " '__getstate__',\n",
       " '__gt__',\n",
       " '__hash__',\n",
       " '__iadd__',\n",
       " '__imul__',\n",
       " '__init__',\n",
       " '__init_subclass__',\n",
       " '__iter__',\n",
       " '__le__',\n",
       " '__len__',\n",
       " '__lt__',\n",
       " '__mul__',\n",
       " '__ne__',\n",
       " '__new__',\n",
       " '__reduce__',\n",
       " '__reduce_ex__',\n",
       " '__repr__',\n",
       " '__reversed__',\n",
       " '__rmul__',\n",
       " '__setattr__',\n",
       " '__setitem__',\n",
       " '__sizeof__',\n",
       " '__str__',\n",
       " '__subclasshook__',\n",
       " 'append',\n",
       " 'clear',\n",
       " 'copy',\n",
       " 'count',\n",
       " 'extend',\n",
       " 'index',\n",
       " 'insert',\n",
       " 'pop',\n",
       " 'remove',\n",
       " 'reverse',\n",
       " 'sort']"
      ]
     },
     "execution_count": 47,
     "metadata": {},
     "output_type": "execute_result"
    }
   ],
   "source": [
    "dir(list1)"
   ]
  },
  {
   "cell_type": "code",
   "execution_count": null,
   "id": "ba7bcf0a",
   "metadata": {},
   "outputs": [],
   "source": [
    "- index  vs multiple values\n",
    "- insert vs append \n",
    "- reverse ascending and descending ====== reversed\n",
    "- sort ======= sorted\n",
    "- difference between reverse and sort \n",
    "\n",
    "\n",
    "# get all the different all the information\n",
    "# share your screenshot"
   ]
  },
  {
   "cell_type": "code",
   "execution_count": 48,
   "id": "3c99c794",
   "metadata": {},
   "outputs": [
    {
     "data": {
      "text/plain": [
       "4"
      ]
     },
     "execution_count": 48,
     "metadata": {},
     "output_type": "execute_result"
    }
   ],
   "source": [
    "list1=[1,2,3,4,2,6]\n",
    "f_i=list1.index(2)\n",
    "list1.index(2,f_i+1)"
   ]
  },
  {
   "cell_type": "markdown",
   "id": "39c49fd9",
   "metadata": {},
   "source": [
    "$Zip$"
   ]
  },
  {
   "cell_type": "code",
   "execution_count": 49,
   "id": "00215964",
   "metadata": {},
   "outputs": [
    {
     "name": "stdout",
     "output_type": "stream",
     "text": [
      "Ram age is 25\n",
      "Robert age is 30\n",
      "Raheem age is 35\n"
     ]
    }
   ],
   "source": [
    "list1=['Ram','Robert','Raheem']\n",
    "list2=[25,30,35]\n",
    "\n",
    "# 'Ram age is 25'\n",
    "# 'Robert age is 30'\n",
    "# 'Raheem age is 35'\n",
    "\n",
    "for i,j in zip(list1,list2):\n",
    "    print(\"{} age is {}\".format(i,j))"
   ]
  },
  {
   "cell_type": "code",
   "execution_count": 50,
   "id": "fc8fd3a4",
   "metadata": {},
   "outputs": [
    {
     "data": {
      "text/plain": [
       "[125, 230, 335]"
      ]
     },
     "execution_count": 50,
     "metadata": {},
     "output_type": "execute_result"
    }
   ],
   "source": [
    "list1=[100,200,300]\n",
    "list2=[25,30,35]  \n",
    "\n",
    "# output=[125,230,335]\n",
    "\n",
    "\n",
    "output=[i+j for i,j in zip(list1,list2)]\n",
    "output\n"
   ]
  },
  {
   "cell_type": "code",
   "execution_count": null,
   "id": "244bf712",
   "metadata": {},
   "outputs": [],
   "source": [
    "# take 5 question in list1\n",
    "# take corresponding 5 answer in another list2\n",
    "# iterate through list1\n",
    "# every question should print\n",
    "# answer=input(\"tell the answer\")\n",
    "# answer will check in list2\n",
    "# if it is there : marks=marks+1\n",
    "# else: No marks\n",
    "\n",
    "# How many write answer you made, how many answer you got\n",
    "\n",
    "#####################################################################\n",
    "\n",
    "# list1=['who is PM of india','what is capital of india','who is president of india']\n",
    "# list2=['Modi','Delhi','Draupati']\n",
    "# marks=0\n",
    "# correct_answer=0\n",
    "# for i in range(len(list)):\n",
    "# print('Q1:'<>)\n",
    "# answer=input('Enter the answer')\n",
    "# if answer.lower()==list2.index(i):\n",
    "#     marks+=1"
   ]
  },
  {
   "cell_type": "code",
   "execution_count": 16,
   "id": "b8489fd7",
   "metadata": {},
   "outputs": [
    {
     "name": "stdout",
     "output_type": "stream",
     "text": [
      "who is PM of india?\n",
      "enter the answer:n.modi\n",
      "what is the capital of india?\n",
      "enter the answer:Delhi\n",
      "what is the financial capital of india?\n",
      "enter the answer:mumbai\n",
      "Who is the president of india?\n",
      "enter the answer:Draupty\n",
      "Who is known as God of cricket?\n",
      "enter the answer:sachin\n",
      "Your total obtain marks: 4\n"
     ]
    }
   ],
   "source": [
    "list1=['who is PM of india?',\n",
    "       'what is the capital of india?',\n",
    "       'what is the financial capital of india?',\n",
    "       'Who is the president of india?',\n",
    "      'Who is known as God of cricket?']\n",
    "list2=['N.Modi','Delhi','Mumbai','Draupaty','Sachin']\n",
    "marks=0\n",
    "for i in range (len(list1)):\n",
    "    print(list1[i])\n",
    "    \n",
    "    answer=input(\"enter the answer:\")\n",
    "    if answer.casefold()==list2[i].casefold():\n",
    "        marks=marks+1\n",
    "print(\"Your total obtain marks:\",marks)        \n",
    "    \n",
    "    \n"
   ]
  },
  {
   "cell_type": "code",
   "execution_count": null,
   "id": "9f997ecd",
   "metadata": {},
   "outputs": [],
   "source": [
    "- index  vs multiple values\n",
    "- insert vs append \n",
    "- reverse ascending and descending ====== reversed\n",
    "- sort ======= sorted\n",
    "- difference between reverse and sort \n",
    "\n",
    "\n",
    "# get all the different all the information\n",
    "# share your screenshot"
   ]
  },
  {
   "cell_type": "code",
   "execution_count": 3,
   "id": "f9ea63b9",
   "metadata": {},
   "outputs": [
    {
     "data": {
      "text/plain": [
       "5"
      ]
     },
     "execution_count": 3,
     "metadata": {},
     "output_type": "execute_result"
    }
   ],
   "source": [
    "# index\n",
    "list1=[1,2,3,4,5,\"A\",\"B\",\"Apple\"]\n",
    "list1.index(\"A\")"
   ]
  },
  {
   "cell_type": "code",
   "execution_count": 4,
   "id": "9d080681",
   "metadata": {},
   "outputs": [
    {
     "data": {
      "text/plain": [
       "[1, 2, 3, 200, 4, 5, 'A', 'B', 'Apple']"
      ]
     },
     "execution_count": 4,
     "metadata": {},
     "output_type": "execute_result"
    }
   ],
   "source": [
    "# insert\n",
    "list1=[1,2,3,4,5,\"A\",\"B\",\"Apple\"]\n",
    "list1.insert(3,200)      # insert 200 at index 3\n",
    "list1                # using index we can add value at any index"
   ]
  },
  {
   "cell_type": "code",
   "execution_count": 7,
   "id": "176feee3",
   "metadata": {},
   "outputs": [
    {
     "data": {
      "text/plain": [
       "[1, 2, 3, 4, 5, 'A', 'B', 'Apple', 'Deepak']"
      ]
     },
     "execution_count": 7,
     "metadata": {},
     "output_type": "execute_result"
    }
   ],
   "source": [
    "# append\n",
    "list1=[1,2,3,4,5,\"A\",\"B\",\"Apple\"]\n",
    "list1.append(\"Deepak\")     # append\n",
    "list1                      # append will come at last"
   ]
  },
  {
   "cell_type": "code",
   "execution_count": 10,
   "id": "4c2fb53e",
   "metadata": {},
   "outputs": [
    {
     "data": {
      "text/plain": [
       "['Apple', 'B', 'A', 5, 4, 3, 2, 1]"
      ]
     },
     "execution_count": 10,
     "metadata": {},
     "output_type": "execute_result"
    }
   ],
   "source": [
    "# reverse\n",
    "list1=[1,2,3,4,5,\"A\",\"B\",\"Apple\"]\n",
    "list1.reverse()                     # reverse is a method which is used to reverse the list\n",
    "list1"
   ]
  },
  {
   "cell_type": "code",
   "execution_count": 11,
   "id": "a1c22cf4",
   "metadata": {},
   "outputs": [
    {
     "name": "stdout",
     "output_type": "stream",
     "text": [
      "Apple\n",
      "B\n",
      "A\n",
      "5\n",
      "4\n",
      "3\n",
      "2\n",
      "1\n"
     ]
    }
   ],
   "source": [
    "# reversed\n",
    "list1=[1,2,3,4,5,\"A\",\"B\",\"Apple\"]\n",
    "for i in reversed(list1):                  # reversed is a keyword it is used with a loop\n",
    "    print(i)"
   ]
  },
  {
   "cell_type": "code",
   "execution_count": 1,
   "id": "e0dede16",
   "metadata": {},
   "outputs": [
    {
     "name": "stdout",
     "output_type": "stream",
     "text": [
      "original list: [1, 2, 3, 4, 5, 'python', 'Deepak']\n",
      "reversed list: ['Deepak', 'python', 5, 4, 3, 2, 1]\n"
     ]
    }
   ],
   "source": [
    "# reversed\n",
    "list2=[1,2,3,4,5, \"python\",\"Deepak\"]\n",
    "list3=list(reversed(list2))\n",
    "\n",
    "print('original list:',list2)\n",
    "print('reversed list:',list3)"
   ]
  },
  {
   "cell_type": "code",
   "execution_count": 2,
   "id": "8119b76e",
   "metadata": {},
   "outputs": [
    {
     "data": {
      "text/plain": [
       "['Deepak', 'Helllo', 'To', 'a', 'c', 'for', 'hii']"
      ]
     },
     "execution_count": 2,
     "metadata": {},
     "output_type": "execute_result"
    }
   ],
   "source": [
    "# sort\n",
    "list3=['a','c','To','Deepak','for','Helllo','hii']\n",
    "list3.sort()\n",
    "list3"
   ]
  },
  {
   "cell_type": "code",
   "execution_count": 3,
   "id": "4313ea24",
   "metadata": {},
   "outputs": [
    {
     "name": "stdout",
     "output_type": "stream",
     "text": [
      "[100, 150, 200, 250, 300, 400, 900, 1000]\n"
     ]
    }
   ],
   "source": [
    "# sorted\n",
    "list3=[100,200,400,300,250,1000,900,150]\n",
    "list4=[]\n",
    "for i in sorted(list3):\n",
    "    list4.append(i)\n",
    "print(list4)"
   ]
  },
  {
   "cell_type": "code",
   "execution_count": 7,
   "id": "a5ccf987",
   "metadata": {},
   "outputs": [
    {
     "name": "stdout",
     "output_type": "stream",
     "text": [
      "aasda\n",
      "bhdjb\n",
      "cahsdj\n"
     ]
    },
    {
     "data": {
      "text/plain": [
       "'cahsdj'"
      ]
     },
     "execution_count": 7,
     "metadata": {},
     "output_type": "execute_result"
    }
   ],
   "source": [
    "arr=['aasda','bhdjb','cahsdj']\n",
    "for i in arr:\n",
    "    print(i)\n",
    "max(arr)"
   ]
  },
  {
   "cell_type": "code",
   "execution_count": 19,
   "id": "9bd61064",
   "metadata": {},
   "outputs": [],
   "source": [
    "list1=[100,200,300]\n",
    "#WAP to find the maximum value without using max keyword"
   ]
  },
  {
   "cell_type": "code",
   "execution_count": 20,
   "id": "b23acbac",
   "metadata": {},
   "outputs": [
    {
     "name": "stdout",
     "output_type": "stream",
     "text": [
      "300 is maximum\n"
     ]
    }
   ],
   "source": [
    "max_value=0\n",
    "for i in list1:\n",
    "    if i>max_value:\n",
    "        max_value=i\n",
    "print('{} is maximum'.format(max_value))\n",
    "\n",
    "    "
   ]
  },
  {
   "cell_type": "code",
   "execution_count": 24,
   "id": "a47458b2",
   "metadata": {},
   "outputs": [
    {
     "name": "stdout",
     "output_type": "stream",
     "text": [
      "300 is the laregst value\n"
     ]
    }
   ],
   "source": [
    "num1=100\n",
    "num2=200\n",
    "num3=300\n",
    "if (num1>=num2) and (num1>=num3):\n",
    "    print(\"100 is the largest value\")\n",
    "elif(num2>num1)  and (num2>=num3):\n",
    "    print(\"200 is the largest value\")\n",
    "else:\n",
    "    print(\"300 is the laregst value\")"
   ]
  },
  {
   "cell_type": "code",
   "execution_count": 28,
   "id": "d7da2c79",
   "metadata": {},
   "outputs": [
    {
     "name": "stdout",
     "output_type": "stream",
     "text": [
      "300 is the laregst value\n"
     ]
    }
   ],
   "source": [
    "list1=[100,200,300]\n",
    "if (list1[0]>list1[1]) and (list1[0]>list1[2]):\n",
    "    print(\"100 is the largest value\")\n",
    "elif list1[1]>list1[2]:\n",
    "    print(\"200 is the largest value\")\n",
    "else:\n",
    "    print(\"300 is the laregst value\")"
   ]
  },
  {
   "cell_type": "code",
   "execution_count": 3,
   "id": "e6ba826e",
   "metadata": {},
   "outputs": [
    {
     "name": "stdout",
     "output_type": "stream",
     "text": [
      "500\n"
     ]
    }
   ],
   "source": [
    "list1=[100,500,200,300,250]\n",
    "#WAP to find the maximum value without using max keyword\n",
    "list1=[100,500,200,300,250]\n",
    "result=100\n",
    "for i in range(1,len(list1)):\n",
    "    if list1[i] > result:\n",
    "        result=list1[i]\n",
    "        \n",
    "print(result)"
   ]
  },
  {
   "cell_type": "code",
   "execution_count": null,
   "id": "0f7b69a2",
   "metadata": {},
   "outputs": [],
   "source": []
  },
  {
   "cell_type": "code",
   "execution_count": null,
   "id": "7adf8924",
   "metadata": {},
   "outputs": [],
   "source": []
  },
  {
   "cell_type": "code",
   "execution_count": null,
   "id": "8ffa02ca",
   "metadata": {},
   "outputs": [],
   "source": []
  },
  {
   "cell_type": "code",
   "execution_count": null,
   "id": "09ab42a4",
   "metadata": {},
   "outputs": [],
   "source": []
  }
 ],
 "metadata": {
  "kernelspec": {
   "display_name": "Python 3 (ipykernel)",
   "language": "python",
   "name": "python3"
  },
  "language_info": {
   "codemirror_mode": {
    "name": "ipython",
    "version": 3
   },
   "file_extension": ".py",
   "mimetype": "text/x-python",
   "name": "python",
   "nbconvert_exporter": "python",
   "pygments_lexer": "ipython3",
   "version": "3.11.5"
  }
 },
 "nbformat": 4,
 "nbformat_minor": 5
}
