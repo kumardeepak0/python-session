{
 "cells": [
  {
   "cell_type": "markdown",
   "id": "5ffcf76c",
   "metadata": {},
   "source": [
    "# Conditional Statements"
   ]
  },
  {
   "cell_type": "markdown",
   "id": "92beeda6",
   "metadata": {},
   "source": [
    " # if-else\n",
    "\n",
    "- if pak won the match they have more chance to go to SF\n",
    "- else they have more chance to go to home\n",
    "- if I study will pass\n",
    "- else will fail\n"
   ]
  },
  {
   "cell_type": "code",
   "execution_count": null,
   "id": "42d8c13f",
   "metadata": {},
   "outputs": [],
   "source": [
    "name='python'\n",
    "# i want to make some condition\n",
    "# whenever the name ==python =====> success\n",
    "#           otherwise=============> Fail"
   ]
  },
  {
   "cell_type": "code",
   "execution_count": null,
   "id": "5c22b3b3",
   "metadata": {},
   "outputs": [],
   "source": [
    "name='python'\n",
    "if<condition>:\n",
    "    #sta-1\n",
    "    #code\n",
    "    \n",
    "else:\n",
    "    #code"
   ]
  },
  {
   "cell_type": "code",
   "execution_count": null,
   "id": "ba3c2ce6",
   "metadata": {},
   "outputs": [],
   "source": [
    "name='python'   # name\n",
    "if name=='python':  # is the name really eqal to python\n",
    "    print('Won')"
   ]
  },
  {
   "cell_type": "code",
   "execution_count": null,
   "id": "09109419",
   "metadata": {},
   "outputs": [],
   "source": [
    "a=10   # value 10 is stored in the variable 'a'\n",
    "a==10  #the value of a really equal to 10"
   ]
  },
  {
   "cell_type": "markdown",
   "id": "440bc9a8",
   "metadata": {},
   "source": [
    "- '='  ======> assign               \n",
    "- '==' ======> condition"
   ]
  },
  {
   "cell_type": "code",
   "execution_count": null,
   "id": "2b49d353",
   "metadata": {},
   "outputs": [],
   "source": [
    "name= 'python'  # assign\n",
    "name=='py'      # condition"
   ]
  },
  {
   "cell_type": "code",
   "execution_count": 2,
   "id": "5e2670cc",
   "metadata": {},
   "outputs": [
    {
     "name": "stdout",
     "output_type": "stream",
     "text": [
      "Won\n"
     ]
    }
   ],
   "source": [
    "name='python'   # 'python' is saved in a variable 'name'\n",
    "if name=='python':  # is the name really eqal to python if true/false\n",
    "    print('Won')"
   ]
  },
  {
   "cell_type": "code",
   "execution_count": 3,
   "id": "d36112a6",
   "metadata": {},
   "outputs": [
    {
     "data": {
      "text/plain": [
       "False"
      ]
     },
     "execution_count": 3,
     "metadata": {},
     "output_type": "execute_result"
    }
   ],
   "source": [
    "name='python'  # assign\n",
    "name=='py'   # condition"
   ]
  },
  {
   "cell_type": "code",
   "execution_count": null,
   "id": "57edc51b",
   "metadata": {},
   "outputs": [],
   "source": [
    "if <condition>:\n",
    "\n",
    "if True/False:\n",
    "    inside the block"
   ]
  },
  {
   "cell_type": "code",
   "execution_count": 4,
   "id": "67fe45b0",
   "metadata": {},
   "outputs": [
    {
     "name": "stdout",
     "output_type": "stream",
     "text": [
      "won\n"
     ]
    }
   ],
   "source": [
    "# True case\n",
    "name='python'    #'python' is saved in a variable 'name'\n",
    "if name=='python' : # is the name really equal to python if True/Flase:\n",
    "    print('won')"
   ]
  },
  {
   "cell_type": "code",
   "execution_count": null,
   "id": "3826a008",
   "metadata": {},
   "outputs": [],
   "source": [
    "# Error capture ===> my code should not stop\n",
    "# try: 100 lines of code 50 lines got error\n",
    "# first 49 exec ===> 50====> exceptin"
   ]
  },
  {
   "cell_type": "code",
   "execution_count": 3,
   "id": "595fdac3",
   "metadata": {},
   "outputs": [
    {
     "name": "stdout",
     "output_type": "stream",
     "text": [
      "30\n"
     ]
    }
   ],
   "source": [
    "# True\n",
    "name='python'  \n",
    "if name=='python':  \n",
    "    a=10\n",
    "    b=20\n",
    "    print(a+b)"
   ]
  },
  {
   "cell_type": "code",
   "execution_count": null,
   "id": "46f5488d",
   "metadata": {},
   "outputs": [],
   "source": [
    "# False \n",
    "name='python'   \n",
    "if name=='py':  # if <False>: no permission\n",
    "    a=10\n",
    "    b=20\n",
    "    print(a+b)"
   ]
  },
  {
   "cell_type": "code",
   "execution_count": 5,
   "id": "d427603b",
   "metadata": {},
   "outputs": [
    {
     "name": "stdout",
     "output_type": "stream",
     "text": [
      "Won\n"
     ]
    }
   ],
   "source": [
    "name='python'\n",
    "if name=='python':  # True\n",
    "    print('Won')\n",
    "else:\n",
    "    print('lost')"
   ]
  },
  {
   "cell_type": "code",
   "execution_count": 4,
   "id": "adf7cbea",
   "metadata": {},
   "outputs": [
    {
     "name": "stdout",
     "output_type": "stream",
     "text": [
      "lost\n"
     ]
    }
   ],
   "source": [
    "name='python'\n",
    "if name=='py':  # False : np\n",
    "    print('Won')\n",
    "else:\n",
    "    print('lost')"
   ]
  },
  {
   "cell_type": "code",
   "execution_count": 6,
   "id": "cd47a666",
   "metadata": {},
   "outputs": [
    {
     "name": "stdout",
     "output_type": "stream",
     "text": [
      "hello\n",
      "10\n",
      "enter a number1:50\n",
      "Enter a number2:60\n",
      "this is false case\n",
      "We are doing multiplication\n",
      "The multiplication of 50 and 60 is: 3000\n",
      "substraction: -10\n",
      "great!\n"
     ]
    }
   ],
   "source": [
    "print('hello')\n",
    "print(10)\n",
    "num1=eval(input(\"enter a number1:\"))\n",
    "num2=eval(input(\"Enter a number2:\"))\n",
    "if num1==num2:\n",
    "    print(\"This is True case\")\n",
    "    print(\"We are doing addition operation\")\n",
    "    print(\"The addition of {} and {} is {}\".format(num1,num2,num1+num2))\n",
    "    print(\"Happy ending!\")\n",
    "    \n",
    "else:\n",
    "    print(\"this is false case\")\n",
    "    print('We are doing multiplication')\n",
    "    print('The multiplication of {} and {} is: {}'.format(num1,num2,num1*num2))\n",
    "    \n",
    "substraction=num1-num2\n",
    "print('substraction:',substraction)\n",
    "print(\"great!\")    \n",
    " \n",
    " # hello\n",
    "#10\n",
    "# num1=enter the number:=50\n",
    "# num2=enetr the number:=60\n",
    "#if 50==60 False np to enter inside the if block\n",
    "#else block\n",
    "#            this false\n",
    "#            we are doing mul\n",
    "#            the mul of 50 , 60 is 3000\n",
    "#substraction:-10\n",
    "#great"
   ]
  },
  {
   "cell_type": "code",
   "execution_count": 7,
   "id": "1259e507",
   "metadata": {},
   "outputs": [
    {
     "name": "stdout",
     "output_type": "stream",
     "text": [
      "hello\n",
      "10\n",
      "enter a number1:50\n",
      "Enter a number2:50\n",
      "This is True case\n",
      "We are doing addition operation\n",
      "The addition of 50 and 50 is 100\n",
      "Happy ending!\n",
      "substraction: 0\n",
      "great!\n"
     ]
    }
   ],
   "source": [
    "print('hello')\n",
    "print(10)\n",
    "num1=eval(input(\"enter a number1:\"))\n",
    "num2=eval(input(\"Enter a number2:\"))\n",
    "if num1==num2:\n",
    "    print(\"This is True case\")\n",
    "    print(\"We are doing addition operation\")\n",
    "    print(\"The addition of {} and {} is {}\".format(num1,num2,num1+num2))\n",
    "    print(\"Happy ending!\")\n",
    "    \n",
    "else:\n",
    "    print(\"this is false case\")\n",
    "    print('We are doing multiplication')\n",
    "    print('The multiplication of {} and {} is: {}'.format(num1,num2,num1*num2))\n",
    "    \n",
    "substraction=num1-num2\n",
    "print('substraction:',substraction)\n",
    "print(\"great!\")    \n"
   ]
  },
  {
   "cell_type": "code",
   "execution_count": null,
   "id": "299a16b1",
   "metadata": {},
   "outputs": [],
   "source": [
    "# wap ask the user enter a number\n",
    "# find the number is even number or odd number\n",
    "# even number is: if you divide with 2 the remainder is zero\n",
    "# odd number\n",
    "# in python modulus opertor give remainder"
   ]
  },
  {
   "cell_type": "code",
   "execution_count": 10,
   "id": "6aa7f45a",
   "metadata": {},
   "outputs": [
    {
     "name": "stdout",
     "output_type": "stream",
     "text": [
      "Enter a  number:20\n",
      "This is even number\n"
     ]
    }
   ],
   "source": [
    "num1=eval(input(\"Enter a  number:\"))\n",
    "if (num1%2==0):\n",
    "    print(\"This is even number\")\n",
    "else:\n",
    "    print(\"This is odd number\")"
   ]
  },
  {
   "cell_type": "code",
   "execution_count": 11,
   "id": "c469d645",
   "metadata": {},
   "outputs": [
    {
     "name": "stdout",
     "output_type": "stream",
     "text": [
      "Enter a  number:23\n",
      "This is odd number\n"
     ]
    }
   ],
   "source": [
    "num1=eval(input(\"Enter a  number:\"))\n",
    "if (num1%2==0):\n",
    "    print(\"This is even number\")\n",
    "else:\n",
    "    print(\"This is odd number\")"
   ]
  },
  {
   "cell_type": "code",
   "execution_count": 18,
   "id": "dc588b39",
   "metadata": {},
   "outputs": [
    {
     "name": "stdout",
     "output_type": "stream",
     "text": [
      "Enter a  number:30\n",
      "This is even number\n"
     ]
    }
   ],
   "source": [
    "try:\n",
    "    num1=eval(input(\"Enter a  number:\"))\n",
    "    if(num1%2==0):\n",
    "        print(\"This is even number\")\n",
    "    else:\n",
    "        print(\"This is odd number\")\n",
    "    \n",
    "except Exception as e:\n",
    "    print(e)"
   ]
  },
  {
   "cell_type": "code",
   "execution_count": null,
   "id": "6c522466",
   "metadata": {},
   "outputs": [],
   "source": [
    "numeval(input(\"Enter the number:\"))"
   ]
  },
  {
   "cell_type": "code",
   "execution_count": null,
   "id": "34f13efd",
   "metadata": {},
   "outputs": [],
   "source": [
    "# WAP get a random number between 1 to 50\n",
    "# and chech it is even or odd"
   ]
  },
  {
   "cell_type": "code",
   "execution_count": 16,
   "id": "a0b47095",
   "metadata": {},
   "outputs": [
    {
     "name": "stdout",
     "output_type": "stream",
     "text": [
      "9\n",
      "this is odd number\n"
     ]
    }
   ],
   "source": [
    "import random\n",
    "num1= random.randint(1,50)\n",
    "print(num1)\n",
    "if (num1%2==0):\n",
    "    print(\"this is even number\")\n",
    "else:\n",
    "    print(\"this is odd number\")"
   ]
  },
  {
   "cell_type": "code",
   "execution_count": null,
   "id": "ef3932f6",
   "metadata": {},
   "outputs": [],
   "source": [
    "# WAp get a random number between 1 to 200\n",
    "# print you won, if number between 10 to 99\n",
    "# otherwise print lost"
   ]
  },
  {
   "cell_type": "code",
   "execution_count": 19,
   "id": "479396b7",
   "metadata": {},
   "outputs": [
    {
     "name": "stdout",
     "output_type": "stream",
     "text": [
      "you lost because 155 is not between 10 and 99.\n"
     ]
    }
   ],
   "source": [
    "try:\n",
    "    import random\n",
    "    num1=random.randint(1,200)\n",
    "    if(num1>=10 and num1<=99):\n",
    "        print(\"you won because {} is between 10 and 99.\".format(num1))\n",
    "    else:\n",
    "        print(\"you lost because {} is not between 10 and 99.\".format(num1))\n",
    "        \n",
    "except Exception as e:\n",
    "    print(e)"
   ]
  },
  {
   "cell_type": "code",
   "execution_count": 20,
   "id": "232d00ca",
   "metadata": {},
   "outputs": [
    {
     "name": "stdout",
     "output_type": "stream",
     "text": [
      "you lost because 158 is not between 10 and 99.\n"
     ]
    }
   ],
   "source": [
    "try:\n",
    "    import random\n",
    "    num1=random.randint(1,200)\n",
    "    if(10<num1<99):\n",
    "        print(\"you won because {} is between 10 and 99.\".format(num1))\n",
    "    else:\n",
    "        print(\"you lost because {} is not between 10 and 99.\".format(num1))\n",
    "        \n",
    "except Exception as e:\n",
    "    print(e)"
   ]
  },
  {
   "cell_type": "code",
   "execution_count": null,
   "id": "579d8ad2",
   "metadata": {},
   "outputs": [],
   "source": [
    "#WAp ask the user enter a number\n",
    "# if the number >=0 print it is a positive number\n",
    "# otherwise print it is a negative number"
   ]
  },
  {
   "cell_type": "code",
   "execution_count": 21,
   "id": "c21f51f1",
   "metadata": {},
   "outputs": [
    {
     "name": "stdout",
     "output_type": "stream",
     "text": [
      "Enter a number:20\n",
      "It is a positive number\n"
     ]
    }
   ],
   "source": [
    "try:\n",
    "    num=eval(input(\"Enter a number:\"))\n",
    "    if(num>=0):\n",
    "        print(\"It is a positive number\")\n",
    "    else:\n",
    "        print(\"It is a negative number\")\n",
    "except Exception as error:\n",
    "    print(error)"
   ]
  },
  {
   "cell_type": "code",
   "execution_count": 22,
   "id": "a7cff8b4",
   "metadata": {},
   "outputs": [
    {
     "name": "stdout",
     "output_type": "stream",
     "text": [
      "Enter a number:-10\n",
      "It is a negative number\n"
     ]
    }
   ],
   "source": [
    "try:\n",
    "    num=eval(input(\"Enter a number:\"))\n",
    "    if(num>=0):\n",
    "        print(\"It is a positive number\")\n",
    "    else:\n",
    "        print(\"It is a negative number\")\n",
    "except Exception as error:\n",
    "    print(error)"
   ]
  },
  {
   "cell_type": "code",
   "execution_count": null,
   "id": "33f03ef3",
   "metadata": {},
   "outputs": [],
   "source": [
    "# con-1:  > ========pos  if<con>:\n",
    "# con-2:  >=========neg  elif<con>\n",
    "# con-3:  >=========zero else:\n",
    "\n",
    "# two conditions:    if  -else\n",
    "# > two con:         if-elif-else"
   ]
  },
  {
   "cell_type": "code",
   "execution_count": 27,
   "id": "c3b76b89",
   "metadata": {},
   "outputs": [
    {
     "name": "stdout",
     "output_type": "stream",
     "text": [
      "Enter a number:20\n",
      "It is a positive number\n"
     ]
    }
   ],
   "source": [
    "try:\n",
    "    num=eval(input(\"Enter a number:\"))\n",
    "    if(num>0):\n",
    "        print(\"It is a positive number\")\n",
    "    elif(num<0):\n",
    "        print(\"It is negative\")\n",
    "    else:\n",
    "        printt(\"It is zero\")\n",
    "except Exception as error:\n",
    "    print(error)"
   ]
  },
  {
   "cell_type": "code",
   "execution_count": 28,
   "id": "f2854da1",
   "metadata": {},
   "outputs": [
    {
     "name": "stdout",
     "output_type": "stream",
     "text": [
      "Enter a number:-7\n",
      "It is negative\n"
     ]
    }
   ],
   "source": [
    "try:\n",
    "    num=eval(input(\"Enter a number:\"))\n",
    "    if(num>0):\n",
    "        print(\"It is a positive number\")\n",
    "    elif(num<0):\n",
    "        print(\"It is negative\")\n",
    "    else:\n",
    "        print(\"It is zero\")\n",
    "except Exception as error:\n",
    "    print(error)"
   ]
  },
  {
   "cell_type": "code",
   "execution_count": 30,
   "id": "e7ecf345",
   "metadata": {},
   "outputs": [
    {
     "name": "stdout",
     "output_type": "stream",
     "text": [
      "Enter a number:0\n",
      "It is zero\n"
     ]
    }
   ],
   "source": [
    "try:\n",
    "    num=eval(input(\"Enter a number:\"))\n",
    "    if(num>0):\n",
    "        print(\"It is a positive number\")\n",
    "    elif(num<0):\n",
    "        print(\"It is negative\")\n",
    "    else:\n",
    "        print(\"It is zero\")\n",
    "except Exception as error:\n",
    "    print(error)"
   ]
  },
  {
   "cell_type": "code",
   "execution_count": null,
   "id": "5b235291",
   "metadata": {},
   "outputs": [],
   "source": [
    "# wap ask the user enter percentage of marks\n",
    "# if per>90 print A\n",
    "# if per between 70 to 90 prin t B\n",
    "# if per between 50 to 70 print C\n",
    "# otherwise print D"
   ]
  },
  {
   "cell_type": "code",
   "execution_count": 32,
   "id": "6d5d233e",
   "metadata": {},
   "outputs": [
    {
     "name": "stdout",
     "output_type": "stream",
     "text": [
      "Enter the percentage ask by the user:40\n",
      "grade D\n"
     ]
    }
   ],
   "source": [
    "try:\n",
    "    per=eval(input(\"Enter the percentage ask by the user:\"))\n",
    "    if(per>90):\n",
    "        print('grade A')\n",
    "    elif(90<per<70):\n",
    "        print('grade B')\n",
    "    elif(70<per<50):\n",
    "        print('grade C')\n",
    "    else:\n",
    "        print('grade D')\n",
    "except Exception as error:\n",
    "    print(error)"
   ]
  },
  {
   "cell_type": "code",
   "execution_count": 34,
   "id": "3be4907b",
   "metadata": {},
   "outputs": [
    {
     "name": "stdout",
     "output_type": "stream",
     "text": [
      "Enter the percentage ask by the user:98\n",
      "grade A\n"
     ]
    }
   ],
   "source": [
    "try:\n",
    "    per=eval(input(\"Enter the percentage ask by the user:\"))\n",
    "    if(per>=90):\n",
    "        print('grade A')\n",
    "    elif(90<per<70):\n",
    "        print('grade B')\n",
    "    elif(70<per<50):\n",
    "        print('grade C')\n",
    "    else:\n",
    "        print('grade D')\n",
    "except Exception as error:\n",
    "    print(error)"
   ]
  },
  {
   "cell_type": "code",
   "execution_count": 35,
   "id": "67dd8101",
   "metadata": {},
   "outputs": [
    {
     "name": "stdout",
     "output_type": "stream",
     "text": [
      "Enter the percentage ask by the user:97\n",
      "grade A\n"
     ]
    }
   ],
   "source": [
    "try:\n",
    "    per=eval(input(\"Enter the percentage ask by the user:\"))\n",
    "    if(per>=90):\n",
    "        print('grade A')\n",
    "    elif(per<=70):\n",
    "        print('grade B')\n",
    "    elif(per<=50):\n",
    "        print('grade C')\n",
    "    else:\n",
    "        print('grade D')\n",
    "except Exception as error:\n",
    "    print(error)"
   ]
  },
  {
   "cell_type": "code",
   "execution_count": 37,
   "id": "1b2de79d",
   "metadata": {},
   "outputs": [
    {
     "name": "stdout",
     "output_type": "stream",
     "text": [
      "Enter the percentage ask by the user:13\n",
      "grade D\n"
     ]
    }
   ],
   "source": [
    "try:\n",
    "    per=eval(input(\"Enter the percentage ask by the user:\"))\n",
    "    if(per>=90):\n",
    "        print('grade A')\n",
    "    elif(per>=70):\n",
    "        print('grade B')\n",
    "    elif(per>=50):\n",
    "        print('grade C')\n",
    "    else:\n",
    "        print('grade D')\n",
    "except Exception as error:\n",
    "    print(error)"
   ]
  },
  {
   "cell_type": "code",
   "execution_count": 38,
   "id": "375a02a1",
   "metadata": {},
   "outputs": [
    {
     "name": "stdout",
     "output_type": "stream",
     "text": [
      "Enter the percentage ask by the user:81\n",
      "grade B\n"
     ]
    }
   ],
   "source": [
    "try:\n",
    "    per=eval(input(\"Enter the percentage ask by the user:\"))\n",
    "    if(per>=90):\n",
    "        print('grade A')\n",
    "    elif(per>=70):\n",
    "        print('grade B')\n",
    "    elif(per>=50):\n",
    "        print('grade C')\n",
    "    else:\n",
    "        print('grade D')\n",
    "except Exception as error:\n",
    "    print(error)"
   ]
  },
  {
   "cell_type": "code",
   "execution_count": null,
   "id": "00ff944a",
   "metadata": {},
   "outputs": [],
   "source": [
    "# wap ask the user enter age\n",
    "# if age > 60 print(sc)\n",
    "# if age between 45 to 60 ( aged)\n",
    "# if age between 30 to 45(MA)\n",
    "# if age between 20 to 30 (young)\n",
    "# if age between 13 to 20(teenage)\n",
    "# otherwise child"
   ]
  },
  {
   "cell_type": "code",
   "execution_count": 39,
   "id": "15649a75",
   "metadata": {},
   "outputs": [
    {
     "name": "stdout",
     "output_type": "stream",
     "text": [
      "Enetr the age:70\n",
      "senior citizen\n"
     ]
    }
   ],
   "source": [
    "try:\n",
    "    age=eval(input(\"Enetr the age:\"))\n",
    "    if age>=60:\n",
    "        print(\"senior citizen\")\n",
    "    elif age>=45:\n",
    "        print(\"aged\")\n",
    "    elif age>=30:\n",
    "        print(\"middle age\")\n",
    "    elif age>=20:\n",
    "        print(\"young\")\n",
    "    elif age>=13:\n",
    "        print(\"teenage\")\n",
    "    else:\n",
    "        print(\"child\")\n",
    "except Exception as error:\n",
    "    print(error)\n",
    "        "
   ]
  },
  {
   "cell_type": "code",
   "execution_count": 40,
   "id": "f92fda70",
   "metadata": {},
   "outputs": [
    {
     "name": "stdout",
     "output_type": "stream",
     "text": [
      "Enetr the age:55\n",
      "aged\n"
     ]
    }
   ],
   "source": [
    "try:\n",
    "    age=eval(input(\"Enetr the age:\"))\n",
    "    if age>=60:\n",
    "        print(\"senior citizen\")\n",
    "    elif age>=45:\n",
    "        print(\"aged\")\n",
    "    elif age>=30:\n",
    "        print(\"middle age\")\n",
    "    elif age>=20:\n",
    "        print(\"young\")\n",
    "    elif age>=13:\n",
    "        print(\"teenage\")\n",
    "    else:\n",
    "        print(\"child\")\n",
    "except Exception as error:\n",
    "    print(error)"
   ]
  },
  {
   "cell_type": "code",
   "execution_count": 41,
   "id": "80fee727",
   "metadata": {},
   "outputs": [
    {
     "name": "stdout",
     "output_type": "stream",
     "text": [
      "Enetr the age:35\n",
      "middle age\n"
     ]
    }
   ],
   "source": [
    "try:\n",
    "    age=eval(input(\"Enetr the age:\"))\n",
    "    if age>=60:\n",
    "        print(\"senior citizen\")\n",
    "    elif age>=45:\n",
    "        print(\"aged\")\n",
    "    elif age>=30:\n",
    "        print(\"middle age\")\n",
    "    elif age>=20:\n",
    "        print(\"young\")\n",
    "    elif age>=13:\n",
    "        print(\"teenage\")\n",
    "    else:\n",
    "        print(\"child\")\n",
    "except Exception as error:\n",
    "    print(error)"
   ]
  },
  {
   "cell_type": "code",
   "execution_count": 42,
   "id": "107b7907",
   "metadata": {},
   "outputs": [
    {
     "name": "stdout",
     "output_type": "stream",
     "text": [
      "Enetr the age:25\n",
      "young\n"
     ]
    }
   ],
   "source": [
    "try:\n",
    "    age=eval(input(\"Enetr the age:\"))\n",
    "    if age>=60:\n",
    "        print(\"senior citizen\")\n",
    "    elif age>=45:\n",
    "        print(\"aged\")\n",
    "    elif age>=30:\n",
    "        print(\"middle age\")\n",
    "    elif age>=20:\n",
    "        print(\"young\")\n",
    "    elif age>=13:\n",
    "        print(\"teenage\")\n",
    "    else:\n",
    "        print(\"child\")\n",
    "except Exception as error:\n",
    "    print(error)"
   ]
  },
  {
   "cell_type": "code",
   "execution_count": 43,
   "id": "4625a559",
   "metadata": {},
   "outputs": [
    {
     "name": "stdout",
     "output_type": "stream",
     "text": [
      "Enetr the age:15\n",
      "teenage\n"
     ]
    }
   ],
   "source": [
    "try:\n",
    "    age=eval(input(\"Enetr the age:\"))\n",
    "    if age>=60:\n",
    "        print(\"senior citizen\")\n",
    "    elif age>=45:\n",
    "        print(\"aged\")\n",
    "    elif age>=30:\n",
    "        print(\"middle age\")\n",
    "    elif age>=20:\n",
    "        print(\"young\")\n",
    "    elif age>=13:\n",
    "        print(\"teenage\")\n",
    "    else:\n",
    "        print(\"child\")\n",
    "except Exception as error:\n",
    "    print(error)"
   ]
  },
  {
   "cell_type": "code",
   "execution_count": 44,
   "id": "94873d4f",
   "metadata": {},
   "outputs": [
    {
     "name": "stdout",
     "output_type": "stream",
     "text": [
      "Enetr the age:5\n",
      "child\n"
     ]
    }
   ],
   "source": [
    "try:\n",
    "    age=eval(input(\"Enetr the age:\"))\n",
    "    if age>=60:\n",
    "        print(\"senior citizen\")\n",
    "    elif age>=45:\n",
    "        print(\"aged\")\n",
    "    elif age>=30:\n",
    "        print(\"middle age\")\n",
    "    elif age>=20:\n",
    "        print(\"young\")\n",
    "    elif age>=13:\n",
    "        print(\"teenage\")\n",
    "    else:\n",
    "        print(\"child\")\n",
    "except Exception as error:\n",
    "    print(error)"
   ]
  },
  {
   "cell_type": "code",
   "execution_count": null,
   "id": "ccb78706",
   "metadata": {},
   "outputs": [],
   "source": []
  }
 ],
 "metadata": {
  "kernelspec": {
   "display_name": "Python 3 (ipykernel)",
   "language": "python",
   "name": "python3"
  },
  "language_info": {
   "codemirror_mode": {
    "name": "ipython",
    "version": 3
   },
   "file_extension": ".py",
   "mimetype": "text/x-python",
   "name": "python",
   "nbconvert_exporter": "python",
   "pygments_lexer": "ipython3",
   "version": "3.11.5"
  }
 },
 "nbformat": 4,
 "nbformat_minor": 5
}
