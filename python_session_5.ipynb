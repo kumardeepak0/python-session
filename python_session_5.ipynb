{
 "cells": [
  {
   "cell_type": "code",
   "execution_count": 1,
   "id": "f1f7e3b8",
   "metadata": {},
   "outputs": [
    {
     "name": "stdout",
     "output_type": "stream",
     "text": [
      "my name is python IM from hyd my age is 10 years old\n"
     ]
    }
   ],
   "source": [
    "# step1: variable='python'\n",
    "# step2:    city='hyd'\n",
    "# step3:    age=10\n",
    "\n",
    "# myn name is python ,I came from hyderabad and IM 10 years old\n",
    "name=\"python\"\n",
    "city=\"hyd\"\n",
    "age=10\n",
    "print(\"my name is\",name,'IM from',city,'my age is',age,\"years old\")"
   ]
  },
  {
   "cell_type": "code",
   "execution_count": 1,
   "id": "e2eaf146",
   "metadata": {},
   "outputs": [
    {
     "name": "stdout",
     "output_type": "stream",
     "text": [
      "my name is python Im from hyderabad andIm 10 years old\n"
     ]
    }
   ],
   "source": [
    "# my name is python , I came from hyderabad and IM 10 years old\n",
    "name=\"python\"\n",
    "city=\"hyderabad\"\n",
    "age=10\n",
    "print(\"my name is\",name,'Im from',city,end=' and')\n",
    "print(\"Im\", age,\"years old\")"
   ]
  },
  {
   "cell_type": "code",
   "execution_count": 2,
   "id": "a2ce2ef3",
   "metadata": {},
   "outputs": [
    {
     "name": "stdout",
     "output_type": "stream",
     "text": [
      "my name is  python i came from hyderabad i am 10 years old\n"
     ]
    }
   ],
   "source": [
    "name='python'\n",
    "city='hyderabad'\n",
    "age=10\n",
    "print('my name is ', name,'i came from',city,'i am',age,'years old')"
   ]
  },
  {
   "cell_type": "code",
   "execution_count": 3,
   "id": "718a8c52",
   "metadata": {},
   "outputs": [
    {
     "name": "stdout",
     "output_type": "stream",
     "text": [
      "the addition of 2000 and 4000 is 6000\n"
     ]
    }
   ],
   "source": [
    "numb1=2000\n",
    "numb2=4000\n",
    "add=numb1+numb2\n",
    "print(\"the addition of\",numb1,'and',numb2,'is',add)"
   ]
  },
  {
   "cell_type": "code",
   "execution_count": null,
   "id": "9da89084",
   "metadata": {},
   "outputs": [],
   "source": [
    "#\"the additon of 200 and 400 is 600\"\n",
    "# the addition of {} and {} is {}"
   ]
  },
  {
   "cell_type": "code",
   "execution_count": 2,
   "id": "a766bf0f",
   "metadata": {},
   "outputs": [
    {
     "name": "stdout",
     "output_type": "stream",
     "text": [
      "the addition of 200 and 400 is 600\n"
     ]
    }
   ],
   "source": [
    "number1=200\n",
    "number2=400\n",
    "add=number1+number2\n",
    "print(\"the addition of {} and {} is {}\".format(number1,number2,add))"
   ]
  },
  {
   "cell_type": "code",
   "execution_count": 3,
   "id": "c1e5a790",
   "metadata": {},
   "outputs": [
    {
     "name": "stdout",
     "output_type": "stream",
     "text": [
      "my name is python,Im from hyd and my age is 10 years old\n"
     ]
    }
   ],
   "source": [
    "name='python'\n",
    "city='hyd'\n",
    "age=10\n",
    "print(\"my name is {},Im from {} and my age is {} years old\".format(name,city,age))"
   ]
  },
  {
   "cell_type": "code",
   "execution_count": null,
   "id": "f22dfe02",
   "metadata": {},
   "outputs": [],
   "source": [
    "# step-1: value1=20\n",
    "# step-2: value2=30\n",
    "# step-3: add=value1+value2\n",
    "# step-4: sub=value1-value2\n",
    "# step-5: mul=value1*value2\n",
    "# step-6: div=value1/value2\n",
    "#The addition of 20 and 30 is:50\n",
    "#The substraction of 20 and 30 is:-10\n",
    "#The multiplication of 20 and 30 is:6000\n",
    "#the dividion of 20 and 30 is: 0.666"
   ]
  },
  {
   "cell_type": "code",
   "execution_count": 6,
   "id": "72fa9ec5",
   "metadata": {},
   "outputs": [
    {
     "name": "stdout",
     "output_type": "stream",
     "text": [
      "The addition of 20 and 30 is 50\n",
      "The substraction of 20 and 30 is -10\n",
      "The multiplication of 20 and 30 is 600\n",
      "the division of 20 and 30 is 0.67\n"
     ]
    }
   ],
   "source": [
    "value1=20\n",
    "value2=30\n",
    "add=value1+value2\n",
    "sub=value1-value2\n",
    "mul=value1*value2\n",
    "div=round(value1/value2,2)\n",
    "print(\"The addition of {} and {} is {}\".format(value1,value2,add))\n",
    "print(\"The substraction of {} and {} is {}\".format(value1,value2,sub))\n",
    "print(\"The multiplication of {} and {} is {}\".format(value1,value2,mul))\n",
    "print(\"the division of {} and {} is {}\".format(value1,value2,div))"
   ]
  },
  {
   "cell_type": "code",
   "execution_count": 4,
   "id": "13950c63",
   "metadata": {},
   "outputs": [
    {
     "name": "stdout",
     "output_type": "stream",
     "text": [
      "The addition of 200 and 300 is 500\n",
      "The substraction of 200 and 300 is -100\n",
      "The multiplication of 200 and 300 is 60000\n",
      "the division of 200 and 300 is 0.67\n"
     ]
    }
   ],
   "source": [
    "value1=200\n",
    "value2=300\n",
    "add=value1+value2\n",
    "sub=value1-value2\n",
    "mul=value1*value2\n",
    "div=round(value1/value2,2)\n",
    "print(\"The addition of {} and {} is {}\".format(value1,value2,add))\n",
    "print(\"The substraction of {} and {} is {}\".format(value1,value2,sub))\n",
    "print(\"The multiplication of {} and {} is {}\".format(value1,value2,mul))\n",
    "print(\"the division of {} and {} is {}\".format(value1,value2,div))"
   ]
  },
  {
   "cell_type": "code",
   "execution_count": 5,
   "id": "60d4f5ee",
   "metadata": {},
   "outputs": [
    {
     "data": {
      "text/plain": [
       "0.667"
      ]
     },
     "execution_count": 5,
     "metadata": {},
     "output_type": "execute_result"
    }
   ],
   "source": [
    "round(value1/value2,3)"
   ]
  },
  {
   "cell_type": "code",
   "execution_count": 6,
   "id": "13278031",
   "metadata": {},
   "outputs": [
    {
     "data": {
      "text/plain": [
       "0.6666666666666666"
      ]
     },
     "execution_count": 6,
     "metadata": {},
     "output_type": "execute_result"
    }
   ],
   "source": [
    "20/30"
   ]
  },
  {
   "cell_type": "code",
   "execution_count": null,
   "id": "9dd6768c",
   "metadata": {},
   "outputs": [],
   "source": [
    "div=round(value1/value2,2)"
   ]
  },
  {
   "cell_type": "code",
   "execution_count": 7,
   "id": "d6679753",
   "metadata": {},
   "outputs": [
    {
     "data": {
      "text/plain": [
       "0.67"
      ]
     },
     "execution_count": 7,
     "metadata": {},
     "output_type": "execute_result"
    }
   ],
   "source": [
    "div"
   ]
  },
  {
   "cell_type": "code",
   "execution_count": 8,
   "id": "6464cf2d",
   "metadata": {},
   "outputs": [
    {
     "data": {
      "text/plain": [
       "0.6666666666666666"
      ]
     },
     "execution_count": 8,
     "metadata": {},
     "output_type": "execute_result"
    }
   ],
   "source": [
    "20/30   # division"
   ]
  },
  {
   "cell_type": "code",
   "execution_count": 9,
   "id": "aff51e18",
   "metadata": {},
   "outputs": [
    {
     "data": {
      "text/plain": [
       "20"
      ]
     },
     "execution_count": 9,
     "metadata": {},
     "output_type": "execute_result"
    }
   ],
   "source": [
    "20%30   # modulus"
   ]
  },
  {
   "cell_type": "code",
   "execution_count": 10,
   "id": "34a3806d",
   "metadata": {},
   "outputs": [
    {
     "data": {
      "text/plain": [
       "0"
      ]
     },
     "execution_count": 10,
     "metadata": {},
     "output_type": "execute_result"
    }
   ],
   "source": [
    "20 // 30 # floor division"
   ]
  },
  {
   "cell_type": "code",
   "execution_count": 11,
   "id": "72461f7c",
   "metadata": {},
   "outputs": [
    {
     "name": "stdout",
     "output_type": "stream",
     "text": [
      "2.5\n",
      "2\n",
      "1\n"
     ]
    }
   ],
   "source": [
    "print(5/2)  # division\n",
    "print(5//2) #floor division=quotient\n",
    "print(5%2)  # modulus=remainder"
   ]
  },
  {
   "cell_type": "code",
   "execution_count": 13,
   "id": "b3035a99",
   "metadata": {},
   "outputs": [
    {
     "name": "stdout",
     "output_type": "stream",
     "text": [
      "The addition of 200 and 300 is 500\n"
     ]
    }
   ],
   "source": [
    "val1 = 200 # manually i provide\n",
    "val2 = 300 # inprovide\n",
    "add=val1+val2\n",
    "print(\"The addition of {} and {} is {}\".format(val1,val2,add))"
   ]
  },
  {
   "cell_type": "markdown",
   "id": "5d090831",
   "metadata": {},
   "source": [
    "$input$"
   ]
  },
  {
   "cell_type": "code",
   "execution_count": 14,
   "id": "658a8cbb",
   "metadata": {},
   "outputs": [
    {
     "name": "stdout",
     "output_type": "stream",
     "text": [
      "30\n"
     ]
    },
    {
     "data": {
      "text/plain": [
       "'30'"
      ]
     },
     "execution_count": 14,
     "metadata": {},
     "output_type": "execute_result"
    }
   ],
   "source": [
    "input()"
   ]
  },
  {
   "cell_type": "code",
   "execution_count": 7,
   "id": "4a87cb26",
   "metadata": {},
   "outputs": [
    {
     "name": "stdout",
     "output_type": "stream",
     "text": [
      "python is easy language\n"
     ]
    },
    {
     "data": {
      "text/plain": [
       "'python is easy language'"
      ]
     },
     "execution_count": 7,
     "metadata": {},
     "output_type": "execute_result"
    }
   ],
   "source": [
    "input()"
   ]
  },
  {
   "cell_type": "code",
   "execution_count": 16,
   "id": "f3bd6073",
   "metadata": {},
   "outputs": [
    {
     "name": "stdout",
     "output_type": "stream",
     "text": [
      "enter a number300\n"
     ]
    },
    {
     "data": {
      "text/plain": [
       "'300'"
      ]
     },
     "execution_count": 16,
     "metadata": {},
     "output_type": "execute_result"
    }
   ],
   "source": [
    "input('enter a number')"
   ]
  },
  {
   "cell_type": "code",
   "execution_count": 17,
   "id": "cdf0d09e",
   "metadata": {},
   "outputs": [
    {
     "name": "stdout",
     "output_type": "stream",
     "text": [
      "your nameDeepak kumar\n"
     ]
    },
    {
     "data": {
      "text/plain": [
       "'Deepak kumar'"
      ]
     },
     "execution_count": 17,
     "metadata": {},
     "output_type": "execute_result"
    }
   ],
   "source": [
    "input('your name')"
   ]
  },
  {
   "cell_type": "code",
   "execution_count": 18,
   "id": "885b629f",
   "metadata": {},
   "outputs": [
    {
     "name": "stdout",
     "output_type": "stream",
     "text": [
      "what is a for : apple\n",
      "what is b for : ball\n",
      "apple ball\n"
     ]
    }
   ],
   "source": [
    "name1=input(\"what is a for : \")\n",
    "name2=input(\"what is b for : \")\n",
    "print(name1,name2)"
   ]
  },
  {
   "cell_type": "code",
   "execution_count": 26,
   "id": "b1a0b496",
   "metadata": {},
   "outputs": [
    {
     "name": "stdout",
     "output_type": "stream",
     "text": [
      "enter value1:20\n",
      "enter value2:30\n",
      "The addition of 20 and 30 is 2030\n"
     ]
    }
   ],
   "source": [
    "value1=(input('enter value1:'))  #'20'\n",
    "value2=(input('enter value2:'))  #'30'\n",
    "add=value1+value2                #'20'+'30'='2030'   #'A'+'B'='AB'\n",
    "print(\"The addition of {} and {} is {}\".format(value1,value2,add))"
   ]
  },
  {
   "cell_type": "code",
   "execution_count": 24,
   "id": "bd3c0a55",
   "metadata": {},
   "outputs": [
    {
     "data": {
      "text/plain": [
       "20"
      ]
     },
     "execution_count": 24,
     "metadata": {},
     "output_type": "execute_result"
    }
   ],
   "source": [
    "int(value1)"
   ]
  },
  {
   "cell_type": "code",
   "execution_count": 27,
   "id": "35af0d57",
   "metadata": {},
   "outputs": [
    {
     "name": "stdout",
     "output_type": "stream",
     "text": [
      "enter value1:20\n",
      "enter value2:30\n",
      "The addition of 20 and 30 is 50\n"
     ]
    }
   ],
   "source": [
    "value1=int(input('enter value1:'))\n",
    "value2=int(input('enter value2:'))\n",
    "add=value1+value2\n",
    "print(\"The addition of {} and {} is {}\".format(value1,value2,add))"
   ]
  },
  {
   "cell_type": "code",
   "execution_count": 29,
   "id": "c315d0a3",
   "metadata": {},
   "outputs": [
    {
     "name": "stdout",
     "output_type": "stream",
     "text": [
      "enter value1:30\n",
      "enter value2:40\n",
      "The addition of 30 and 40 is 70\n"
     ]
    }
   ],
   "source": [
    "value1=input('enter value1:')\n",
    "value2=input('enter value2:')\n",
    "add=int(value1)+int(value2)\n",
    "print(\"The addition of {} and {} is {}\".format(value1,value2,add))"
   ]
  },
  {
   "cell_type": "code",
   "execution_count": null,
   "id": "0cc57e71",
   "metadata": {},
   "outputs": [],
   "source": [
    "number1=100\n",
    "number2=200.5"
   ]
  },
  {
   "cell_type": "code",
   "execution_count": 31,
   "id": "e183782a",
   "metadata": {},
   "outputs": [
    {
     "name": "stdout",
     "output_type": "stream",
     "text": [
      "enter value1:100\n",
      "enter value2:200.5\n",
      "The addition of 100 and 200.5 is 300.5\n"
     ]
    }
   ],
   "source": [
    "value1=int(input('enter value1:'))\n",
    "value2=float(input('enter value2:'))\n",
    "add=value1+value2\n",
    "print(\"The addition of {} and {} is {}\".format(value1,value2,add))"
   ]
  },
  {
   "cell_type": "code",
   "execution_count": null,
   "id": "905079c2",
   "metadata": {},
   "outputs": [],
   "source": [
    "int('200')------ works      int('200.5')------fails\n",
    "float('200')-------works    float('200.5')------works"
   ]
  },
  {
   "cell_type": "markdown",
   "id": "dd1ec416",
   "metadata": {},
   "source": [
    "$eval$"
   ]
  },
  {
   "cell_type": "code",
   "execution_count": 34,
   "id": "ab208905",
   "metadata": {},
   "outputs": [
    {
     "name": "stdout",
     "output_type": "stream",
     "text": [
      "enter a number1 :20\n",
      "enter a number2 :30.8\n",
      "50.8\n"
     ]
    }
   ],
   "source": [
    "num1=eval(input(\"enter a number1 :\"))\n",
    "num2=eval(input(\"enter a number2 :\"))\n",
    "add=num1+num2\n",
    "print(add)"
   ]
  },
  {
   "cell_type": "code",
   "execution_count": 35,
   "id": "2c4a5bb7",
   "metadata": {},
   "outputs": [
    {
     "data": {
      "text/plain": [
       "int"
      ]
     },
     "execution_count": 35,
     "metadata": {},
     "output_type": "execute_result"
    }
   ],
   "source": [
    "type(num1)"
   ]
  },
  {
   "cell_type": "code",
   "execution_count": 36,
   "id": "721821d0",
   "metadata": {},
   "outputs": [
    {
     "data": {
      "text/plain": [
       "float"
      ]
     },
     "execution_count": 36,
     "metadata": {},
     "output_type": "execute_result"
    }
   ],
   "source": [
    "type(num2)"
   ]
  },
  {
   "cell_type": "code",
   "execution_count": 5,
   "id": "45698e2e",
   "metadata": {},
   "outputs": [
    {
     "name": "stdout",
     "output_type": "stream",
     "text": [
      "333.3333333333333\n"
     ]
    }
   ],
   "source": [
    "a=200\n",
    "b=300\n",
    "c=500\n",
    "avg=(a+b+c)/3\n",
    "print(avg)"
   ]
  },
  {
   "cell_type": "code",
   "execution_count": 1,
   "id": "809f4054",
   "metadata": {},
   "outputs": [
    {
     "name": "stdout",
     "output_type": "stream",
     "text": [
      "30\n"
     ]
    },
    {
     "data": {
      "text/plain": [
       "'30'"
      ]
     },
     "execution_count": 1,
     "metadata": {},
     "output_type": "execute_result"
    }
   ],
   "source": [
    "input()"
   ]
  },
  {
   "cell_type": "code",
   "execution_count": 11,
   "id": "ee7d6d36",
   "metadata": {},
   "outputs": [
    {
     "name": "stdout",
     "output_type": "stream",
     "text": [
      "enter value1:30\n",
      "enter value2:40\n",
      "enter value3:10\n"
     ]
    },
    {
     "ename": "TypeError",
     "evalue": "unsupported operand type(s) for /: 'str' and 'int'",
     "output_type": "error",
     "traceback": [
      "\u001b[1;31m---------------------------------------------------------------------------\u001b[0m",
      "\u001b[1;31mTypeError\u001b[0m                                 Traceback (most recent call last)",
      "Cell \u001b[1;32mIn[11], line 5\u001b[0m\n\u001b[0;32m      3\u001b[0m value3\u001b[38;5;241m=\u001b[39m\u001b[38;5;28minput\u001b[39m(\u001b[38;5;124m\"\u001b[39m\u001b[38;5;124menter value3:\u001b[39m\u001b[38;5;124m\"\u001b[39m)  \u001b[38;5;66;03m#c=10\u001b[39;00m\n\u001b[0;32m      4\u001b[0m add\u001b[38;5;241m=\u001b[39m\u001b[38;5;28mint\u001b[39m(value1)\u001b[38;5;241m+\u001b[39m\u001b[38;5;28mint\u001b[39m(value2)\u001b[38;5;241m+\u001b[39m\u001b[38;5;28mint\u001b[39m(value3)\n\u001b[1;32m----> 5\u001b[0m average\u001b[38;5;241m=\u001b[39m(value1\u001b[38;5;241m+\u001b[39mvalue2\u001b[38;5;241m+\u001b[39mvalue3)\u001b[38;5;241m/\u001b[39m\u001b[38;5;241m3\u001b[39m\n\u001b[0;32m      6\u001b[0m \u001b[38;5;28mprint\u001b[39m(add)\n\u001b[0;32m      7\u001b[0m \u001b[38;5;28mprint\u001b[39m(average)\n",
      "\u001b[1;31mTypeError\u001b[0m: unsupported operand type(s) for /: 'str' and 'int'"
     ]
    }
   ],
   "source": [
    "value1=input(\"enter value1:\")  #a=30\n",
    "value2=input(\"enter value2:\")  #b=40\n",
    "value3=input(\"enter value3:\")  #c=10\n",
    "add=int(value1)+int(value2)+int(value3)\n",
    "average=(value1+value2+value3)/3\n",
    "print(add)\n",
    "print(average)\n"
   ]
  },
  {
   "cell_type": "code",
   "execution_count": null,
   "id": "33c02aa8",
   "metadata": {},
   "outputs": [],
   "source": []
  },
  {
   "cell_type": "code",
   "execution_count": null,
   "id": "5758771f",
   "metadata": {},
   "outputs": [],
   "source": []
  }
 ],
 "metadata": {
  "kernelspec": {
   "display_name": "Python 3 (ipykernel)",
   "language": "python",
   "name": "python3"
  },
  "language_info": {
   "codemirror_mode": {
    "name": "ipython",
    "version": 3
   },
   "file_extension": ".py",
   "mimetype": "text/x-python",
   "name": "python",
   "nbconvert_exporter": "python",
   "pygments_lexer": "ipython3",
   "version": "3.11.5"
  }
 },
 "nbformat": 4,
 "nbformat_minor": 5
}
