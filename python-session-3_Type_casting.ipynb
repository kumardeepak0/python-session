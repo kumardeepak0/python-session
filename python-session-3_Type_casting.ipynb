{
 "cells": [
  {
   "cell_type": "markdown",
   "id": "1f4ae547",
   "metadata": {},
   "source": [
    "# Type Casting:"
   ]
  },
  {
   "cell_type": "code",
   "execution_count": null,
   "id": "b84cf980",
   "metadata": {},
   "outputs": [],
   "source": [
    "- change one data type to another data type\n",
    "\n",
    "- Int ------>float\n",
    "- Int ------>string\n",
    "- Int ------>boolean\n",
    "- Int ------>complex\n",
    "\n",
    "- float ------>Int\n",
    "- float ------>string\n",
    "- float ------>boolean\n",
    "- float ------>complex"
   ]
  },
  {
   "cell_type": "markdown",
   "id": "e3100079",
   "metadata": {},
   "source": [
    "## Integer to other data type"
   ]
  },
  {
   "cell_type": "code",
   "execution_count": 2,
   "id": "ce7f3ecb",
   "metadata": {},
   "outputs": [
    {
     "data": {
      "text/plain": [
       "100"
      ]
     },
     "execution_count": 2,
     "metadata": {},
     "output_type": "execute_result"
    }
   ],
   "source": [
    "number1=(100)\n",
    "number1"
   ]
  },
  {
   "cell_type": "code",
   "execution_count": 3,
   "id": "f3ed1d36",
   "metadata": {},
   "outputs": [
    {
     "data": {
      "text/plain": [
       "int"
      ]
     },
     "execution_count": 3,
     "metadata": {},
     "output_type": "execute_result"
    }
   ],
   "source": [
    "type(number1)"
   ]
  },
  {
   "cell_type": "code",
   "execution_count": 4,
   "id": "28ca5a4d",
   "metadata": {},
   "outputs": [
    {
     "data": {
      "text/plain": [
       "100.0"
      ]
     },
     "execution_count": 4,
     "metadata": {},
     "output_type": "execute_result"
    }
   ],
   "source": [
    "# case-1: int======> float\n",
    "float(number1)   #  number1 to float type 100===>100.0"
   ]
  },
  {
   "cell_type": "code",
   "execution_count": 6,
   "id": "d25b616f",
   "metadata": {},
   "outputs": [],
   "source": [
    "float_number=float(number1)"
   ]
  },
  {
   "cell_type": "code",
   "execution_count": 7,
   "id": "2a844c46",
   "metadata": {},
   "outputs": [
    {
     "data": {
      "text/plain": [
       "float"
      ]
     },
     "execution_count": 7,
     "metadata": {},
     "output_type": "execute_result"
    }
   ],
   "source": [
    "type(float_number)"
   ]
  },
  {
   "cell_type": "code",
   "execution_count": 8,
   "id": "35f97fe2",
   "metadata": {},
   "outputs": [
    {
     "data": {
      "text/plain": [
       "'100'"
      ]
     },
     "execution_count": 8,
     "metadata": {},
     "output_type": "execute_result"
    }
   ],
   "source": [
    " # 100 ======string===='100'\n",
    " string_number=str(number1) \n",
    " string_number"
   ]
  },
  {
   "cell_type": "code",
   "execution_count": 9,
   "id": "866e98e4",
   "metadata": {},
   "outputs": [
    {
     "data": {
      "text/plain": [
       "str"
      ]
     },
     "execution_count": 9,
     "metadata": {},
     "output_type": "execute_result"
    }
   ],
   "source": [
    "type(string_number)"
   ]
  },
  {
   "cell_type": "code",
   "execution_count": 11,
   "id": "e2b8684c",
   "metadata": {},
   "outputs": [
    {
     "data": {
      "text/plain": [
       "True"
      ]
     },
     "execution_count": 11,
     "metadata": {},
     "output_type": "execute_result"
    }
   ],
   "source": [
    "# case -3 : integer to boolean\n",
    "boolean_number=bool(number1)\n",
    "boolean_number"
   ]
  },
  {
   "cell_type": "code",
   "execution_count": 12,
   "id": "4ec4577f",
   "metadata": {},
   "outputs": [
    {
     "data": {
      "text/plain": [
       "True"
      ]
     },
     "execution_count": 12,
     "metadata": {},
     "output_type": "execute_result"
    }
   ],
   "source": [
    "bool(100)"
   ]
  },
  {
   "cell_type": "code",
   "execution_count": 13,
   "id": "51e50d48",
   "metadata": {},
   "outputs": [
    {
     "data": {
      "text/plain": [
       "False"
      ]
     },
     "execution_count": 13,
     "metadata": {},
     "output_type": "execute_result"
    }
   ],
   "source": [
    "bool(0)"
   ]
  },
  {
   "cell_type": "markdown",
   "id": "8b7f8e69",
   "metadata": {},
   "source": [
    "**Note**\n",
    "\n",
    "other than Zero , everything is True\n",
    "\n",
    "bool(0) only false"
   ]
  },
  {
   "cell_type": "code",
   "execution_count": 14,
   "id": "ffa3bc9d",
   "metadata": {},
   "outputs": [
    {
     "data": {
      "text/plain": [
       "(100+0j)"
      ]
     },
     "execution_count": 14,
     "metadata": {},
     "output_type": "execute_result"
    }
   ],
   "source": [
    "# 100 ===== ? complex(100)\n",
    "complex_number= complex(100)\n",
    "complex_number"
   ]
  },
  {
   "cell_type": "code",
   "execution_count": null,
   "id": "d7735a6a",
   "metadata": {},
   "outputs": [],
   "source": [
    "number1=100\n",
    "float_number=float(number1) # float(100)= 100.0\n",
    "string_number=str(number1)  #str(100)= '100'\n",
    "boolean_number=bool(number1) # bool(100)= true\n",
    "complex_number=complex(number1) # complex(100) = 100+0j"
   ]
  },
  {
   "cell_type": "code",
   "execution_count": null,
   "id": "bf127c58",
   "metadata": {},
   "outputs": [],
   "source": [
    "200 =======> int ======= float ====== 200.0\n",
    "200 ========> int ======= str ======== '200'\n",
    "200 ========> int ======= bool ======= true\n",
    "200 ========> int ======= complex ==== 200+0j"
   ]
  },
  {
   "cell_type": "markdown",
   "id": "a7253221",
   "metadata": {},
   "source": [
    "# convert float to other"
   ]
  },
  {
   "cell_type": "code",
   "execution_count": null,
   "id": "c8e1f118",
   "metadata": {},
   "outputs": [],
   "source": [
    "number2=100.5\n",
    "int_number=int(number2) # 100\n",
    "boolean_number=bool(number2) #True\n",
    "complex_number=complex(number2) # 100.5+0j"
   ]
  },
  {
   "cell_type": "code",
   "execution_count": 1,
   "id": "1e87acd6",
   "metadata": {},
   "outputs": [
    {
     "data": {
      "text/plain": [
       "100"
      ]
     },
     "execution_count": 1,
     "metadata": {},
     "output_type": "execute_result"
    }
   ],
   "source": [
    "number2=100.5\n",
    "int_number=int(number2)\n",
    "int_number"
   ]
  },
  {
   "cell_type": "code",
   "execution_count": 3,
   "id": "b5c54966",
   "metadata": {},
   "outputs": [
    {
     "data": {
      "text/plain": [
       "'100.5'"
      ]
     },
     "execution_count": 3,
     "metadata": {},
     "output_type": "execute_result"
    }
   ],
   "source": [
    "number2=100.5\n",
    "string_number=str(number2)\n",
    "string_number"
   ]
  },
  {
   "cell_type": "code",
   "execution_count": 4,
   "id": "f6c2256b",
   "metadata": {},
   "outputs": [
    {
     "data": {
      "text/plain": [
       "True"
      ]
     },
     "execution_count": 4,
     "metadata": {},
     "output_type": "execute_result"
    }
   ],
   "source": [
    "number2=100.5\n",
    "bool_number=bool(number2)\n",
    "bool_number"
   ]
  },
  {
   "cell_type": "code",
   "execution_count": 5,
   "id": "ba89d6a0",
   "metadata": {},
   "outputs": [
    {
     "data": {
      "text/plain": [
       "(100.5+0j)"
      ]
     },
     "execution_count": 5,
     "metadata": {},
     "output_type": "execute_result"
    }
   ],
   "source": [
    "number2=100.5\n",
    "complex_number=complex(number2)\n",
    "complex_number"
   ]
  },
  {
   "cell_type": "code",
   "execution_count": null,
   "id": "2d165f5a",
   "metadata": {},
   "outputs": [],
   "source": [
    "I have a doubt , why 100.5 is not 101\n",
    "\n",
    "# we are not runding off\n",
    "# why not 100?"
   ]
  },
  {
   "cell_type": "code",
   "execution_count": 6,
   "id": "dddad8ee",
   "metadata": {},
   "outputs": [
    {
     "data": {
      "text/plain": [
       "101"
      ]
     },
     "execution_count": 6,
     "metadata": {},
     "output_type": "execute_result"
    }
   ],
   "source": [
    "round(100.6)"
   ]
  },
  {
   "cell_type": "code",
   "execution_count": null,
   "id": "b1338f14",
   "metadata": {},
   "outputs": [],
   "source": [
    "100\n",
    "100.5\n",
    "'100'\n",
    "True\n",
    "100+5j\n"
   ]
  },
  {
   "cell_type": "markdown",
   "id": "45807d8e",
   "metadata": {},
   "source": [
    "## string to other data type"
   ]
  },
  {
   "cell_type": "code",
   "execution_count": null,
   "id": "86727f43",
   "metadata": {},
   "outputs": [],
   "source": [
    "# case-1 \n",
    "string_value1='apple'\n",
    "int(string_value1)\n",
    "float(string_value1)\n",
    "bool(string_value1)\n",
    "complex(string_value1)"
   ]
  },
  {
   "cell_type": "code",
   "execution_count": 7,
   "id": "ca5a15b6",
   "metadata": {},
   "outputs": [
    {
     "ename": "ValueError",
     "evalue": "invalid literal for int() with base 10: 'apple'",
     "output_type": "error",
     "traceback": [
      "\u001b[1;31m---------------------------------------------------------------------------\u001b[0m",
      "\u001b[1;31mValueError\u001b[0m                                Traceback (most recent call last)",
      "Cell \u001b[1;32mIn[7], line 2\u001b[0m\n\u001b[0;32m      1\u001b[0m string_value1\u001b[38;5;241m=\u001b[39m\u001b[38;5;124m'\u001b[39m\u001b[38;5;124mapple\u001b[39m\u001b[38;5;124m'\u001b[39m    \u001b[38;5;66;03m#English\u001b[39;00m\n\u001b[1;32m----> 2\u001b[0m \u001b[38;5;28mint\u001b[39m(string_value1)\n",
      "\u001b[1;31mValueError\u001b[0m: invalid literal for int() with base 10: 'apple'"
     ]
    }
   ],
   "source": [
    "string_value1='apple'    #English\n",
    "int(string_value1)      #int maths\n",
    "\n",
    "# you cannot convert english to maths"
   ]
  },
  {
   "cell_type": "code",
   "execution_count": 8,
   "id": "f6b9de15",
   "metadata": {},
   "outputs": [
    {
     "ename": "ValueError",
     "evalue": "could not convert string to float: 'apple'",
     "output_type": "error",
     "traceback": [
      "\u001b[1;31m---------------------------------------------------------------------------\u001b[0m",
      "\u001b[1;31mValueError\u001b[0m                                Traceback (most recent call last)",
      "Cell \u001b[1;32mIn[8], line 2\u001b[0m\n\u001b[0;32m      1\u001b[0m string_value1\u001b[38;5;241m=\u001b[39m\u001b[38;5;124m'\u001b[39m\u001b[38;5;124mapple\u001b[39m\u001b[38;5;124m'\u001b[39m\n\u001b[1;32m----> 2\u001b[0m \u001b[38;5;28mfloat\u001b[39m(string_value1)\n",
      "\u001b[1;31mValueError\u001b[0m: could not convert string to float: 'apple'"
     ]
    }
   ],
   "source": [
    "string_value1='apple'\n",
    "float(string_value1)"
   ]
  },
  {
   "cell_type": "code",
   "execution_count": 9,
   "id": "e4ba26d6",
   "metadata": {},
   "outputs": [
    {
     "data": {
      "text/plain": [
       "True"
      ]
     },
     "execution_count": 9,
     "metadata": {},
     "output_type": "execute_result"
    }
   ],
   "source": [
    "string_value1='apple'\n",
    "bool(string_value1)"
   ]
  },
  {
   "cell_type": "code",
   "execution_count": 10,
   "id": "f67037c4",
   "metadata": {},
   "outputs": [
    {
     "ename": "ValueError",
     "evalue": "complex() arg is a malformed string",
     "output_type": "error",
     "traceback": [
      "\u001b[1;31m---------------------------------------------------------------------------\u001b[0m",
      "\u001b[1;31mValueError\u001b[0m                                Traceback (most recent call last)",
      "Cell \u001b[1;32mIn[10], line 2\u001b[0m\n\u001b[0;32m      1\u001b[0m string_value1\u001b[38;5;241m=\u001b[39m\u001b[38;5;124m'\u001b[39m\u001b[38;5;124mapple\u001b[39m\u001b[38;5;124m'\u001b[39m\n\u001b[1;32m----> 2\u001b[0m \u001b[38;5;28mcomplex\u001b[39m(string_value1)\n",
      "\u001b[1;31mValueError\u001b[0m: complex() arg is a malformed string"
     ]
    }
   ],
   "source": [
    "string_value1='apple'\n",
    "complex(string_value1)"
   ]
  },
  {
   "cell_type": "code",
   "execution_count": 15,
   "id": "24c6242c",
   "metadata": {},
   "outputs": [
    {
     "data": {
      "text/plain": [
       "False"
      ]
     },
     "execution_count": 15,
     "metadata": {},
     "output_type": "execute_result"
    }
   ],
   "source": [
    "string_value1=''\n",
    "bool(string_value1)"
   ]
  },
  {
   "cell_type": "markdown",
   "id": "4f482eea",
   "metadata": {},
   "source": [
    "**Note**\n",
    "- Empty string boolean conversion given as False"
   ]
  },
  {
   "cell_type": "code",
   "execution_count": null,
   "id": "01874e08",
   "metadata": {},
   "outputs": [],
   "source": [
    "string_value1='apple'\n",
    "int(string_value1)       # error\n",
    "float(string_value1)     # error\n",
    "bool(string_value1)      # True\n",
    "complex(string_value1)   # error"
   ]
  },
  {
   "cell_type": "code",
   "execution_count": null,
   "id": "d7b2e039",
   "metadata": {},
   "outputs": [],
   "source": [
    "string_value2='10.5'   # base type float === representation in quotes === finally\n",
    "int(string_value2)     # error\n",
    "float(string_value2)   # 10.5\n",
    "bool(string_value2)    # True\n",
    "complex(string_value2) # 10.5+0j"
   ]
  },
  {
   "cell_type": "code",
   "execution_count": 11,
   "id": "f24bf9bc",
   "metadata": {},
   "outputs": [
    {
     "ename": "ValueError",
     "evalue": "invalid literal for int() with base 10: '10.5'",
     "output_type": "error",
     "traceback": [
      "\u001b[1;31m---------------------------------------------------------------------------\u001b[0m",
      "\u001b[1;31mValueError\u001b[0m                                Traceback (most recent call last)",
      "Cell \u001b[1;32mIn[11], line 2\u001b[0m\n\u001b[0;32m      1\u001b[0m string_value2\u001b[38;5;241m=\u001b[39m\u001b[38;5;124m'\u001b[39m\u001b[38;5;124m10.5\u001b[39m\u001b[38;5;124m'\u001b[39m     \u001b[38;5;66;03m# base type is float ====== represents in quotes\u001b[39;00m\n\u001b[1;32m----> 2\u001b[0m \u001b[38;5;28mint\u001b[39m(string_value2)\n",
      "\u001b[1;31mValueError\u001b[0m: invalid literal for int() with base 10: '10.5'"
     ]
    }
   ],
   "source": [
    "string_value2='10.5'     # base type is float ====== represents in quotes\n",
    "int(string_value2)"
   ]
  },
  {
   "cell_type": "code",
   "execution_count": 12,
   "id": "f2899bf4",
   "metadata": {},
   "outputs": [
    {
     "data": {
      "text/plain": [
       "10.5"
      ]
     },
     "execution_count": 12,
     "metadata": {},
     "output_type": "execute_result"
    }
   ],
   "source": [
    "string_value2='10.5'     # base type float ===== represents in quotes\n",
    "float(string_value2)"
   ]
  },
  {
   "cell_type": "code",
   "execution_count": 13,
   "id": "42d6c121",
   "metadata": {},
   "outputs": [
    {
     "ename": "ValueError",
     "evalue": "invalid literal for int() with base 10: '10.5'",
     "output_type": "error",
     "traceback": [
      "\u001b[1;31m---------------------------------------------------------------------------\u001b[0m",
      "\u001b[1;31mValueError\u001b[0m                                Traceback (most recent call last)",
      "Cell \u001b[1;32mIn[13], line 1\u001b[0m\n\u001b[1;32m----> 1\u001b[0m \u001b[38;5;28mint\u001b[39m(\u001b[38;5;124m'\u001b[39m\u001b[38;5;124m10.5\u001b[39m\u001b[38;5;124m'\u001b[39m)\n",
      "\u001b[1;31mValueError\u001b[0m: invalid literal for int() with base 10: '10.5'"
     ]
    }
   ],
   "source": [
    "int('10.5')"
   ]
  },
  {
   "cell_type": "code",
   "execution_count": 14,
   "id": "9a921983",
   "metadata": {},
   "outputs": [
    {
     "data": {
      "text/plain": [
       "(10.5+0j)"
      ]
     },
     "execution_count": 14,
     "metadata": {},
     "output_type": "execute_result"
    }
   ],
   "source": [
    "string_value2='10.5'    # base type float ======= represents in quotes ====== finally\n",
    "complex(string_value2)"
   ]
  },
  {
   "cell_type": "code",
   "execution_count": 15,
   "id": "318dd216",
   "metadata": {},
   "outputs": [
    {
     "data": {
      "text/plain": [
       "(10.5+0j)"
      ]
     },
     "execution_count": 15,
     "metadata": {},
     "output_type": "execute_result"
    }
   ],
   "source": [
    "complex(10.5)\n",
    "complex('10.5')"
   ]
  },
  {
   "cell_type": "code",
   "execution_count": 16,
   "id": "b6caa146",
   "metadata": {},
   "outputs": [
    {
     "data": {
      "text/plain": [
       "10.5"
      ]
     },
     "execution_count": 16,
     "metadata": {},
     "output_type": "execute_result"
    }
   ],
   "source": [
    "float(10.5)"
   ]
  },
  {
   "cell_type": "code",
   "execution_count": 17,
   "id": "326a3297",
   "metadata": {},
   "outputs": [
    {
     "data": {
      "text/plain": [
       "10.5"
      ]
     },
     "execution_count": 17,
     "metadata": {},
     "output_type": "execute_result"
    }
   ],
   "source": [
    "float('10.5')"
   ]
  },
  {
   "cell_type": "code",
   "execution_count": 18,
   "id": "7cd502d3",
   "metadata": {},
   "outputs": [
    {
     "data": {
      "text/plain": [
       "10"
      ]
     },
     "execution_count": 18,
     "metadata": {},
     "output_type": "execute_result"
    }
   ],
   "source": [
    "int(10.5)"
   ]
  },
  {
   "cell_type": "code",
   "execution_count": 19,
   "id": "3ae43db9",
   "metadata": {},
   "outputs": [
    {
     "ename": "ValueError",
     "evalue": "invalid literal for int() with base 10: '10.5'",
     "output_type": "error",
     "traceback": [
      "\u001b[1;31m---------------------------------------------------------------------------\u001b[0m",
      "\u001b[1;31mValueError\u001b[0m                                Traceback (most recent call last)",
      "Cell \u001b[1;32mIn[19], line 1\u001b[0m\n\u001b[1;32m----> 1\u001b[0m \u001b[38;5;28mint\u001b[39m(\u001b[38;5;124m'\u001b[39m\u001b[38;5;124m10.5\u001b[39m\u001b[38;5;124m'\u001b[39m)\n",
      "\u001b[1;31mValueError\u001b[0m: invalid literal for int() with base 10: '10.5'"
     ]
    }
   ],
   "source": [
    "int('10.5')"
   ]
  },
  {
   "cell_type": "code",
   "execution_count": 20,
   "id": "cc787f73",
   "metadata": {},
   "outputs": [
    {
     "data": {
      "text/plain": [
       "10"
      ]
     },
     "execution_count": 20,
     "metadata": {},
     "output_type": "execute_result"
    }
   ],
   "source": [
    "string_value2='10' \n",
    "int(string_value2)        # 10\n",
    "float(string_value2)      # 10.0\n",
    "bool(string_value2)       # True\n",
    "complex(string_value2)    # 10+0j"
   ]
  },
  {
   "cell_type": "code",
   "execution_count": 22,
   "id": "212d2a7a",
   "metadata": {},
   "outputs": [
    {
     "data": {
      "text/plain": [
       "10.0"
      ]
     },
     "execution_count": 22,
     "metadata": {},
     "output_type": "execute_result"
    }
   ],
   "source": [
    "float('10')     # works\n",
    "int('10.5')    # fails"
   ]
  },
  {
   "cell_type": "code",
   "execution_count": 23,
   "id": "c6ef8e68",
   "metadata": {},
   "outputs": [
    {
     "data": {
      "text/plain": [
       "10"
      ]
     },
     "execution_count": 23,
     "metadata": {},
     "output_type": "execute_result"
    }
   ],
   "source": [
    "string1='10.5'       # 10\n",
    "n1=float(string1)    # '10.5' ===== 10.5\n",
    "n2=int(n1)           # 10.5 ======= 10\n",
    "n2"
   ]
  },
  {
   "cell_type": "markdown",
   "id": "4caab6a5",
   "metadata": {},
   "source": [
    "# Boolean conversion\n"
   ]
  },
  {
   "cell_type": "code",
   "execution_count": null,
   "id": "2908471e",
   "metadata": {},
   "outputs": [],
   "source": [
    "val1=True\n",
    "int(val1)\n",
    "float(val1)\n",
    "str(val1)\n",
    "complex(val1)"
   ]
  },
  {
   "cell_type": "code",
   "execution_count": 25,
   "id": "e355767d",
   "metadata": {},
   "outputs": [
    {
     "data": {
      "text/plain": [
       "0"
      ]
     },
     "execution_count": 25,
     "metadata": {},
     "output_type": "execute_result"
    }
   ],
   "source": [
    "int(False)"
   ]
  },
  {
   "cell_type": "code",
   "execution_count": 26,
   "id": "2c1bba87",
   "metadata": {},
   "outputs": [
    {
     "data": {
      "text/plain": [
       "1"
      ]
     },
     "execution_count": 26,
     "metadata": {},
     "output_type": "execute_result"
    }
   ],
   "source": [
    "int(True)"
   ]
  },
  {
   "cell_type": "code",
   "execution_count": 16,
   "id": "66915187",
   "metadata": {},
   "outputs": [
    {
     "data": {
      "text/plain": [
       "1"
      ]
     },
     "execution_count": 16,
     "metadata": {},
     "output_type": "execute_result"
    }
   ],
   "source": [
    "val1=True\n",
    "int(val1)"
   ]
  },
  {
   "cell_type": "code",
   "execution_count": 17,
   "id": "82d486bd",
   "metadata": {},
   "outputs": [
    {
     "data": {
      "text/plain": [
       "1.0"
      ]
     },
     "execution_count": 17,
     "metadata": {},
     "output_type": "execute_result"
    }
   ],
   "source": [
    "float(val1)"
   ]
  },
  {
   "cell_type": "code",
   "execution_count": 18,
   "id": "b319dce5",
   "metadata": {},
   "outputs": [
    {
     "data": {
      "text/plain": [
       "'True'"
      ]
     },
     "execution_count": 18,
     "metadata": {},
     "output_type": "execute_result"
    }
   ],
   "source": [
    "str(val1)"
   ]
  },
  {
   "cell_type": "code",
   "execution_count": 19,
   "id": "ef49e586",
   "metadata": {},
   "outputs": [
    {
     "data": {
      "text/plain": [
       "(1+0j)"
      ]
     },
     "execution_count": 19,
     "metadata": {},
     "output_type": "execute_result"
    }
   ],
   "source": [
    "complex(val1)"
   ]
  },
  {
   "cell_type": "code",
   "execution_count": 20,
   "id": "ab4a34e5",
   "metadata": {},
   "outputs": [
    {
     "ename": "TypeError",
     "evalue": "int() argument must be a string, a bytes-like object or a real number, not 'complex'",
     "output_type": "error",
     "traceback": [
      "\u001b[1;31m---------------------------------------------------------------------------\u001b[0m",
      "\u001b[1;31mTypeError\u001b[0m                                 Traceback (most recent call last)",
      "Cell \u001b[1;32mIn[20], line 2\u001b[0m\n\u001b[0;32m      1\u001b[0m val2\u001b[38;5;241m=\u001b[39m\u001b[38;5;241m100\u001b[39m\u001b[38;5;241m+\u001b[39m\u001b[38;5;241m200\u001b[39mj\n\u001b[1;32m----> 2\u001b[0m \u001b[38;5;28mint\u001b[39m(val2)\n",
      "\u001b[1;31mTypeError\u001b[0m: int() argument must be a string, a bytes-like object or a real number, not 'complex'"
     ]
    }
   ],
   "source": [
    "val2=100+200j\n",
    "int(val2)"
   ]
  },
  {
   "cell_type": "code",
   "execution_count": 21,
   "id": "b1e90a76",
   "metadata": {},
   "outputs": [
    {
     "ename": "TypeError",
     "evalue": "float() argument must be a string or a real number, not 'complex'",
     "output_type": "error",
     "traceback": [
      "\u001b[1;31m---------------------------------------------------------------------------\u001b[0m",
      "\u001b[1;31mTypeError\u001b[0m                                 Traceback (most recent call last)",
      "Cell \u001b[1;32mIn[21], line 1\u001b[0m\n\u001b[1;32m----> 1\u001b[0m \u001b[38;5;28mfloat\u001b[39m(val2)\n",
      "\u001b[1;31mTypeError\u001b[0m: float() argument must be a string or a real number, not 'complex'"
     ]
    }
   ],
   "source": [
    "float(val2)"
   ]
  },
  {
   "cell_type": "code",
   "execution_count": 22,
   "id": "cc6e0d82",
   "metadata": {},
   "outputs": [
    {
     "data": {
      "text/plain": [
       "'(100+200j)'"
      ]
     },
     "execution_count": 22,
     "metadata": {},
     "output_type": "execute_result"
    }
   ],
   "source": [
    "str(val2)"
   ]
  },
  {
   "cell_type": "code",
   "execution_count": 23,
   "id": "07afdf2e",
   "metadata": {},
   "outputs": [
    {
     "data": {
      "text/plain": [
       "True"
      ]
     },
     "execution_count": 23,
     "metadata": {},
     "output_type": "execute_result"
    }
   ],
   "source": [
    "bool(val2)"
   ]
  },
  {
   "cell_type": "code",
   "execution_count": 24,
   "id": "c97f6d73",
   "metadata": {},
   "outputs": [
    {
     "ename": "TypeError",
     "evalue": "int() argument must be a string, a bytes-like object or a real number, not 'complex'",
     "output_type": "error",
     "traceback": [
      "\u001b[1;31m---------------------------------------------------------------------------\u001b[0m",
      "\u001b[1;31mTypeError\u001b[0m                                 Traceback (most recent call last)",
      "Cell \u001b[1;32mIn[24], line 2\u001b[0m\n\u001b[0;32m      1\u001b[0m val3\u001b[38;5;241m=\u001b[39m\u001b[38;5;241m100\u001b[39m\u001b[38;5;241m+\u001b[39m\u001b[38;5;241m0\u001b[39mj\n\u001b[1;32m----> 2\u001b[0m \u001b[38;5;28mint\u001b[39m(val3)\n",
      "\u001b[1;31mTypeError\u001b[0m: int() argument must be a string, a bytes-like object or a real number, not 'complex'"
     ]
    }
   ],
   "source": [
    "val3=100+0j\n",
    "int(val3)"
   ]
  },
  {
   "cell_type": "code",
   "execution_count": 25,
   "id": "6fd04704",
   "metadata": {},
   "outputs": [
    {
     "ename": "TypeError",
     "evalue": "float() argument must be a string or a real number, not 'complex'",
     "output_type": "error",
     "traceback": [
      "\u001b[1;31m---------------------------------------------------------------------------\u001b[0m",
      "\u001b[1;31mTypeError\u001b[0m                                 Traceback (most recent call last)",
      "Cell \u001b[1;32mIn[25], line 1\u001b[0m\n\u001b[1;32m----> 1\u001b[0m \u001b[38;5;28mfloat\u001b[39m(val3)\n",
      "\u001b[1;31mTypeError\u001b[0m: float() argument must be a string or a real number, not 'complex'"
     ]
    }
   ],
   "source": [
    "float(val3)"
   ]
  },
  {
   "cell_type": "code",
   "execution_count": 26,
   "id": "acb567da",
   "metadata": {},
   "outputs": [
    {
     "data": {
      "text/plain": [
       "'(100+0j)'"
      ]
     },
     "execution_count": 26,
     "metadata": {},
     "output_type": "execute_result"
    }
   ],
   "source": [
    "str(val3)"
   ]
  },
  {
   "cell_type": "code",
   "execution_count": 27,
   "id": "42c96d04",
   "metadata": {},
   "outputs": [
    {
     "data": {
      "text/plain": [
       "True"
      ]
     },
     "execution_count": 27,
     "metadata": {},
     "output_type": "execute_result"
    }
   ],
   "source": [
    "bool(val3)"
   ]
  },
  {
   "cell_type": "markdown",
   "id": "526f3160",
   "metadata": {},
   "source": [
    "#  complex to other"
   ]
  },
  {
   "cell_type": "code",
   "execution_count": null,
   "id": "faf4779f",
   "metadata": {},
   "outputs": [],
   "source": [
    "val2=100+200j\n",
    "int(val2)     # error  complex(100) = 100+0j\n",
    "float(val2)   # error\n",
    "str(val2)     # '100+200j'\n",
    "bool(val2)    # True"
   ]
  },
  {
   "cell_type": "code",
   "execution_count": null,
   "id": "1bb9afae",
   "metadata": {},
   "outputs": [],
   "source": [
    "val2=100+0j\n",
    "int(val2)     # error complex(100) = 1000+0j\n",
    "float(val2)   # error\n",
    "str(val2)     # '100+200j'\n",
    "bool(val2)    # True"
   ]
  },
  {
   "cell_type": "code",
   "execution_count": 27,
   "id": "6ffbee88",
   "metadata": {},
   "outputs": [
    {
     "ename": "TypeError",
     "evalue": "int() argument must be a string, a bytes-like object or a real number, not 'complex'",
     "output_type": "error",
     "traceback": [
      "\u001b[1;31m---------------------------------------------------------------------------\u001b[0m",
      "\u001b[1;31mTypeError\u001b[0m                                 Traceback (most recent call last)",
      "Cell \u001b[1;32mIn[27], line 1\u001b[0m\n\u001b[1;32m----> 1\u001b[0m \u001b[38;5;28mint\u001b[39m(\u001b[38;5;241m100\u001b[39m\u001b[38;5;241m+\u001b[39m\u001b[38;5;241m200\u001b[39mj)\n",
      "\u001b[1;31mTypeError\u001b[0m: int() argument must be a string, a bytes-like object or a real number, not 'complex'"
     ]
    }
   ],
   "source": [
    "int(100+200j)"
   ]
  },
  {
   "cell_type": "code",
   "execution_count": 28,
   "id": "c7b0a27c",
   "metadata": {},
   "outputs": [
    {
     "ename": "TypeError",
     "evalue": "int() argument must be a string, a bytes-like object or a real number, not 'complex'",
     "output_type": "error",
     "traceback": [
      "\u001b[1;31m---------------------------------------------------------------------------\u001b[0m",
      "\u001b[1;31mTypeError\u001b[0m                                 Traceback (most recent call last)",
      "Cell \u001b[1;32mIn[28], line 1\u001b[0m\n\u001b[1;32m----> 1\u001b[0m \u001b[38;5;28mint\u001b[39m(\u001b[38;5;241m100\u001b[39m\u001b[38;5;241m+\u001b[39m\u001b[38;5;241m0\u001b[39mj)\n",
      "\u001b[1;31mTypeError\u001b[0m: int() argument must be a string, a bytes-like object or a real number, not 'complex'"
     ]
    }
   ],
   "source": [
    "int(100+0j)"
   ]
  },
  {
   "cell_type": "code",
   "execution_count": 29,
   "id": "63342e2f",
   "metadata": {},
   "outputs": [
    {
     "data": {
      "text/plain": [
       "False"
      ]
     },
     "execution_count": 29,
     "metadata": {},
     "output_type": "execute_result"
    }
   ],
   "source": [
    "bool(0j)"
   ]
  },
  {
   "cell_type": "code",
   "execution_count": null,
   "id": "79737946",
   "metadata": {},
   "outputs": [],
   "source": [
    "bool('apple')"
   ]
  },
  {
   "cell_type": "code",
   "execution_count": 30,
   "id": "0b430100",
   "metadata": {},
   "outputs": [
    {
     "data": {
      "text/plain": [
       "'True'"
      ]
     },
     "execution_count": 30,
     "metadata": {},
     "output_type": "execute_result"
    }
   ],
   "source": [
    "str(True)"
   ]
  },
  {
   "cell_type": "code",
   "execution_count": null,
   "id": "a822171f",
   "metadata": {},
   "outputs": [],
   "source": []
  }
 ],
 "metadata": {
  "kernelspec": {
   "display_name": "Python 3 (ipykernel)",
   "language": "python",
   "name": "python3"
  },
  "language_info": {
   "codemirror_mode": {
    "name": "ipython",
    "version": 3
   },
   "file_extension": ".py",
   "mimetype": "text/x-python",
   "name": "python",
   "nbconvert_exporter": "python",
   "pygments_lexer": "ipython3",
   "version": "3.11.5"
  }
 },
 "nbformat": 4,
 "nbformat_minor": 5
}
