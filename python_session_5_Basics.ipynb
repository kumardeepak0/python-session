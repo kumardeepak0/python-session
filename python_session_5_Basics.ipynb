{
 "cells": [
  {
   "cell_type": "code",
   "execution_count": 1,
   "id": "b9213e05",
   "metadata": {},
   "outputs": [
    {
     "data": {
      "text/plain": [
       "200"
      ]
     },
     "execution_count": 1,
     "metadata": {},
     "output_type": "execute_result"
    }
   ],
   "source": [
    "number1=100\n",
    "number2=200\n",
    "number1   # 100 is not coming\n",
    "number2   # 200 is latest so it is comeing"
   ]
  },
  {
   "cell_type": "code",
   "execution_count": null,
   "id": "4177bde4",
   "metadata": {},
   "outputs": [],
   "source": [
    "# in order to if you want to see both answer\n",
    "# print"
   ]
  },
  {
   "cell_type": "code",
   "execution_count": 2,
   "id": "c26bc6b2",
   "metadata": {},
   "outputs": [
    {
     "name": "stdout",
     "output_type": "stream",
     "text": [
      "100\n",
      "200\n"
     ]
    }
   ],
   "source": [
    "number1=100 # 100 is saved in a variable number1\n",
    "number2=200 # 200 is saved in a varible number2\n",
    "print(number1) # print the value number1=100\n",
    "print(number2) # print the value number2 = 200"
   ]
  },
  {
   "cell_type": "code",
   "execution_count": 3,
   "id": "b65326c5",
   "metadata": {},
   "outputs": [
    {
     "name": "stdout",
     "output_type": "stream",
     "text": [
      "hello\n",
      "how\n",
      "are\n",
      "you\n"
     ]
    },
    {
     "ename": "NameError",
     "evalue": "name 'hello' is not defined",
     "output_type": "error",
     "traceback": [
      "\u001b[1;31m---------------------------------------------------------------------------\u001b[0m",
      "\u001b[1;31mNameError\u001b[0m                                 Traceback (most recent call last)",
      "Cell \u001b[1;32mIn[3], line 5\u001b[0m\n\u001b[0;32m      3\u001b[0m \u001b[38;5;28mprint\u001b[39m(\u001b[38;5;124m'\u001b[39m\u001b[38;5;124mare\u001b[39m\u001b[38;5;124m'\u001b[39m)     \u001b[38;5;66;03m# step-3: are\u001b[39;00m\n\u001b[0;32m      4\u001b[0m \u001b[38;5;28mprint\u001b[39m(\u001b[38;5;124m'\u001b[39m\u001b[38;5;124myou\u001b[39m\u001b[38;5;124m'\u001b[39m)     \u001b[38;5;66;03m# step-4: you\u001b[39;00m\n\u001b[1;32m----> 5\u001b[0m \u001b[38;5;28mprint\u001b[39m(hello)\n",
      "\u001b[1;31mNameError\u001b[0m: name 'hello' is not defined"
     ]
    }
   ],
   "source": [
    "print('hello')   # step-1: hello\n",
    "print('how')     # step-2: how\n",
    "print('are')     # step-3: are\n",
    "print('you')     # step-4: you\n",
    "print(hello)# step-5: hello is variable ,  is hello initialize above\n",
    "\n",
    "# python is step by step process\n",
    "# Nmae error: name hello not defined"
   ]
  },
  {
   "cell_type": "code",
   "execution_count": null,
   "id": "7986c6d6",
   "metadata": {},
   "outputs": [],
   "source": [
    "# you written 500 lines of codes\n",
    "# you got error at 200 lines\n",
    "# after 200 lines, 201 to 500 will not execute"
   ]
  },
  {
   "cell_type": "code",
   "execution_count": 4,
   "id": "1e18339c",
   "metadata": {},
   "outputs": [
    {
     "name": "stdout",
     "output_type": "stream",
     "text": [
      "100 200\n"
     ]
    }
   ],
   "source": [
    "print(number1,number2)"
   ]
  },
  {
   "cell_type": "code",
   "execution_count": 5,
   "id": "105ee4fd",
   "metadata": {},
   "outputs": [
    {
     "name": "stdout",
     "output_type": "stream",
     "text": [
      "100\n",
      "200\n"
     ]
    }
   ],
   "source": [
    "print(number1)\n",
    "print(number2)"
   ]
  },
  {
   "cell_type": "code",
   "execution_count": 6,
   "id": "19d802d9",
   "metadata": {},
   "outputs": [
    {
     "name": "stdout",
     "output_type": "stream",
     "text": [
      "100\n",
      "--------\n",
      "200\n",
      "********\n"
     ]
    }
   ],
   "source": [
    "print(number1)\n",
    "print('--------')\n",
    "print(number2)\n",
    "print('********')"
   ]
  },
  {
   "cell_type": "code",
   "execution_count": 7,
   "id": "293b55fd",
   "metadata": {},
   "outputs": [
    {
     "name": "stdout",
     "output_type": "stream",
     "text": [
      "hii how are you\n",
      " hii how are you\n"
     ]
    }
   ],
   "source": [
    "print('hii', 'how', 'are', 'you')\n",
    "print(' hii how are you')"
   ]
  },
  {
   "cell_type": "markdown",
   "id": "4ea1c92e",
   "metadata": {},
   "source": [
    "**joining multiples print statement**"
   ]
  },
  {
   "cell_type": "code",
   "execution_count": 1,
   "id": "1334ab48",
   "metadata": {},
   "outputs": [
    {
     "name": "stdout",
     "output_type": "stream",
     "text": [
      "hai how\n"
     ]
    }
   ],
   "source": [
    "print('hai' , 'how')"
   ]
  },
  {
   "cell_type": "markdown",
   "id": "ebb3f113",
   "metadata": {},
   "source": [
    "$end$"
   ]
  },
  {
   "cell_type": "code",
   "execution_count": 8,
   "id": "b23017bc",
   "metadata": {},
   "outputs": [
    {
     "name": "stdout",
     "output_type": "stream",
     "text": [
      "hii how\n"
     ]
    }
   ],
   "source": [
    "print('hii', end=' ')\n",
    "print('how')"
   ]
  },
  {
   "cell_type": "code",
   "execution_count": 10,
   "id": "e8969de2",
   "metadata": {},
   "outputs": [
    {
     "name": "stdout",
     "output_type": "stream",
     "text": [
      "hiii------>how\n"
     ]
    }
   ],
   "source": [
    "print('hiii', end='------>')\n",
    "print('how')"
   ]
  },
  {
   "cell_type": "code",
   "execution_count": 12,
   "id": "9fd9dd28",
   "metadata": {},
   "outputs": [
    {
     "name": "stdout",
     "output_type": "stream",
     "text": [
      "hiii and how\n"
     ]
    }
   ],
   "source": [
    "print('hiii',end=' and ')\n",
    "print('how')"
   ]
  },
  {
   "cell_type": "code",
   "execution_count": 14,
   "id": "0c229b14",
   "metadata": {},
   "outputs": [
    {
     "name": "stdout",
     "output_type": "stream",
     "text": [
      "1 2 3\n"
     ]
    }
   ],
   "source": [
    "print('1', end=(' '))\n",
    "print('2', end=(' '))\n",
    "print('3')"
   ]
  },
  {
   "cell_type": "code",
   "execution_count": 15,
   "id": "d3abbcfb",
   "metadata": {},
   "outputs": [
    {
     "name": "stdout",
     "output_type": "stream",
     "text": [
      "the addition of number1 and number2 is 600\n"
     ]
    }
   ],
   "source": [
    "number1=200\n",
    "number2=400\n",
    "add=number1+number2\n",
    "print(\"the addition of number1 and number2 is\", add)"
   ]
  },
  {
   "cell_type": "code",
   "execution_count": 1,
   "id": "94403b5a",
   "metadata": {},
   "outputs": [
    {
     "name": "stdout",
     "output_type": "stream",
     "text": [
      "60\n"
     ]
    }
   ],
   "source": [
    "num1=20\n",
    "num2=40\n",
    "add=num1+num2\n",
    "print(add)"
   ]
  },
  {
   "cell_type": "code",
   "execution_count": 2,
   "id": "22269f6f",
   "metadata": {},
   "outputs": [
    {
     "name": "stdout",
     "output_type": "stream",
     "text": [
      "the addition of number1 and number2 is 600\n"
     ]
    }
   ],
   "source": [
    "number1=200\n",
    "number2=400\n",
    "add=number1+number2\n",
    "print(\"the addition of number1 and number2 is\", add)"
   ]
  },
  {
   "cell_type": "code",
   "execution_count": null,
   "id": "fb6137c9",
   "metadata": {},
   "outputs": [],
   "source": [
    "# the addition of 200 and 400 is 600"
   ]
  },
  {
   "cell_type": "code",
   "execution_count": null,
   "id": "42c22bcb",
   "metadata": {},
   "outputs": [],
   "source": []
  },
  {
   "cell_type": "code",
   "execution_count": null,
   "id": "c091741c",
   "metadata": {},
   "outputs": [],
   "source": []
  }
 ],
 "metadata": {
  "kernelspec": {
   "display_name": "Python 3 (ipykernel)",
   "language": "python",
   "name": "python3"
  },
  "language_info": {
   "codemirror_mode": {
    "name": "ipython",
    "version": 3
   },
   "file_extension": ".py",
   "mimetype": "text/x-python",
   "name": "python",
   "nbconvert_exporter": "python",
   "pygments_lexer": "ipython3",
   "version": "3.11.5"
  }
 },
 "nbformat": 4,
 "nbformat_minor": 5
}
