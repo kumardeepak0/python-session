{
 "cells": [
  {
   "cell_type": "code",
   "execution_count": null,
   "id": "784732f4",
   "metadata": {},
   "outputs": [],
   "source": [
    "# WAP ask the user enter distance in km\n",
    "# if distance is more than 10km : print charge is 100rs\n",
    "# if distance is between 7 to 10 :print charge is 70rs\n",
    "# if distance is between 4 to 7 km:print charge is 40rs\n",
    "# otherwise print charge is 30rs"
   ]
  },
  {
   "cell_type": "code",
   "execution_count": 4,
   "id": "e5fbc1a5",
   "metadata": {},
   "outputs": [
    {
     "name": "stdout",
     "output_type": "stream",
     "text": [
      "Enter the distance in km :11\n",
      "The charge is 100rs\n"
     ]
    }
   ],
   "source": [
    "try:\n",
    "    distance=eval(input(\"Enter the distance in km :\"))  #input('10') string\n",
    "    if distance>=10:\n",
    "        print(\"The charge is 100rs\")\n",
    "    elif distance>= 7 :\n",
    "        print(\"The charge is 70rs\")\n",
    "    elif distance>= 4 :\n",
    "        print(\"The charge is 40rs\")\n",
    "    else:\n",
    "        print(\"The charge is 30rs\")\n",
    "        \n",
    "except Exception as error:\n",
    "    print(error)"
   ]
  },
  {
   "cell_type": "code",
   "execution_count": 5,
   "id": "81d9f6c8",
   "metadata": {},
   "outputs": [],
   "source": [
    "#WAP ask the user enter salary \n",
    "# if salary > 10lac : enter the user tax percentage :10 percent\n",
    "# print: the amount of tax pays\n",
    "# if salary between 7 laks to 10 laks\n",
    "# enter the user tax percentage:5%\n",
    "# print the amount of tax pays\n",
    "# if salary is between 4 to 7laks\n",
    "#enter the user tax percentage:2.5%\n",
    "# print the amount of tax paid\n",
    "# otherwise: print(\"No tax required\")"
   ]
  },
  {
   "cell_type": "code",
   "execution_count": 13,
   "id": "168cf4c8",
   "metadata": {},
   "outputs": [
    {
     "name": "stdout",
     "output_type": "stream",
     "text": [
      "Enter the salary of the user:1100000\n",
      " Enter tax percentage:10\n",
      "The tax amount paid by user is 110000.0\n"
     ]
    }
   ],
   "source": [
    "try:\n",
    "    salary=eval(input(\"Enter the salary of the user:\"))\n",
    "    if salary>=1000000:\n",
    "        tax_percent=eval(input(\" Enter tax percentage:\"))\n",
    "        tax_paid=(salary*tax_percent)/100\n",
    "        print(\"The tax amount paid by user is {}\".format(tax_paid))\n",
    "    elif salary>=700000:\n",
    "        tax_percent1=eval(input(\"Enter tax percent:\"))\n",
    "        tax_paid1=(salary*tax_percent1)/100\n",
    "        print(\"The tax amount paid by user is {}\".format(tax_paid1))\n",
    "    elif salary>=400000 :\n",
    "        tax_percent2=eval(input(\"enter the tax percent:\"))\n",
    "        tax_paid2=(salary*tax_percent2)/100\n",
    "        print(\"The tax amount paid by user is {}\".format(tax_paid2))\n",
    "    else:\n",
    "        print(\"No tax required\")\n",
    "        \n",
    "except Exception as error:\n",
    "    print(error)"
   ]
  },
  {
   "cell_type": "code",
   "execution_count": null,
   "id": "589f9d74",
   "metadata": {},
   "outputs": [],
   "source": [
    "# WAP ask the user enter which operation you need to perform\n",
    "#                            operation are : addition/mul/sub/div\n",
    "#ask the user enter a number1\n",
    "# ask the user enter a number2\n",
    "# if operation equal to addition\n",
    "#               print(\"we are doin addition operation\")\n",
    "#               print the operation of number1 and number2 is"
   ]
  },
  {
   "cell_type": "code",
   "execution_count": 16,
   "id": "f369e943",
   "metadata": {},
   "outputs": [
    {
     "name": "stdout",
     "output_type": "stream",
     "text": [
      "Enter the operation:add\n",
      "Enter the value of number1:40\n",
      "Enter the value of number2:50\n",
      "We are doing addition operation\n",
      "The addition of 40 and 50 is 90\n"
     ]
    }
   ],
   "source": [
    "try:\n",
    "    operation=input(\"Enter the operation:\")\n",
    "    number1=eval(input(\"Enter the value of number1:\"))\n",
    "    number2=eval(input(\"Enter the value of number2:\"))\n",
    "    if operation=='add':\n",
    "        print(\"We are doing addition operation\")\n",
    "        add=number1+number2\n",
    "        print(\"The addition of {} and {} is {}\".format(number1,number2,add))\n",
    "    elif operation=='mul':\n",
    "        print(\"We are doing multiplication operation\")\n",
    "        mul=number1*number2\n",
    "        print(\"The multiplication of {} and {} is {}\".format(number1,number2,mul))\n",
    "    elif operation=='sub':\n",
    "         print(\"We are doing substraction operation\")\n",
    "         sub=number1-number2   \n",
    "         print(\"The substraction {} and {} is {}\".format(number1,number2,sub))\n",
    "    elif operation=='div':\n",
    "        print(\"We are doing division\")\n",
    "        div=number1/number2\n",
    "        print(\"The division of {} and {} is {}\".format(number1,number2.div))\n",
    "    else:\n",
    "        print(\"provide suitable operation\")\n",
    "except Exception as error:\n",
    "    print(error)    \n"
   ]
  },
  {
   "cell_type": "code",
   "execution_count": 18,
   "id": "5d059328",
   "metadata": {},
   "outputs": [
    {
     "name": "stdout",
     "output_type": "stream",
     "text": [
      "Enter the operation:sub\n",
      "Enter the value of number1:60\n",
      "Enter the value of number2:50\n",
      "We are doing substraction operation\n",
      "The substraction 60 and 50 is 10\n"
     ]
    }
   ],
   "source": [
    "try:\n",
    "    operation=input(\"Enter the operation:\")\n",
    "    number1=eval(input(\"Enter the value of number1:\"))\n",
    "    number2=eval(input(\"Enter the value of number2:\"))\n",
    "    if operation=='add':\n",
    "        print(\"We are doing addition operation\")\n",
    "        add=number1+number2\n",
    "        print(\"The addition of {} and {} is {}\".format(number1,number2,add))\n",
    "    elif operation=='mul':\n",
    "        print(\"We are doing multiplication operation\")\n",
    "        mul=number1*number2\n",
    "        print(\"The multiplication of {} and {} is {}\".format(number1,number2,mul))\n",
    "    elif operation=='sub':\n",
    "         print(\"We are doing substraction operation\")\n",
    "         sub=number1-number2   \n",
    "         print(\"The substraction {} and {} is {}\".format(number1,number2,sub))\n",
    "    elif operation=='div':\n",
    "        print(\"We are doing division\")\n",
    "        div=number1/number2\n",
    "        print(\"The division of {} and {} is {}\".format(number1,number2.div))\n",
    "    else:\n",
    "        print(\"provide suitable operation\")\n",
    "except Exception as error:\n",
    "    print(error)    \n"
   ]
  },
  {
   "cell_type": "code",
   "execution_count": 19,
   "id": "85edeffa",
   "metadata": {},
   "outputs": [
    {
     "name": "stdout",
     "output_type": "stream",
     "text": [
      "Enter the operation:mul\n",
      "Enter the value of number1:90\n",
      "Enter the value of number2:70\n",
      "We are doing multiplication operation\n",
      "The multiplication of 90 and 70 is 6300\n"
     ]
    }
   ],
   "source": [
    "try:\n",
    "    operation=input(\"Enter the operation:\")\n",
    "    number1=eval(input(\"Enter the value of number1:\"))\n",
    "    number2=eval(input(\"Enter the value of number2:\"))\n",
    "    if operation=='add':\n",
    "        print(\"We are doing addition operation\")\n",
    "        add=number1+number2\n",
    "        print(\"The addition of {} and {} is {}\".format(number1,number2,add))\n",
    "    elif operation=='mul':\n",
    "        print(\"We are doing multiplication operation\")\n",
    "        mul=number1*number2\n",
    "        print(\"The multiplication of {} and {} is {}\".format(number1,number2,mul))\n",
    "    elif operation=='sub':\n",
    "         print(\"We are doing substraction operation\")\n",
    "         sub=number1-number2   \n",
    "         print(\"The substraction {} and {} is {}\".format(number1,number2,sub))\n",
    "    elif operation=='div':\n",
    "        print(\"We are doing division\")\n",
    "        div=number1/number2\n",
    "        print(\"The division of {} and {} is {}\".format(number1,number2.div))\n",
    "    else:\n",
    "        print(\"provide suitable operation\")\n",
    "except Exception as error:\n",
    "    print(error)    \n"
   ]
  },
  {
   "cell_type": "code",
   "execution_count": 24,
   "id": "2a45c59f",
   "metadata": {},
   "outputs": [
    {
     "name": "stdout",
     "output_type": "stream",
     "text": [
      "Enter the operation:div\n",
      "Enter the value of number1:70\n",
      "Enter the value of number2:5\n",
      "We are doing division\n",
      "The division of 70 and 5 is 14.0\n"
     ]
    }
   ],
   "source": [
    "try:\n",
    "    operation=input(\"Enter the operation:\")\n",
    "    number1=eval(input(\"Enter the value of number1:\"))\n",
    "    number2=eval(input(\"Enter the value of number2:\"))\n",
    "    if operation=='add':\n",
    "        print(\"We are doing addition operation\")\n",
    "        add=number1+number2\n",
    "        print(\"The addition of {} and {} is {}\".format(number1,number2,add))\n",
    "    elif operation=='mul':\n",
    "        print(\"We are doing multiplication operation\")\n",
    "        mul=number1*number2\n",
    "        print(\"The multiplication of {} and {} is {}\".format(number1,number2,mul))\n",
    "    elif operation=='sub':\n",
    "         print(\"We are doing substraction operation\")\n",
    "         sub=number1-number2   \n",
    "         print(\"The substraction {} and {} is {}\".format(number1,number2,sub))\n",
    "    elif operation=='div':\n",
    "        print(\"We are doing division\")\n",
    "        div=number1/number2\n",
    "        print(\"The division of {} and {} is {}\".format(number1,number2,div))\n",
    "    else:\n",
    "        print(\"provide suitable operation\")\n",
    "except Exception as error:\n",
    "    print(error)    \n"
   ]
  },
  {
   "cell_type": "markdown",
   "id": "a9f0af14",
   "metadata": {},
   "source": [
    "# Nested if else"
   ]
  },
  {
   "cell_type": "code",
   "execution_count": null,
   "id": "18160d80",
   "metadata": {},
   "outputs": [],
   "source": [
    "# wap ask the user enter a number\n",
    "# if the number greater than zero:\n",
    "#                if number==0:\n",
    "#                     print('it is a zero number')\n",
    "#                else:\n",
    "#                    print('it is a pos number')\n",
    "# else:\n",
    "#    print('It is a negative number')"
   ]
  },
  {
   "cell_type": "code",
   "execution_count": 26,
   "id": "330c614e",
   "metadata": {},
   "outputs": [
    {
     "name": "stdout",
     "output_type": "stream",
     "text": [
      "Enter a number:0\n",
      "it is zero number\n"
     ]
    }
   ],
   "source": [
    "try:\n",
    "    numb=eval(input(\"Enter a number:\"))\n",
    "    if numb>=0:\n",
    "        if numb==0:\n",
    "            print(\"it is zero number\")\n",
    "        else:\n",
    "            print(\"it is positive\")\n",
    "    else:\n",
    "        print(\"it is a negative number\")\n",
    "        \n",
    "except Exception as error:\n",
    "    print(error)"
   ]
  },
  {
   "cell_type": "code",
   "execution_count": null,
   "id": "0e57d2aa",
   "metadata": {},
   "outputs": [],
   "source": [
    "# WAP ask the user enter gender either male or female\n",
    "# if gender=male\n",
    "# ask the user enter age\n",
    "# if age>60:print(cs)\n",
    "# if age between 30 to 60:print(middle aged man)\n",
    "# is age between 20 to 30:print(young boy)\n",
    "# if age between 13 to 20:print(teenage boy)\n",
    "# otherwise print('boy')\n",
    "\n",
    "# else\n",
    "# ask the user enter age\n",
    "# if age>60:print(cs)\n",
    "# if age between 30 to 60:print(middle aged woman)\n",
    "# is age between 20 to 30:print(young girl)\n",
    "# if age between 13 to 20:print(teenage girl)\n",
    "# otherwise print('girl')"
   ]
  },
  {
   "cell_type": "code",
   "execution_count": 44,
   "id": "ec2dff1a",
   "metadata": {},
   "outputs": [
    {
     "name": "stdout",
     "output_type": "stream",
     "text": [
      "Enter the gendermale\n",
      "Enyter the age:50\n",
      "middle aged man\n"
     ]
    }
   ],
   "source": [
    "try:\n",
    "    gender=input(\"Enter the gender\")\n",
    "    if gender=='male':\n",
    "        age=eval(input(\"Enyter the age:\"))\n",
    "        if age>=60:\n",
    "            print(\"senior citizen\")\n",
    "        elif age>=30:\n",
    "             print(\"middle aged man\")\n",
    "        elif age>=20:\n",
    "            print(\"young boy\")\n",
    "        elif age>=13:\n",
    "            print(\"teenage boy\")\n",
    "        else:\n",
    "            print(\"boy\")\n",
    "    else:\n",
    "        age=eval(input(\"Enter the age:\"))\n",
    "        if age>=60:\n",
    "            print(\"senior citizen\")\n",
    "        elif age>=30:\n",
    "             print(\"middle aged women\")\n",
    "        elif age>=20:\n",
    "            print(\"young girl\")\n",
    "        elif age>=13:\n",
    "            print(\"teenage girl\")\n",
    "        else:\n",
    "            print(\"girl\")\n",
    "        \n",
    "except Exception as error:\n",
    "    print(error)\n",
    "        \n",
    "        "
   ]
  },
  {
   "cell_type": "code",
   "execution_count": 45,
   "id": "2d50ca49",
   "metadata": {},
   "outputs": [
    {
     "name": "stdout",
     "output_type": "stream",
     "text": [
      "Enter the genderfemale\n",
      "Enter the age:89\n",
      "senior citizen\n"
     ]
    }
   ],
   "source": [
    "try:\n",
    "    gender=input(\"Enter the gender\")\n",
    "    if gender=='male':\n",
    "        age=eval(input(\"Enyter the age:\"))\n",
    "        if age>=60:\n",
    "            print(\"senior citizen\")\n",
    "        elif age>=30:\n",
    "             print(\"middle aged man\")\n",
    "        elif age>=20:\n",
    "            print(\"young boy\")\n",
    "        elif age>=13:\n",
    "            print(\"teenage boy\")\n",
    "        else:\n",
    "            print(\"boy\")\n",
    "    else:\n",
    "        age=eval(input(\"Enter the age:\"))\n",
    "        if age>=60:\n",
    "            print(\"senior citizen\")\n",
    "        elif age>=30:\n",
    "             print(\"middle aged women\")\n",
    "        elif age>=20:\n",
    "            print(\"young girl\")\n",
    "        elif age>=13:\n",
    "            print(\"teenage girl\")\n",
    "        else:\n",
    "            print(\"girl\")\n",
    "        \n",
    "except Exception as error:\n",
    "    print(error)"
   ]
  },
  {
   "cell_type": "code",
   "execution_count": null,
   "id": "ca699640",
   "metadata": {},
   "outputs": [],
   "source": []
  }
 ],
 "metadata": {
  "kernelspec": {
   "display_name": "Python 3 (ipykernel)",
   "language": "python",
   "name": "python3"
  },
  "language_info": {
   "codemirror_mode": {
    "name": "ipython",
    "version": 3
   },
   "file_extension": ".py",
   "mimetype": "text/x-python",
   "name": "python",
   "nbconvert_exporter": "python",
   "pygments_lexer": "ipython3",
   "version": "3.11.5"
  }
 },
 "nbformat": 4,
 "nbformat_minor": 5
}
