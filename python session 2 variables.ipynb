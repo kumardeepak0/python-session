{
 "cells": [
  {
   "cell_type": "code",
   "execution_count": 1,
   "id": "7e63ad08",
   "metadata": {},
   "outputs": [
    {
     "data": {
      "text/plain": [
       "100"
      ]
     },
     "execution_count": 1,
     "metadata": {},
     "output_type": "execute_result"
    }
   ],
   "source": [
    "number=100 #100 values is stored in variables called number\n",
    "number    #so here number is a variables"
   ]
  },
  {
   "cell_type": "code",
   "execution_count": 2,
   "id": "c9408cb6",
   "metadata": {},
   "outputs": [
    {
     "data": {
      "text/plain": [
       "200"
      ]
     },
     "execution_count": 2,
     "metadata": {},
     "output_type": "execute_result"
    }
   ],
   "source": [
    "number=200\n",
    "number"
   ]
  },
  {
   "cell_type": "code",
   "execution_count": null,
   "id": "3a0ab50b",
   "metadata": {},
   "outputs": [],
   "source": [
    "#so here first number has 100\n",
    "#second number has 200\n",
    "#number is changing its value\n",
    "#thats why we are calling number as variables"
   ]
  },
  {
   "cell_type": "markdown",
   "id": "b15b90cc",
   "metadata": {},
   "source": [
    "#Rules to define number"
   ]
  },
  {
   "cell_type": "markdown",
   "id": "0f79fe33",
   "metadata": {},
   "source": [
    "# Rules to define variable"
   ]
  },
  {
   "cell_type": "code",
   "execution_count": 4,
   "id": "64ddea9f",
   "metadata": {},
   "outputs": [
    {
     "ename": "SyntaxError",
     "evalue": "invalid syntax (392393844.py, line 2)",
     "output_type": "error",
     "traceback": [
      "\u001b[1;36m  Cell \u001b[1;32mIn[4], line 2\u001b[1;36m\u001b[0m\n\u001b[1;33m    if=500\u001b[0m\n\u001b[1;37m      ^\u001b[0m\n\u001b[1;31mSyntaxError\u001b[0m\u001b[1;31m:\u001b[0m invalid syntax\n"
     ]
    }
   ],
   "source": [
    "#keyword\n",
    "if=500\n",
    "if"
   ]
  },
  {
   "cell_type": "code",
   "execution_count": 5,
   "id": "405cf641",
   "metadata": {},
   "outputs": [
    {
     "data": {
      "text/plain": [
       "700"
      ]
     },
     "execution_count": 5,
     "metadata": {},
     "output_type": "execute_result"
    }
   ],
   "source": [
    "sum=700 #sum is math operation so it is work\n",
    "sum"
   ]
  },
  {
   "cell_type": "code",
   "execution_count": null,
   "id": "b2c8719a",
   "metadata": {},
   "outputs": [],
   "source": [
    "**Note**\n",
    "sum is a math operation it will works\n",
    "but do not use as variable"
   ]
  },
  {
   "cell_type": "code",
   "execution_count": 6,
   "id": "bfe9248c",
   "metadata": {},
   "outputs": [
    {
     "ename": "SyntaxError",
     "evalue": "invalid syntax (2519038587.py, line 2)",
     "output_type": "error",
     "traceback": [
      "\u001b[1;36m  Cell \u001b[1;32mIn[6], line 2\u001b[1;36m\u001b[0m\n\u001b[1;33m    number one=700\u001b[0m\n\u001b[1;37m           ^\u001b[0m\n\u001b[1;31mSyntaxError\u001b[0m\u001b[1;31m:\u001b[0m invalid syntax\n"
     ]
    }
   ],
   "source": [
    "#spaces will not allowed\n",
    "number one=700\n",
    "number one\n"
   ]
  },
  {
   "cell_type": "code",
   "execution_count": 7,
   "id": "c73f6296",
   "metadata": {},
   "outputs": [
    {
     "data": {
      "text/plain": [
       "700"
      ]
     },
     "execution_count": 7,
     "metadata": {},
     "output_type": "execute_result"
    }
   ],
   "source": [
    "number_one=700\n",
    "number_one"
   ]
  },
  {
   "cell_type": "code",
   "execution_count": 8,
   "id": "249aa95d",
   "metadata": {},
   "outputs": [
    {
     "data": {
      "text/plain": [
       "900"
      ]
     },
     "execution_count": 8,
     "metadata": {},
     "output_type": "execute_result"
    }
   ],
   "source": [
    "_=900\n",
    "_"
   ]
  },
  {
   "cell_type": "code",
   "execution_count": null,
   "id": "b133f24a",
   "metadata": {},
   "outputs": [],
   "source": [
    "#########Basics########\n",
    "1)Basics syntax\n",
    "2)variables\n",
    "3)python package information\n",
    "4)Basic python code\n",
    "5)conditional statement\n",
    "6)function\n",
    "7)Loop\n",
    "######Level2#####\n",
    "1)string\n",
    "2)List\n",
    "3)dictionary\n",
    "4)tuples=======write up\n",
    "5)sets\n",
    "6)file handling session\n",
    "######Level3######\n",
    "1)oops concept in python\n",
    "2)how to create your own package\n",
    "3)FLASK APPS"
   ]
  },
  {
   "cell_type": "markdown",
   "id": "d76f4100",
   "metadata": {},
   "source": [
    "# variable"
   ]
  },
  {
   "cell_type": "markdown",
   "id": "41805043",
   "metadata": {},
   "source": [
    "- variable term vary\n",
    "- you want to save values at some place , that place is called variable\n",
    "- variable and constant"
   ]
  },
  {
   "cell_type": "markdown",
   "id": "1e38c64f",
   "metadata": {},
   "source": [
    "# rules to define variable"
   ]
  },
  {
   "cell_type": "code",
   "execution_count": 1,
   "id": "787a16ce",
   "metadata": {},
   "outputs": [
    {
     "data": {
      "text/plain": [
       "400"
      ]
     },
     "execution_count": 1,
     "metadata": {},
     "output_type": "execute_result"
    }
   ],
   "source": [
    "# upper case\n",
    "NUMBER=400\n",
    "NUMBER"
   ]
  },
  {
   "cell_type": "code",
   "execution_count": 2,
   "id": "81ac60c6",
   "metadata": {},
   "outputs": [
    {
     "data": {
      "text/plain": [
       "200"
      ]
     },
     "execution_count": 2,
     "metadata": {},
     "output_type": "execute_result"
    }
   ],
   "source": [
    "#lower case\n",
    "number=200\n",
    "number"
   ]
  },
  {
   "cell_type": "code",
   "execution_count": 3,
   "id": "ddbc5128",
   "metadata": {},
   "outputs": [
    {
     "data": {
      "text/plain": [
       "500"
      ]
     },
     "execution_count": 3,
     "metadata": {},
     "output_type": "execute_result"
    }
   ],
   "source": [
    "#combination of upper case and lower case\n",
    "NUMber=500\n",
    "NUMber"
   ]
  },
  {
   "cell_type": "code",
   "execution_count": 4,
   "id": "d2a6ad7f",
   "metadata": {},
   "outputs": [
    {
     "data": {
      "text/plain": [
       "600"
      ]
     },
     "execution_count": 4,
     "metadata": {},
     "output_type": "execute_result"
    }
   ],
   "source": [
    "#combination of letters and numbers , number as suffix\n",
    "number123=600\n",
    "number123"
   ]
  },
  {
   "cell_type": "code",
   "execution_count": 5,
   "id": "cd2c651f",
   "metadata": {},
   "outputs": [
    {
     "ename": "SyntaxError",
     "evalue": "invalid decimal literal (2670673286.py, line 2)",
     "output_type": "error",
     "traceback": [
      "\u001b[1;36m  Cell \u001b[1;32mIn[5], line 2\u001b[1;36m\u001b[0m\n\u001b[1;33m    123number=900\u001b[0m\n\u001b[1;37m      ^\u001b[0m\n\u001b[1;31mSyntaxError\u001b[0m\u001b[1;31m:\u001b[0m invalid decimal literal\n"
     ]
    }
   ],
   "source": [
    "#combination of letters and numbers , number as a prefix\n",
    "123number=900\n",
    "123number"
   ]
  },
  {
   "cell_type": "code",
   "execution_count": 6,
   "id": "95230862",
   "metadata": {},
   "outputs": [
    {
     "ename": "SyntaxError",
     "evalue": "invalid syntax (677205930.py, line 3)",
     "output_type": "error",
     "traceback": [
      "\u001b[1;36m  Cell \u001b[1;32mIn[6], line 3\u001b[1;36m\u001b[0m\n\u001b[1;33m    number%\u001b[0m\n\u001b[1;37m           ^\u001b[0m\n\u001b[1;31mSyntaxError\u001b[0m\u001b[1;31m:\u001b[0m invalid syntax\n"
     ]
    }
   ],
   "source": [
    "# spl characters\n",
    "number%=800\n",
    "number%"
   ]
  },
  {
   "cell_type": "code",
   "execution_count": 7,
   "id": "0d66e3fa",
   "metadata": {},
   "outputs": [
    {
     "data": {
      "text/plain": [
       "120"
      ]
     },
     "execution_count": 7,
     "metadata": {},
     "output_type": "execute_result"
    }
   ],
   "source": [
    "#underscore\n",
    "number_=120\n",
    "number_"
   ]
  },
  {
   "cell_type": "code",
   "execution_count": 8,
   "id": "f8586dec",
   "metadata": {},
   "outputs": [
    {
     "ename": "SyntaxError",
     "evalue": "invalid syntax (2060768203.py, line 2)",
     "output_type": "error",
     "traceback": [
      "\u001b[1;36m  Cell \u001b[1;32mIn[8], line 2\u001b[1;36m\u001b[0m\n\u001b[1;33m    if=800\u001b[0m\n\u001b[1;37m      ^\u001b[0m\n\u001b[1;31mSyntaxError\u001b[0m\u001b[1;31m:\u001b[0m invalid syntax\n"
     ]
    }
   ],
   "source": [
    "# keywords\n",
    "if=800\n",
    "if"
   ]
  },
  {
   "cell_type": "code",
   "execution_count": 9,
   "id": "e517e545",
   "metadata": {},
   "outputs": [
    {
     "data": {
      "text/plain": [
       "700"
      ]
     },
     "execution_count": 9,
     "metadata": {},
     "output_type": "execute_result"
    }
   ],
   "source": [
    "sum=700\n",
    "sum"
   ]
  },
  {
   "cell_type": "markdown",
   "id": "470533b9",
   "metadata": {},
   "source": [
    "# note\n",
    "- sum is a math operation it will work\n",
    "- but do not us as variable"
   ]
  },
  {
   "cell_type": "code",
   "execution_count": 10,
   "id": "31cf54e0",
   "metadata": {},
   "outputs": [
    {
     "ename": "SyntaxError",
     "evalue": "invalid syntax (2710073271.py, line 2)",
     "output_type": "error",
     "traceback": [
      "\u001b[1;36m  Cell \u001b[1;32mIn[10], line 2\u001b[1;36m\u001b[0m\n\u001b[1;33m    number one=900\u001b[0m\n\u001b[1;37m           ^\u001b[0m\n\u001b[1;31mSyntaxError\u001b[0m\u001b[1;31m:\u001b[0m invalid syntax\n"
     ]
    }
   ],
   "source": [
    "# spaces will not be allowed\n",
    "number one=900\n",
    "number one"
   ]
  },
  {
   "cell_type": "code",
   "execution_count": 11,
   "id": "29b8a628",
   "metadata": {},
   "outputs": [
    {
     "data": {
      "text/plain": [
       "900"
      ]
     },
     "execution_count": 11,
     "metadata": {},
     "output_type": "execute_result"
    }
   ],
   "source": [
    "number_one=900\n",
    "number_one"
   ]
  },
  {
   "cell_type": "code",
   "execution_count": 12,
   "id": "ab47b889",
   "metadata": {},
   "outputs": [
    {
     "data": {
      "text/plain": [
       "900"
      ]
     },
     "execution_count": 12,
     "metadata": {},
     "output_type": "execute_result"
    }
   ],
   "source": [
    "_=900\n",
    "_"
   ]
  },
  {
   "cell_type": "code",
   "execution_count": null,
   "id": "a1320238",
   "metadata": {},
   "outputs": [],
   "source": []
  },
  {
   "cell_type": "code",
   "execution_count": null,
   "id": "6f3a8b25",
   "metadata": {},
   "outputs": [],
   "source": []
  },
  {
   "cell_type": "code",
   "execution_count": null,
   "id": "8ae7caa3",
   "metadata": {},
   "outputs": [],
   "source": []
  }
 ],
 "metadata": {
  "kernelspec": {
   "display_name": "Python 3 (ipykernel)",
   "language": "python",
   "name": "python3"
  },
  "language_info": {
   "codemirror_mode": {
    "name": "ipython",
    "version": 3
   },
   "file_extension": ".py",
   "mimetype": "text/x-python",
   "name": "python",
   "nbconvert_exporter": "python",
   "pygments_lexer": "ipython3",
   "version": "3.11.5"
  }
 },
 "nbformat": 4,
 "nbformat_minor": 5
}
