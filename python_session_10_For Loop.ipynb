{
 "cells": [
  {
   "cell_type": "markdown",
   "id": "f48f9f03",
   "metadata": {},
   "source": [
    "- Basic syntax\n",
    "- conditional statements\n",
    "- try-exception\n",
    "- function\n",
    "- loop\n",
    "   - for \n",
    "    - while"
   ]
  },
  {
   "cell_type": "markdown",
   "id": "8e86524c",
   "metadata": {},
   "source": [
    "**For Loop**"
   ]
  },
  {
   "cell_type": "markdown",
   "id": "ae0c885f",
   "metadata": {},
   "source": [
    "- you will be in the loop\n",
    "- when you will enter into the loop\n",
    "- how much time you will stay in the loop\n",
    "- how you will come out of the from the loop"
   ]
  },
  {
   "cell_type": "markdown",
   "id": "3f23bbda",
   "metadata": {},
   "source": [
    "- Intilization\n",
    "\n",
    "- increament/decrement\n",
    "\n",
    "- condition to stop the loop"
   ]
  },
  {
   "cell_type": "code",
   "execution_count": null,
   "id": "749c6319",
   "metadata": {},
   "outputs": [],
   "source": [
    "# I want to print first 10 numbers\n",
    "# initial point:0\n",
    "# increment\n",
    "# con=10\n"
   ]
  },
  {
   "cell_type": "code",
   "execution_count": null,
   "id": "4a32749a",
   "metadata": {},
   "outputs": [],
   "source": [
    "i=0\n",
    "i=1\n",
    "i=2\n",
    "i=3\n",
    "i=4"
   ]
  },
  {
   "cell_type": "markdown",
   "id": "7d38a2c9",
   "metadata": {},
   "source": [
    "$ pattern-1$"
   ]
  },
  {
   "cell_type": "markdown",
   "id": "ae2d4a8d",
   "metadata": {},
   "source": [
    "for i in range(stop):\n",
    "- in the bracket if we have only single value that is consider as stop value\n",
    "- the default start value is =0\n",
    "- python index always start with :0\n",
    "- if direction sign is not mentioned:increment(+)sign\n",
    "- if direction is positive side then end=stop-1    "
   ]
  },
  {
   "cell_type": "code",
   "execution_count": 1,
   "id": "d5f1d3a2",
   "metadata": {},
   "outputs": [
    {
     "name": "stdout",
     "output_type": "stream",
     "text": [
      "0\n",
      "1\n",
      "2\n",
      "3\n",
      "4\n",
      "5\n",
      "6\n",
      "7\n",
      "8\n",
      "9\n"
     ]
    }
   ],
   "source": [
    "for i in range (10):\n",
    "    print(i)\n",
    "# start=0\n",
    "# direction=+\n",
    "# end=stop-1=10-1=9"
   ]
  },
  {
   "cell_type": "code",
   "execution_count": 3,
   "id": "e4644976",
   "metadata": {},
   "outputs": [
    {
     "name": "stdout",
     "output_type": "stream",
     "text": [
      "0\n",
      "1\n",
      "2\n",
      "3\n",
      "4\n",
      "5\n",
      "6\n",
      "7\n",
      "8\n",
      "9\n",
      "10\n",
      "11\n",
      "12\n",
      "13\n",
      "14\n",
      "15\n",
      "16\n",
      "17\n",
      "18\n",
      "19\n"
     ]
    }
   ],
   "source": [
    "for i in range (20):\n",
    "    print(i)\n",
    "# start=0\n",
    "# direction=+\n",
    "# end=stop-1=20-1=19    "
   ]
  },
  {
   "cell_type": "code",
   "execution_count": null,
   "id": "8c02fdbe",
   "metadata": {},
   "outputs": [],
   "source": [
    "print(i)"
   ]
  },
  {
   "cell_type": "code",
   "execution_count": 3,
   "id": "f774c3fd",
   "metadata": {},
   "outputs": [
    {
     "name": "stdout",
     "output_type": "stream",
     "text": [
      "0\n",
      "1\n",
      "2\n"
     ]
    }
   ],
   "source": [
    "print(0)\n",
    "print(1)\n",
    "print(2)\n",
    "\n",
    "# generalized :print(i)"
   ]
  },
  {
   "cell_type": "code",
   "execution_count": null,
   "id": "800f1081",
   "metadata": {},
   "outputs": [],
   "source": [
    "- initial\n",
    "- increament/decreament\n",
    "- condition"
   ]
  },
  {
   "cell_type": "code",
   "execution_count": 4,
   "id": "894f8939",
   "metadata": {},
   "outputs": [
    {
     "name": "stdout",
     "output_type": "stream",
     "text": [
      "0 1 2\n"
     ]
    }
   ],
   "source": [
    "print(0,end=' ')\n",
    "print(1,end=' ')\n",
    "print(2)\n"
   ]
  },
  {
   "cell_type": "code",
   "execution_count": 6,
   "id": "d8c34758",
   "metadata": {},
   "outputs": [
    {
     "name": "stdout",
     "output_type": "stream",
     "text": [
      "0 1 2 3 4 5 6 7 8 9 10 11 12 13 14 15 16 17 18 19 "
     ]
    }
   ],
   "source": [
    "for i in range(20):\n",
    "    print(i,end=' ')"
   ]
  },
  {
   "cell_type": "markdown",
   "id": "cb379071",
   "metadata": {},
   "source": [
    "$pattern-2$\n",
    "- for i in range (start,stop)\n",
    "- start:start of the loop ,initial\n",
    "- direction sign not mentioned :+ ve direction i.e. increment\n",
    "- end=stop-1    "
   ]
  },
  {
   "cell_type": "code",
   "execution_count": 7,
   "id": "368a39f3",
   "metadata": {},
   "outputs": [
    {
     "name": "stdout",
     "output_type": "stream",
     "text": [
      "10 11 12 13 14 15 16 17 18 19 "
     ]
    }
   ],
   "source": [
    "for i in range(10,20):\n",
    "    print(i,end=\" \")\n",
    "# start=10   pos  end=20-1=19    "
   ]
  },
  {
   "cell_type": "markdown",
   "id": "42fe9fb3",
   "metadata": {},
   "source": [
    "$pattern-3$\n",
    "- for i in range (start,stop,step)\n",
    "- start:start of the loop ,initial point\n",
    "- direction: what is sign of step value, that is the direction\n",
    "            - direction will not decide by start and stop value\n",
    "            - direction will provided by step value\n",
    "- if step size is positive direction\n",
    "        - end=stop-1\n",
    "- if step size is negative direction\n",
    "       - end=stop+1"
   ]
  },
  {
   "cell_type": "code",
   "execution_count": 10,
   "id": "97bfd920",
   "metadata": {},
   "outputs": [
    {
     "name": "stdout",
     "output_type": "stream",
     "text": [
      "2 4 6 8 10 12 14 16 18 "
     ]
    }
   ],
   "source": [
    "for i in range  (2,20,2):   # (start,stop,step)\n",
    "    print(i,end=' ')\n",
    "    \n",
    "# start-2\n",
    "# direction: step size==2\n",
    "# end=stop-1=20-1=19"
   ]
  },
  {
   "cell_type": "code",
   "execution_count": 4,
   "id": "20d63e2e",
   "metadata": {},
   "outputs": [
    {
     "name": "stdout",
     "output_type": "stream",
     "text": [
      "-1 -2 -3 -4 -5 -6 -7 -8 -9 "
     ]
    }
   ],
   "source": [
    "for i in range  (-1,-10,-1):   # (start,stop,step)\n",
    "    print(i,end=' ')\n",
    "#   start=-1\n",
    "#   direction: step=-1   negative\n",
    "#   end=stop+1  = -10+1=-9\n",
    "# is this possible or not?"
   ]
  },
  {
   "cell_type": "code",
   "execution_count": 5,
   "id": "71d1c5f5",
   "metadata": {},
   "outputs": [],
   "source": [
    "for i in range  (-1,-10,1):   # (start,stop,step)\n",
    "    print(i,end=' ')\n",
    "#   start=-1\n",
    "#   direction: step=-1   negative\n",
    "#   end=stop+1  = -10-1=-11\n",
    "# is this possible or not?       ### not possible"
   ]
  },
  {
   "cell_type": "code",
   "execution_count": 6,
   "id": "52c14125",
   "metadata": {},
   "outputs": [],
   "source": [
    "for i in range (8,20,-2):\n",
    "    print(i)\n",
    "# start=8\n",
    "# direc=step=-2\n",
    "# end =stop+1=20+1     ### not possible"
   ]
  },
  {
   "cell_type": "code",
   "execution_count": null,
   "id": "c2ecf44d",
   "metadata": {},
   "outputs": [],
   "source": [
    "range(3,25,2)    # possible\n",
    "range(3,25,-3)   # not possible\n",
    "range(3,-25,3)   # not possible\n",
    "range(3,-25,-3)  # possible\n",
    "range(-3,25,3)   # possible\n",
    "range(-3,-25,3)  # not possible\n",
    "range(-3,25,-3)  # not possible\n",
    "range(-3,-25,-3) # possible"
   ]
  },
  {
   "cell_type": "code",
   "execution_count": 8,
   "id": "1199a866",
   "metadata": {},
   "outputs": [
    {
     "name": "stdout",
     "output_type": "stream",
     "text": [
      "3 0 -3 -6 -9 -12 -15 -18 -21 -24 "
     ]
    }
   ],
   "source": [
    "for i in range(3,-25,-3):\n",
    "    print(i,end=' ')"
   ]
  },
  {
   "cell_type": "code",
   "execution_count": 2,
   "id": "031fe168",
   "metadata": {},
   "outputs": [
    {
     "name": "stdout",
     "output_type": "stream",
     "text": [
      "hello\n",
      "hello\n",
      "hello\n"
     ]
    }
   ],
   "source": [
    "#WAP print hello three times\n",
    "for i in range(1,4):\n",
    "    print(\"hello\")\n",
    "    \n",
    "    "
   ]
  },
  {
   "cell_type": "code",
   "execution_count": 3,
   "id": "2db1d860",
   "metadata": {},
   "outputs": [
    {
     "name": "stdout",
     "output_type": "stream",
     "text": [
      "0\n",
      "1\n",
      "2\n"
     ]
    }
   ],
   "source": [
    "#mfirst setup the loop\n",
    "for i in range (3):\n",
    "    print(i)"
   ]
  },
  {
   "cell_type": "code",
   "execution_count": 4,
   "id": "4879b45b",
   "metadata": {},
   "outputs": [
    {
     "name": "stdout",
     "output_type": "stream",
     "text": [
      "hello\n",
      "hello\n",
      "hello\n"
     ]
    }
   ],
   "source": [
    "#WAP print hello three times\n",
    "for i in range(3):\n",
    "    print(\"hello\")"
   ]
  },
  {
   "cell_type": "code",
   "execution_count": 5,
   "id": "ce4d89eb",
   "metadata": {},
   "outputs": [
    {
     "name": "stdout",
     "output_type": "stream",
     "text": [
      "hii\n",
      "hello\n",
      "hello\n",
      "hello\n",
      "how do you do\n"
     ]
    }
   ],
   "source": [
    "print('hii')\n",
    "for i in range(3):\n",
    "    print('hello')\n",
    "print('how do you do')    "
   ]
  },
  {
   "cell_type": "code",
   "execution_count": 9,
   "id": "23d608a9",
   "metadata": {},
   "outputs": [
    {
     "name": "stdout",
     "output_type": "stream",
     "text": [
      "A\n",
      "A\n",
      "B\n",
      "B\n",
      "C\n",
      "C\n",
      "C\n"
     ]
    }
   ],
   "source": [
    "# A\n",
    "# A\n",
    "# B\n",
    "# B\n",
    "# C\n",
    "# C\n",
    "# C\n",
    "for i in range(2):\n",
    "    print(\"A\")\n",
    "for i in range(2):\n",
    "    print(\"B\")\n",
    "for i in range(3):\n",
    "    print(\"C\")"
   ]
  },
  {
   "cell_type": "code",
   "execution_count": 10,
   "id": "29ca73b7",
   "metadata": {},
   "outputs": [
    {
     "name": "stdout",
     "output_type": "stream",
     "text": [
      "A\n",
      "B\n",
      "A\n",
      "B\n",
      "A\n",
      "B\n",
      "C\n",
      "C\n",
      "C\n"
     ]
    }
   ],
   "source": [
    "# A\n",
    "# B\n",
    "# A\n",
    "# B\n",
    "# A\n",
    "# B\n",
    "# C\n",
    "# C\n",
    "# C\n",
    "for i in range(3):\n",
    "    print(\"A\")\n",
    "    print(\"B\")\n",
    "for i in range(3):\n",
    "    print(\"C\")\n",
    "\n",
    "\n",
    "\n"
   ]
  },
  {
   "cell_type": "code",
   "execution_count": 13,
   "id": "d5acbd36",
   "metadata": {},
   "outputs": [
    {
     "name": "stdout",
     "output_type": "stream",
     "text": [
      "the square  of 10 is 100\n",
      "the square  of 11 is 121\n",
      "the square  of 12 is 144\n",
      "the square  of 13 is 169\n",
      "the square  of 14 is 196\n",
      "the square  of 15 is 225\n"
     ]
    }
   ],
   "source": [
    "# WAP ask the user get the square of the number between 10 to fifteen\n",
    "# square of 10 is 100\n",
    "# square of 11 is 121\n",
    "# square of 12 is 144\n",
    "\n",
    "for i in range (10,16):\n",
    "    square=i*i\n",
    "    print('the square  of {} is {}'.format(i,square))\n"
   ]
  },
  {
   "cell_type": "code",
   "execution_count": 14,
   "id": "9a9c9845",
   "metadata": {},
   "outputs": [
    {
     "name": "stdout",
     "output_type": "stream",
     "text": [
      "enter the number 1:10\n",
      "Enter the number 2:16\n",
      "the square  of 10 is 100\n",
      "the square  of 11 is 121\n",
      "the square  of 12 is 144\n",
      "the square  of 13 is 169\n",
      "the square  of 14 is 196\n",
      "the square  of 15 is 225\n"
     ]
    }
   ],
   "source": [
    "# the same above question\n",
    "# take the numbers from the keyboards\n",
    "# num1=eval(input()) 10\n",
    "# num2=eval(input()) 16\n",
    "# replace 10,16 in for loop with variables num1,num2\n",
    "\n",
    "num1=eval(input(\"enter the number 1:\"))\n",
    "num2=eval(input(\"Enter the number 2:\"))\n",
    "for i in range (num1,num2):\n",
    "    square=i*i\n",
    "    print('the square  of {} is {}'.format(i,square))"
   ]
  },
  {
   "cell_type": "code",
   "execution_count": 9,
   "id": "265dc31b",
   "metadata": {},
   "outputs": [
    {
     "name": "stdout",
     "output_type": "stream",
     "text": [
      "Enter the start number:10\n",
      "Enter the stop number:16\n",
      "The square of 10 is 100\n",
      "The square of 11 is 121\n",
      "The square of 12 is 144\n",
      "The square of 13 is 169\n",
      "The square of 14 is 196\n",
      "The square of 15 is 225\n"
     ]
    }
   ],
   "source": [
    "# num1=eval(input(\"Enter the start number:\"))\n",
    "# num2=eval(input(\"Enter the stop number:\"))\n",
    "for i in range(eval(input(\"Enter the start number:\")),\n",
    "              eval(input(\"Enter the stop number:\"))):\n",
    "    print(\"The square of {} is {}\".format(i,i*i))\n"
   ]
  },
  {
   "cell_type": "code",
   "execution_count": 10,
   "id": "5e9721a4",
   "metadata": {},
   "outputs": [
    {
     "name": "stdout",
     "output_type": "stream",
     "text": [
      "The square of 10 is 100\n",
      "The square of 11 is 121\n",
      "The square of 12 is 144\n",
      "The square of 13 is 169\n",
      "The square of 14 is 196\n",
      "The square of 15 is 225\n"
     ]
    }
   ],
   "source": [
    "num1=10\n",
    "num2=16\n",
    "for i in range(num1,num2):\n",
    "    print(\"The square of {} is {}\".format(i,i*i))"
   ]
  },
  {
   "cell_type": "code",
   "execution_count": 12,
   "id": "eff7289c",
   "metadata": {},
   "outputs": [
    {
     "name": "stdout",
     "output_type": "stream",
     "text": [
      "enter the number 1:10\n",
      "Enter the number 2:16\n",
      "the square  of 10 is 100\n",
      "the square  of 11 is 121\n",
      "the square  of 12 is 144\n",
      "the square  of 13 is 169\n",
      "the square  of 14 is 196\n",
      "the square  of 15 is 225\n"
     ]
    }
   ],
   "source": [
    "# function with out argument\n",
    "\n",
    "def square():\n",
    "    num1=eval(input(\"enter the number 1:\"))\n",
    "    num2=eval(input(\"Enter the number 2:\"))\n",
    "    for i in range (num1,num2):\n",
    "        square=i*i\n",
    "        print('the square  of {} is {}'.format(i,square))\n",
    "square()        "
   ]
  },
  {
   "cell_type": "code",
   "execution_count": 16,
   "id": "ecaf0432",
   "metadata": {},
   "outputs": [
    {
     "name": "stdout",
     "output_type": "stream",
     "text": [
      "the square  of 10 is 100\n",
      "the square  of 11 is 121\n",
      "the square  of 12 is 144\n",
      "the square  of 13 is 169\n",
      "the square  of 14 is 196\n",
      "the square  of 15 is 225\n"
     ]
    }
   ],
   "source": [
    "def square():\n",
    "    num1=10\n",
    "    num2=16\n",
    "    for i in range (num1,num2):\n",
    "        square=i*i\n",
    "        print('the square  of {} is {}'.format(i,square))\n",
    "square()        "
   ]
  },
  {
   "cell_type": "code",
   "execution_count": 18,
   "id": "e983cbd8",
   "metadata": {},
   "outputs": [
    {
     "name": "stdout",
     "output_type": "stream",
     "text": [
      "the square  of 10 is 100\n",
      "the square  of 11 is 121\n",
      "the square  of 12 is 144\n",
      "the square  of 13 is 169\n",
      "the square  of 14 is 196\n",
      "the square  of 15 is 225\n"
     ]
    }
   ],
   "source": [
    "# Function with Argument:\n",
    "\n",
    "def square(num1,num2):\n",
    "    for i in range (num1,num2):\n",
    "        square=i*i\n",
    "        print('the square  of {} is {}'.format(i,square))\n",
    "square(10,16)        "
   ]
  },
  {
   "cell_type": "code",
   "execution_count": 1,
   "id": "12cc4ba1",
   "metadata": {},
   "outputs": [
    {
     "name": "stdout",
     "output_type": "stream",
     "text": [
      "enter the number :4\n",
      "the square  of 4 is 16\n",
      "enter the number :5\n",
      "the square  of 5 is 25\n",
      "enter the number :6\n",
      "the square  of 6 is 36\n",
      "enter the number :7\n",
      "the square  of 7 is 49\n",
      "enter the number :8\n",
      "the square  of 8 is 64\n"
     ]
    }
   ],
   "source": [
    "# WAP ask the user to print the square of the five number \n",
    "# and these five number u need to ask user everytime\n",
    "for num1 in range(5):\n",
    "    num1=eval(input(\"enter the number :\"))\n",
    "    square=num1*num1\n",
    "    print('the square  of {} is {}'.format(num1,square))\n"
   ]
  },
  {
   "cell_type": "code",
   "execution_count": 13,
   "id": "5a26d061",
   "metadata": {},
   "outputs": [
    {
     "name": "stdout",
     "output_type": "stream",
     "text": [
      "The square of 0 is 0\n",
      "The square of 1 is 1\n",
      "The square of 2 is 4\n",
      "The square of 3 is 9\n",
      "The square of 4 is 16\n"
     ]
    }
   ],
   "source": [
    "for i in range(5):\n",
    "    print(\"The square of {} is {}\".format(i,i*i))"
   ]
  },
  {
   "cell_type": "code",
   "execution_count": 1,
   "id": "d8111451",
   "metadata": {},
   "outputs": [
    {
     "name": "stdout",
     "output_type": "stream",
     "text": [
      "Enter the number:5\n",
      "The square of 5 is 25\n",
      "The square of 5 is 25\n",
      "The square of 5 is 25\n",
      "The square of 5 is 25\n",
      "The square of 5 is 25\n",
      "enter a nmber:6\n",
      "The square of 6 is 36\n",
      "enter a nmber:7\n",
      "The square of 7 is 49\n",
      "enter a nmber:8\n",
      "The square of 8 is 64\n",
      "enter a nmber:9\n",
      "The square of 9 is 81\n",
      "enter a nmber:10\n",
      "The square of 10 is 100\n"
     ]
    }
   ],
   "source": [
    "num=eval(input(\"Enter the number:\"))\n",
    "for i in range(5):\n",
    "    print(\"The square of {} is {}\".format(num,num*num))\n",
    "    \n",
    "    \n",
    "for i in range(5):\n",
    "    num=eval(input('enter a nmber:'))\n",
    "    print(\"The square of {} is {}\".format(num,num*num))    "
   ]
  },
  {
   "cell_type": "code",
   "execution_count": 2,
   "id": "a538025d",
   "metadata": {},
   "outputs": [
    {
     "name": "stdout",
     "output_type": "stream",
     "text": [
      "enter a nmber:3\n",
      "The square of 3 is 9\n",
      "enter a nmber:5\n",
      "The square of 5 is 25\n",
      "enter a nmber:7\n",
      "The square of 7 is 49\n",
      "enter a nmber:9\n",
      "The square of 9 is 81\n",
      "enter a nmber:8\n",
      "The square of 8 is 64\n",
      "the sqaure of 16 is 256\n",
      "the sqaure of 9 is 81\n",
      "the sqaure of 1 is 1\n",
      "the sqaure of 15 is 225\n",
      "the sqaure of 20 is 400\n"
     ]
    }
   ],
   "source": [
    "# WAP ask the user to print square of five numbers\n",
    "# and these five number you need ask user everytime\n",
    "# for i range(5):\n",
    "      # num=eval(input('enter a number:'))\n",
    "      # print(\"the square of {} is {} \".format(num,num*num))\n",
    "        \n",
    "# WAP ask the user to print five times square of a number\n",
    "# this time you need to take every time a random number between 1 to 20\n",
    "\n",
    "for i in range(5):\n",
    "    num=eval(input('enter a nmber:'))\n",
    "    print(\"The square of {} is {}\".format(num,num*num)) \n",
    "\n",
    "import random\n",
    "for i in range(5):\n",
    "    num=random.randint(1,20)\n",
    "    print(\"the sqaure of {} is {}\".format(num,num*num))\n"
   ]
  },
  {
   "cell_type": "code",
   "execution_count": 3,
   "id": "a66e9b8c",
   "metadata": {},
   "outputs": [
    {
     "name": "stdout",
     "output_type": "stream",
     "text": [
      "10 is an even number\n",
      "11 ia an odd number\n",
      "12 is an even number\n",
      "13 ia an odd number\n",
      "14 is an even number\n",
      "15 ia an odd number\n",
      "16 is an even number\n",
      "17 ia an odd number\n",
      "18 is an even number\n",
      "19 ia an odd number\n",
      "20 is an even number\n",
      "21 ia an odd number\n",
      "22 is an even number\n",
      "23 ia an odd number\n",
      "24 is an even number\n",
      "25 ia an odd number\n",
      "26 is an even number\n",
      "27 ia an odd number\n",
      "28 is an even number\n",
      "29 ia an odd number\n",
      "30 is an even number\n"
     ]
    }
   ],
   "source": [
    "# WAP ask the user print the given number is even or odd\n",
    "# you need to take the number between 10 to 30.\n",
    "\n",
    "# iterate the loop between 10 and 30\n",
    "# every time apply if i%2==0: print even\n",
    "#                  else: print odd\n",
    "\n",
    "for num in range(10,31):\n",
    "    if num%2==0:\n",
    "        print(\"{} is an even number\".format(num))\n",
    "    else: \n",
    "        print(\"{} ia an odd number\".format(num))"
   ]
  },
  {
   "cell_type": "code",
   "execution_count": 4,
   "id": "10f2ec1a",
   "metadata": {},
   "outputs": [
    {
     "name": "stdout",
     "output_type": "stream",
     "text": [
      "11 ia an odd number\n",
      "22 is an even number\n",
      "27 ia an odd number\n",
      "13 ia an odd number\n",
      "19 ia an odd number\n"
     ]
    }
   ],
   "source": [
    "# WAP ask the user print the given number is even or odd\n",
    "# you need to take the number between 10 to 30.\n",
    "# this process you need to 5 times\n",
    "\n",
    "# create a for loop to run 5 times\n",
    "# every times get the random number\n",
    "# finally apply if-else condition : it is an even and odd\n",
    "\n",
    "import random\n",
    "for num in range(5):\n",
    "    num=random.randint(10,30)\n",
    "    if num%2==0:\n",
    "        print(\"{} is an even number\".format(num))\n",
    "    else: \n",
    "        print(\"{} ia an odd number\".format(num))"
   ]
  },
  {
   "cell_type": "code",
   "execution_count": 5,
   "id": "69c951d8",
   "metadata": {},
   "outputs": [
    {
     "name": "stdout",
     "output_type": "stream",
     "text": [
      "23 ia an odd number\n",
      "20 is an even number\n",
      "23 ia an odd number\n",
      "19 ia an odd number\n",
      "11 ia an odd number\n"
     ]
    }
   ],
   "source": [
    "import random\n",
    "def odd_even():\n",
    "    for num in range(5):\n",
    "        num=random.randint(10,30)\n",
    "        if num%2==0:\n",
    "            print(\"{} is an even number\".format(num))\n",
    "        else: \n",
    "            print(\"{} ia an odd number\".format(num))\n",
    "odd_even()            "
   ]
  },
  {
   "cell_type": "code",
   "execution_count": null,
   "id": "008a8bac",
   "metadata": {},
   "outputs": [],
   "source": [
    "# 5 lines of code\n",
    "# take a random number from random package(1,10)\n",
    "# ======== you need to repeat three times===========\n",
    "# ask the user enter a number between 1 to 10\n",
    "# if the number==random number:\n",
    "#      ('print you won')\n",
    "# else:\n",
    "# print you loss"
   ]
  },
  {
   "cell_type": "code",
   "execution_count": 1,
   "id": "4a6ef735",
   "metadata": {},
   "outputs": [
    {
     "name": "stdout",
     "output_type": "stream",
     "text": [
      "Enter a number:1\n",
      "you loss\n",
      "Enter a number:5\n",
      "you loss\n",
      "Enter a number:9\n",
      "you loss\n"
     ]
    }
   ],
   "source": [
    "import random\n",
    "num1=random.randint(1,10)\n",
    "for i in range(3):\n",
    "    num2=eval(input(\"Enter a number:\"))\n",
    "    if num1==num2:\n",
    "        print(\"you won\")\n",
    "    else:\n",
    "        print(\"you loss\")"
   ]
  },
  {
   "cell_type": "code",
   "execution_count": 9,
   "id": "d3e6a44e",
   "metadata": {},
   "outputs": [
    {
     "name": "stdout",
     "output_type": "stream",
     "text": [
      "Enter a number:5\n",
      "you loss\n",
      "Enter a number:9\n",
      "you loss\n",
      "Enter a number:2\n",
      "you loss\n"
     ]
    }
   ],
   "source": [
    "import random\n",
    "num1=random.randint(1,10)\n",
    "for i in range(1,4):\n",
    "    num2=eval(input(\"Enter a number:\"))\n",
    "    if num1==num2:\n",
    "        print(\"you won\")\n",
    "        break\n",
    "    else:\n",
    "        print(\"you loss\")"
   ]
  },
  {
   "cell_type": "code",
   "execution_count": 11,
   "id": "e4bafbe3",
   "metadata": {},
   "outputs": [
    {
     "name": "stdout",
     "output_type": "stream",
     "text": [
      "9\n",
      "Enter a number:9\n",
      "you won\n"
     ]
    }
   ],
   "source": [
    "import random\n",
    "num1=random.randint(1,10)\n",
    "print(num1)\n",
    "for i in range(1,4):\n",
    "    num2=eval(input(\"Enter a number:\"))\n",
    "    if num1==num2:\n",
    "        print(\"you won\")\n",
    "        break\n",
    "    else:\n",
    "        print(\"you loss\")"
   ]
  },
  {
   "cell_type": "code",
   "execution_count": 5,
   "id": "b7f17c45",
   "metadata": {},
   "outputs": [
    {
     "name": "stdout",
     "output_type": "stream",
     "text": [
      "Enter a number:5\n",
      "you loss\n",
      "the number of chances left is  2\n",
      "Enter a number:3\n",
      "you loss\n",
      "the number of chances left is  1\n",
      "Enter a number:2\n",
      "you loss\n",
      "the number of chances left is  0\n"
     ]
    }
   ],
   "source": [
    "# 5 lines of code\n",
    "# take a random number from random package(1,10)\n",
    "# ======== you need to repeat three times===========\n",
    "# ask the user enter a number between 1 to 10\n",
    "# if the number==random number:\n",
    "#      ('print you won')\n",
    "# else:\n",
    "# print you loss\n",
    "\n",
    "import random\n",
    "num1=random.randint(1,10)\n",
    "for i in range(3):\n",
    "    num2=eval(input(\"Enter a number:\"))\n",
    "    if num1==num2:\n",
    "        print(\"you won\")\n",
    "        break\n",
    "    else:\n",
    "        print(\"you loss\")\n",
    "        print(\"the number of chances left is \",3-1-i)\n"
   ]
  },
  {
   "cell_type": "code",
   "execution_count": null,
   "id": "eacb4d7e",
   "metadata": {},
   "outputs": [],
   "source": [
    "# Improvise above code\n",
    "# you need to mention number of chances left\n",
    "# the user whenever he fails/lose"
   ]
  },
  {
   "cell_type": "code",
   "execution_count": 1,
   "id": "b6dc877f",
   "metadata": {},
   "outputs": [
    {
     "name": "stdout",
     "output_type": "stream",
     "text": [
      "Enter how many chances you want:3\n",
      "Enter a number:7\n",
      "you loss\n",
      "The number of chances left is: 2\n",
      "Enter a number:7\n",
      "you loss\n",
      "The number of chances left is: 1\n",
      "Enter a number:9\n",
      "you loss\n",
      "The number of chances left is: 0\n"
     ]
    }
   ],
   "source": [
    "import random\n",
    "num1=random.randint(1,10)\n",
    "chances=eval(input(\"Enter how many chances you want:\"))\n",
    "for i in range(chances):\n",
    "    num2=eval(input(\"Enter a number:\"))\n",
    "    if num1==num2:\n",
    "        print(\"you won\")\n",
    "        break\n",
    "    else:\n",
    "        print(\"you loss\")\n",
    "        print(\"The number of chances left is:\",chances-1-i)"
   ]
  },
  {
   "cell_type": "code",
   "execution_count": 6,
   "id": "60b3ffb7",
   "metadata": {},
   "outputs": [
    {
     "name": "stdout",
     "output_type": "stream",
     "text": [
      "Enter how many chances you want:3\n",
      "Enter a number:3\n",
      "you lost\n",
      "The number of chances left is: 2\n",
      "------------------------------------------\n",
      "Enter a number:5\n",
      "you won\n"
     ]
    }
   ],
   "source": [
    "# Improvise above code \n",
    "# whenever the user lost all the chances\n",
    "# it should print all the chances are over\n",
    "# print('please try again after 10 min')\n",
    "\n",
    "# hint:\n",
    "# you need to provide one more comdition\n",
    "import random\n",
    "num1=random.randint(1,10)\n",
    "chances=eval(input(\"Enter how many chances you want:\"))\n",
    "for i in range(chances):\n",
    "    num2=eval(input(\"Enter a number:\"))\n",
    "    if num1==num2:\n",
    "        print(\"you won\")\n",
    "        break\n",
    "    elif chances-1-i==0:\n",
    "        print(\"Try after some times\")\n",
    "    else:   \n",
    "        print(\"you lost\")\n",
    "        print(\"The number of chances left is:\",chances-1-i)\n",
    "        print(\"------------------------------------------\")"
   ]
  },
  {
   "cell_type": "code",
   "execution_count": 7,
   "id": "2aefeb9f",
   "metadata": {},
   "outputs": [
    {
     "name": "stdout",
     "output_type": "stream",
     "text": [
      "Enter how many chances you want:3\n",
      "Enter a number:5\n",
      "you lost\n",
      "The number of chances left is: 2\n",
      "------------------------------------------\n",
      "Enter a number:6\n",
      "you lost\n",
      "The number of chances left is: 1\n",
      "------------------------------------------\n",
      "Enter a number:9\n",
      "you won\n"
     ]
    }
   ],
   "source": [
    "# Improvise above code \n",
    "# whenever the user lost all the chances\n",
    "# it should print all the chances are over\n",
    "# print('please try again after 10 min')\n",
    "\n",
    "# hint:\n",
    "# you need to provide one more comdition\n",
    "import random\n",
    "num1=random.randint(1,10)\n",
    "chances=eval(input(\"Enter how many chances you want:\"))\n",
    "for i in range(chances):\n",
    "    num2=eval(input(\"Enter a number:\"))\n",
    "    if num1==num2:\n",
    "        print(\"you won\")\n",
    "        break\n",
    "    elif chances-1-i==0:\n",
    "        print(\"Try after some times\")\n",
    "    else:   \n",
    "        print(\"you lost\")\n",
    "        print(\"The number of chances left is:\",chances-1-i)\n",
    "        print(\"------------------------------------------\")"
   ]
  },
  {
   "cell_type": "code",
   "execution_count": 8,
   "id": "483a009b",
   "metadata": {},
   "outputs": [
    {
     "name": "stdout",
     "output_type": "stream",
     "text": [
      "0+1is:\n",
      "1\n",
      "1+2is:\n",
      "3\n",
      "3+3is:\n",
      "6\n",
      "6+4is:\n",
      "10\n",
      "10+5is:\n",
      "15\n",
      "15+6is:\n",
      "21\n",
      "21+7is:\n",
      "28\n",
      "28+8is:\n",
      "36\n",
      "36+9is:\n",
      "45\n",
      "45+10is:\n",
      "55\n",
      "The sum of first 10 natural is : 55\n"
     ]
    }
   ],
   "source": [
    "# WAP ask the user get the sum of 10 natural number\n",
    "# summ=0\n",
    "summ=0\n",
    "for i in range  (1,11):\n",
    "    print(\"{}+{}is:\".format(summ,i))\n",
    "    summ=summ+i     # 1+0=1\n",
    "    print(summ)     # in this loop the last value of summ is 55\n",
    "    \n",
    "print(\"The sum of first 10 natural is :\",summ)    \n",
    "# 0+1=1\n",
    "# 1+2=3\n",
    "# 3+3=6\n",
    "# 6+4=10\n",
    "# 10+5=15\n",
    "# 15+6=21\n",
    "# 21+7=28\n",
    "# 28+8=36\n",
    "# 36+9=45\n",
    "# 45+10=55"
   ]
  },
  {
   "cell_type": "code",
   "execution_count": 9,
   "id": "0660fc8f",
   "metadata": {},
   "outputs": [
    {
     "name": "stdout",
     "output_type": "stream",
     "text": [
      "0\n",
      "1\n",
      "2\n",
      "3\n",
      "4\n",
      "5\n",
      "6\n",
      "7\n",
      "8\n",
      "9\n"
     ]
    },
    {
     "data": {
      "text/plain": [
       "9"
      ]
     },
     "execution_count": 9,
     "metadata": {},
     "output_type": "execute_result"
    }
   ],
   "source": [
    "for i in range(10):\n",
    "    num=i\n",
    "    print(i)   # last value is 9\n",
    "    \n",
    "    \n",
    "num"
   ]
  },
  {
   "cell_type": "markdown",
   "id": "923a59d3",
   "metadata": {},
   "source": [
    "- whenever if you want implement counter program \n",
    "- summ program\n",
    "- initialize the variable with zero\n",
    "- like: summ=0  or count=0\n",
    "- inside the loop based on the problem update the variable\n",
    "- like: summ=summ+1    or count=count+i\n",
    "-     : summ+=i        or count+=i"
   ]
  },
  {
   "cell_type": "code",
   "execution_count": 1,
   "id": "f61a7796",
   "metadata": {},
   "outputs": [
    {
     "name": "stdout",
     "output_type": "stream",
     "text": [
      "when is even: 0\n",
      "10 is an even number\n",
      "when is odd: 1\n",
      "11 ia an odd number\n",
      "when is even: 2\n",
      "30 is an even number\n",
      "when is odd: 3\n",
      "11 ia an odd number\n",
      "when is even: 4\n",
      "10 is an even number\n",
      "3 2\n"
     ]
    }
   ],
   "source": [
    "# WAP ask the user print the given number is even or odd\n",
    "# you need to take the number between 10 to 30.\n",
    "# this process you need to 5 times\n",
    "\n",
    "# create a for loop to run 5 times\n",
    "# every times get the random number\n",
    "# finally apply if-else condition : it is an even and odd\n",
    "\n",
    "#Improvise this problem\n",
    "# by count th number of even and number odds you are getting\n",
    "even_count=0\n",
    "odd_count=0\n",
    "import random\n",
    "for i in range(5):\n",
    "    num=random.randint(10,30)\n",
    "    if num%2==0:\n",
    "        print('when is even:',i)\n",
    "        print(\"{} is an even number\".format(num))\n",
    "        even_count=even_count+1\n",
    "    else: \n",
    "        print('when is odd:',i)\n",
    "        print(\"{} ia an odd number\".format(num))\n",
    "        odd_count=odd_count+1\n",
    "print(even_count,odd_count)        "
   ]
  },
  {
   "cell_type": "code",
   "execution_count": 3,
   "id": "02368831",
   "metadata": {},
   "outputs": [
    {
     "name": "stdout",
     "output_type": "stream",
     "text": [
      "63\n",
      "67\n",
      "52\n",
      "68\n",
      "93\n",
      "99\n",
      "the number of values more than 50 is: 6\n"
     ]
    }
   ],
   "source": [
    "#WAP ask the user take a random number between 1 to 99\n",
    "# iterate the loo 10 times \n",
    "# count how many times a number is coming and greater than 50\n",
    "\n",
    "\n",
    "import random\n",
    "count_50=0\n",
    "for i in range(10):\n",
    "    num=random.randint(1,99)\n",
    "    if num>50:\n",
    "        count_50+=1\n",
    "        print(num)\n",
    "    \n",
    "print(\"the number of values more than 50 is:\",count_50)"
   ]
  },
  {
   "cell_type": "code",
   "execution_count": 4,
   "id": "c2570b04",
   "metadata": {},
   "outputs": [],
   "source": [
    "# number of divisiors program\n",
    "# 10 is divisible by what number\n",
    "# 10/1 10/2 10/5 10/10"
   ]
  },
  {
   "cell_type": "code",
   "execution_count": 7,
   "id": "d01dc5d2",
   "metadata": {},
   "outputs": [
    {
     "name": "stdout",
     "output_type": "stream",
     "text": [
      "Enter which number divisior want to know:36\n",
      "36 is divisible by 1\n",
      "36 is divisible by 2\n",
      "36 is divisible by 3\n",
      "36 is divisible by 4\n",
      "36 is divisible by 6\n",
      "36 is divisible by 9\n",
      "36 is divisible by 12\n",
      "36 is divisible by 18\n",
      "36 is divisible by 36\n",
      "The number of divisiors are: 9\n"
     ]
    }
   ],
   "source": [
    "d_count=0\n",
    "num=eval(input(\"Enter which number divisior want to know:\"))\n",
    "for i in range(1,num+1):\n",
    "    if num%i==0:\n",
    "        print(\"{} is divisible by {}\".format(num,i))\n",
    "        d_count=d_count+1\n",
    "print(\"The number of divisiors are:\",d_count)    "
   ]
  },
  {
   "cell_type": "code",
   "execution_count": 8,
   "id": "d3d84ec7",
   "metadata": {},
   "outputs": [
    {
     "name": "stdout",
     "output_type": "stream",
     "text": [
      "Enter which number divisior want to know:45\n",
      "45 is divisible by 1\n",
      "45 is divisible by 3\n",
      "45 is divisible by 5\n",
      "45 is divisible by 9\n",
      "45 is divisible by 15\n",
      "45 is divisible by 45\n",
      "The number of divisiors are: 6\n",
      "The number of non  divisiors count are : 39\n"
     ]
    }
   ],
   "source": [
    "d_count=0\n",
    "nd_count=0\n",
    "num=eval(input(\"Enter which number divisior want to know:\"))\n",
    "for i in range(1,num+1):\n",
    "    if num%i==0:\n",
    "        print(\"{} is divisible by {}\".format(num,i))\n",
    "        d_count=d_count+1\n",
    "        \n",
    "    else:\n",
    "        nd_count=nd_count+1\n",
    "print(\"The number of divisiors are:\",d_count)   \n",
    "print(\"The number of non  divisiors count are :\",nd_count) "
   ]
  },
  {
   "cell_type": "code",
   "execution_count": 11,
   "id": "92a825fc",
   "metadata": {},
   "outputs": [],
   "source": [
    "def condition():\n",
    "    if num%i==0:\n",
    "        print(\"{} is divisible by {}\".format(num,i))\n",
    "        count=count+1\n",
    "\n",
    "    else:\n",
    "        n_count=n_count+1\n",
    "    return(dount,n_count)"
   ]
  },
  {
   "cell_type": "code",
   "execution_count": 10,
   "id": "c91018f3",
   "metadata": {},
   "outputs": [
    {
     "name": "stdout",
     "output_type": "stream",
     "text": [
      "Enter ehich number divisior want to know:34\n",
      "34 is divisible by 1\n",
      "34 is divisible by 2\n",
      "34 is divisible by 17\n",
      "34 is divisible by 34\n",
      "4 30\n"
     ]
    }
   ],
   "source": [
    "num=eval(input('Enter ehich number divisior want to know:'))\n",
    "\n",
    "def counter():\n",
    "    d_count=0\n",
    "    nd_count=0\n",
    "    for i in range (1,num+1):\n",
    "        if num%i==0:\n",
    "            print(\"{} is divisible by {}\".format(num,i))\n",
    "            d_count=d_count+1\n",
    "        else:\n",
    "            nd_count=nd_count+1\n",
    "    return(d_count,nd_count)  \n",
    "val1,val2=counter()\n",
    "print(val1,val2)"
   ]
  },
  {
   "cell_type": "code",
   "execution_count": 13,
   "id": "9b8f8e31",
   "metadata": {},
   "outputs": [
    {
     "name": "stdout",
     "output_type": "stream",
     "text": [
      "Enter which number divisior want to know:36\n",
      "36 is divisible by 1\n",
      "36 is divisible by 2\n",
      "36 is divisible by 3\n",
      "36 is divisible by 4\n",
      "36 is divisible by 6\n",
      "36 is divisible by 9\n",
      "36 is divisible by 12\n",
      "36 is divisible by 18\n",
      "36 is divisible by 36\n",
      "9 27\n",
      "The number of divisiors are: 9\n",
      "The number of non  divisiors count are : 27\n"
     ]
    }
   ],
   "source": [
    "def counter2():\n",
    "    d_count=0\n",
    "    nd_count=0\n",
    "    num=eval(input(\"Enter which number divisior want to know:\"))\n",
    "    for i in range(1,num+1):\n",
    "        if num%i==0:\n",
    "            print(\"{} is divisible by {}\".format(num,i))\n",
    "            d_count=d_count+1\n",
    "\n",
    "        else:\n",
    "            nd_count=nd_count+1\n",
    "    return(d_count,nd_count)\n",
    "val_1,val_2=counter2()\n",
    "print(val_1,val_2)\n",
    "print(\"The number of divisiors are:\",val_1)   \n",
    "print(\"The number of non  divisiors count are :\",val_2)"
   ]
  },
  {
   "cell_type": "markdown",
   "id": "c8b36713",
   "metadata": {},
   "source": [
    "- whenever if you want to counter program\n",
    "- initialise counter inside the function only"
   ]
  },
  {
   "cell_type": "code",
   "execution_count": null,
   "id": "41dd7480",
   "metadata": {},
   "outputs": [],
   "source": [
    "#def counter2():\n",
    "#=========\n",
    "#=======\n",
    "#return()"
   ]
  },
  {
   "cell_type": "code",
   "execution_count": 14,
   "id": "579f288d",
   "metadata": {},
   "outputs": [
    {
     "name": "stdout",
     "output_type": "stream",
     "text": [
      "10 is divisible by 5\n"
     ]
    },
    {
     "data": {
      "text/plain": [
       "(1, 0)"
      ]
     },
     "execution_count": 14,
     "metadata": {},
     "output_type": "execute_result"
    }
   ],
   "source": [
    "def condition(num,i,d_count,nd_count):\n",
    "    if num%i==0:\n",
    "        print(\"{} is divisible by {}\".format(num,i))\n",
    "        d_count=d_count+1\n",
    "    else:\n",
    "        nd_count=nd_count+1\n",
    "    return(d_count,nd_count) \n",
    "condition(10,5,0,0)"
   ]
  },
  {
   "cell_type": "code",
   "execution_count": 17,
   "id": "963c34bb",
   "metadata": {},
   "outputs": [
    {
     "name": "stdout",
     "output_type": "stream",
     "text": [
      "Enter which number the divisior want to know:64\n",
      "64 is divisible by 1\n",
      "64 is divisible by 2\n",
      "64 is divisible by 4\n",
      "64 is divisible by 8\n",
      "64 is divisible by 16\n",
      "64 is divisible by 32\n",
      "64 is divisible by 64\n",
      "7 57\n"
     ]
    }
   ],
   "source": [
    "def counter2():\n",
    "    d_count=0\n",
    "    nd_count=0\n",
    "    num=eval(input(\"Enter which number the divisior want to know:\"))\n",
    "    for i in range(1,num+1):\n",
    "        d_count,nd_count=condition(num,i,d_count,nd_count)\n",
    "    return(d_count,nd_count)\n",
    "val1,val2=counter2()\n",
    "print(val1,val2)\n"
   ]
  },
  {
   "cell_type": "code",
   "execution_count": 18,
   "id": "66762f14",
   "metadata": {},
   "outputs": [],
   "source": [
    "def condition(num,\n",
    "             d_count,\n",
    "             nd_count,\n",
    "             i):\n",
    "    if num%i==0:\n",
    "        print(\"{} is divisible by {}\".format(num,i))\n",
    "        d_count=d_count+1\n",
    "    else:\n",
    "        nd_count=nd_count+1\n",
    "    return(d_count,nd_count)    "
   ]
  },
  {
   "cell_type": "code",
   "execution_count": null,
   "id": "5f66c540",
   "metadata": {},
   "outputs": [],
   "source": [
    "def condition(num,\n",
    "             d_count,\n",
    "             nd_count,\n",
    "             i):\n",
    "    if num%i==0:\n",
    "        print(\"{} is divisible by {}\".format(num,i))\n",
    "        d_count=d_count+1\n",
    "    else:\n",
    "        nd_count=nd_count+1\n",
    "    return(d_count,nd_count)    \n",
    "\n",
    "\n",
    "def counter2():\n",
    "    d_count=0\n",
    "    nd_count=0\n",
    "    num=eval(input(\"Enter which number the divisior want to know:\"))\n",
    "    for i in range(1,num+1):\n",
    "        d_count,nd_count=condition(num,i,d_count,nd_count)\n",
    "    return(d_count,nd_count)\n",
    "val1,val2=counter2()\n",
    "print(val1,val2)"
   ]
  },
  {
   "cell_type": "code",
   "execution_count": 3,
   "id": "ec0d66bb",
   "metadata": {},
   "outputs": [
    {
     "name": "stdout",
     "output_type": "stream",
     "text": [
      "/\n",
      "0\n"
     ]
    }
   ],
   "source": [
    "import random\n",
    "i=0\n",
    "count=0\n",
    "while i<10:\n",
    "    num=random.randint(0,10)\n",
    "    if num>5 and num==0:\n",
    "        print(num,end=' ')\n",
    "        count+=1\n",
    "    i=i+1\n",
    "print('/')\n",
    "print(count)"
   ]
  },
  {
   "cell_type": "code",
   "execution_count": null,
   "id": "9e671bf7",
   "metadata": {},
   "outputs": [],
   "source": []
  }
 ],
 "metadata": {
  "kernelspec": {
   "display_name": "Python 3 (ipykernel)",
   "language": "python",
   "name": "python3"
  },
  "language_info": {
   "codemirror_mode": {
    "name": "ipython",
    "version": 3
   },
   "file_extension": ".py",
   "mimetype": "text/x-python",
   "name": "python",
   "nbconvert_exporter": "python",
   "pygments_lexer": "ipython3",
   "version": "3.11.5"
  }
 },
 "nbformat": 4,
 "nbformat_minor": 5
}
