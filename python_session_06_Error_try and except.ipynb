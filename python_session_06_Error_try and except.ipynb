{
 "cells": [
  {
   "cell_type": "code",
   "execution_count": 1,
   "id": "8854f6c6",
   "metadata": {},
   "outputs": [
    {
     "name": "stdout",
     "output_type": "stream",
     "text": [
      "enter a number1:100\n",
      "enter a number2:200\n",
      "300\n"
     ]
    }
   ],
   "source": [
    "num1=eval(input(\"enter a number1:\"))\n",
    "num2=eval(input(\"enter a number2:\"))\n",
    "add=num1+num2\n",
    "print(add)"
   ]
  },
  {
   "cell_type": "markdown",
   "id": "61882157",
   "metadata": {},
   "source": [
    "# ERROR"
   ]
  },
  {
   "cell_type": "code",
   "execution_count": 2,
   "id": "b6029771",
   "metadata": {},
   "outputs": [
    {
     "name": "stdout",
     "output_type": "stream",
     "text": [
      "enter a number1:100\n",
      "enter a number2:200\n"
     ]
    },
    {
     "ename": "NameError",
     "evalue": "name 'num3' is not defined",
     "output_type": "error",
     "traceback": [
      "\u001b[1;31m---------------------------------------------------------------------------\u001b[0m",
      "\u001b[1;31mNameError\u001b[0m                                 Traceback (most recent call last)",
      "Cell \u001b[1;32mIn[2], line 4\u001b[0m\n\u001b[0;32m      2\u001b[0m num1\u001b[38;5;241m=\u001b[39m\u001b[38;5;28meval\u001b[39m(\u001b[38;5;28minput\u001b[39m(\u001b[38;5;124m\"\u001b[39m\u001b[38;5;124menter a number1:\u001b[39m\u001b[38;5;124m\"\u001b[39m))\n\u001b[0;32m      3\u001b[0m num2\u001b[38;5;241m=\u001b[39m\u001b[38;5;28meval\u001b[39m(\u001b[38;5;28minput\u001b[39m(\u001b[38;5;124m\"\u001b[39m\u001b[38;5;124menter a number2:\u001b[39m\u001b[38;5;124m\"\u001b[39m))\n\u001b[1;32m----> 4\u001b[0m add\u001b[38;5;241m=\u001b[39mnum1\u001b[38;5;241m+\u001b[39mnum3\n\u001b[0;32m      5\u001b[0m \u001b[38;5;28mprint\u001b[39m(add)\n",
      "\u001b[1;31mNameError\u001b[0m: name 'num3' is not defined"
     ]
    }
   ],
   "source": [
    "#error-1=Nmae error: num3 is not defined\n",
    "num1=eval(input(\"enter a number1:\"))\n",
    "num2=eval(input(\"enter a number2:\"))\n",
    "add=num1+num3\n",
    "print(add)"
   ]
  },
  {
   "cell_type": "code",
   "execution_count": 3,
   "id": "4bdb35fe",
   "metadata": {},
   "outputs": [
    {
     "ename": "SyntaxError",
     "evalue": "'(' was never closed (717108714.py, line 2)",
     "output_type": "error",
     "traceback": [
      "\u001b[1;36m  Cell \u001b[1;32mIn[3], line 2\u001b[1;36m\u001b[0m\n\u001b[1;33m    num1=eval(input(\"enter a number1:\")\u001b[0m\n\u001b[1;37m             ^\u001b[0m\n\u001b[1;31mSyntaxError\u001b[0m\u001b[1;31m:\u001b[0m '(' was never closed\n"
     ]
    }
   ],
   "source": [
    "# error-2=syntax error\n",
    "num1=eval(input(\"enter a number1:\")\n",
    "num2=eval(input(\"enter a number2:\"))\n",
    "add=num1+num2\n",
    "print(add)"
   ]
  },
  {
   "cell_type": "code",
   "execution_count": 7,
   "id": "1f257397",
   "metadata": {},
   "outputs": [
    {
     "name": "stdout",
     "output_type": "stream",
     "text": [
      "enter a number1:10\n",
      "enter a number2:20\n",
      "0.5\n"
     ]
    }
   ],
   "source": [
    "# error-3\n",
    "num1=eval(input(\"enter a number1:\"))\n",
    "num2=eval(input(\"enter a number2:\"))\n",
    "add=num1/num2\n",
    "print(add)"
   ]
  },
  {
   "cell_type": "code",
   "execution_count": 8,
   "id": "6fba853f",
   "metadata": {},
   "outputs": [
    {
     "name": "stdout",
     "output_type": "stream",
     "text": [
      "enter a number1:10\n",
      "1020\n",
      "enter a number2:20\n"
     ]
    },
    {
     "ename": "TypeError",
     "evalue": "unsupported operand type(s) for /: 'str' and 'int'",
     "output_type": "error",
     "traceback": [
      "\u001b[1;31m---------------------------------------------------------------------------\u001b[0m",
      "\u001b[1;31mTypeError\u001b[0m                                 Traceback (most recent call last)",
      "Cell \u001b[1;32mIn[8], line 4\u001b[0m\n\u001b[0;32m      2\u001b[0m num1\u001b[38;5;241m=\u001b[39m\u001b[38;5;28minput\u001b[39m(\u001b[38;5;28minput\u001b[39m(\u001b[38;5;124m\"\u001b[39m\u001b[38;5;124menter a number1:\u001b[39m\u001b[38;5;124m\"\u001b[39m)) \u001b[38;5;66;03m#string\u001b[39;00m\n\u001b[0;32m      3\u001b[0m num2\u001b[38;5;241m=\u001b[39m\u001b[38;5;28meval\u001b[39m(\u001b[38;5;28minput\u001b[39m(\u001b[38;5;124m\"\u001b[39m\u001b[38;5;124menter a number2:\u001b[39m\u001b[38;5;124m\"\u001b[39m)) \u001b[38;5;66;03m#int\u001b[39;00m\n\u001b[1;32m----> 4\u001b[0m add\u001b[38;5;241m=\u001b[39mnum1\u001b[38;5;241m/\u001b[39mnum2  \u001b[38;5;66;03m#str/int\u001b[39;00m\n\u001b[0;32m      5\u001b[0m \u001b[38;5;28mprint\u001b[39m(add)\n",
      "\u001b[1;31mTypeError\u001b[0m: unsupported operand type(s) for /: 'str' and 'int'"
     ]
    }
   ],
   "source": [
    "# error-4\n",
    "num1=input(input(\"enter a number1:\")) #string\n",
    "num2=eval(input(\"enter a number2:\")) #int\n",
    "add=num1/num2  #str/int\n",
    "print(add)"
   ]
  },
  {
   "cell_type": "code",
   "execution_count": 10,
   "id": "56f9bf41",
   "metadata": {},
   "outputs": [
    {
     "ename": "SyntaxError",
     "evalue": "Missing parentheses in call to 'print'. Did you mean print(...)? (346441224.py, line 5)",
     "output_type": "error",
     "traceback": [
      "\u001b[1;36m  Cell \u001b[1;32mIn[10], line 5\u001b[1;36m\u001b[0m\n\u001b[1;33m    print add\u001b[0m\n\u001b[1;37m    ^\u001b[0m\n\u001b[1;31mSyntaxError\u001b[0m\u001b[1;31m:\u001b[0m Missing parentheses in call to 'print'. Did you mean print(...)?\n"
     ]
    }
   ],
   "source": [
    "# error-5\n",
    "num1=eval(input(\"enter a number1:\"))\n",
    "num2=eval(input(\"enter a number2:\"))\n",
    "add=num1+num2\n",
    "print add\n"
   ]
  },
  {
   "cell_type": "code",
   "execution_count": 11,
   "id": "29d4b6cc",
   "metadata": {},
   "outputs": [
    {
     "name": "stdout",
     "output_type": "stream",
     "text": [
      "enter a number1:10\n",
      "enter a number2:20\n"
     ]
    },
    {
     "ename": "NameError",
     "evalue": "name 'Print' is not defined",
     "output_type": "error",
     "traceback": [
      "\u001b[1;31m---------------------------------------------------------------------------\u001b[0m",
      "\u001b[1;31mNameError\u001b[0m                                 Traceback (most recent call last)",
      "Cell \u001b[1;32mIn[11], line 5\u001b[0m\n\u001b[0;32m      3\u001b[0m num2\u001b[38;5;241m=\u001b[39m\u001b[38;5;28meval\u001b[39m(\u001b[38;5;28minput\u001b[39m(\u001b[38;5;124m\"\u001b[39m\u001b[38;5;124menter a number2:\u001b[39m\u001b[38;5;124m\"\u001b[39m))\n\u001b[0;32m      4\u001b[0m add\u001b[38;5;241m=\u001b[39mnum1\u001b[38;5;241m+\u001b[39mnum2\n\u001b[1;32m----> 5\u001b[0m Print(add)\n",
      "\u001b[1;31mNameError\u001b[0m: name 'Print' is not defined"
     ]
    }
   ],
   "source": [
    "# error-6\n",
    "num1=eval(input(\"enter a number1:\"))\n",
    "num2=eval(input(\"enter a number2:\"))\n",
    "add=num1+num2\n",
    "Print(add)"
   ]
  },
  {
   "cell_type": "markdown",
   "id": "92b87619",
   "metadata": {},
   "source": [
    " ### possible error\n",
    " \n",
    " - Name Error\n",
    " - syntax error:'(' was never closed\n",
    " - Zero division error: division by zero\n",
    " - Type error: unsupported operand types(s) for/:'str' and 'int'\n",
    " - Missing paranthesis in call to 'print'.Did you mean print(.....)?"
   ]
  },
  {
   "cell_type": "code",
   "execution_count": null,
   "id": "f903e6a2",
   "metadata": {},
   "outputs": [],
   "source": [
    "suppose you have written 500 lines of codes\n",
    "at 200 lines you got a error\n",
    "this error is migh not impact your code\n",
    "so you want execute after 200 lines also\n",
    "\n"
   ]
  },
  {
   "cell_type": "markdown",
   "id": "b3bdd908",
   "metadata": {},
   "source": [
    "# Exception Handling\n",
    "\n",
    " $ try$ --   $except$\n",
    "\n",
    "- there are two blocks\n",
    "- one try block\n",
    "- another is exception block\n",
    "- your code will be ther in try block\n",
    "- error capture will be happens in except block\n",
    "- indentation : space\n",
    "- red : space/indentation not mentioned properly\n",
    "- indentation has min 4 characters\n",
    "- : is there, then indentation will be there"
   ]
  },
  {
   "cell_type": "code",
   "execution_count": 14,
   "id": "2c25f895",
   "metadata": {},
   "outputs": [
    {
     "name": "stdout",
     "output_type": "stream",
     "text": [
      "60\n"
     ]
    }
   ],
   "source": [
    "try:\n",
    "    num=10\n",
    "    num2=20\n",
    "    num3=30\n",
    "    add=num1+num2+num3\n",
    "    print(add)\n",
    "    \n",
    "except:\n",
    "    print('error is there,check code')"
   ]
  },
  {
   "cell_type": "code",
   "execution_count": 13,
   "id": "6991333a",
   "metadata": {},
   "outputs": [
    {
     "name": "stdout",
     "output_type": "stream",
     "text": [
      "60\n"
     ]
    }
   ],
   "source": [
    "num=10\n",
    "num2=20\n",
    "num3=30\n",
    "add=num1+num2+num3\n",
    "print(add)"
   ]
  },
  {
   "cell_type": "code",
   "execution_count": null,
   "id": "22a9b65c",
   "metadata": {},
   "outputs": [],
   "source": [
    "try:\n",
    "    num1=10\n",
    "num2=20 \n",
    "    add=num1+num2\n",
    "    print(add)     # this will not work"
   ]
  },
  {
   "cell_type": "code",
   "execution_count": 16,
   "id": "ca907515",
   "metadata": {},
   "outputs": [
    {
     "name": "stdout",
     "output_type": "stream",
     "text": [
      "error is there,check code\n"
     ]
    }
   ],
   "source": [
    "try:\n",
    "    num=10\n",
    "    num2=0\n",
    "    add=num1/num2      #10/0 =====> zero\n",
    "    print(add)\n",
    "    \n",
    "except:\n",
    "    print('error is there,check code')"
   ]
  },
  {
   "cell_type": "code",
   "execution_count": 19,
   "id": "db8dc578",
   "metadata": {},
   "outputs": [
    {
     "name": "stdout",
     "output_type": "stream",
     "text": [
      "Enter number-1:10\n",
      "Enter number-2:20\n",
      "Enter number-3:30\n",
      "The average of 10,20 and 30 is 20.0\n"
     ]
    }
   ],
   "source": [
    "# WAP ask the user enter 3 numbers and find the average\n",
    "num1=eval(input(\"Enter number-1:\"))\n",
    "num2=eval(input(\"Enter number-2:\"))\n",
    "num3=eval(input(\"Enter number-3:\"))\n",
    "average=(num1+num2+num3)/3\n",
    "print(\"The average of {},{} and {} is {}\".format(num1,num2,num3,average))"
   ]
  },
  {
   "cell_type": "code",
   "execution_count": 20,
   "id": "4a9f801b",
   "metadata": {},
   "outputs": [
    {
     "name": "stdout",
     "output_type": "stream",
     "text": [
      "Enter number-1:10\n",
      "Enter number-2:20\n",
      "Enter number-3:30\n",
      "The average of 10,20 and 30 is 20.0\n"
     ]
    }
   ],
   "source": [
    "try:\n",
    "    num1=eval(input(\"Enter number-1:\"))\n",
    "    num2=eval(input(\"Enter number-2:\"))\n",
    "    num3=eval(input(\"Enter number-3:\"))\n",
    "    average=(num1+num2+num3)/3\n",
    "    print(\"The average of {},{} and {} is {}\".format(num1,num2,num3,average))\n",
    "    \n",
    "except:\n",
    "    pint(\"check the code\")"
   ]
  },
  {
   "cell_type": "code",
   "execution_count": 23,
   "id": "ca43aac7",
   "metadata": {},
   "outputs": [
    {
     "name": "stdout",
     "output_type": "stream",
     "text": [
      "Enter number-1:10\n",
      "Enter number-2:20\n",
      "Enter number-3:30\n",
      "check the code\n"
     ]
    }
   ],
   "source": [
    "try:\n",
    "    num1=eval(input(\"Enter number-1:\"))\n",
    "    num2=eval(input(\"Enter number-2:\"))\n",
    "    num3=eval(input(\"Enter number-3:\"))\n",
    "    average=(num1+num2+num3333)/3\n",
    "    print(\"The average of {},{} and {} is {}\".format(num1,num2,num3,average))\n",
    "    \n",
    "except:\n",
    "    print(\"check the code\")\n",
    "   \n",
    "# error-1:name error"
   ]
  },
  {
   "cell_type": "code",
   "execution_count": 26,
   "id": "cb70c44e",
   "metadata": {},
   "outputs": [
    {
     "name": "stdout",
     "output_type": "stream",
     "text": [
      "Enter number-1:10\n",
      "Enter number-2:20\n",
      "Enter number-3:30\n",
      "name 'num33' is not defined\n"
     ]
    }
   ],
   "source": [
    "try:\n",
    "    num1=eval(input(\"Enter number-1:\"))\n",
    "    num2=eval(input(\"Enter number-2:\"))\n",
    "    num3=eval(input(\"Enter number-3:\"))\n",
    "    average=(num1+num2+num33)/3\n",
    "    print(\"The average of {},{} and {} is {}\".format(num1,num2,num3,average))\n",
    "    \n",
    "except Exception as e:\n",
    "    print(e)"
   ]
  },
  {
   "cell_type": "code",
   "execution_count": 28,
   "id": "b303b118",
   "metadata": {},
   "outputs": [
    {
     "name": "stdout",
     "output_type": "stream",
     "text": [
      "Enter number-1:10\n",
      "Enter number-2:20\n",
      "Enter number-3:30\n",
      "division by zero\n"
     ]
    }
   ],
   "source": [
    "try:\n",
    "    num1=eval(input(\"Enter number-1:\"))\n",
    "    num2=eval(input(\"Enter number-2:\"))\n",
    "    num3=eval(input(\"Enter number-3:\"))\n",
    "    average=(num1+num2+num3)/0\n",
    "    print(\"The average of {},{} and {} is {}\".format(num1,num2,num3,average))\n",
    "    \n",
    "except Exception as e:\n",
    "    print(e)"
   ]
  },
  {
   "cell_type": "code",
   "execution_count": 29,
   "id": "6573fb0e",
   "metadata": {},
   "outputs": [
    {
     "name": "stdout",
     "output_type": "stream",
     "text": [
      "Enter number-1:10\n",
      "Enter number-2:20\n",
      "Enter number-3:30\n",
      "name 'number1' is not defined\n"
     ]
    }
   ],
   "source": [
    "try:\n",
    "    num1=eval(input(\"Enter number-1:\"))\n",
    "    num2=eval(input(\"Enter number-2:\"))\n",
    "    num3=eval(input(\"Enter number-3:\"))\n",
    "    average=(number1+num2+num3)/0\n",
    "    print(\"The average of {},{} and {} is {}\".format(num1,num2,num3,average))\n",
    "    \n",
    "except Exception as e:\n",
    "    print(e)"
   ]
  },
  {
   "cell_type": "code",
   "execution_count": null,
   "id": "ba3210cf",
   "metadata": {},
   "outputs": [],
   "source": [
    "# WAP ask the user enter a number and find the square of the number"
   ]
  },
  {
   "cell_type": "code",
   "execution_count": 30,
   "id": "3343bccd",
   "metadata": {},
   "outputs": [
    {
     "name": "stdout",
     "output_type": "stream",
     "text": [
      "enter the number20\n",
      "The square of number 20 is 400\n"
     ]
    }
   ],
   "source": [
    "try:\n",
    "    value1=eval(input(\"enter the number\"))\n",
    "    square=value1*value1\n",
    "    print(\"The square of number {} is {}\".format(value1,square))\n",
    "    \n",
    "except Exception as e:\n",
    "    print(e)\n",
    "    "
   ]
  },
  {
   "cell_type": "code",
   "execution_count": 31,
   "id": "8ef07c3c",
   "metadata": {},
   "outputs": [
    {
     "name": "stdout",
     "output_type": "stream",
     "text": [
      "enter the number10\n",
      "name 'value' is not defined\n"
     ]
    }
   ],
   "source": [
    "try:\n",
    "    value1=eval(input(\"enter the number\"))\n",
    "    square=value1*value\n",
    "    print(\"The square of number {} is {}\".format(value1,square))\n",
    "    \n",
    "except Exception as e:\n",
    "    print(e)"
   ]
  },
  {
   "cell_type": "code",
   "execution_count": 33,
   "id": "e595a99f",
   "metadata": {},
   "outputs": [
    {
     "data": {
      "text/plain": [
       "(None, None, None)"
      ]
     },
     "execution_count": 33,
     "metadata": {},
     "output_type": "execute_result"
    }
   ],
   "source": [
    "import sys\n",
    "sys.exc_info()"
   ]
  },
  {
   "cell_type": "code",
   "execution_count": 34,
   "id": "19ea4854",
   "metadata": {},
   "outputs": [
    {
     "name": "stdout",
     "output_type": "stream",
     "text": [
      "enter the number10\n",
      "The square of number 10 is 100\n"
     ]
    }
   ],
   "source": [
    "# case-1\n",
    "try:\n",
    "    value1=eval(input(\"enter the number\"))\n",
    "    square=value1*value1\n",
    "    print(\"The square of number {} is {}\".format(value1,square))\n",
    "    \n",
    "except Exception as e:    # capture the error\n",
    "    print(e)\n",
    "    print('hello')"
   ]
  },
  {
   "cell_type": "code",
   "execution_count": 35,
   "id": "a5efc307",
   "metadata": {},
   "outputs": [
    {
     "name": "stdout",
     "output_type": "stream",
     "text": [
      "enter the number10\n",
      "name 'value' is not defined\n",
      "Hello\n"
     ]
    }
   ],
   "source": [
    "#case-2\n",
    "try:\n",
    "    value1=eval(input(\"enter the number\"))\n",
    "    square=value1*value\n",
    "    print(\"The square of number {} is {}\".format(value1,square))\n",
    "    \n",
    "except Exception as e:\n",
    "    print(e)\n",
    "    print(\"Hello\")"
   ]
  },
  {
   "cell_type": "code",
   "execution_count": 37,
   "id": "d1bf6235",
   "metadata": {},
   "outputs": [
    {
     "name": "stdout",
     "output_type": "stream",
     "text": [
      "enter the number:10\n",
      "Hiii\n",
      "name 'value' is not defined\n",
      "Hello\n"
     ]
    }
   ],
   "source": [
    "#case-3\n",
    "try:\n",
    "    value1=eval(input(\"enter the number:\"))\n",
    "    square=value1*value\n",
    "    print(\"The square of number {} is {}\".format(value1,square))\n",
    "    \n",
    "except Exception as e:\n",
    "    print(\"Hiii\")\n",
    "    print(e)\n",
    "    print('Hello')"
   ]
  },
  {
   "cell_type": "code",
   "execution_count": 38,
   "id": "0bf85a5f",
   "metadata": {},
   "outputs": [
    {
     "name": "stdout",
     "output_type": "stream",
     "text": [
      "enter the number10\n",
      "Hiii\n",
      "name 'value' is not defined\n",
      "Hello\n",
      "python\n",
      "1\n",
      "2\n"
     ]
    }
   ],
   "source": [
    "#case-4\n",
    "try:\n",
    "    value1=eval(input(\"enter the number\"))\n",
    "    square=value1*value\n",
    "    print(\"The square of number {} is {}\".format(value1,square))\n",
    "    \n",
    "except Exception as e:\n",
    "    print(\"Hiii\")\n",
    "    print(e)\n",
    "    print(\"Hello\")\n",
    "    \n",
    "print(\"python\")\n",
    "print(1)\n",
    "print(2)"
   ]
  },
  {
   "cell_type": "code",
   "execution_count": 41,
   "id": "10d6844c",
   "metadata": {},
   "outputs": [
    {
     "name": "stdout",
     "output_type": "stream",
     "text": [
      "100\n"
     ]
    }
   ],
   "source": [
    "print(100)"
   ]
  },
  {
   "cell_type": "markdown",
   "id": "1b5ace3a",
   "metadata": {},
   "source": [
    "- if your code is without error,try block will execute\n",
    "- if your code has errors, it will redirect to except block\n",
    "- what ever you written inside except block that will run\n",
    "- try and exception is together\n",
    "- ones try and exception code are complete, it try to look any other lines of code are there"
   ]
  },
  {
   "cell_type": "code",
   "execution_count": 43,
   "id": "44dcb187",
   "metadata": {},
   "outputs": [
    {
     "name": "stdout",
     "output_type": "stream",
     "text": [
      "=======================\n",
      "8\n",
      "***********************\n",
      "enter the number10\n",
      "Hiiiii\n",
      "name 'value' is not defined\n",
      "Helooo\n",
      "Python\n",
      "1\n",
      "2\n"
     ]
    }
   ],
   "source": [
    "#case-5\n",
    "print(\"=======================\")\n",
    "print(3+5)\n",
    "print('***********************')\n",
    "try:\n",
    "    value1=eval(input(\"enter the number\"))\n",
    "    square=value1*value\n",
    "    print(\"The square of number {} is {}\".format(value1,square))\n",
    "    \n",
    "except Exception as e:\n",
    "    print(\"Hiiiii\")\n",
    "    print(e)\n",
    "    print(\"Helooo\")\n",
    "    \n",
    "print(\"Python\")\n",
    "print(1)\n",
    "print(2)"
   ]
  },
  {
   "cell_type": "code",
   "execution_count": 45,
   "id": "9b84cfd7",
   "metadata": {},
   "outputs": [
    {
     "ename": "IndentationError",
     "evalue": "unindent does not match any outer indentation level (<tokenize>, line 7)",
     "output_type": "error",
     "traceback": [
      "\u001b[1;36m  File \u001b[1;32m<tokenize>:7\u001b[1;36m\u001b[0m\n\u001b[1;33m    print(\"The square of number {} is {}\".format(value1,square))\u001b[0m\n\u001b[1;37m    ^\u001b[0m\n\u001b[1;31mIndentationError\u001b[0m\u001b[1;31m:\u001b[0m unindent does not match any outer indentation level\n"
     ]
    }
   ],
   "source": [
    "#case-6\n",
    "print(\"=======================\")\n",
    "print(3+5)\n",
    "print('***********************')\n",
    "try:\n",
    "    value1=eval(input(\"enter the number\"))\n",
    "    square=value1*value\n",
    " print(\"The square of number {} is {}\".format(value1,square))\n",
    "    \n",
    "except Exception as e:\n",
    "    print(\"Hiiiii\")\n",
    "    print(e)\n",
    "    print(\"Helooo\")\n",
    "    \n",
    "print(\"Python\")\n",
    "print(1)\n",
    "print(2)"
   ]
  },
  {
   "cell_type": "code",
   "execution_count": 2,
   "id": "66cb1386",
   "metadata": {},
   "outputs": [
    {
     "ename": "SyntaxError",
     "evalue": "expected 'except' or 'finally' block (3234628013.py, line 10)",
     "output_type": "error",
     "traceback": [
      "\u001b[1;36m  Cell \u001b[1;32mIn[2], line 10\u001b[1;36m\u001b[0m\n\u001b[1;33m    print(\"Out\")\u001b[0m\n\u001b[1;37m    ^\u001b[0m\n\u001b[1;31mSyntaxError\u001b[0m\u001b[1;31m:\u001b[0m expected 'except' or 'finally' block\n"
     ]
    }
   ],
   "source": [
    "#case-7\n",
    "print('========================================')\n",
    "print(3+5)\n",
    "print(\"****************************************\")\n",
    "\n",
    "try:\n",
    "    num=eval(input(\"Enter a number:\"))\n",
    "    print(\"The square of {} is {}\".format(num,num22*num))\n",
    "\n",
    "print(\"Out\")\n",
    "\n",
    "except Exception as e:\n",
    "    print(\"hiii\")\n",
    "    print(e)\n",
    "    print(\"Hello\")\n",
    "    \n",
    "print(\"Python\")\n",
    "print(1)\n",
    "print(2)"
   ]
  },
  {
   "cell_type": "markdown",
   "id": "9d4ea76a",
   "metadata": {},
   "source": [
    "# ALL POINTS\n",
    "$Try$-$Except$\n",
    "- ther are two blocks\n",
    "- one try block\n",
    "- another is exception block\n",
    "- your code will be there in try block\n",
    "- error capture will happen in except block\n",
    "- indentation: space\n",
    "- red: space/indendation not maintained properly\n",
    "- indentation has minnimum four characters\n",
    "- : is there, then indentation will be there\n",
    "- if your code is without error , try block will execute\n",
    "- if your code has errors, it will redirect to except block\n",
    "- what ever you written inside except block that will run\n",
    "- try and exception will together\n",
    "- ones try and exception code are complete,it try to look any other lines of codes are there\n",
    "- Try-Exception will not capture syntax error"
   ]
  },
  {
   "cell_type": "code",
   "execution_count": null,
   "id": "274aede2",
   "metadata": {},
   "outputs": [],
   "source": []
  }
 ],
 "metadata": {
  "kernelspec": {
   "display_name": "Python 3 (ipykernel)",
   "language": "python",
   "name": "python3"
  },
  "language_info": {
   "codemirror_mode": {
    "name": "ipython",
    "version": 3
   },
   "file_extension": ".py",
   "mimetype": "text/x-python",
   "name": "python",
   "nbconvert_exporter": "python",
   "pygments_lexer": "ipython3",
   "version": "3.11.5"
  }
 },
 "nbformat": 4,
 "nbformat_minor": 5
}
