{
 "cells": [
  {
   "cell_type": "code",
   "execution_count": 1,
   "id": "e3d52fb4",
   "metadata": {},
   "outputs": [],
   "source": [
    " # im modifying the code"
   ]
  },
  {
   "cell_type": "code",
   "execution_count": 1,
   "id": "280beecc",
   "metadata": {},
   "outputs": [],
   "source": [
    "list1=['Ram','Raheem','Robert']\n",
    "list2=[25,30,35]"
   ]
  },
  {
   "cell_type": "code",
   "execution_count": null,
   "id": "233554c0",
   "metadata": {},
   "outputs": [],
   "source": [
    "'Ram has age 25'\n",
    "'Raheem has age 30'\n",
    "'Robert has age 35'"
   ]
  },
  {
   "cell_type": "code",
   "execution_count": 2,
   "id": "c2f7efb7",
   "metadata": {},
   "outputs": [
    {
     "name": "stdout",
     "output_type": "stream",
     "text": [
      "Ram 25\n",
      "Raheem 30\n",
      "Robert 35\n"
     ]
    }
   ],
   "source": [
    "for i,j in zip(list1,list2):\n",
    "    print(i,j)"
   ]
  },
  {
   "cell_type": "code",
   "execution_count": null,
   "id": "a6d4c2aa",
   "metadata": {},
   "outputs": [],
   "source": [
    "#{key:value}"
   ]
  },
  {
   "cell_type": "code",
   "execution_count": 3,
   "id": "c41d1b91",
   "metadata": {},
   "outputs": [
    {
     "data": {
      "text/plain": [
       "{'Ram': 25, 'Raheem': 30, 'Robert': 35}"
      ]
     },
     "execution_count": 3,
     "metadata": {},
     "output_type": "execute_result"
    }
   ],
   "source": [
    "d1={'Ram':25,\n",
    "    'Raheem':30,\n",
    "    'Robert':35}\n",
    "d1\n",
    "\n",
    "#keys: 'Ram','Raheem','Robert'\n",
    "#values: 25,30,35"
   ]
  },
  {
   "cell_type": "code",
   "execution_count": 4,
   "id": "6da58c9a",
   "metadata": {},
   "outputs": [
    {
     "data": {
      "text/plain": [
       "{25: 'Ram', 30: 'Raheem', 35: 'Robert'}"
      ]
     },
     "execution_count": 4,
     "metadata": {},
     "output_type": "execute_result"
    }
   ],
   "source": [
    "d2={25:'Ram',30:'Raheem',35:'Robert'}\n",
    "d2\n",
    "\n",
    "# keys:  25,30,35\n",
    "#values: 'Ram','Raheem','Robert'\n"
   ]
  },
  {
   "cell_type": "code",
   "execution_count": 5,
   "id": "2b87dc40",
   "metadata": {},
   "outputs": [
    {
     "data": {
      "text/plain": [
       "{'even': [2, 4, 6], 'odd': [3, 5, 7]}"
      ]
     },
     "execution_count": 5,
     "metadata": {},
     "output_type": "execute_result"
    }
   ],
   "source": [
    "d3={'even':[2,4,6],'odd':[3,5,7]}\n",
    "d3"
   ]
  },
  {
   "cell_type": "code",
   "execution_count": 6,
   "id": "010219e8",
   "metadata": {},
   "outputs": [
    {
     "ename": "TypeError",
     "evalue": "unhashable type: 'list'",
     "output_type": "error",
     "traceback": [
      "\u001b[1;31m---------------------------------------------------------------------------\u001b[0m",
      "\u001b[1;31mTypeError\u001b[0m                                 Traceback (most recent call last)",
      "Cell \u001b[1;32mIn[6], line 1\u001b[0m\n\u001b[1;32m----> 1\u001b[0m d3\u001b[38;5;241m=\u001b[39m{[\u001b[38;5;241m2\u001b[39m,\u001b[38;5;241m4\u001b[39m,\u001b[38;5;241m6\u001b[39m]:\u001b[38;5;124m'\u001b[39m\u001b[38;5;124meven\u001b[39m\u001b[38;5;124m'\u001b[39m,[\u001b[38;5;241m3\u001b[39m,\u001b[38;5;241m5\u001b[39m,\u001b[38;5;241m7\u001b[39m]:\u001b[38;5;124m'\u001b[39m\u001b[38;5;124modd\u001b[39m\u001b[38;5;124m'\u001b[39m}\n\u001b[0;32m      2\u001b[0m d3\n",
      "\u001b[1;31mTypeError\u001b[0m: unhashable type: 'list'"
     ]
    }
   ],
   "source": [
    "d3={[2,4,6]:'even',[3,5,7]:'odd'}\n",
    "d3              # fails"
   ]
  },
  {
   "cell_type": "code",
   "execution_count": 7,
   "id": "0684ef1e",
   "metadata": {},
   "outputs": [
    {
     "data": {
      "text/plain": [
       "{(2, 4, 6): 'even', (3, 5, 7): 'odd'}"
      ]
     },
     "execution_count": 7,
     "metadata": {},
     "output_type": "execute_result"
    }
   ],
   "source": [
    "d4={(2,4,6):'even',(3,5,7):'odd'}\n",
    "d4 "
   ]
  },
  {
   "cell_type": "code",
   "execution_count": 8,
   "id": "3bb2c63b",
   "metadata": {},
   "outputs": [
    {
     "data": {
      "text/plain": [
       "{'item_list': {'fruits': 'apple'}}"
      ]
     },
     "execution_count": 8,
     "metadata": {},
     "output_type": "execute_result"
    }
   ],
   "source": [
    "#{'key':<{}>}\n",
    "d5={'item_list':{'fruits':'apple'}}\n",
    "d5"
   ]
  },
  {
   "cell_type": "code",
   "execution_count": 9,
   "id": "c8e251e5",
   "metadata": {},
   "outputs": [
    {
     "ename": "TypeError",
     "evalue": "unhashable type: 'dict'",
     "output_type": "error",
     "traceback": [
      "\u001b[1;31m---------------------------------------------------------------------------\u001b[0m",
      "\u001b[1;31mTypeError\u001b[0m                                 Traceback (most recent call last)",
      "Cell \u001b[1;32mIn[9], line 1\u001b[0m\n\u001b[1;32m----> 1\u001b[0m d6\u001b[38;5;241m=\u001b[39m{{\u001b[38;5;124m'\u001b[39m\u001b[38;5;124mfruits\u001b[39m\u001b[38;5;124m'\u001b[39m:\u001b[38;5;124m'\u001b[39m\u001b[38;5;124mapple\u001b[39m\u001b[38;5;124m'\u001b[39m}:\u001b[38;5;124m'\u001b[39m\u001b[38;5;124mitem_list\u001b[39m\u001b[38;5;124m'\u001b[39m}\n\u001b[0;32m      2\u001b[0m d6\n",
      "\u001b[1;31mTypeError\u001b[0m: unhashable type: 'dict'"
     ]
    }
   ],
   "source": [
    "d6={{'fruits':'apple'}:'item_list'}\n",
    "d6"
   ]
  },
  {
   "cell_type": "code",
   "execution_count": 11,
   "id": "239ab780",
   "metadata": {},
   "outputs": [],
   "source": [
    "a=[1,2]\n",
    "b=(1,2)"
   ]
  },
  {
   "cell_type": "code",
   "execution_count": 12,
   "id": "275afd1d",
   "metadata": {},
   "outputs": [
    {
     "data": {
      "text/plain": [
       "1"
      ]
     },
     "execution_count": 12,
     "metadata": {},
     "output_type": "execute_result"
    }
   ],
   "source": [
    "a,b=[1,2]\n",
    "c,d=(1,2)\n",
    "c"
   ]
  },
  {
   "cell_type": "code",
   "execution_count": 13,
   "id": "4c1dec5c",
   "metadata": {},
   "outputs": [
    {
     "data": {
      "text/plain": [
       "(1, 2)"
      ]
     },
     "execution_count": 13,
     "metadata": {},
     "output_type": "execute_result"
    }
   ],
   "source": [
    "a=1,2\n",
    "a"
   ]
  },
  {
   "cell_type": "code",
   "execution_count": 15,
   "id": "8712fad7",
   "metadata": {},
   "outputs": [
    {
     "data": {
      "text/plain": [
       "{'A': 1, 'B': 2}"
      ]
     },
     "execution_count": 15,
     "metadata": {},
     "output_type": "execute_result"
    }
   ],
   "source": [
    "d1={'A':1,'B':2,'A':1}\n",
    "d1"
   ]
  },
  {
   "cell_type": "code",
   "execution_count": 16,
   "id": "73abd991",
   "metadata": {},
   "outputs": [
    {
     "data": {
      "text/plain": [
       "{'A': 3, 'B': 2}"
      ]
     },
     "execution_count": 16,
     "metadata": {},
     "output_type": "execute_result"
    }
   ],
   "source": [
    "d1={'A':1,'B':2,'A':3}\n",
    "d1"
   ]
  },
  {
   "cell_type": "markdown",
   "id": "4e028fef",
   "metadata": {},
   "source": [
    "- Dictionary is a key:value pair\n",
    "- at value position you can take any data type\n",
    "- at key position list and dictionary will fail\n",
    "- Duplicates are not allowed\n",
    "- If you will update a key value,latest value will take"
   ]
  },
  {
   "cell_type": "markdown",
   "id": "24405ba5",
   "metadata": {},
   "source": [
    "$type$"
   ]
  },
  {
   "cell_type": "code",
   "execution_count": 17,
   "id": "2f1c32f1",
   "metadata": {},
   "outputs": [
    {
     "data": {
      "text/plain": [
       "dict"
      ]
     },
     "execution_count": 17,
     "metadata": {},
     "output_type": "execute_result"
    }
   ],
   "source": [
    "type(d1)"
   ]
  },
  {
   "cell_type": "markdown",
   "id": "597b1458",
   "metadata": {},
   "source": [
    "- str\n",
    "- list\n",
    "- dict\n",
    "- int\n",
    "- float\n",
    "- bool\n",
    "- complex\n",
    "- tuple\n",
    "- set\n"
   ]
  },
  {
   "cell_type": "code",
   "execution_count": 19,
   "id": "d10aafa7",
   "metadata": {},
   "outputs": [
    {
     "data": {
      "text/plain": [
       "'Robert'"
      ]
     },
     "execution_count": 19,
     "metadata": {},
     "output_type": "execute_result"
    }
   ],
   "source": [
    "d1={'Ram':25,\n",
    "    'Raheem':30,\n",
    "    'Robert':35}\n",
    "max(d1)\n"
   ]
  },
  {
   "cell_type": "markdown",
   "id": "97409e96",
   "metadata": {},
   "source": [
    "- maximum and minnimum we are getting value based on key only"
   ]
  },
  {
   "cell_type": "code",
   "execution_count": 20,
   "id": "f31c1bc1",
   "metadata": {},
   "outputs": [
    {
     "data": {
      "text/plain": [
       "'Raheem'"
      ]
     },
     "execution_count": 20,
     "metadata": {},
     "output_type": "execute_result"
    }
   ],
   "source": [
    "d1={'Ram':25,\n",
    "    'Raheem':30,\n",
    "    'Robert':35}\n",
    "min(d1)"
   ]
  },
  {
   "cell_type": "code",
   "execution_count": null,
   "id": "6cce889d",
   "metadata": {},
   "outputs": [],
   "source": [
    "d1={'Ram':25,\n",
    "    'Raheem':30,\n",
    "    'Robert':35}\n",
    "d1"
   ]
  },
  {
   "cell_type": "code",
   "execution_count": 21,
   "id": "427b4ab4",
   "metadata": {},
   "outputs": [
    {
     "data": {
      "text/plain": [
       "3"
      ]
     },
     "execution_count": 21,
     "metadata": {},
     "output_type": "execute_result"
    }
   ],
   "source": [
    "len(d1)"
   ]
  },
  {
   "cell_type": "code",
   "execution_count": 23,
   "id": "52f1f3dd",
   "metadata": {},
   "outputs": [
    {
     "data": {
      "text/plain": [
       "{'Ram': 25, 'Raheem': 30, 'Robert': 35}"
      ]
     },
     "execution_count": 23,
     "metadata": {},
     "output_type": "execute_result"
    }
   ],
   "source": [
    "d1"
   ]
  },
  {
   "cell_type": "code",
   "execution_count": 24,
   "id": "f836a909",
   "metadata": {},
   "outputs": [
    {
     "ename": "TypeError",
     "evalue": "unsupported operand type(s) for +: 'int' and 'str'",
     "output_type": "error",
     "traceback": [
      "\u001b[1;31m---------------------------------------------------------------------------\u001b[0m",
      "\u001b[1;31mTypeError\u001b[0m                                 Traceback (most recent call last)",
      "Cell \u001b[1;32mIn[24], line 1\u001b[0m\n\u001b[1;32m----> 1\u001b[0m \u001b[38;5;28msum\u001b[39m(d1)\n",
      "\u001b[1;31mTypeError\u001b[0m: unsupported operand type(s) for +: 'int' and 'str'"
     ]
    }
   ],
   "source": [
    "sum(d1)"
   ]
  },
  {
   "cell_type": "code",
   "execution_count": 25,
   "id": "f63812c5",
   "metadata": {},
   "outputs": [
    {
     "data": {
      "text/plain": [
       "4"
      ]
     },
     "execution_count": 25,
     "metadata": {},
     "output_type": "execute_result"
    }
   ],
   "source": [
    "d2={1:2,3:4}\n",
    "sum(d2)"
   ]
  },
  {
   "cell_type": "code",
   "execution_count": 26,
   "id": "62b88b01",
   "metadata": {},
   "outputs": [
    {
     "data": {
      "text/plain": [
       "400"
      ]
     },
     "execution_count": 26,
     "metadata": {},
     "output_type": "execute_result"
    }
   ],
   "source": [
    "d2={100:2,300:3}\n",
    "sum(d2)"
   ]
  },
  {
   "cell_type": "markdown",
   "id": "c0a8eb81",
   "metadata": {},
   "source": [
    "- if key has numerical value then we can do sum"
   ]
  },
  {
   "cell_type": "markdown",
   "id": "1ad3cd32",
   "metadata": {},
   "source": [
    "- type \n",
    "- len\n",
    "- max\n",
    "- min\n",
    "- sum"
   ]
  },
  {
   "cell_type": "markdown",
   "id": "3ff5d8a8",
   "metadata": {},
   "source": [
    "$In$"
   ]
  },
  {
   "cell_type": "code",
   "execution_count": 27,
   "id": "4d2283c7",
   "metadata": {},
   "outputs": [
    {
     "data": {
      "text/plain": [
       "True"
      ]
     },
     "execution_count": 27,
     "metadata": {},
     "output_type": "execute_result"
    }
   ],
   "source": [
    "d1={'Ram':25,\n",
    "    'Raheem':30,\n",
    "    'Robert':35}\n",
    "\n",
    "\n",
    "# 'Ram':25 in d1  fails\n",
    "'Ram' in d1  #works\n",
    "# 25 in d1   fails"
   ]
  },
  {
   "cell_type": "code",
   "execution_count": 28,
   "id": "578d5782",
   "metadata": {},
   "outputs": [
    {
     "name": "stdout",
     "output_type": "stream",
     "text": [
      "Ram\n",
      "Raheem\n",
      "Robert\n"
     ]
    }
   ],
   "source": [
    "for i in d1:\n",
    "    print(i)"
   ]
  },
  {
   "cell_type": "markdown",
   "id": "7bc193e6",
   "metadata": {},
   "source": [
    "$Index$"
   ]
  },
  {
   "cell_type": "code",
   "execution_count": 29,
   "id": "6f63954a",
   "metadata": {},
   "outputs": [
    {
     "data": {
      "text/plain": [
       "10"
      ]
     },
     "execution_count": 29,
     "metadata": {},
     "output_type": "execute_result"
    }
   ],
   "source": [
    "l1=[10,20,30,40]\n",
    "l1[0]"
   ]
  },
  {
   "cell_type": "code",
   "execution_count": 30,
   "id": "101f1569",
   "metadata": {},
   "outputs": [
    {
     "data": {
      "text/plain": [
       "'a'"
      ]
     },
     "execution_count": 30,
     "metadata": {},
     "output_type": "execute_result"
    }
   ],
   "source": [
    "str1='apple'\n",
    "str1[0]"
   ]
  },
  {
   "cell_type": "code",
   "execution_count": 31,
   "id": "abad2bf0",
   "metadata": {},
   "outputs": [
    {
     "ename": "KeyError",
     "evalue": "0",
     "output_type": "error",
     "traceback": [
      "\u001b[1;31m---------------------------------------------------------------------------\u001b[0m",
      "\u001b[1;31mKeyError\u001b[0m                                  Traceback (most recent call last)",
      "Cell \u001b[1;32mIn[31], line 4\u001b[0m\n\u001b[0;32m      1\u001b[0m d1\u001b[38;5;241m=\u001b[39m{\u001b[38;5;124m'\u001b[39m\u001b[38;5;124mRam\u001b[39m\u001b[38;5;124m'\u001b[39m:\u001b[38;5;241m25\u001b[39m,\n\u001b[0;32m      2\u001b[0m     \u001b[38;5;124m'\u001b[39m\u001b[38;5;124mRaheem\u001b[39m\u001b[38;5;124m'\u001b[39m:\u001b[38;5;241m30\u001b[39m,\n\u001b[0;32m      3\u001b[0m     \u001b[38;5;124m'\u001b[39m\u001b[38;5;124mRobert\u001b[39m\u001b[38;5;124m'\u001b[39m:\u001b[38;5;241m35\u001b[39m}\n\u001b[1;32m----> 4\u001b[0m d1[\u001b[38;5;241m0\u001b[39m]\n",
      "\u001b[1;31mKeyError\u001b[0m: 0"
     ]
    }
   ],
   "source": [
    "d1={'Ram':25,\n",
    "    'Raheem':30,\n",
    "    'Robert':35}\n",
    "d1[0]"
   ]
  },
  {
   "cell_type": "code",
   "execution_count": 33,
   "id": "8f589723",
   "metadata": {},
   "outputs": [
    {
     "data": {
      "text/plain": [
       "25"
      ]
     },
     "execution_count": 33,
     "metadata": {},
     "output_type": "execute_result"
    }
   ],
   "source": [
    "d1={'Ram':25,\n",
    "    'Raheem':30,\n",
    "    'Robert':35}\n",
    "d1['Ram']\n",
    "\n"
   ]
  },
  {
   "cell_type": "code",
   "execution_count": null,
   "id": "c8c17c59",
   "metadata": {},
   "outputs": [],
   "source": [
    "# can i get values using for loop"
   ]
  },
  {
   "cell_type": "code",
   "execution_count": 35,
   "id": "253448e7",
   "metadata": {},
   "outputs": [
    {
     "name": "stdout",
     "output_type": "stream",
     "text": [
      "Ram\n",
      "Raheem\n",
      "Robert\n"
     ]
    }
   ],
   "source": [
    "for i in d1:\n",
    "    print(i)"
   ]
  },
  {
   "cell_type": "code",
   "execution_count": 36,
   "id": "6cfec10e",
   "metadata": {},
   "outputs": [
    {
     "name": "stdout",
     "output_type": "stream",
     "text": [
      "Ram\n",
      "Raheem\n",
      "Robert\n"
     ]
    }
   ],
   "source": [
    "for key in d1:\n",
    "    print(key)"
   ]
  },
  {
   "cell_type": "code",
   "execution_count": 34,
   "id": "85771629",
   "metadata": {},
   "outputs": [
    {
     "name": "stdout",
     "output_type": "stream",
     "text": [
      "Ram 25\n",
      "Raheem 30\n",
      "Robert 35\n"
     ]
    }
   ],
   "source": [
    "for key in d1:\n",
    "    print(key,d1[key])"
   ]
  },
  {
   "cell_type": "code",
   "execution_count": 37,
   "id": "73392ba1",
   "metadata": {},
   "outputs": [
    {
     "name": "stdout",
     "output_type": "stream",
     "text": [
      "the age of Ram is 25\n",
      "the age of Raheem is 30\n",
      "the age of Robert is 35\n"
     ]
    }
   ],
   "source": [
    "for key in d1:\n",
    "    print(\"the age of {} is {}\".format(key,d1[key]))"
   ]
  },
  {
   "cell_type": "code",
   "execution_count": 38,
   "id": "386a36f1",
   "metadata": {},
   "outputs": [
    {
     "name": "stdout",
     "output_type": "stream",
     "text": [
      "0 10\n",
      "1 20\n",
      "2 30\n"
     ]
    }
   ],
   "source": [
    "for i in range(len(d1)):\n",
    "    print(i,l1[i])"
   ]
  },
  {
   "cell_type": "code",
   "execution_count": 2,
   "id": "c269d4d1",
   "metadata": {},
   "outputs": [
    {
     "name": "stdout",
     "output_type": "stream",
     "text": [
      "0\n",
      "1\n",
      "2\n"
     ]
    }
   ],
   "source": [
    "d1={'Ram':25,\n",
    "    'Raheem':30,\n",
    "    'Robert':35}\n",
    "for key in range(len(d1)):\n",
    "    print(key)\n",
    "    \n",
    "    # print('The age of {} is {}'.format(key,d1[key]))"
   ]
  },
  {
   "cell_type": "markdown",
   "id": "28c255ea",
   "metadata": {},
   "source": [
    "##### creating a empty dictionary and update"
   ]
  },
  {
   "cell_type": "code",
   "execution_count": 39,
   "id": "9a5b57aa",
   "metadata": {},
   "outputs": [
    {
     "name": "stdout",
     "output_type": "stream",
     "text": [
      " apple\n"
     ]
    }
   ],
   "source": [
    "s=' '\n",
    "\n",
    "for i in 'apple':\n",
    "    s=s+i\n",
    "print(s)    "
   ]
  },
  {
   "cell_type": "code",
   "execution_count": 41,
   "id": "540cb810",
   "metadata": {},
   "outputs": [
    {
     "data": {
      "text/plain": [
       "[0, 1, 2, 3, 4, 5, 6, 7, 8, 9]"
      ]
     },
     "execution_count": 41,
     "metadata": {},
     "output_type": "execute_result"
    }
   ],
   "source": [
    "l=[i for i in range(10)]\n",
    "\n",
    "l=[]\n",
    "for i in range(10):\n",
    "    l.append(i)\n",
    "    \n",
    "l    "
   ]
  },
  {
   "cell_type": "code",
   "execution_count": 42,
   "id": "43f6a3dc",
   "metadata": {},
   "outputs": [
    {
     "data": {
      "text/plain": [
       "{'fruit': 'Apple'}"
      ]
     },
     "execution_count": 42,
     "metadata": {},
     "output_type": "execute_result"
    }
   ],
   "source": [
    "d1={}\n",
    "d1['fruit']='Apple'\n",
    "d1"
   ]
  },
  {
   "cell_type": "code",
   "execution_count": 43,
   "id": "e7a55ff3",
   "metadata": {},
   "outputs": [
    {
     "data": {
      "text/plain": [
       "{'Ram': 30}"
      ]
     },
     "execution_count": 43,
     "metadata": {},
     "output_type": "execute_result"
    }
   ],
   "source": [
    "d1={}\n",
    "d1['Ram']=30\n",
    "d1"
   ]
  },
  {
   "cell_type": "code",
   "execution_count": null,
   "id": "cc201442",
   "metadata": {},
   "outputs": [],
   "source": [
    "#WAP create your on databse\n",
    "- name:Deepak\n",
    "- age:23\n",
    "- study=B.tech"
   ]
  },
  {
   "cell_type": "code",
   "execution_count": 46,
   "id": "c61955dd",
   "metadata": {},
   "outputs": [
    {
     "data": {
      "text/plain": [
       "{'Name': 'deepak', 'age': 23, 'study': 'B.tech'}"
      ]
     },
     "execution_count": 46,
     "metadata": {},
     "output_type": "execute_result"
    }
   ],
   "source": [
    "d1={}\n",
    "d1['Name']='deepak'\n",
    "d1['age']=23\n",
    "d1['study']='B.tech'\n",
    "d1"
   ]
  },
  {
   "cell_type": "code",
   "execution_count": null,
   "id": "529f7460",
   "metadata": {},
   "outputs": [],
   "source": [
    "#WAP create a dictionary based on two list\n",
    "# names=['Ram','Raheem','Robert']\n",
    "# ages=[25,30,35]"
   ]
  },
  {
   "cell_type": "code",
   "execution_count": 52,
   "id": "51254dc3",
   "metadata": {},
   "outputs": [
    {
     "data": {
      "text/plain": [
       "{'Ram': 25, 'Raheem': 30, 'Robert': 35}"
      ]
     },
     "execution_count": 52,
     "metadata": {},
     "output_type": "execute_result"
    }
   ],
   "source": [
    "list1=['Ram','Raheem','Robert']\n",
    "list2=[25,30,35]\n",
    "d1={}\n",
    "for i,j in zip(list1,list2):\n",
    "    d1[i]=j\n",
    "    \n",
    "d1"
   ]
  },
  {
   "cell_type": "code",
   "execution_count": 55,
   "id": "937fcc86",
   "metadata": {},
   "outputs": [
    {
     "data": {
      "text/plain": [
       "{'Ram': 25, 'Raheem': 30, 'Robert': 35}"
      ]
     },
     "execution_count": 55,
     "metadata": {},
     "output_type": "execute_result"
    }
   ],
   "source": [
    "names=['Ram','Raheem','Robert']\n",
    "ages=[25,30,35]\n",
    "dict1={}\n",
    "for i in range(len(names)):\n",
    "    dict1[names[i]]=ages[i]\n",
    "dict1"
   ]
  },
  {
   "cell_type": "code",
   "execution_count": 56,
   "id": "c24412f4",
   "metadata": {},
   "outputs": [
    {
     "data": {
      "text/plain": [
       "{'Ram': 25, 'Raheem': 30, 'Robert': 35}"
      ]
     },
     "execution_count": 56,
     "metadata": {},
     "output_type": "execute_result"
    }
   ],
   "source": [
    "dict1={names[i]:ages[i] for i in range(len(names))}\n",
    "dict1"
   ]
  },
  {
   "cell_type": "code",
   "execution_count": 58,
   "id": "c96e0748",
   "metadata": {},
   "outputs": [
    {
     "data": {
      "text/plain": [
       "('Ram', 25)"
      ]
     },
     "execution_count": 58,
     "metadata": {},
     "output_type": "execute_result"
    }
   ],
   "source": [
    "names[0],ages[0]"
   ]
  },
  {
   "cell_type": "code",
   "execution_count": 59,
   "id": "0a62a49e",
   "metadata": {},
   "outputs": [
    {
     "name": "stdout",
     "output_type": "stream",
     "text": [
      "Ram 25\n",
      "Raheem 30\n",
      "Robert 35\n"
     ]
    }
   ],
   "source": [
    "for names,ages in zip(names,ages):\n",
    "    print(names,ages)\n",
    "    "
   ]
  },
  {
   "cell_type": "code",
   "execution_count": 8,
   "id": "773c81b8",
   "metadata": {},
   "outputs": [
    {
     "data": {
      "text/plain": [
       "{'Ram': 25, 'Raheem': 30, 'Robert': 35}"
      ]
     },
     "execution_count": 8,
     "metadata": {},
     "output_type": "execute_result"
    }
   ],
   "source": [
    "# WAP create a dictionary based on two lists\n",
    "# names=['Ram','Raheem','Robert']\n",
    "# age=[25,30,35]\n",
    "# d1={'Ram':25,'Raheem':30,'Robert':35}\n",
    "names=['Ram','Raheem','Robert']\n",
    "ages=[25,30,35]\n",
    "dict1={}\n",
    "for i,j in zip(names,ages):\n",
    "    dict1[i]=j\n",
    "dict1\n",
    "\n",
    "###########################################\n",
    "dict1={name:age for name,age in zip(names,ages)}\n",
    "dict1"
   ]
  },
  {
   "cell_type": "code",
   "execution_count": 14,
   "id": "a475abb6",
   "metadata": {},
   "outputs": [
    {
     "data": {
      "text/plain": [
       "{'Ram': 25, 'Raheem': 30, 'Robert': 35}"
      ]
     },
     "execution_count": 14,
     "metadata": {},
     "output_type": "execute_result"
    }
   ],
   "source": [
    "dict1={}\n",
    "for i in range(len(names)):\n",
    "    dict1[names[i]]=ages[i]\n",
    "dict1\n",
    "\n",
    "##################################\n",
    "dict1={names[i]:ages[i] for i in range(len(names))}\n",
    "dict1"
   ]
  },
  {
   "cell_type": "code",
   "execution_count": null,
   "id": "d1030215",
   "metadata": {},
   "outputs": [],
   "source": [
    "#WAP take 5 random number\n",
    "# and create a dictionary with even or odd\n",
    "\n",
    "# output:{'even':[20,22],'odd':[19,21,23]}\n",
    "\n",
    "# step-1: take empty dictionary\n",
    "# step-2: take two evan and odd list\n",
    "# step-3: import random\n",
    "# step-4: for i in ranges(5):\n",
    "# step-5: num=random.randint(a,b)\n",
    "# step-6: if <even>:\n",
    "# step-7:     append the values in even list\n",
    "# step-8: else:\n",
    "# step-9:    append the values in odd list\n",
    "# step-10: create dictionary"
   ]
  },
  {
   "cell_type": "code",
   "execution_count": 62,
   "id": "022d1a9c",
   "metadata": {},
   "outputs": [
    {
     "name": "stdout",
     "output_type": "stream",
     "text": [
      "10 is an even number\n",
      "11 is an odd number\n",
      "12 is an even number\n",
      "13 is an odd number\n",
      "14 is an even number\n",
      "15 is an odd number\n"
     ]
    }
   ],
   "source": [
    "import random\n",
    "for i in range(10,16):\n",
    "    if i%2==0:\n",
    "        print('{} is an even number'.format(i))\n",
    "    else:\n",
    "        print(\"{} is an odd number\".format(i))"
   ]
  },
  {
   "cell_type": "code",
   "execution_count": 72,
   "id": "5b8b7a84",
   "metadata": {},
   "outputs": [],
   "source": [
    "d1={}\n",
    "even_list=[]\n",
    "odd_list=[]\n",
    "import random\n",
    "for i in range(5):\n",
    "    num=random.randint(1,100)\n",
    "    if num%2==0:\n",
    "        even_list.append(num)\n",
    "    else:\n",
    "        odd_list.append(num)\n",
    "\n",
    "            \n",
    "d1['even list']=even_list\n",
    "d1['odd list']=odd_list\n"
   ]
  },
  {
   "cell_type": "code",
   "execution_count": 71,
   "id": "59e5d230",
   "metadata": {},
   "outputs": [
    {
     "data": {
      "text/plain": [
       "{'even list': [26, 24, 8, 88], 'odd list': [97]}"
      ]
     },
     "execution_count": 71,
     "metadata": {},
     "output_type": "execute_result"
    }
   ],
   "source": [
    "d1"
   ]
  },
  {
   "cell_type": "markdown",
   "id": "3ed9d0b5",
   "metadata": {},
   "source": [
    "### Dictionary method"
   ]
  },
  {
   "cell_type": "code",
   "execution_count": 3,
   "id": "9547177d",
   "metadata": {},
   "outputs": [
    {
     "data": {
      "text/plain": [
       "['__class__',\n",
       " '__class_getitem__',\n",
       " '__contains__',\n",
       " '__delattr__',\n",
       " '__delitem__',\n",
       " '__dir__',\n",
       " '__doc__',\n",
       " '__eq__',\n",
       " '__format__',\n",
       " '__ge__',\n",
       " '__getattribute__',\n",
       " '__getitem__',\n",
       " '__getstate__',\n",
       " '__gt__',\n",
       " '__hash__',\n",
       " '__init__',\n",
       " '__init_subclass__',\n",
       " '__ior__',\n",
       " '__iter__',\n",
       " '__le__',\n",
       " '__len__',\n",
       " '__lt__',\n",
       " '__ne__',\n",
       " '__new__',\n",
       " '__or__',\n",
       " '__reduce__',\n",
       " '__reduce_ex__',\n",
       " '__repr__',\n",
       " '__reversed__',\n",
       " '__ror__',\n",
       " '__setattr__',\n",
       " '__setitem__',\n",
       " '__sizeof__',\n",
       " '__str__',\n",
       " '__subclasshook__',\n",
       " 'clear',\n",
       " 'copy',\n",
       " 'fromkeys',\n",
       " 'get',\n",
       " 'items',\n",
       " 'keys',\n",
       " 'pop',\n",
       " 'popitem',\n",
       " 'setdefault',\n",
       " 'update',\n",
       " 'values']"
      ]
     },
     "execution_count": 3,
     "metadata": {},
     "output_type": "execute_result"
    }
   ],
   "source": [
    "dir({})\n",
    "# str=' '\n",
    "# list=[]\n",
    "# dict={}"
   ]
  },
  {
   "cell_type": "markdown",
   "id": "13d279e2",
   "metadata": {},
   "source": [
    "$items$-$Keys$-$Values$"
   ]
  },
  {
   "cell_type": "code",
   "execution_count": 4,
   "id": "65f038d3",
   "metadata": {},
   "outputs": [
    {
     "data": {
      "text/plain": [
       "{'Ram': 25, 'Raheem': 30, 'Robert': 35}"
      ]
     },
     "execution_count": 4,
     "metadata": {},
     "output_type": "execute_result"
    }
   ],
   "source": [
    "d1={'Ram':25,\n",
    "    'Raheem':30,\n",
    "    'Robert':35}\n",
    "d1"
   ]
  },
  {
   "cell_type": "code",
   "execution_count": 5,
   "id": "9b6b6c04",
   "metadata": {},
   "outputs": [
    {
     "data": {
      "text/plain": [
       "dict_items([('Ram', 25), ('Raheem', 30), ('Robert', 35)])"
      ]
     },
     "execution_count": 5,
     "metadata": {},
     "output_type": "execute_result"
    }
   ],
   "source": [
    "# items\n",
    "items=d1.items()\n",
    "items"
   ]
  },
  {
   "cell_type": "code",
   "execution_count": 6,
   "id": "a2271abb",
   "metadata": {},
   "outputs": [
    {
     "data": {
      "text/plain": [
       "dict_items"
      ]
     },
     "execution_count": 6,
     "metadata": {},
     "output_type": "execute_result"
    }
   ],
   "source": [
    "type(items)"
   ]
  },
  {
   "cell_type": "code",
   "execution_count": 7,
   "id": "dde469af",
   "metadata": {},
   "outputs": [
    {
     "data": {
      "text/plain": [
       "dict_keys(['Ram', 'Raheem', 'Robert'])"
      ]
     },
     "execution_count": 7,
     "metadata": {},
     "output_type": "execute_result"
    }
   ],
   "source": [
    "#keys\n",
    "keys=d1.keys()\n",
    "keys"
   ]
  },
  {
   "cell_type": "code",
   "execution_count": 8,
   "id": "5384cbb1",
   "metadata": {},
   "outputs": [
    {
     "data": {
      "text/plain": [
       "dict_keys"
      ]
     },
     "execution_count": 8,
     "metadata": {},
     "output_type": "execute_result"
    }
   ],
   "source": [
    "type(keys)"
   ]
  },
  {
   "cell_type": "code",
   "execution_count": 9,
   "id": "f013f9de",
   "metadata": {},
   "outputs": [
    {
     "data": {
      "text/plain": [
       "dict_values([25, 30, 35])"
      ]
     },
     "execution_count": 9,
     "metadata": {},
     "output_type": "execute_result"
    }
   ],
   "source": [
    "#values\n",
    "values=d1.values()\n",
    "values\n"
   ]
  },
  {
   "cell_type": "code",
   "execution_count": 10,
   "id": "8f9b7793",
   "metadata": {},
   "outputs": [
    {
     "data": {
      "text/plain": [
       "dict_values"
      ]
     },
     "execution_count": 10,
     "metadata": {},
     "output_type": "execute_result"
    }
   ],
   "source": [
    "type(values)"
   ]
  },
  {
   "cell_type": "code",
   "execution_count": 11,
   "id": "008046d6",
   "metadata": {},
   "outputs": [
    {
     "data": {
      "text/plain": [
       "[25, 30, 35, 400]"
      ]
     },
     "execution_count": 11,
     "metadata": {},
     "output_type": "execute_result"
    }
   ],
   "source": [
    "l1=[25,30,35]\n",
    "l1.append(400)\n",
    "l1"
   ]
  },
  {
   "cell_type": "code",
   "execution_count": 12,
   "id": "78819abb",
   "metadata": {},
   "outputs": [
    {
     "data": {
      "text/plain": [
       "[25, 30, 35]"
      ]
     },
     "execution_count": 12,
     "metadata": {},
     "output_type": "execute_result"
    }
   ],
   "source": [
    "values    # I want to convert into list\n",
    "values_list=list(values)  # then you can apply list method\n",
    "values_list"
   ]
  },
  {
   "cell_type": "code",
   "execution_count": 13,
   "id": "4d69f376",
   "metadata": {},
   "outputs": [
    {
     "data": {
      "text/plain": [
       "['Ram', 'Raheem', 'Robert']"
      ]
     },
     "execution_count": 13,
     "metadata": {},
     "output_type": "execute_result"
    }
   ],
   "source": [
    "keys_list=list(keys)\n",
    "keys_list"
   ]
  },
  {
   "cell_type": "code",
   "execution_count": null,
   "id": "9c7ff97c",
   "metadata": {},
   "outputs": [],
   "source": [
    "# I will give the dictionary\n",
    "# can you extract keys and values in the list\n",
    "\n",
    "\n",
    "\n",
    "\n",
    "\n",
    "# I will give two list keys and values\n",
    "# can you create a dictionary"
   ]
  },
  {
   "cell_type": "code",
   "execution_count": 14,
   "id": "d8ee3371",
   "metadata": {},
   "outputs": [],
   "source": [
    "d1={'Ram':25,\n",
    "    'Raheem':30,\n",
    "    'Robert':35}\n",
    "keys=list(d1.keys())\n",
    "values=list(d1.values())"
   ]
  },
  {
   "cell_type": "code",
   "execution_count": 2,
   "id": "93e4b6a2",
   "metadata": {},
   "outputs": [],
   "source": [
    "d1={'Ram':25,\n",
    "    'Raheem':30,\n",
    "    'Robert':35}\n",
    "keys=list(d1.keys())\n",
    "values=list(d1.values())"
   ]
  },
  {
   "cell_type": "code",
   "execution_count": 3,
   "id": "88f3733f",
   "metadata": {},
   "outputs": [
    {
     "data": {
      "text/plain": [
       "(['Ram', 'Raheem', 'Robert'], [25, 30, 35])"
      ]
     },
     "execution_count": 3,
     "metadata": {},
     "output_type": "execute_result"
    }
   ],
   "source": [
    "keys,values"
   ]
  },
  {
   "cell_type": "code",
   "execution_count": 6,
   "id": "776f93ef",
   "metadata": {},
   "outputs": [
    {
     "data": {
      "text/plain": [
       "{'Ram': 25, 'Raheem': 30, 'Robert': 35}"
      ]
     },
     "execution_count": 6,
     "metadata": {},
     "output_type": "execute_result"
    }
   ],
   "source": [
    "d1=dict(zip(keys,values))\n",
    "d1"
   ]
  },
  {
   "cell_type": "code",
   "execution_count": 7,
   "id": "eef1cfc7",
   "metadata": {},
   "outputs": [
    {
     "data": {
      "text/plain": [
       "{'Ram': 25, 'Raheem': 30, 'Robert': 35}"
      ]
     },
     "execution_count": 7,
     "metadata": {},
     "output_type": "execute_result"
    }
   ],
   "source": [
    "{i:j for i,j in zip(keys,values)}"
   ]
  },
  {
   "cell_type": "code",
   "execution_count": 9,
   "id": "52036d1f",
   "metadata": {},
   "outputs": [
    {
     "data": {
      "text/plain": [
       "{'Ram': 25, 'Raheem': 30, 'Robert': 35}"
      ]
     },
     "execution_count": 9,
     "metadata": {},
     "output_type": "execute_result"
    }
   ],
   "source": [
    "d1={}\n",
    "for i in range(len(keys)):\n",
    "    d1[keys[i]]=values[i]\n",
    "d1"
   ]
  },
  {
   "cell_type": "code",
   "execution_count": 15,
   "id": "e48bb1cb",
   "metadata": {},
   "outputs": [],
   "source": [
    "s1='virat.kohli@blr.com,Rohit.sharma@mumbai.com,kl.rahul@lucknow.com'\n",
    "\n",
    "#{'first_name':['virat','Rohit','KL'],\n",
    "#  'second_name':['kohli','sharma','rahul'],\n",
    " #  'company':['blr','mumbai','lucknow']     "
   ]
  },
  {
   "cell_type": "code",
   "execution_count": 22,
   "id": "8c5385a6",
   "metadata": {},
   "outputs": [
    {
     "name": "stdout",
     "output_type": "stream",
     "text": [
      "['virat.kohli@blr.com', 'Rohit.sharma@mumbai.com', 'kl.rahul@lucknow.com']\n"
     ]
    }
   ],
   "source": [
    "#d1={}\n",
    "#l1=[]\n",
    "#l2=[]\n",
    "#l3=[]\n",
    "l1=s1.split(',')\n",
    "#l2=s1.split('.')\n",
    "#l3=s1.split('@')\n",
    "print(l1)\n",
    "#print(l2)\n",
    "    "
   ]
  },
  {
   "cell_type": "code",
   "execution_count": 16,
   "id": "26df1148",
   "metadata": {},
   "outputs": [
    {
     "data": {
      "text/plain": [
       "['virat.kohli@blr.com', 'Rohit.sharma@mumbai.com', 'kl.rahul@lucknow.com']"
      ]
     },
     "execution_count": 16,
     "metadata": {},
     "output_type": "execute_result"
    }
   ],
   "source": [
    "s1.split(',')"
   ]
  },
  {
   "cell_type": "code",
   "execution_count": 17,
   "id": "b2588f9c",
   "metadata": {},
   "outputs": [
    {
     "data": {
      "text/plain": [
       "{'first_name': ['virat', 'Rohit', 'kl'],\n",
       " 'second_name': ['kohli', 'sharma', 'rahul'],\n",
       " 'c_name': ['blr', 'mumbai', 'lucknow']}"
      ]
     },
     "execution_count": 17,
     "metadata": {},
     "output_type": "execute_result"
    }
   ],
   "source": [
    "s1='virat.kohli@blr.com,Rohit.sharma@mumbai.com,kl.rahul@lucknow.com'\n",
    "str1='virat.kohli@blr.com'\n",
    "d1={}\n",
    "f_name=[str1[:str1.find('.')]for str1 in  s1.split(',')]\n",
    "s_name=[str1[str1.find('.')+1:str1.find('@')]for str1 in s1.split(',')]\n",
    "c_name=[str1[str1.find('@')+1:str1.find('.',str1.find('.')+1)]for str1 in s1.split(',')]\n",
    "d1['first_name']=f_name\n",
    "d1['second_name']=s_name\n",
    "d1['c_name']=c_name\n",
    "d1"
   ]
  },
  {
   "cell_type": "code",
   "execution_count": 18,
   "id": "cf130acf",
   "metadata": {},
   "outputs": [
    {
     "data": {
      "text/plain": [
       "{'first_name': ['virat', 'Rohit', 'kl'],\n",
       " 'second_name': ['kohli', 'sharma', 'rahul'],\n",
       " 'company_name': ['blr', 'mumbai', 'lucknow']}"
      ]
     },
     "execution_count": 18,
     "metadata": {},
     "output_type": "execute_result"
    }
   ],
   "source": [
    "s1='virat.kohli@blr.com,Rohit.sharma@mumbai.com,kl.rahul@lucknow.com'\n",
    "str1='virat.kohli@blr.com'\n",
    "d1={}\n",
    "f_name=[str1[:str1.find('.')]for str1 in s1.split(',')]\n",
    "s_name=[str1[str1.find('.')+1:str1.find('@')]for str1 in s1.split(',')]\n",
    "c_name=[str1[str1.find('@')+1:str1.find('.',str1.find('.')+1)]for str1 in s1.split(',')]\n",
    "d1['first_name']=f_name\n",
    "d1['second_name']=s_name\n",
    "d1['company_name']=c_name\n",
    "d1"
   ]
  },
  {
   "cell_type": "code",
   "execution_count": null,
   "id": "41c95730",
   "metadata": {},
   "outputs": [],
   "source": []
  },
  {
   "cell_type": "code",
   "execution_count": null,
   "id": "152fabad",
   "metadata": {},
   "outputs": [],
   "source": []
  },
  {
   "cell_type": "code",
   "execution_count": null,
   "id": "968b1c86",
   "metadata": {},
   "outputs": [],
   "source": []
  },
  {
   "cell_type": "markdown",
   "id": "acb0720d",
   "metadata": {},
   "source": [
    "$Words$-$Frequency$"
   ]
  },
  {
   "cell_type": "code",
   "execution_count": 30,
   "id": "14eb7e39",
   "metadata": {},
   "outputs": [],
   "source": [
    "str1='can can you canner can you able to can canner'\n",
    "\n",
    "# {'can':4,'you':2,'canner':2,'able':1,'to':1}\n",
    "# d={}\n",
    "# step:-1: split the str1 =====> you will get a list\n",
    "# step2:- iterate through the loop =====> each word will print\n",
    "# step3:- list1.count(<word): number\n",
    "# step4:- make the dictionary "
   ]
  },
  {
   "cell_type": "code",
   "execution_count": 19,
   "id": "6aa1b6c2",
   "metadata": {},
   "outputs": [
    {
     "data": {
      "text/plain": [
       "{'can': 4, 'you': 2, 'canner': 2, 'able': 1, 'to': 1}"
      ]
     },
     "execution_count": 19,
     "metadata": {},
     "output_type": "execute_result"
    }
   ],
   "source": [
    "str1='can can you canner can you able to can canner'\n",
    "l1=str1.split(' ')  # step-1\n",
    "d1={}\n",
    "for i in l1:    # step-2\n",
    "    d1[i]=l1.count(i)  # step-3\n",
    "d1"
   ]
  },
  {
   "cell_type": "code",
   "execution_count": 21,
   "id": "8c485e31",
   "metadata": {},
   "outputs": [
    {
     "data": {
      "text/plain": [
       "['can', 'can', 'you', 'canner', 'can', 'you', 'able', 'to', 'can', 'canner']"
      ]
     },
     "execution_count": 21,
     "metadata": {},
     "output_type": "execute_result"
    }
   ],
   "source": [
    "str1='can can you canner can you able to can canner'\n",
    "str1.split()"
   ]
  },
  {
   "cell_type": "code",
   "execution_count": 38,
   "id": "120416db",
   "metadata": {},
   "outputs": [
    {
     "data": {
      "text/plain": [
       "['can', 'can', 'you', 'canner', 'can', 'you', 'able', 'to', 'can', 'canner']"
      ]
     },
     "execution_count": 38,
     "metadata": {},
     "output_type": "execute_result"
    }
   ],
   "source": [
    "str1='can can you canner can you able to can canner'\n",
    "d1={}\n",
    "count=0\n",
    "str1.split()\n",
    "\n",
    "    \n",
    "    \n"
   ]
  },
  {
   "cell_type": "code",
   "execution_count": 44,
   "id": "b2ce8518",
   "metadata": {},
   "outputs": [
    {
     "data": {
      "text/plain": [
       "{'can': 4, 'you': 2, 'canner': 2, 'able': 1, 'to': 1}"
      ]
     },
     "execution_count": 44,
     "metadata": {},
     "output_type": "execute_result"
    }
   ],
   "source": [
    "list1=['can', 'can', 'you', 'canner', 'can', 'you', 'able', 'to', 'can', 'canner']\n",
    "for i in list1:\n",
    "    b=list1.count('can')\n",
    "    c=list1.count('you')\n",
    "    d=list1.count('canner')\n",
    "    e=list1.count('able')\n",
    "    f=list1.count('to')\n",
    "    dict1={'can':b,'you':c,'canner':d,'able':e,'to':f}\n",
    "dict1"
   ]
  },
  {
   "cell_type": "code",
   "execution_count": 22,
   "id": "75778f57",
   "metadata": {},
   "outputs": [],
   "source": [
    "keys=list(d1.keys())"
   ]
  },
  {
   "cell_type": "code",
   "execution_count": 23,
   "id": "1c07c440",
   "metadata": {},
   "outputs": [],
   "source": [
    "values=list(d1.values())"
   ]
  },
  {
   "cell_type": "code",
   "execution_count": 24,
   "id": "cb337d99",
   "metadata": {},
   "outputs": [
    {
     "data": {
      "text/plain": [
       "(['can', 'you', 'canner', 'able', 'to'], [4, 2, 2, 1, 1])"
      ]
     },
     "execution_count": 24,
     "metadata": {},
     "output_type": "execute_result"
    }
   ],
   "source": [
    "keys,values"
   ]
  },
  {
   "cell_type": "code",
   "execution_count": 25,
   "id": "dae102ad",
   "metadata": {},
   "outputs": [],
   "source": [
    "i=max(values)"
   ]
  },
  {
   "cell_type": "code",
   "execution_count": 26,
   "id": "7fd42242",
   "metadata": {},
   "outputs": [
    {
     "data": {
      "text/plain": [
       "0"
      ]
     },
     "execution_count": 26,
     "metadata": {},
     "output_type": "execute_result"
    }
   ],
   "source": [
    "values.index(i)"
   ]
  },
  {
   "cell_type": "code",
   "execution_count": 27,
   "id": "68193d78",
   "metadata": {},
   "outputs": [
    {
     "data": {
      "text/plain": [
       "'can'"
      ]
     },
     "execution_count": 27,
     "metadata": {},
     "output_type": "execute_result"
    }
   ],
   "source": [
    "keys[values.index(max(values))]"
   ]
  },
  {
   "cell_type": "code",
   "execution_count": null,
   "id": "21bea6c1",
   "metadata": {},
   "outputs": [],
   "source": []
  },
  {
   "cell_type": "code",
   "execution_count": 45,
   "id": "f939fc55",
   "metadata": {},
   "outputs": [],
   "source": [
    "d1={'a':20,'b':30,'c':40}\n",
    "d2={'a':50,'b':100,'c':200}\n",
    "\n",
    "#o/p={'a':50,'b':130,'c':240}"
   ]
  },
  {
   "cell_type": "code",
   "execution_count": 48,
   "id": "3e84a5f2",
   "metadata": {},
   "outputs": [
    {
     "name": "stdout",
     "output_type": "stream",
     "text": [
      "{'a': 70, 'b': 130, 'c': 240}\n"
     ]
    }
   ],
   "source": [
    "result={key:d1[key]+d2[key] for key in d1}\n",
    "print(result)"
   ]
  },
  {
   "cell_type": "code",
   "execution_count": 28,
   "id": "54180a87",
   "metadata": {},
   "outputs": [
    {
     "data": {
      "text/plain": [
       "{'a': 70, 'b': 130, 'c': 240}"
      ]
     },
     "execution_count": 28,
     "metadata": {},
     "output_type": "execute_result"
    }
   ],
   "source": [
    "d1={'a':20,'b':30,'c':40}\n",
    "d2={'a':50,'b':100,'c':200}\n",
    "\n",
    "d3={}\n",
    "if len(d1)==len(d2):\n",
    "    for i in d1:\n",
    "        d3[i]=d1[i]+d2[i]\n",
    "        #d3['a']=d1['a']+d2['a']\n",
    "        \n",
    "d3\n",
    "        "
   ]
  },
  {
   "cell_type": "code",
   "execution_count": 29,
   "id": "abb29776",
   "metadata": {},
   "outputs": [
    {
     "data": {
      "text/plain": [
       "{'a': 70, 'b': 130, 'c': 240}"
      ]
     },
     "execution_count": 29,
     "metadata": {},
     "output_type": "execute_result"
    }
   ],
   "source": [
    "for i in range(min(len(d1),len(d2))):\n",
    "    d1[list(d1.keys())[i]]+=d2[list(d2.keys())[i]]\n",
    "d1"
   ]
  },
  {
   "cell_type": "code",
   "execution_count": 51,
   "id": "c0590a03",
   "metadata": {},
   "outputs": [
    {
     "data": {
      "text/plain": [
       "{'a': 70, 'b': 130, 'c': 240}"
      ]
     },
     "execution_count": 51,
     "metadata": {},
     "output_type": "execute_result"
    }
   ],
   "source": [
    "d1={'a':20,'b':30,'c':40}\n",
    "d2={'a':50,'b':100,'c':200}\n",
    "d3={}\n",
    "if len(d1)==len(d2):\n",
    "    for i in d1:\n",
    "        d3[i]=d1[i]+d2[i]\n",
    "\n",
    "d3    "
   ]
  },
  {
   "cell_type": "code",
   "execution_count": 30,
   "id": "35d4eed8",
   "metadata": {},
   "outputs": [],
   "source": [
    "d1={'a':20,'b':30,'c':40,'d':500}\n",
    "d2={'a':50,'b':100,'c':200}"
   ]
  },
  {
   "cell_type": "code",
   "execution_count": 31,
   "id": "27a86ce7",
   "metadata": {},
   "outputs": [
    {
     "data": {
      "text/plain": [
       "{'a': 70, 'b': 130, 'c': 240, 'd': 500}"
      ]
     },
     "execution_count": 31,
     "metadata": {},
     "output_type": "execute_result"
    }
   ],
   "source": [
    "for i in range(min(len(d1),len(d2))):\n",
    "    d1[list(d1.keys())[i]]+=d2[list(d2.keys())[i]]\n",
    "d1"
   ]
  },
  {
   "cell_type": "code",
   "execution_count": 1,
   "id": "917ff04c",
   "metadata": {},
   "outputs": [
    {
     "data": {
      "text/plain": [
       "['__class__',\n",
       " '__class_getitem__',\n",
       " '__contains__',\n",
       " '__delattr__',\n",
       " '__delitem__',\n",
       " '__dir__',\n",
       " '__doc__',\n",
       " '__eq__',\n",
       " '__format__',\n",
       " '__ge__',\n",
       " '__getattribute__',\n",
       " '__getitem__',\n",
       " '__getstate__',\n",
       " '__gt__',\n",
       " '__hash__',\n",
       " '__init__',\n",
       " '__init_subclass__',\n",
       " '__ior__',\n",
       " '__iter__',\n",
       " '__le__',\n",
       " '__len__',\n",
       " '__lt__',\n",
       " '__ne__',\n",
       " '__new__',\n",
       " '__or__',\n",
       " '__reduce__',\n",
       " '__reduce_ex__',\n",
       " '__repr__',\n",
       " '__reversed__',\n",
       " '__ror__',\n",
       " '__setattr__',\n",
       " '__setitem__',\n",
       " '__sizeof__',\n",
       " '__str__',\n",
       " '__subclasshook__',\n",
       " 'clear',\n",
       " 'copy',\n",
       " 'fromkeys',\n",
       " 'get',\n",
       " 'items',\n",
       " 'keys',\n",
       " 'pop',\n",
       " 'popitem',\n",
       " 'setdefault',\n",
       " 'update',\n",
       " 'values']"
      ]
     },
     "execution_count": 1,
     "metadata": {},
     "output_type": "execute_result"
    }
   ],
   "source": [
    "dir({})"
   ]
  },
  {
   "cell_type": "code",
   "execution_count": 4,
   "id": "20ae2aaf",
   "metadata": {},
   "outputs": [
    {
     "name": "stdout",
     "output_type": "stream",
     "text": [
      "{}\n",
      "{'Ram': 25, 'Raheem': 30, 'Robert': 35}\n"
     ]
    }
   ],
   "source": [
    "d1={'Ram':25,\n",
    "    'Raheem':30,\n",
    "    'Robert':35}\n",
    "d2=d1.copy()\n",
    "d1.clear()\n",
    "print(d1)\n",
    "print(d2)"
   ]
  },
  {
   "cell_type": "markdown",
   "id": "cf74a416",
   "metadata": {},
   "source": [
    "$pop$-$popitem$-$del$"
   ]
  },
  {
   "cell_type": "code",
   "execution_count": 6,
   "id": "be6d94c2",
   "metadata": {},
   "outputs": [
    {
     "data": {
      "text/plain": [
       "35"
      ]
     },
     "execution_count": 6,
     "metadata": {},
     "output_type": "execute_result"
    }
   ],
   "source": [
    "d1={'Ram':25,\n",
    "    'Raheem':30,\n",
    "    'Robert':35}\n",
    "d2=d1.pop('Robert')\n",
    "d2"
   ]
  },
  {
   "cell_type": "code",
   "execution_count": 14,
   "id": "433dfaaa",
   "metadata": {},
   "outputs": [
    {
     "data": {
      "text/plain": [
       "{'Raheem': 30, 'Robert': 35}"
      ]
     },
     "execution_count": 14,
     "metadata": {},
     "output_type": "execute_result"
    }
   ],
   "source": [
    "d1={'Ram':25,\n",
    "    'Raheem':30,\n",
    "    'Robert':35}\n",
    "d1.pop('Ram')\n",
    "d1"
   ]
  },
  {
   "cell_type": "code",
   "execution_count": 15,
   "id": "f7e150e1",
   "metadata": {},
   "outputs": [
    {
     "data": {
      "text/plain": [
       "{'Ram': 25, 'Raheem': 30}"
      ]
     },
     "execution_count": 15,
     "metadata": {},
     "output_type": "execute_result"
    }
   ],
   "source": [
    "d1={'Ram':25,\n",
    "    'Raheem':30,\n",
    "    'Robert':35}\n",
    "d1.popitem()\n",
    "d1"
   ]
  },
  {
   "cell_type": "code",
   "execution_count": 26,
   "id": "7e425e0d",
   "metadata": {},
   "outputs": [
    {
     "data": {
      "text/plain": [
       "{'Raheem': 30, 'Robert': 35}"
      ]
     },
     "execution_count": 26,
     "metadata": {},
     "output_type": "execute_result"
    }
   ],
   "source": [
    "d2={'Ram':25,\n",
    "    'Raheem':30,\n",
    "    'Robert':35}\n",
    "del d2['Ram']\n",
    "d2"
   ]
  },
  {
   "cell_type": "code",
   "execution_count": null,
   "id": "9e735b5e",
   "metadata": {},
   "outputs": [],
   "source": []
  },
  {
   "cell_type": "code",
   "execution_count": 24,
   "id": "21dfdd9a",
   "metadata": {},
   "outputs": [
    {
     "data": {
      "text/plain": [
       "[10, 30, 40]"
      ]
     },
     "execution_count": 24,
     "metadata": {},
     "output_type": "execute_result"
    }
   ],
   "source": [
    "d1=[10,20,30,40]\n",
    "del d1[1]\n",
    "d1"
   ]
  },
  {
   "cell_type": "code",
   "execution_count": 31,
   "id": "108d85ef",
   "metadata": {},
   "outputs": [],
   "source": [
    "d2={'Ram':25,\n",
    "    'Raheem':30,\n",
    "    'Robert':35}\n",
    "del (d2)\n"
   ]
  },
  {
   "cell_type": "code",
   "execution_count": 33,
   "id": "350f219a",
   "metadata": {},
   "outputs": [
    {
     "data": {
      "text/plain": [
       "{'a': 1, 'b': 2}"
      ]
     },
     "execution_count": 33,
     "metadata": {},
     "output_type": "execute_result"
    }
   ],
   "source": [
    "d1={'a':1,'b':2,'c':3}\n",
    "del d1['c']\n",
    "d1"
   ]
  },
  {
   "cell_type": "code",
   "execution_count": 38,
   "id": "f9588b21",
   "metadata": {},
   "outputs": [
    {
     "data": {
      "text/plain": [
       "{'a': 1, 'b': 2}"
      ]
     },
     "execution_count": 38,
     "metadata": {},
     "output_type": "execute_result"
    }
   ],
   "source": [
    "d1={'a':1,'b':2,'c':3}\n",
    "d2=d1.pop('c')\n",
    "d1"
   ]
  },
  {
   "cell_type": "code",
   "execution_count": 18,
   "id": "cad1cceb",
   "metadata": {},
   "outputs": [
    {
     "name": "stdout",
     "output_type": "stream",
     "text": [
      "{}\n",
      "{'a': 20, 'b': 30, 'c': 40, 'd': 500}\n"
     ]
    }
   ],
   "source": [
    "# take one dictionary\n",
    "# take seond dictionary\n",
    "# copy first dict into second\n",
    "# clear first dict\n",
    "# and print both\n",
    "\n",
    "d1={'a':20,'b':30,'c':40,'d':500}\n",
    "d2=d1.copy()\n",
    "d1.clear()\n",
    "print(d1)      # {}\n",
    "print(d2)      # {'a':20,'b':30,'c':40,'d':500}\n"
   ]
  },
  {
   "cell_type": "markdown",
   "id": "68e6711e",
   "metadata": {},
   "source": [
    "$pop$-$popitem$-$del$"
   ]
  },
  {
   "cell_type": "markdown",
   "id": "3c035abe",
   "metadata": {},
   "source": [
    "- what is pop\n",
    "   - pop will remove specify key\n",
    "   - return value\n",
    "- what is popitem\n",
    "\n",
    "   - remove the last value default \n",
    "   - return the pair\n",
    "\n",
    "- what is del\n",
    "\n",
    "   - del is a keyword\n",
    "   - it can delete an item by providing specify key"
   ]
  },
  {
   "cell_type": "code",
   "execution_count": 19,
   "id": "32313a9c",
   "metadata": {},
   "outputs": [
    {
     "data": {
      "text/plain": [
       "{'a': 20, 'b': 30, 'c': 40, 'd': 500}"
      ]
     },
     "execution_count": 19,
     "metadata": {},
     "output_type": "execute_result"
    }
   ],
   "source": [
    "d2"
   ]
  },
  {
   "cell_type": "code",
   "execution_count": 20,
   "id": "e2dbedfe",
   "metadata": {},
   "outputs": [
    {
     "data": {
      "text/plain": [
       "20"
      ]
     },
     "execution_count": 20,
     "metadata": {},
     "output_type": "execute_result"
    }
   ],
   "source": [
    "d2.pop('a')"
   ]
  },
  {
   "cell_type": "code",
   "execution_count": 21,
   "id": "d8f7f8e3",
   "metadata": {},
   "outputs": [
    {
     "data": {
      "text/plain": [
       "('d', 500)"
      ]
     },
     "execution_count": 21,
     "metadata": {},
     "output_type": "execute_result"
    }
   ],
   "source": [
    "d2.popitem()"
   ]
  },
  {
   "cell_type": "code",
   "execution_count": 22,
   "id": "5cd996e8",
   "metadata": {},
   "outputs": [
    {
     "data": {
      "text/plain": [
       "{'b': 30}"
      ]
     },
     "execution_count": 22,
     "metadata": {},
     "output_type": "execute_result"
    }
   ],
   "source": [
    "# del is a keyword\n",
    "del d2['c']\n",
    "d2"
   ]
  },
  {
   "cell_type": "code",
   "execution_count": 24,
   "id": "17224337",
   "metadata": {},
   "outputs": [
    {
     "data": {
      "text/plain": [
       "[10, 30, 40, 50]"
      ]
     },
     "execution_count": 24,
     "metadata": {},
     "output_type": "execute_result"
    }
   ],
   "source": [
    "l1=[10,20,30,40,50]\n",
    "del l1[1] # list access by index\n",
    "l1"
   ]
  },
  {
   "cell_type": "code",
   "execution_count": 26,
   "id": "33273aff",
   "metadata": {},
   "outputs": [
    {
     "ename": "NameError",
     "evalue": "name 'd2' is not defined",
     "output_type": "error",
     "traceback": [
      "\u001b[1;31m---------------------------------------------------------------------------\u001b[0m",
      "\u001b[1;31mNameError\u001b[0m                                 Traceback (most recent call last)",
      "Cell \u001b[1;32mIn[26], line 1\u001b[0m\n\u001b[1;32m----> 1\u001b[0m \u001b[38;5;28;01mdel\u001b[39;00m(d2)\n\u001b[0;32m      2\u001b[0m d2\n",
      "\u001b[1;31mNameError\u001b[0m: name 'd2' is not defined"
     ]
    }
   ],
   "source": [
    "del(d2)\n",
    "d2"
   ]
  },
  {
   "cell_type": "code",
   "execution_count": 27,
   "id": "3c573f14",
   "metadata": {},
   "outputs": [
    {
     "ename": "KeyError",
     "evalue": "'c'",
     "output_type": "error",
     "traceback": [
      "\u001b[1;31m---------------------------------------------------------------------------\u001b[0m",
      "\u001b[1;31mKeyError\u001b[0m                                  Traceback (most recent call last)",
      "Cell \u001b[1;32mIn[27], line 6\u001b[0m\n\u001b[0;32m      3\u001b[0m \u001b[38;5;66;03m####################################\u001b[39;00m\n\u001b[0;32m      5\u001b[0m \u001b[38;5;28;01mdel\u001b[39;00m d1[\u001b[38;5;124m'\u001b[39m\u001b[38;5;124mc\u001b[39m\u001b[38;5;124m'\u001b[39m]\n\u001b[1;32m----> 6\u001b[0m d1\u001b[38;5;241m.\u001b[39mpop(\u001b[38;5;124m'\u001b[39m\u001b[38;5;124mc\u001b[39m\u001b[38;5;124m'\u001b[39m)\n\u001b[0;32m      8\u001b[0m d1\u001b[38;5;241m.\u001b[39mpopitem()   \u001b[38;5;66;03m# LIFO\u001b[39;00m\n\u001b[0;32m     10\u001b[0m \u001b[38;5;66;03m################################\u001b[39;00m\n",
      "\u001b[1;31mKeyError\u001b[0m: 'c'"
     ]
    }
   ],
   "source": [
    "d1={'a':1,'b':2,'c':3}\n",
    "\n",
    "####################################\n",
    "\n",
    "del d1['c']\n",
    "d1.pop('c')\n",
    "\n",
    "d1.popitem()   # LIFO\n",
    "\n",
    "################################\n",
    "\n",
    "del(d1)"
   ]
  },
  {
   "cell_type": "markdown",
   "id": "e3c8dd30",
   "metadata": {},
   "source": [
    "- item/values/keys\n",
    "- is i provide two list you know how to make dict\n",
    "- if i provide dict, you know how to generate list\n",
    "- counter\n",
    "- summ\n",
    "- function\n",
    "- pop/popitem/del\n",
    "- copy/clear"
   ]
  },
  {
   "cell_type": "code",
   "execution_count": null,
   "id": "6e5e2c88",
   "metadata": {},
   "outputs": [],
   "source": []
  },
  {
   "cell_type": "code",
   "execution_count": null,
   "id": "1ec35180",
   "metadata": {},
   "outputs": [],
   "source": []
  },
  {
   "cell_type": "markdown",
   "id": "4bb789da",
   "metadata": {},
   "source": [
    "$fromkeys$-$get$"
   ]
  },
  {
   "cell_type": "code",
   "execution_count": 44,
   "id": "a7157c41",
   "metadata": {},
   "outputs": [
    {
     "data": {
      "text/plain": [
       "{'a': 1, 'b': 2, 'c': 3}"
      ]
     },
     "execution_count": 44,
     "metadata": {},
     "output_type": "execute_result"
    }
   ],
   "source": [
    "d1={'a':1,'b':2,'c':3}\n",
    "d1.get('c')\n",
    "\n"
   ]
  },
  {
   "cell_type": "code",
   "execution_count": 45,
   "id": "ca34157d",
   "metadata": {},
   "outputs": [
    {
     "data": {
      "text/plain": [
       "2"
      ]
     },
     "execution_count": 45,
     "metadata": {},
     "output_type": "execute_result"
    }
   ],
   "source": [
    "d1['b']"
   ]
  },
  {
   "cell_type": "code",
   "execution_count": 48,
   "id": "60a16f21",
   "metadata": {},
   "outputs": [
    {
     "data": {
      "text/plain": [
       "3"
      ]
     },
     "execution_count": 48,
     "metadata": {},
     "output_type": "execute_result"
    }
   ],
   "source": [
    "d1.get('c')"
   ]
  },
  {
   "cell_type": "code",
   "execution_count": 51,
   "id": "41cb626f",
   "metadata": {},
   "outputs": [
    {
     "data": {
      "text/plain": [
       "{'c': None}"
      ]
     },
     "execution_count": 51,
     "metadata": {},
     "output_type": "execute_result"
    }
   ],
   "source": [
    "d1={'a':1,'b':2,'c':3}\n",
    "d2=d1.fromkeys('c')\n",
    "d2"
   ]
  },
  {
   "cell_type": "markdown",
   "id": "c6016008",
   "metadata": {},
   "source": [
    "- how many ways we can do\n",
    "- what output it returning\n",
    "- what is the difference\n",
    "- we can access the values by providing key as index and key in the get method\n",
    "- but if the key is not present in dictionary ,key as index will give key error\n",
    "- get method will not return anything and no error"
   ]
  },
  {
   "cell_type": "code",
   "execution_count": 59,
   "id": "aed35c14",
   "metadata": {},
   "outputs": [],
   "source": [
    "d1={'a':1,'b':2,'c':3}\n",
    "d2=d1.fromkeys('c')\n"
   ]
  },
  {
   "cell_type": "code",
   "execution_count": 61,
   "id": "8a2b725f",
   "metadata": {},
   "outputs": [
    {
     "data": {
      "text/plain": [
       "{'R': 87, 'a': 87, 'h': 87, 'e': 87, 'm': 87}"
      ]
     },
     "execution_count": 61,
     "metadata": {},
     "output_type": "execute_result"
    }
   ],
   "source": [
    "d2={'Ram':25,\n",
    "    'Raheem':30,\n",
    "    'Robert':35}\n",
    "d2=d1.fromkeys('Raheem',87)\n",
    "d2"
   ]
  },
  {
   "cell_type": "code",
   "execution_count": 62,
   "id": "0336dbb4",
   "metadata": {},
   "outputs": [
    {
     "data": {
      "text/plain": [
       "{'a': 1, 'b': 2, 'c': 3}"
      ]
     },
     "execution_count": 62,
     "metadata": {},
     "output_type": "execute_result"
    }
   ],
   "source": [
    "d1"
   ]
  },
  {
   "cell_type": "code",
   "execution_count": 70,
   "id": "a5fb08c0",
   "metadata": {},
   "outputs": [
    {
     "data": {
      "text/plain": [
       "'Deepak'"
      ]
     },
     "execution_count": 70,
     "metadata": {},
     "output_type": "execute_result"
    }
   ],
   "source": [
    "name='deepak'\n",
    "new_name=name.capitalize()\n",
    "new_name"
   ]
  },
  {
   "cell_type": "code",
   "execution_count": 71,
   "id": "b1c3d048",
   "metadata": {},
   "outputs": [
    {
     "data": {
      "text/plain": [
       "('deepak', 'Deepak')"
      ]
     },
     "execution_count": 71,
     "metadata": {},
     "output_type": "execute_result"
    }
   ],
   "source": [
    "name,new_name"
   ]
  },
  {
   "cell_type": "code",
   "execution_count": 76,
   "id": "2d58340c",
   "metadata": {},
   "outputs": [
    {
     "data": {
      "text/plain": [
       "25"
      ]
     },
     "execution_count": 76,
     "metadata": {},
     "output_type": "execute_result"
    }
   ],
   "source": [
    "d2={'Ram':25,\n",
    "    'Raheem':30,\n",
    "    'Robert':35}\n",
    "d3=d2.setdefault('Ram')\n",
    "d3"
   ]
  },
  {
   "cell_type": "code",
   "execution_count": 80,
   "id": "76f58249",
   "metadata": {},
   "outputs": [
    {
     "data": {
      "text/plain": [
       "{'Deepak': 23, 'abinvash': None}"
      ]
     },
     "execution_count": 80,
     "metadata": {},
     "output_type": "execute_result"
    }
   ],
   "source": [
    "d1={}\n",
    "d1.setdefault('Deepak',23)\n",
    "d1.setdefault('abinvash')\n",
    "d1"
   ]
  },
  {
   "cell_type": "code",
   "execution_count": 81,
   "id": "07609065",
   "metadata": {},
   "outputs": [
    {
     "ename": "KeyError",
     "evalue": "'Abhinav'",
     "output_type": "error",
     "traceback": [
      "\u001b[1;31m---------------------------------------------------------------------------\u001b[0m",
      "\u001b[1;31mKeyError\u001b[0m                                  Traceback (most recent call last)",
      "Cell \u001b[1;32mIn[81], line 3\u001b[0m\n\u001b[0;32m      1\u001b[0m d2\u001b[38;5;241m=\u001b[39m{}\n\u001b[0;32m      2\u001b[0m d2[\u001b[38;5;124m'\u001b[39m\u001b[38;5;124mdeepak\u001b[39m\u001b[38;5;124m'\u001b[39m]\u001b[38;5;241m=\u001b[39m\u001b[38;5;241m30\u001b[39m\n\u001b[1;32m----> 3\u001b[0m d2[\u001b[38;5;124m'\u001b[39m\u001b[38;5;124mAbhinav\u001b[39m\u001b[38;5;124m'\u001b[39m]\n",
      "\u001b[1;31mKeyError\u001b[0m: 'Abhinav'"
     ]
    }
   ],
   "source": [
    "d2={}\n",
    "d2['deepak']=30\n",
    "d2['Abhinav']"
   ]
  },
  {
   "cell_type": "code",
   "execution_count": 83,
   "id": "fe31984c",
   "metadata": {},
   "outputs": [
    {
     "data": {
      "text/plain": [
       "{'nareshit': 'Ds', 'city': None, 'naresit': ['Ds', 'Mlops', 'De']}"
      ]
     },
     "execution_count": 83,
     "metadata": {},
     "output_type": "execute_result"
    }
   ],
   "source": [
    "d1={}\n",
    "d1.setdefault('nareshit','Ds')\n",
    "d1.setdefault('city')\n",
    "d1.setdefault('nareshit',['Ds','Mlops','De'])\n",
    "d1['naresit']=['Ds','Mlops','De']\n",
    "d1.setdefault('city','hyd')\n",
    "d1"
   ]
  },
  {
   "cell_type": "code",
   "execution_count": 94,
   "id": "394502e9",
   "metadata": {},
   "outputs": [
    {
     "data": {
      "text/plain": [
       "{'Ram': 25, 'Raheem': 45, 'Robert': 67}"
      ]
     },
     "execution_count": 94,
     "metadata": {},
     "output_type": "execute_result"
    }
   ],
   "source": [
    "d2={'Ram':25,\n",
    "    'Raheem':30,\n",
    "    'Robert':35}\n",
    "d3={'Raheem':45,'Robert':67}\n",
    "d2.update(d3)\n",
    "d2"
   ]
  },
  {
   "cell_type": "code",
   "execution_count": 97,
   "id": "5e24594d",
   "metadata": {},
   "outputs": [
    {
     "data": {
      "text/plain": [
       "{'Ram': 25, 'Raheem': 45, 'Robert': 67}"
      ]
     },
     "execution_count": 97,
     "metadata": {},
     "output_type": "execute_result"
    }
   ],
   "source": [
    "d2={'Ram':25,\n",
    "    'Raheem':30,\n",
    "    'Robert':35}\n",
    "d3={'Raheem':45,'Robert':67}\n",
    "d2.update(d3)\n",
    "d2"
   ]
  },
  {
   "cell_type": "markdown",
   "id": "a92509ae",
   "metadata": {},
   "source": [
    "- update method will update a dictionary with elements from another dictionary\n",
    "- it modifies the dictionary"
   ]
  },
  {
   "cell_type": "code",
   "execution_count": null,
   "id": "e6af2913",
   "metadata": {},
   "outputs": [],
   "source": [
    "- strings\n",
    "- list\n",
    "- dictionary"
   ]
  },
  {
   "cell_type": "markdown",
   "id": "0bd77445",
   "metadata": {},
   "source": [
    "$Tuple$\n",
    "- write an article on tuple\n",
    "- how to read tuple\n",
    "- type/max/min/len/sum\n",
    "- index/mutable\n",
    "- in / for\n",
    "- slice\n",
    "- method"
   ]
  },
  {
   "cell_type": "code",
   "execution_count": null,
   "id": "9e66ec63",
   "metadata": {},
   "outputs": [],
   "source": []
  },
  {
   "cell_type": "code",
   "execution_count": null,
   "id": "9f53219b",
   "metadata": {},
   "outputs": [],
   "source": []
  },
  {
   "cell_type": "code",
   "execution_count": null,
   "id": "641d9b51",
   "metadata": {},
   "outputs": [],
   "source": []
  },
  {
   "cell_type": "code",
   "execution_count": null,
   "id": "bdf3d24d",
   "metadata": {},
   "outputs": [],
   "source": []
  },
  {
   "cell_type": "code",
   "execution_count": null,
   "id": "61fd3b16",
   "metadata": {},
   "outputs": [],
   "source": []
  },
  {
   "cell_type": "code",
   "execution_count": null,
   "id": "7ef4a022",
   "metadata": {},
   "outputs": [],
   "source": []
  },
  {
   "cell_type": "code",
   "execution_count": null,
   "id": "57e18b06",
   "metadata": {},
   "outputs": [],
   "source": []
  },
  {
   "cell_type": "code",
   "execution_count": null,
   "id": "edc362ef",
   "metadata": {},
   "outputs": [],
   "source": []
  },
  {
   "cell_type": "code",
   "execution_count": null,
   "id": "94ece1f9",
   "metadata": {},
   "outputs": [],
   "source": []
  },
  {
   "cell_type": "code",
   "execution_count": null,
   "id": "bc5e3950",
   "metadata": {},
   "outputs": [],
   "source": []
  },
  {
   "cell_type": "code",
   "execution_count": null,
   "id": "99ceb500",
   "metadata": {},
   "outputs": [],
   "source": []
  },
  {
   "cell_type": "code",
   "execution_count": null,
   "id": "de179ded",
   "metadata": {},
   "outputs": [],
   "source": []
  },
  {
   "cell_type": "code",
   "execution_count": null,
   "id": "96995f38",
   "metadata": {},
   "outputs": [],
   "source": []
  },
  {
   "cell_type": "code",
   "execution_count": null,
   "id": "bc064706",
   "metadata": {},
   "outputs": [],
   "source": []
  },
  {
   "cell_type": "code",
   "execution_count": null,
   "id": "0075e99a",
   "metadata": {},
   "outputs": [],
   "source": []
  }
 ],
 "metadata": {
  "kernelspec": {
   "display_name": "Python 3 (ipykernel)",
   "language": "python",
   "name": "python3"
  },
  "language_info": {
   "codemirror_mode": {
    "name": "ipython",
    "version": 3
   },
   "file_extension": ".py",
   "mimetype": "text/x-python",
   "name": "python",
   "nbconvert_exporter": "python",
   "pygments_lexer": "ipython3",
   "version": "3.11.5"
  }
 },
 "nbformat": 4,
 "nbformat_minor": 5
}
