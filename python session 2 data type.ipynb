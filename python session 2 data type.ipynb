{
 "cells": [
  {
   "cell_type": "markdown",
   "id": "7fced9f0",
   "metadata": {},
   "source": [
    "### Data type\n",
    "- integer  \n",
    "   int\n",
    "- float              \n",
    "   float\n",
    "- strings             \n",
    "   str\n",
    "- boolean             \n",
    "   bool\n",
    "- comples conjugate   \n",
    "   complex"
   ]
  },
  {
   "cell_type": "markdown",
   "id": "91531239",
   "metadata": {},
   "source": [
    "$integers$"
   ]
  },
  {
   "cell_type": "code",
   "execution_count": 1,
   "id": "4094070e",
   "metadata": {},
   "outputs": [
    {
     "data": {
      "text/plain": [
       "100"
      ]
     },
     "execution_count": 1,
     "metadata": {},
     "output_type": "execute_result"
    }
   ],
   "source": [
    "number=100\n",
    "number"
   ]
  },
  {
   "cell_type": "code",
   "execution_count": 2,
   "id": "8f01673d",
   "metadata": {},
   "outputs": [
    {
     "data": {
      "text/plain": [
       "int"
      ]
     },
     "execution_count": 2,
     "metadata": {},
     "output_type": "execute_result"
    }
   ],
   "source": [
    "# types of the variable :type\n",
    "type(number)"
   ]
  },
  {
   "cell_type": "markdown",
   "id": "4b99c239",
   "metadata": {},
   "source": [
    "# In maths we have different number system\n",
    "- decimal\n",
    "\n",
    "- binary\n",
    "\n",
    "- octal\n",
    "\n",
    "- hexa"
   ]
  },
  {
   "cell_type": "markdown",
   "id": "e56c0ed5",
   "metadata": {},
   "source": [
    "## Binary\n",
    "- Bi mean 2\n",
    "- so the base is also 2\n",
    "- 0 1 2 3 4 5 6 7 8 9 \n",
    "- here we will use only two digits: 0 and 1\n",
    "- representation is :0b<combination of 0 and 1>\n",
    "- 0b110, 0B011101\n"
   ]
  },
  {
   "cell_type": "code",
   "execution_count": 3,
   "id": "5c9f5c63",
   "metadata": {},
   "outputs": [
    {
     "data": {
      "text/plain": [
       "7"
      ]
     },
     "execution_count": 3,
     "metadata": {},
     "output_type": "execute_result"
    }
   ],
   "source": [
    "0b111"
   ]
  },
  {
   "cell_type": "code",
   "execution_count": 4,
   "id": "58c451f4",
   "metadata": {},
   "outputs": [
    {
     "data": {
      "text/plain": [
       "15"
      ]
     },
     "execution_count": 4,
     "metadata": {},
     "output_type": "execute_result"
    }
   ],
   "source": [
    "0b1111"
   ]
  },
  {
   "cell_type": "code",
   "execution_count": null,
   "id": "4f0b61b6",
   "metadata": {},
   "outputs": [],
   "source": [
    "# 3 digit = 4 2 1\n",
    "# 4 digit = 8 4 2 1\n",
    "# 5 digit = 16 8 4 2 1\n",
    "************\n",
    "4  2  1   decimal output\n",
    "************\n",
    "0  0  0    0\n",
    "0  0  1    1\n",
    "0  1  0    2\n",
    "0  1  1    3\n",
    "1  0  0    4\n",
    "1  0  1    5\n",
    "1  1  0    6\n",
    "1  1  1    7\n",
    "\n",
    "4= 4 times 0 and 4 times 1 will come\n",
    "2= 2 times 0 and 2 times 1\n",
    "1= 1 times 0 and 1 times 1\n",
    "\n",
    "ON=1\n",
    "OFF=0"
   ]
  },
  {
   "cell_type": "code",
   "execution_count": 5,
   "id": "ce041413",
   "metadata": {},
   "outputs": [
    {
     "data": {
      "text/plain": [
       "14"
      ]
     },
     "execution_count": 5,
     "metadata": {},
     "output_type": "execute_result"
    }
   ],
   "source": [
    "0b1110"
   ]
  },
  {
   "cell_type": "code",
   "execution_count": 6,
   "id": "0c832888",
   "metadata": {},
   "outputs": [
    {
     "data": {
      "text/plain": [
       "9"
      ]
     },
     "execution_count": 6,
     "metadata": {},
     "output_type": "execute_result"
    }
   ],
   "source": [
    "0b1001"
   ]
  },
  {
   "cell_type": "markdown",
   "id": "75c34864",
   "metadata": {},
   "source": [
    "$octa$"
   ]
  },
  {
   "cell_type": "markdown",
   "id": "b3026e76",
   "metadata": {},
   "source": [
    "**octa**\n",
    "\n",
    "- octa mean 8\n",
    "- so the base is also 8\n",
    "- here we will use only eight digit: 0, 1, 2, 3, 4, 5, 6, 7\n",
    "- representation is : 0o<combination of 0 to 7>\n",
    "- 0o123, 0o7564    "
   ]
  },
  {
   "cell_type": "code",
   "execution_count": 7,
   "id": "446e7d19",
   "metadata": {},
   "outputs": [
    {
     "data": {
      "text/plain": [
       "3956"
      ]
     },
     "execution_count": 7,
     "metadata": {},
     "output_type": "execute_result"
    }
   ],
   "source": [
    "0o7564"
   ]
  },
  {
   "cell_type": "code",
   "execution_count": 8,
   "id": "715511e1",
   "metadata": {},
   "outputs": [
    {
     "data": {
      "text/plain": [
       "373"
      ]
     },
     "execution_count": 8,
     "metadata": {},
     "output_type": "execute_result"
    }
   ],
   "source": [
    "0o565"
   ]
  },
  {
   "cell_type": "code",
   "execution_count": 9,
   "id": "f5ece4e5",
   "metadata": {},
   "outputs": [
    {
     "data": {
      "text/plain": [
       "2748"
      ]
     },
     "execution_count": 9,
     "metadata": {},
     "output_type": "execute_result"
    }
   ],
   "source": [
    "0xabc"
   ]
  },
  {
   "cell_type": "code",
   "execution_count": 10,
   "id": "0df28a9f",
   "metadata": {},
   "outputs": [
    {
     "data": {
      "text/plain": [
       "40446"
      ]
     },
     "execution_count": 10,
     "metadata": {},
     "output_type": "execute_result"
    }
   ],
   "source": [
    "0x9dfe\n"
   ]
  },
  {
   "cell_type": "code",
   "execution_count": 11,
   "id": "15efc301",
   "metadata": {},
   "outputs": [
    {
     "data": {
      "text/plain": [
       "3261"
      ]
     },
     "execution_count": 11,
     "metadata": {},
     "output_type": "execute_result"
    }
   ],
   "source": [
    "0xcbd"
   ]
  },
  {
   "cell_type": "code",
   "execution_count": null,
   "id": "cceb7ec1",
   "metadata": {},
   "outputs": [],
   "source": [
    "    ********************\n",
    " 8  4  2  1  decimal output\n",
    "    *********************\n",
    " 0  0  0  0  0\n",
    " 0  0  0  1  1\n",
    " 0  0  1  0  2\n",
    " 0  0  1  1  3\n",
    " 0  1  0  0  4\n",
    " 0  1  0  1  5\n",
    " 0  1  1  0  6\n",
    " 0  1  1  1  7\n",
    " 1  0  0  0  8\n",
    " 1  0  0  1  9\n",
    " 1  0  1  0  10\n",
    " 1  0  1  1  11\n",
    " 1  1  0  0  12\n",
    " 1  1  0  1  13\n",
    " 1  1  1  0  14\n",
    " 1  1  1  1  15"
   ]
  },
  {
   "cell_type": "code",
   "execution_count": 1,
   "id": "1106f9df",
   "metadata": {},
   "outputs": [
    {
     "data": {
      "text/plain": [
       "72"
      ]
     },
     "execution_count": 1,
     "metadata": {},
     "output_type": "execute_result"
    }
   ],
   "source": [
    "0o00110"
   ]
  },
  {
   "cell_type": "code",
   "execution_count": 2,
   "id": "f28415a4",
   "metadata": {},
   "outputs": [
    {
     "data": {
      "text/plain": [
       "520"
      ]
     },
     "execution_count": 2,
     "metadata": {},
     "output_type": "execute_result"
    }
   ],
   "source": [
    "0o01010\n",
    "        "
   ]
  },
  {
   "cell_type": "markdown",
   "id": "f732c0b0",
   "metadata": {},
   "source": [
    "# Hexa\n",
    "- hexa mean 16\n",
    "- so the base is also 16\n",
    "- 0 1 2 3 4 5 6 7 8 9 ,A ,B, C, D, E, F\n",
    "- here we use only 16 digits:(0 to 9 and A to F)\n",
    "- represent is : 0x<0 to 9 and A to F>\n",
    "- 0xabc,0x234efa"
   ]
  },
  {
   "cell_type": "code",
   "execution_count": 3,
   "id": "d4e2c90c",
   "metadata": {},
   "outputs": [
    {
     "data": {
      "text/plain": [
       "2748"
      ]
     },
     "execution_count": 3,
     "metadata": {},
     "output_type": "execute_result"
    }
   ],
   "source": [
    "0xabc"
   ]
  },
  {
   "cell_type": "code",
   "execution_count": 4,
   "id": "212becce",
   "metadata": {},
   "outputs": [
    {
     "data": {
      "text/plain": [
       "1194684"
      ]
     },
     "execution_count": 4,
     "metadata": {},
     "output_type": "execute_result"
    }
   ],
   "source": [
    "0x123abc"
   ]
  },
  {
   "cell_type": "code",
   "execution_count": 5,
   "id": "138f0209",
   "metadata": {},
   "outputs": [
    {
     "data": {
      "text/plain": [
       "15704849"
      ]
     },
     "execution_count": 5,
     "metadata": {},
     "output_type": "execute_result"
    }
   ],
   "source": [
    "0xefa311"
   ]
  },
  {
   "cell_type": "code",
   "execution_count": 6,
   "id": "0cfb10d0",
   "metadata": {},
   "outputs": [
    {
     "data": {
      "text/plain": [
       "16638789"
      ]
     },
     "execution_count": 6,
     "metadata": {},
     "output_type": "execute_result"
    }
   ],
   "source": [
    "0xfde345"
   ]
  },
  {
   "cell_type": "code",
   "execution_count": 7,
   "id": "ad9e38f4",
   "metadata": {},
   "outputs": [
    {
     "data": {
      "text/plain": [
       "61202"
      ]
     },
     "execution_count": 7,
     "metadata": {},
     "output_type": "execute_result"
    }
   ],
   "source": [
    "0xef12"
   ]
  },
  {
   "cell_type": "markdown",
   "id": "2ec897e4",
   "metadata": {},
   "source": [
    "$ float $"
   ]
  },
  {
   "cell_type": "code",
   "execution_count": 8,
   "id": "e9a9bb80",
   "metadata": {},
   "outputs": [
    {
     "data": {
      "text/plain": [
       "123.5"
      ]
     },
     "execution_count": 8,
     "metadata": {},
     "output_type": "execute_result"
    }
   ],
   "source": [
    "number1=123.5\n",
    "number1"
   ]
  },
  {
   "cell_type": "code",
   "execution_count": 9,
   "id": "c6de92e3",
   "metadata": {},
   "outputs": [
    {
     "data": {
      "text/plain": [
       "float"
      ]
     },
     "execution_count": 9,
     "metadata": {},
     "output_type": "execute_result"
    }
   ],
   "source": [
    "type(number1)"
   ]
  },
  {
   "cell_type": "markdown",
   "id": "4ebae823",
   "metadata": {},
   "source": [
    "## e representation"
   ]
  },
  {
   "cell_type": "code",
   "execution_count": 10,
   "id": "5327cffe",
   "metadata": {},
   "outputs": [
    {
     "data": {
      "text/plain": [
       "10000.0"
      ]
     },
     "execution_count": 10,
     "metadata": {},
     "output_type": "execute_result"
    }
   ],
   "source": [
    "10e3   #10*1000 = 10000"
   ]
  },
  {
   "cell_type": "code",
   "execution_count": 11,
   "id": "2c9cb684",
   "metadata": {},
   "outputs": [
    {
     "data": {
      "text/plain": [
       "10000.0"
      ]
     },
     "execution_count": 11,
     "metadata": {},
     "output_type": "execute_result"
    }
   ],
   "source": [
    "10e+3  #10e3 and 10e+3  both are same"
   ]
  },
  {
   "cell_type": "code",
   "execution_count": 12,
   "id": "bb24fb71",
   "metadata": {},
   "outputs": [
    {
     "data": {
      "text/plain": [
       "100000.0"
      ]
     },
     "execution_count": 12,
     "metadata": {},
     "output_type": "execute_result"
    }
   ],
   "source": [
    "1e5   # 1*100000"
   ]
  },
  {
   "cell_type": "code",
   "execution_count": 13,
   "id": "7fd918c4",
   "metadata": {},
   "outputs": [
    {
     "data": {
      "text/plain": [
       "0.01"
      ]
     },
     "execution_count": 13,
     "metadata": {},
     "output_type": "execute_result"
    }
   ],
   "source": [
    " 10e-3  # 10/1000=0.01"
   ]
  },
  {
   "cell_type": "code",
   "execution_count": null,
   "id": "d978811f",
   "metadata": {},
   "outputs": [],
   "source": [
    "# ML =====output as 0\n",
    "# 0.000000000000000123\n",
    "# 123e-10= 123/10000000000= 0.0000000000123"
   ]
  },
  {
   "cell_type": "code",
   "execution_count": 14,
   "id": "0ea58818",
   "metadata": {},
   "outputs": [
    {
     "data": {
      "text/plain": [
       "0.01"
      ]
     },
     "execution_count": 14,
     "metadata": {},
     "output_type": "execute_result"
    }
   ],
   "source": [
    "1000e-5  #1000/100000"
   ]
  },
  {
   "cell_type": "code",
   "execution_count": 15,
   "id": "eb7c1849",
   "metadata": {},
   "outputs": [
    {
     "data": {
      "text/plain": [
       "1e-05"
      ]
     },
     "execution_count": 15,
     "metadata": {},
     "output_type": "execute_result"
    }
   ],
   "source": [
    "10e-6"
   ]
  },
  {
   "cell_type": "markdown",
   "id": "1062a514",
   "metadata": {},
   "source": [
    "$ Strings $"
   ]
  },
  {
   "cell_type": "code",
   "execution_count": 18,
   "id": "6be82ef9",
   "metadata": {},
   "outputs": [
    {
     "data": {
      "text/plain": [
       "str"
      ]
     },
     "execution_count": 18,
     "metadata": {},
     "output_type": "execute_result"
    }
   ],
   "source": [
    "name=\"python\" #write any thing in quotes\n",
    "type(name)"
   ]
  },
  {
   "cell_type": "code",
   "execution_count": 19,
   "id": "9dbdfef5",
   "metadata": {},
   "outputs": [
    {
     "data": {
      "text/plain": [
       "str"
      ]
     },
     "execution_count": 19,
     "metadata": {},
     "output_type": "execute_result"
    }
   ],
   "source": [
    "name1=\"100\"\n",
    "type(name1)"
   ]
  },
  {
   "cell_type": "code",
   "execution_count": 20,
   "id": "b89cb4b0",
   "metadata": {},
   "outputs": [
    {
     "data": {
      "text/plain": [
       "'how are you'"
      ]
     },
     "execution_count": 20,
     "metadata": {},
     "output_type": "execute_result"
    }
   ],
   "source": [
    "name2='how are you'\n",
    "name2"
   ]
  },
  {
   "cell_type": "code",
   "execution_count": null,
   "id": "527073c6",
   "metadata": {},
   "outputs": [],
   "source": [
    "hai\n",
    "\n",
    "how are you\n",
    "\n",
    "write above sentence in the one string\n",
    "when you call your output should line by line\n",
    "/n  /t"
   ]
  },
  {
   "cell_type": "code",
   "execution_count": 21,
   "id": "ad190fb9",
   "metadata": {},
   "outputs": [
    {
     "ename": "SyntaxError",
     "evalue": "unterminated string literal (detected at line 1) (16177675.py, line 1)",
     "output_type": "error",
     "traceback": [
      "\u001b[1;36m  Cell \u001b[1;32mIn[21], line 1\u001b[1;36m\u001b[0m\n\u001b[1;33m    name3=\"hai\u001b[0m\n\u001b[1;37m          ^\u001b[0m\n\u001b[1;31mSyntaxError\u001b[0m\u001b[1;31m:\u001b[0m unterminated string literal (detected at line 1)\n"
     ]
    }
   ],
   "source": [
    "name3=\"hai\n",
    "       how are you\"\n",
    "name3    "
   ]
  },
  {
   "cell_type": "code",
   "execution_count": 22,
   "id": "401280dc",
   "metadata": {},
   "outputs": [
    {
     "ename": "SyntaxError",
     "evalue": "unterminated string literal (detected at line 1) (424922227.py, line 1)",
     "output_type": "error",
     "traceback": [
      "\u001b[1;36m  Cell \u001b[1;32mIn[22], line 1\u001b[1;36m\u001b[0m\n\u001b[1;33m    name4='hai\u001b[0m\n\u001b[1;37m          ^\u001b[0m\n\u001b[1;31mSyntaxError\u001b[0m\u001b[1;31m:\u001b[0m unterminated string literal (detected at line 1)\n"
     ]
    }
   ],
   "source": [
    "name4='hai\n",
    "       how are you'\n",
    "name4    "
   ]
  },
  {
   "cell_type": "code",
   "execution_count": 23,
   "id": "f545eff0",
   "metadata": {},
   "outputs": [
    {
     "data": {
      "text/plain": [
       "'hai\\n         how are you'"
      ]
     },
     "execution_count": 23,
     "metadata": {},
     "output_type": "execute_result"
    }
   ],
   "source": [
    "# whenever you want write multi lines use triple quotes\n",
    "\n",
    "name5=\"\"\"hai\n",
    "         how are you\"\"\"\n",
    "name5\n",
    "\n",
    "#docstring"
   ]
  },
  {
   "cell_type": "code",
   "execution_count": null,
   "id": "31d8b4da",
   "metadata": {},
   "outputs": [],
   "source": [
    "# doc string is very important\n",
    "#jupyter notebook : markdown option is available\n",
    "#vs code pycharm : doc string is available"
   ]
  },
  {
   "cell_type": "code",
   "execution_count": null,
   "id": "4fa751c0",
   "metadata": {},
   "outputs": [],
   "source": [
    "import random\n",
    "random.randint()"
   ]
  },
  {
   "cell_type": "markdown",
   "id": "e5d8526f",
   "metadata": {},
   "source": [
    "my name is python"
   ]
  },
  {
   "cell_type": "code",
   "execution_count": null,
   "id": "39ddfa15",
   "metadata": {},
   "outputs": [],
   "source": [
    "\"\"\"my name is python\"\"\""
   ]
  },
  {
   "cell_type": "code",
   "execution_count": 24,
   "id": "56459048",
   "metadata": {},
   "outputs": [
    {
     "data": {
      "text/plain": [
       "50"
      ]
     },
     "execution_count": 24,
     "metadata": {},
     "output_type": "execute_result"
    }
   ],
   "source": [
    "\"\"\"\n",
    "i have taken 20 in a\n",
    "i have taken 30 in b\n",
    "im cal\n",
    "\"\"\"\n",
    "a=20\n",
    "b=30\n",
    "a+b"
   ]
  },
  {
   "cell_type": "code",
   "execution_count": 25,
   "id": "c447fe75",
   "metadata": {},
   "outputs": [
    {
     "ename": "TypeError",
     "evalue": "Random.randint() missing 2 required positional arguments: 'a' and 'b'",
     "output_type": "error",
     "traceback": [
      "\u001b[1;31m---------------------------------------------------------------------------\u001b[0m",
      "\u001b[1;31mTypeError\u001b[0m                                 Traceback (most recent call last)",
      "Cell \u001b[1;32mIn[25], line 2\u001b[0m\n\u001b[0;32m      1\u001b[0m \u001b[38;5;28;01mimport\u001b[39;00m \u001b[38;5;21;01mrandom\u001b[39;00m\n\u001b[1;32m----> 2\u001b[0m random\u001b[38;5;241m.\u001b[39mrandint()\n",
      "\u001b[1;31mTypeError\u001b[0m: Random.randint() missing 2 required positional arguments: 'a' and 'b'"
     ]
    }
   ],
   "source": [
    "import random\n",
    "random.randint()"
   ]
  },
  {
   "cell_type": "code",
   "execution_count": null,
   "id": "9f9e1df2",
   "metadata": {},
   "outputs": [],
   "source": [
    "import random\n",
    "random.randint()"
   ]
  },
  {
   "cell_type": "code",
   "execution_count": 1,
   "id": "2f3364d4",
   "metadata": {},
   "outputs": [
    {
     "ename": "SyntaxError",
     "evalue": "invalid syntax (1082959011.py, line 1)",
     "output_type": "error",
     "traceback": [
      "\u001b[1;36m  Cell \u001b[1;32mIn[1], line 1\u001b[1;36m\u001b[0m\n\u001b[1;33m    string1'python'\u001b[0m\n\u001b[1;37m           ^\u001b[0m\n\u001b[1;31mSyntaxError\u001b[0m\u001b[1;31m:\u001b[0m invalid syntax\n"
     ]
    }
   ],
   "source": [
    "string1'python'\n",
    "string1"
   ]
  },
  {
   "cell_type": "markdown",
   "id": "6ce03a08",
   "metadata": {},
   "source": [
    "# Boolean\n",
    "- whenever if you ask any question to the computer\n",
    "- what is its reply ? True or False\n",
    "- True = 1\n",
    "- False = 0\n",
    "- true #keyword\n",
    "- false #keyword"
   ]
  },
  {
   "cell_type": "code",
   "execution_count": 1,
   "id": "26dc7d60",
   "metadata": {},
   "outputs": [
    {
     "data": {
      "text/plain": [
       "False"
      ]
     },
     "execution_count": 1,
     "metadata": {},
     "output_type": "execute_result"
    }
   ],
   "source": [
    "value= False # we wre assigning False in a variable value\n",
    "value"
   ]
  },
  {
   "cell_type": "code",
   "execution_count": 2,
   "id": "dbb73c12",
   "metadata": {},
   "outputs": [
    {
     "data": {
      "text/plain": [
       "bool"
      ]
     },
     "execution_count": 2,
     "metadata": {},
     "output_type": "execute_result"
    }
   ],
   "source": [
    "type(value)"
   ]
  },
  {
   "cell_type": "code",
   "execution_count": 3,
   "id": "42351e5a",
   "metadata": {},
   "outputs": [
    {
     "data": {
      "text/plain": [
       "bool"
      ]
     },
     "execution_count": 3,
     "metadata": {},
     "output_type": "execute_result"
    }
   ],
   "source": [
    "value1=True\n",
    "type(value)"
   ]
  },
  {
   "cell_type": "code",
   "execution_count": null,
   "id": "d0c9664e",
   "metadata": {},
   "outputs": [],
   "source": [
    "name1=Ture    # boolean\n",
    "name2=true    # both are variables \n",
    "name3=\"True\"  #string"
   ]
  },
  {
   "cell_type": "code",
   "execution_count": 4,
   "id": "65a5ee41",
   "metadata": {},
   "outputs": [
    {
     "ename": "NameError",
     "evalue": "name 'true' is not defined",
     "output_type": "error",
     "traceback": [
      "\u001b[1;31m---------------------------------------------------------------------------\u001b[0m",
      "\u001b[1;31mNameError\u001b[0m                                 Traceback (most recent call last)",
      "Cell \u001b[1;32mIn[4], line 1\u001b[0m\n\u001b[1;32m----> 1\u001b[0m name2\u001b[38;5;241m=\u001b[39mtrue\n",
      "\u001b[1;31mNameError\u001b[0m: name 'true' is not defined"
     ]
    }
   ],
   "source": [
    "name2=true\n",
    "\n",
    "# Have you defined true before?\n",
    "# i did not defined true, thats why Im not able to use that"
   ]
  },
  {
   "cell_type": "code",
   "execution_count": 5,
   "id": "ec8f82a8",
   "metadata": {},
   "outputs": [
    {
     "data": {
      "text/plain": [
       "100"
      ]
     },
     "execution_count": 5,
     "metadata": {},
     "output_type": "execute_result"
    }
   ],
   "source": [
    "true=100      # 100 is saving in a variable true\n",
    "name2=true    # true is saving in a variable name2\n",
    "name2         # so name2=100"
   ]
  },
  {
   "cell_type": "code",
   "execution_count": 6,
   "id": "ff9504b9",
   "metadata": {},
   "outputs": [
    {
     "data": {
      "text/plain": [
       "500"
      ]
     },
     "execution_count": 6,
     "metadata": {},
     "output_type": "execute_result"
    }
   ],
   "source": [
    "a=100   # 100 is saved in a\n",
    "b=200   # 200 saved in b \n",
    "a=b     # b is saved in a=200  100=200\n",
    "b=a     # a is saved in b=200\n",
    "a=500   # 500 saved in a=500\n",
    "b=a     # a is saved in b=500\n",
    "b=900   # 900 is saved in b=900\n",
    "a       # latest value of a=500"
   ]
  },
  {
   "cell_type": "code",
   "execution_count": 7,
   "id": "0d8ce3b0",
   "metadata": {},
   "outputs": [
    {
     "data": {
      "text/plain": [
       "900"
      ]
     },
     "execution_count": 7,
     "metadata": {},
     "output_type": "execute_result"
    }
   ],
   "source": [
    "b"
   ]
  },
  {
   "cell_type": "code",
   "execution_count": null,
   "id": "0df11692",
   "metadata": {},
   "outputs": [],
   "source": [
    "left=right\n",
    "100=200"
   ]
  },
  {
   "cell_type": "code",
   "execution_count": 8,
   "id": "38f999ac",
   "metadata": {},
   "outputs": [
    {
     "ename": "SyntaxError",
     "evalue": "cannot assign to literal here. Maybe you meant '==' instead of '='? (798727903.py, line 1)",
     "output_type": "error",
     "traceback": [
      "\u001b[1;36m  Cell \u001b[1;32mIn[8], line 1\u001b[1;36m\u001b[0m\n\u001b[1;33m    100=200\u001b[0m\n\u001b[1;37m    ^\u001b[0m\n\u001b[1;31mSyntaxError\u001b[0m\u001b[1;31m:\u001b[0m cannot assign to literal here. Maybe you meant '==' instead of '='?\n"
     ]
    }
   ],
   "source": [
    "100=200"
   ]
  },
  {
   "cell_type": "code",
   "execution_count": null,
   "id": "ebb82f48",
   "metadata": {},
   "outputs": [],
   "source": []
  },
  {
   "cell_type": "markdown",
   "id": "3d48a057",
   "metadata": {},
   "source": [
    "$ complex-conjugate $\n",
    "- a=jb or a+ib\n",
    "- where a=real number\n",
    "- b= imaginary number\n",
    "- i=sqrt(-1)"
   ]
  },
  {
   "cell_type": "code",
   "execution_count": 3,
   "id": "43afc308",
   "metadata": {},
   "outputs": [
    {
     "data": {
      "text/plain": [
       "(3+5j)"
      ]
     },
     "execution_count": 3,
     "metadata": {},
     "output_type": "execute_result"
    }
   ],
   "source": [
    "numbers = 3+5j\n",
    "numbers"
   ]
  },
  {
   "cell_type": "code",
   "execution_count": 4,
   "id": "d5acf6d3",
   "metadata": {},
   "outputs": [
    {
     "data": {
      "text/plain": [
       "complex"
      ]
     },
     "execution_count": 4,
     "metadata": {},
     "output_type": "execute_result"
    }
   ],
   "source": [
    "type(numbers)"
   ]
  },
  {
   "cell_type": "code",
   "execution_count": 5,
   "id": "34b43539",
   "metadata": {},
   "outputs": [
    {
     "data": {
      "text/plain": [
       "(3-5j)"
      ]
     },
     "execution_count": 5,
     "metadata": {},
     "output_type": "execute_result"
    }
   ],
   "source": [
    "number1 = 3-5j\n",
    "number1"
   ]
  },
  {
   "cell_type": "code",
   "execution_count": 6,
   "id": "51b15d44",
   "metadata": {},
   "outputs": [
    {
     "data": {
      "text/plain": [
       "complex"
      ]
     },
     "execution_count": 6,
     "metadata": {},
     "output_type": "execute_result"
    }
   ],
   "source": [
    "type(number1)"
   ]
  },
  {
   "cell_type": "code",
   "execution_count": null,
   "id": "9ba4361d",
   "metadata": {},
   "outputs": [],
   "source": [
    "# if we want to retrive only real value seperately\n",
    "3+5j\n",
    "# 3 is real value\n",
    "# 5 is imaginary value"
   ]
  },
  {
   "cell_type": "code",
   "execution_count": 7,
   "id": "29a497d0",
   "metadata": {},
   "outputs": [
    {
     "data": {
      "text/plain": [
       "(3+5j)"
      ]
     },
     "execution_count": 7,
     "metadata": {},
     "output_type": "execute_result"
    }
   ],
   "source": [
    "number = 3+5j\n",
    "number"
   ]
  },
  {
   "cell_type": "code",
   "execution_count": 9,
   "id": "b9a1f080",
   "metadata": {},
   "outputs": [
    {
     "data": {
      "text/plain": [
       "['__abs__',\n",
       " '__add__',\n",
       " '__bool__',\n",
       " '__class__',\n",
       " '__complex__',\n",
       " '__delattr__',\n",
       " '__dir__',\n",
       " '__doc__',\n",
       " '__eq__',\n",
       " '__format__',\n",
       " '__ge__',\n",
       " '__getattribute__',\n",
       " '__getnewargs__',\n",
       " '__getstate__',\n",
       " '__gt__',\n",
       " '__hash__',\n",
       " '__init__',\n",
       " '__init_subclass__',\n",
       " '__le__',\n",
       " '__lt__',\n",
       " '__mul__',\n",
       " '__ne__',\n",
       " '__neg__',\n",
       " '__new__',\n",
       " '__pos__',\n",
       " '__pow__',\n",
       " '__radd__',\n",
       " '__reduce__',\n",
       " '__reduce_ex__',\n",
       " '__repr__',\n",
       " '__rmul__',\n",
       " '__rpow__',\n",
       " '__rsub__',\n",
       " '__rtruediv__',\n",
       " '__setattr__',\n",
       " '__sizeof__',\n",
       " '__str__',\n",
       " '__sub__',\n",
       " '__subclasshook__',\n",
       " '__truediv__',\n",
       " 'conjugate',\n",
       " 'imag',\n",
       " 'real']"
      ]
     },
     "execution_count": 9,
     "metadata": {},
     "output_type": "execute_result"
    }
   ],
   "source": [
    "dir(number)"
   ]
  },
  {
   "cell_type": "code",
   "execution_count": 10,
   "id": "a6c3b515",
   "metadata": {},
   "outputs": [
    {
     "data": {
      "text/plain": [
       "3.0"
      ]
     },
     "execution_count": 10,
     "metadata": {},
     "output_type": "execute_result"
    }
   ],
   "source": [
    "number.real #<pname>.<method>"
   ]
  },
  {
   "cell_type": "code",
   "execution_count": 11,
   "id": "a4d6fe1d",
   "metadata": {},
   "outputs": [
    {
     "data": {
      "text/plain": [
       "5.0"
      ]
     },
     "execution_count": 11,
     "metadata": {},
     "output_type": "execute_result"
    }
   ],
   "source": [
    "number.imag"
   ]
  },
  {
   "cell_type": "code",
   "execution_count": 14,
   "id": "765ebb90",
   "metadata": {},
   "outputs": [
    {
     "data": {
      "text/plain": [
       "<function complex.conjugate()>"
      ]
     },
     "execution_count": 14,
     "metadata": {},
     "output_type": "execute_result"
    }
   ],
   "source": [
    "number.conjugate"
   ]
  },
  {
   "cell_type": "code",
   "execution_count": 16,
   "id": "8a1c0226",
   "metadata": {},
   "outputs": [
    {
     "data": {
      "text/plain": [
       "(3-5j)"
      ]
     },
     "execution_count": 16,
     "metadata": {},
     "output_type": "execute_result"
    }
   ],
   "source": [
    "number.conjugate()"
   ]
  },
  {
   "cell_type": "code",
   "execution_count": null,
   "id": "e11621be",
   "metadata": {},
   "outputs": [],
   "source": [
    "number.conjugate()\n",
    "\n",
    " # + become -\n",
    " # - become +   "
   ]
  },
  {
   "cell_type": "code",
   "execution_count": null,
   "id": "91df393f",
   "metadata": {},
   "outputs": [],
   "source": [
    "number1=3-5j\n",
    "# number1.real = 3\n",
    "# number1.imag = -5\n",
    "# number1.conjugate = 3+5j"
   ]
  },
  {
   "cell_type": "code",
   "execution_count": 17,
   "id": "500e180e",
   "metadata": {},
   "outputs": [
    {
     "data": {
      "text/plain": [
       "(4+10j)"
      ]
     },
     "execution_count": 17,
     "metadata": {},
     "output_type": "execute_result"
    }
   ],
   "source": [
    "complex(4,10)\n",
    "# real=4\n",
    "# image=10\n",
    "# 4+10j"
   ]
  },
  {
   "cell_type": "code",
   "execution_count": 18,
   "id": "69c9e66a",
   "metadata": {},
   "outputs": [
    {
     "data": {
      "text/plain": [
       "(4-10j)"
      ]
     },
     "execution_count": 18,
     "metadata": {},
     "output_type": "execute_result"
    }
   ],
   "source": [
    "complex(4,-10)\n",
    "# inside bracket what are you are seeing\n",
    "# parameters/arguments"
   ]
  },
  {
   "cell_type": "code",
   "execution_count": null,
   "id": "a465b110",
   "metadata": {},
   "outputs": [],
   "source": [
    "complex() # if i did not provide anything inside"
   ]
  },
  {
   "cell_type": "markdown",
   "id": "81c92384",
   "metadata": {},
   "source": [
    "- whenever if you see any brackets(), that is called funtion\n",
    "- another name of function is called method\n",
    "- inside bracket what you are seeing is called parameters\n",
    "- another name of parameters is argument"
   ]
  },
  {
   "cell_type": "code",
   "execution_count": 20,
   "id": "00c4cfc4",
   "metadata": {},
   "outputs": [
    {
     "data": {
      "text/plain": [
       "<bound method Random.randint of <random.Random object at 0x0000022C05566D80>>"
      ]
     },
     "execution_count": 20,
     "metadata": {},
     "output_type": "execute_result"
    }
   ],
   "source": [
    "import random\n",
    "random.randint"
   ]
  },
  {
   "cell_type": "code",
   "execution_count": 22,
   "id": "e08e2579",
   "metadata": {},
   "outputs": [
    {
     "ename": "TypeError",
     "evalue": "Random.randint() missing 2 required positional arguments: 'a' and 'b'",
     "output_type": "error",
     "traceback": [
      "\u001b[1;31m---------------------------------------------------------------------------\u001b[0m",
      "\u001b[1;31mTypeError\u001b[0m                                 Traceback (most recent call last)",
      "Cell \u001b[1;32mIn[22], line 2\u001b[0m\n\u001b[0;32m      1\u001b[0m \u001b[38;5;28;01mimport\u001b[39;00m \u001b[38;5;21;01mrandom\u001b[39;00m\n\u001b[1;32m----> 2\u001b[0m random\u001b[38;5;241m.\u001b[39mrandint()\n",
      "\u001b[1;31mTypeError\u001b[0m: Random.randint() missing 2 required positional arguments: 'a' and 'b'"
     ]
    }
   ],
   "source": [
    "import random\n",
    "random.randint()"
   ]
  },
  {
   "cell_type": "code",
   "execution_count": 21,
   "id": "223bf0e8",
   "metadata": {},
   "outputs": [
    {
     "ename": "TypeError",
     "evalue": "math.sin() takes exactly one argument (0 given)",
     "output_type": "error",
     "traceback": [
      "\u001b[1;31m---------------------------------------------------------------------------\u001b[0m",
      "\u001b[1;31mTypeError\u001b[0m                                 Traceback (most recent call last)",
      "Cell \u001b[1;32mIn[21], line 2\u001b[0m\n\u001b[0;32m      1\u001b[0m \u001b[38;5;28;01mimport\u001b[39;00m \u001b[38;5;21;01mmath\u001b[39;00m\n\u001b[1;32m----> 2\u001b[0m math\u001b[38;5;241m.\u001b[39msin()\n",
      "\u001b[1;31mTypeError\u001b[0m: math.sin() takes exactly one argument (0 given)"
     ]
    }
   ],
   "source": [
    "import math\n",
    "math.sin()"
   ]
  },
  {
   "cell_type": "code",
   "execution_count": 23,
   "id": "a9825f0b",
   "metadata": {},
   "outputs": [
    {
     "data": {
      "text/plain": [
       "0j"
      ]
     },
     "execution_count": 23,
     "metadata": {},
     "output_type": "execute_result"
    }
   ],
   "source": [
    "complex()\n",
    "\n",
    "# default argument\n",
    "\n",
    "# if you not provide anything inside bracket\n",
    "# I will use real value as 0\n",
    "# imaginary value is also 0\n",
    "# 0+0j ====>0j only"
   ]
  },
  {
   "cell_type": "code",
   "execution_count": null,
   "id": "9cf9c6de",
   "metadata": {},
   "outputs": [],
   "source": [
    "A) 0+0j\n",
    "B) 0j\n",
    "C) 0-0j\n",
    "D) 0\n",
    "E) error"
   ]
  },
  {
   "cell_type": "code",
   "execution_count": null,
   "id": "d5eeb198",
   "metadata": {},
   "outputs": [],
   "source": [
    "A) random.randint()  # error is it necessary to provide argument\n",
    "B) math.sin()        # error is it necessary to provide argument\n",
    "C) complex()         # no error"
   ]
  },
  {
   "cell_type": "code",
   "execution_count": null,
   "id": "64c9d5b8",
   "metadata": {},
   "outputs": [],
   "source": [
    "random.randint(a, b)\n",
    "math.sin(x, /)\n",
    " complex(real=0, imag=0)"
   ]
  },
  {
   "cell_type": "code",
   "execution_count": 24,
   "id": "c58d61c1",
   "metadata": {},
   "outputs": [
    {
     "ename": "TypeError",
     "evalue": "Random.randint() missing 2 required positional arguments: 'a' and 'b'",
     "output_type": "error",
     "traceback": [
      "\u001b[1;31m---------------------------------------------------------------------------\u001b[0m",
      "\u001b[1;31mTypeError\u001b[0m                                 Traceback (most recent call last)",
      "Cell \u001b[1;32mIn[24], line 1\u001b[0m\n\u001b[1;32m----> 1\u001b[0m random\u001b[38;5;241m.\u001b[39mrandint()\n",
      "\u001b[1;31mTypeError\u001b[0m: Random.randint() missing 2 required positional arguments: 'a' and 'b'"
     ]
    }
   ],
   "source": [
    "random.randint()"
   ]
  },
  {
   "cell_type": "code",
   "execution_count": 25,
   "id": "c7bd7827",
   "metadata": {},
   "outputs": [
    {
     "ename": "TypeError",
     "evalue": "math.sin() takes exactly one argument (0 given)",
     "output_type": "error",
     "traceback": [
      "\u001b[1;31m---------------------------------------------------------------------------\u001b[0m",
      "\u001b[1;31mTypeError\u001b[0m                                 Traceback (most recent call last)",
      "Cell \u001b[1;32mIn[25], line 1\u001b[0m\n\u001b[1;32m----> 1\u001b[0m math\u001b[38;5;241m.\u001b[39msin()\n",
      "\u001b[1;31mTypeError\u001b[0m: math.sin() takes exactly one argument (0 given)"
     ]
    }
   ],
   "source": [
    "math.sin()"
   ]
  },
  {
   "cell_type": "code",
   "execution_count": 26,
   "id": "ed4ba196",
   "metadata": {},
   "outputs": [
    {
     "data": {
      "text/plain": [
       "0j"
      ]
     },
     "execution_count": 26,
     "metadata": {},
     "output_type": "execute_result"
    }
   ],
   "source": [
    "complex()"
   ]
  },
  {
   "cell_type": "code",
   "execution_count": null,
   "id": "de1b7407",
   "metadata": {},
   "outputs": [],
   "source": [
    "# package\n",
    "# methods\n",
    "# parameters"
   ]
  },
  {
   "cell_type": "code",
   "execution_count": null,
   "id": "ec9444de",
   "metadata": {},
   "outputs": [],
   "source": [
    "- int\n",
    "- float\n",
    "- str\n",
    "- bool\n",
    "- complex"
   ]
  }
 ],
 "metadata": {
  "kernelspec": {
   "display_name": "Python 3 (ipykernel)",
   "language": "python",
   "name": "python3"
  },
  "language_info": {
   "codemirror_mode": {
    "name": "ipython",
    "version": 3
   },
   "file_extension": ".py",
   "mimetype": "text/x-python",
   "name": "python",
   "nbconvert_exporter": "python",
   "pygments_lexer": "ipython3",
   "version": "3.11.5"
  }
 },
 "nbformat": 4,
 "nbformat_minor": 5
}
