{
 "cells": [
  {
   "cell_type": "markdown",
   "id": "ec2ec486",
   "metadata": {},
   "source": [
    "## Lambda"
   ]
  },
  {
   "cell_type": "markdown",
   "id": "59a01522",
   "metadata": {},
   "source": [
    "###### create basic function"
   ]
  },
  {
   "cell_type": "code",
   "execution_count": 1,
   "id": "0353b951",
   "metadata": {},
   "outputs": [
    {
     "data": {
      "text/plain": [
       "30"
      ]
     },
     "execution_count": 1,
     "metadata": {},
     "output_type": "execute_result"
    }
   ],
   "source": [
    "def add(x):\n",
    "    return(x+10)\n",
    "add(20)\n",
    "    "
   ]
  },
  {
   "cell_type": "code",
   "execution_count": null,
   "id": "39d3554f",
   "metadata": {},
   "outputs": [],
   "source": [
    "# how many arguments are present?"
   ]
  },
  {
   "cell_type": "code",
   "execution_count": 5,
   "id": "43f55d22",
   "metadata": {},
   "outputs": [
    {
     "data": {
      "text/plain": [
       "30"
      ]
     },
     "execution_count": 5,
     "metadata": {},
     "output_type": "execute_result"
    }
   ],
   "source": [
    "add=lambda x:x+10\n",
    "add(20)"
   ]
  },
  {
   "cell_type": "code",
   "execution_count": null,
   "id": "1e51572b",
   "metadata": {},
   "outputs": [],
   "source": [
    "def square():\n",
    "    return(x*X)"
   ]
  },
  {
   "cell_type": "code",
   "execution_count": 6,
   "id": "f860fb93",
   "metadata": {},
   "outputs": [
    {
     "data": {
      "text/plain": [
       "25"
      ]
     },
     "execution_count": 6,
     "metadata": {},
     "output_type": "execute_result"
    }
   ],
   "source": [
    "square=lambda x:x*x\n",
    "square(5)"
   ]
  },
  {
   "cell_type": "code",
   "execution_count": 7,
   "id": "ab81389d",
   "metadata": {},
   "outputs": [
    {
     "data": {
      "text/plain": [
       "1000"
      ]
     },
     "execution_count": 7,
     "metadata": {},
     "output_type": "execute_result"
    }
   ],
   "source": [
    "cube=lambda x:x*x*x\n",
    "cube(10)"
   ]
  },
  {
   "cell_type": "code",
   "execution_count": 11,
   "id": "75aa208e",
   "metadata": {},
   "outputs": [
    {
     "data": {
      "text/plain": [
       "1000"
      ]
     },
     "execution_count": 11,
     "metadata": {},
     "output_type": "execute_result"
    }
   ],
   "source": [
    "cube=lambda x:x*x*x\n",
    "cube(10)"
   ]
  },
  {
   "cell_type": "code",
   "execution_count": 13,
   "id": "8c795ada",
   "metadata": {},
   "outputs": [
    {
     "data": {
      "text/plain": [
       "1000"
      ]
     },
     "execution_count": 13,
     "metadata": {},
     "output_type": "execute_result"
    }
   ],
   "source": [
    "cube=lambda x:x**3\n",
    "cube(10)"
   ]
  },
  {
   "cell_type": "markdown",
   "id": "b7f035b1",
   "metadata": {},
   "source": [
    "$two-arguments$"
   ]
  },
  {
   "cell_type": "code",
   "execution_count": 15,
   "id": "e28c85d2",
   "metadata": {},
   "outputs": [
    {
     "data": {
      "text/plain": [
       "5"
      ]
     },
     "execution_count": 15,
     "metadata": {},
     "output_type": "execute_result"
    }
   ],
   "source": [
    "add=lambda a,b:a+b\n",
    "add(1,4)"
   ]
  },
  {
   "cell_type": "code",
   "execution_count": 16,
   "id": "51c2f22b",
   "metadata": {},
   "outputs": [
    {
     "data": {
      "text/plain": [
       "20.0"
      ]
     },
     "execution_count": 16,
     "metadata": {},
     "output_type": "execute_result"
    }
   ],
   "source": [
    "avg=lambda a,b,c:(a+b+c)/3\n",
    "avg(10,20,30)"
   ]
  },
  {
   "cell_type": "code",
   "execution_count": 21,
   "id": "3098c1fd",
   "metadata": {},
   "outputs": [
    {
     "data": {
      "text/plain": [
       "23.33"
      ]
     },
     "execution_count": 21,
     "metadata": {},
     "output_type": "execute_result"
    }
   ],
   "source": [
    "avg=lambda a,b,c=40:round((a+b+c)/3,2)\n",
    "avg(10,20)"
   ]
  },
  {
   "cell_type": "markdown",
   "id": "d60ed3ab",
   "metadata": {},
   "source": [
    "**if-else**"
   ]
  },
  {
   "cell_type": "code",
   "execution_count": 23,
   "id": "1f94e2d1",
   "metadata": {},
   "outputs": [
    {
     "data": {
      "text/plain": [
       "200"
      ]
     },
     "execution_count": 23,
     "metadata": {},
     "output_type": "execute_result"
    }
   ],
   "source": [
    "# create a function for finding greater number between two number\n",
    "def greater(n1,n2):\n",
    "    if n1>n2:\n",
    "        return(n1)\n",
    "    else:\n",
    "        return(n2)\n",
    "greater(100,200)"
   ]
  },
  {
   "cell_type": "code",
   "execution_count": 25,
   "id": "cc804402",
   "metadata": {},
   "outputs": [
    {
     "data": {
      "text/plain": [
       "[200]"
      ]
     },
     "execution_count": 25,
     "metadata": {},
     "output_type": "execute_result"
    }
   ],
   "source": [
    "l1=[]\n",
    "def greater(n1,n2):\n",
    "    if n1>n2:\n",
    "        l1.append(n1)\n",
    "    else:\n",
    "        l1.append(n2)\n",
    "greater(100,200)\n",
    "l1\n"
   ]
  },
  {
   "cell_type": "code",
   "execution_count": 29,
   "id": "246b6d9e",
   "metadata": {},
   "outputs": [
    {
     "data": {
      "text/plain": [
       "200"
      ]
     },
     "execution_count": 29,
     "metadata": {},
     "output_type": "execute_result"
    }
   ],
   "source": [
    "greater=lambda n1,n2:n1 if n1>n2 else n2\n",
    "greater(100,200)"
   ]
  },
  {
   "cell_type": "code",
   "execution_count": 2,
   "id": "bb2405a4",
   "metadata": {},
   "outputs": [],
   "source": [
    "l1=['hyd','beng','delhi']\n",
    "#l2=[]\n",
    "#for i in l1:\n",
    "    "
   ]
  },
  {
   "cell_type": "code",
   "execution_count": null,
   "id": "6db0cc10",
   "metadata": {},
   "outputs": [],
   "source": []
  },
  {
   "cell_type": "code",
   "execution_count": null,
   "id": "1d8ad518",
   "metadata": {},
   "outputs": [],
   "source": []
  },
  {
   "cell_type": "code",
   "execution_count": null,
   "id": "67fc2bc5",
   "metadata": {},
   "outputs": [],
   "source": [
    "lambda<arguments>:<output>,<iterator>\n",
    "\n",
    "[i.capitalize() for i in l1]"
   ]
  },
  {
   "cell_type": "code",
   "execution_count": 3,
   "id": "d1f4c2d6",
   "metadata": {},
   "outputs": [
    {
     "data": {
      "text/plain": [
       "(<function __main__.<lambda>(i)>, ['hyd', 'beng', 'delhi'])"
      ]
     },
     "execution_count": 3,
     "metadata": {},
     "output_type": "execute_result"
    }
   ],
   "source": [
    "l1=['hyd','beng','delhi']\n",
    "lambda i:i.capitalize(),l1"
   ]
  },
  {
   "cell_type": "code",
   "execution_count": null,
   "id": "ba56544b",
   "metadata": {},
   "outputs": [],
   "source": [
    "lambda <arg>:<output>"
   ]
  },
  {
   "cell_type": "code",
   "execution_count": null,
   "id": "85b5e698",
   "metadata": {},
   "outputs": [],
   "source": [
    "- next thing is map input and output"
   ]
  },
  {
   "cell_type": "code",
   "execution_count": 4,
   "id": "9f5207f1",
   "metadata": {},
   "outputs": [
    {
     "data": {
      "text/plain": [
       "<map at 0x1dae2cdb070>"
      ]
     },
     "execution_count": 4,
     "metadata": {},
     "output_type": "execute_result"
    }
   ],
   "source": [
    "l1=['hyd','beng','delhi']\n",
    "map(lambda i:i.capitalize(),l1)"
   ]
  },
  {
   "cell_type": "code",
   "execution_count": null,
   "id": "d04556ff",
   "metadata": {},
   "outputs": [],
   "source": [
    "- store the output"
   ]
  },
  {
   "cell_type": "code",
   "execution_count": 5,
   "id": "f318d391",
   "metadata": {},
   "outputs": [
    {
     "data": {
      "text/plain": [
       "['Hyd', 'Beng', 'Delhi']"
      ]
     },
     "execution_count": 5,
     "metadata": {},
     "output_type": "execute_result"
    }
   ],
   "source": [
    "list(map(lambda i:i.capitalize(),l1))"
   ]
  },
  {
   "cell_type": "code",
   "execution_count": 6,
   "id": "b244b539",
   "metadata": {},
   "outputs": [
    {
     "data": {
      "text/plain": [
       "('Hyd', 'Beng', 'Delhi')"
      ]
     },
     "execution_count": 6,
     "metadata": {},
     "output_type": "execute_result"
    }
   ],
   "source": [
    "tuple(map(lambda i:i.capitalize(),l1))"
   ]
  },
  {
   "cell_type": "markdown",
   "id": "6aec2e0c",
   "metadata": {},
   "source": [
    "- first make a lambda function\n",
    "- second add your iterator\n",
    "- map both function and iterator\n",
    "- save the result in a list"
   ]
  },
  {
   "cell_type": "code",
   "execution_count": 8,
   "id": "1d9d455d",
   "metadata": {},
   "outputs": [
    {
     "data": {
      "text/plain": [
       "['Hyd', 'Chennai', 'Mumbai']"
      ]
     },
     "execution_count": 8,
     "metadata": {},
     "output_type": "execute_result"
    }
   ],
   "source": [
    "l1=['hyd','chennai','mumbai']\n",
    "lambda i:i.capitalize(),l1\n",
    "map(lambda i:i.capitalize(),l1)\n",
    "list(map(lambda i:i.capitalize(),l1))\n"
   ]
  },
  {
   "cell_type": "code",
   "execution_count": 9,
   "id": "9567f35a",
   "metadata": {},
   "outputs": [
    {
     "data": {
      "text/plain": [
       "[1, 4, 9, 16, 25]"
      ]
     },
     "execution_count": 9,
     "metadata": {},
     "output_type": "execute_result"
    }
   ],
   "source": [
    "list1=[1,2,3,4,5]\n",
    "lambda i:i*i,list1\n",
    "map(lambda i:i*i,list1)\n",
    "list(map(lambda i:i*i,list1))"
   ]
  },
  {
   "cell_type": "code",
   "execution_count": 11,
   "id": "494ef018",
   "metadata": {},
   "outputs": [
    {
     "data": {
      "text/plain": [
       "[12, 24, 36]"
      ]
     },
     "execution_count": 11,
     "metadata": {},
     "output_type": "execute_result"
    }
   ],
   "source": [
    "list1=[1,2,3]\n",
    "list2=[11,22,33]\n",
    "list(map(lambda i,j:i+j,list1,list2))"
   ]
  },
  {
   "cell_type": "code",
   "execution_count": 12,
   "id": "5f87d881",
   "metadata": {},
   "outputs": [
    {
     "data": {
      "text/plain": [
       "(12, 24, 36)"
      ]
     },
     "execution_count": 12,
     "metadata": {},
     "output_type": "execute_result"
    }
   ],
   "source": [
    "tuple(map(lambda i,j:i+j,list1,list2))"
   ]
  },
  {
   "cell_type": "code",
   "execution_count": 13,
   "id": "5f68346e",
   "metadata": {},
   "outputs": [
    {
     "data": {
      "text/plain": [
       "'<map object at 0x000001DAE2FEB070>'"
      ]
     },
     "execution_count": 13,
     "metadata": {},
     "output_type": "execute_result"
    }
   ],
   "source": [
    "str(map(lambda i,j:i+j,list1,list2))"
   ]
  },
  {
   "cell_type": "code",
   "execution_count": 16,
   "id": "f3639878",
   "metadata": {},
   "outputs": [
    {
     "name": "stdout",
     "output_type": "stream",
     "text": [
      "h#d\n",
      "mum#bai\n"
     ]
    },
    {
     "data": {
      "text/plain": [
       "['h#d', 'mum#bai', 'chennai']"
      ]
     },
     "execution_count": 16,
     "metadata": {},
     "output_type": "execute_result"
    }
   ],
   "source": [
    "list1=['h#d','mum#bai','chennai']\n",
    "for i in list1:\n",
    "    if '#' in i:\n",
    "        print(i)\n",
    "list1        "
   ]
  },
  {
   "cell_type": "code",
   "execution_count": 21,
   "id": "1a655d3a",
   "metadata": {},
   "outputs": [
    {
     "data": {
      "text/plain": [
       "['h#d', 'mum#bai']"
      ]
     },
     "execution_count": 21,
     "metadata": {},
     "output_type": "execute_result"
    }
   ],
   "source": [
    "[i for i in list1 if '#' in i]\n"
   ]
  },
  {
   "cell_type": "code",
   "execution_count": null,
   "id": "f8648631",
   "metadata": {},
   "outputs": [],
   "source": [
    "# lambda <argument>:<condition>,<iterator>"
   ]
  },
  {
   "cell_type": "code",
   "execution_count": 19,
   "id": "c51e52c6",
   "metadata": {},
   "outputs": [
    {
     "data": {
      "text/plain": [
       "(<function __main__.<lambda>(i)>, ['h#d', 'mum#bai', 'chennai'])"
      ]
     },
     "execution_count": 19,
     "metadata": {},
     "output_type": "execute_result"
    }
   ],
   "source": [
    "lambda i: '#' in i,list1\n"
   ]
  },
  {
   "cell_type": "code",
   "execution_count": 22,
   "id": "aa6142b2",
   "metadata": {},
   "outputs": [
    {
     "data": {
      "text/plain": [
       "[True, True, False]"
      ]
     },
     "execution_count": 22,
     "metadata": {},
     "output_type": "execute_result"
    }
   ],
   "source": [
    "list(map(lambda i: '#' in i,list1))\n",
    "# condition mappimg to list of items"
   ]
  },
  {
   "cell_type": "code",
   "execution_count": 23,
   "id": "ef34395b",
   "metadata": {},
   "outputs": [
    {
     "data": {
      "text/plain": [
       "['h#d', 'mum#bai']"
      ]
     },
     "execution_count": 23,
     "metadata": {},
     "output_type": "execute_result"
    }
   ],
   "source": [
    "list(filter(lambda i: '#' in i,list1))"
   ]
  },
  {
   "cell_type": "code",
   "execution_count": null,
   "id": "e882571a",
   "metadata": {},
   "outputs": [],
   "source": []
  }
 ],
 "metadata": {
  "kernelspec": {
   "display_name": "Python 3 (ipykernel)",
   "language": "python",
   "name": "python3"
  },
  "language_info": {
   "codemirror_mode": {
    "name": "ipython",
    "version": 3
   },
   "file_extension": ".py",
   "mimetype": "text/x-python",
   "name": "python",
   "nbconvert_exporter": "python",
   "pygments_lexer": "ipython3",
   "version": "3.11.5"
  }
 },
 "nbformat": 4,
 "nbformat_minor": 5
}
