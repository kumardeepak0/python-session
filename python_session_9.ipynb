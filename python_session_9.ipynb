{
 "cells": [
  {
   "cell_type": "markdown",
   "id": "f5fb095a",
   "metadata": {},
   "source": [
    "# Notes:-"
   ]
  },
  {
   "cell_type": "code",
   "execution_count": 1,
   "id": "3ac38fa2",
   "metadata": {},
   "outputs": [
    {
     "name": "stdout",
     "output_type": "stream",
     "text": [
      "python\n"
     ]
    },
    {
     "ename": "NameError",
     "evalue": "name 'python' is not defined",
     "output_type": "error",
     "traceback": [
      "\u001b[1;31m---------------------------------------------------------------------------\u001b[0m",
      "\u001b[1;31mNameError\u001b[0m                                 Traceback (most recent call last)",
      "Cell \u001b[1;32mIn[1], line 1\u001b[0m\n\u001b[1;32m----> 1\u001b[0m n\u001b[38;5;241m=\u001b[39m\u001b[38;5;28meval\u001b[39m(\u001b[38;5;28minput\u001b[39m())\n",
      "File \u001b[1;32m<string>:1\u001b[0m\n",
      "\u001b[1;31mNameError\u001b[0m: name 'python' is not defined"
     ]
    }
   ],
   "source": [
    "n=eval(input())"
   ]
  },
  {
   "cell_type": "code",
   "execution_count": null,
   "id": "470e308c",
   "metadata": {},
   "outputs": [],
   "source": [
    "if<condition>\n",
    "elif<condition>\n",
    "else # No condition"
   ]
  },
  {
   "cell_type": "code",
   "execution_count": 2,
   "id": "445635c7",
   "metadata": {},
   "outputs": [
    {
     "ename": "IndentationError",
     "evalue": "expected an indented block after 'if' statement on line 1 (4128502158.py, line 2)",
     "output_type": "error",
     "traceback": [
      "\u001b[1;36m  Cell \u001b[1;32mIn[2], line 2\u001b[1;36m\u001b[0m\n\u001b[1;33m    print('hello')\u001b[0m\n\u001b[1;37m    ^\u001b[0m\n\u001b[1;31mIndentationError\u001b[0m\u001b[1;31m:\u001b[0m expected an indented block after 'if' statement on line 1\n"
     ]
    }
   ],
   "source": [
    "if a==10:\n",
    "print('hello')    "
   ]
  },
  {
   "cell_type": "code",
   "execution_count": 3,
   "id": "a73c3ba7",
   "metadata": {},
   "outputs": [
    {
     "ename": "NameError",
     "evalue": "name 'a' is not defined",
     "output_type": "error",
     "traceback": [
      "\u001b[1;31m---------------------------------------------------------------------------\u001b[0m",
      "\u001b[1;31mNameError\u001b[0m                                 Traceback (most recent call last)",
      "Cell \u001b[1;32mIn[3], line 1\u001b[0m\n\u001b[1;32m----> 1\u001b[0m \u001b[38;5;28;01mif\u001b[39;00m a\u001b[38;5;241m==\u001b[39m\u001b[38;5;241m10\u001b[39m:\n\u001b[0;32m      2\u001b[0m     \u001b[38;5;28mprint\u001b[39m(\u001b[38;5;124m'\u001b[39m\u001b[38;5;124mhello\u001b[39m\u001b[38;5;124m'\u001b[39m)\n",
      "\u001b[1;31mNameError\u001b[0m: name 'a' is not defined"
     ]
    }
   ],
   "source": [
    "if a==10:\n",
    "    print('hello')"
   ]
  },
  {
   "cell_type": "code",
   "execution_count": null,
   "id": "614536f6",
   "metadata": {},
   "outputs": [],
   "source": [
    "keyword should not be used as variable:"
   ]
  },
  {
   "cell_type": "markdown",
   "id": "aef1160d",
   "metadata": {},
   "source": [
    "# Function:-"
   ]
  },
  {
   "cell_type": "markdown",
   "id": "43927de4",
   "metadata": {},
   "source": [
    "- Reuse any part of code"
   ]
  },
  {
   "cell_type": "code",
   "execution_count": 4,
   "id": "0be77137",
   "metadata": {},
   "outputs": [
    {
     "name": "stdout",
     "output_type": "stream",
     "text": [
      "The addition of 10 and 10 is 20\n"
     ]
    }
   ],
   "source": [
    "n1=10\n",
    "n2=10\n",
    "add=n1+n2\n",
    "print(\"The addition of {} and {} is {}\".format(n1,n2,add))"
   ]
  },
  {
   "cell_type": "code",
   "execution_count": null,
   "id": "82393c50",
   "metadata": {},
   "outputs": [],
   "source": [
    "def<function_name>():\n",
    "    # write your code here"
   ]
  },
  {
   "cell_type": "code",
   "execution_count": 6,
   "id": "0a894968",
   "metadata": {},
   "outputs": [],
   "source": [
    "def addition():\n",
    "    n1=10\n",
    "    n2=10\n",
    "    add=n1+n2\n",
    "    print(\"The addition of {} and {} is {}\".format(n1,n2,add))"
   ]
  },
  {
   "cell_type": "code",
   "execution_count": null,
   "id": "0f4000ed",
   "metadata": {},
   "outputs": [],
   "source": [
    "## The output will not display untill unless you call the function"
   ]
  },
  {
   "cell_type": "code",
   "execution_count": 7,
   "id": "9133b336",
   "metadata": {},
   "outputs": [
    {
     "name": "stdout",
     "output_type": "stream",
     "text": [
      "The addition of 10 and 10 is 20\n"
     ]
    }
   ],
   "source": [
    "addition()"
   ]
  },
  {
   "cell_type": "code",
   "execution_count": 9,
   "id": "69bb3801",
   "metadata": {},
   "outputs": [
    {
     "name": "stdout",
     "output_type": "stream",
     "text": [
      "hello\n",
      "i am writing function\n"
     ]
    }
   ],
   "source": [
    "def addition():\n",
    "    print('hello')\n",
    "    print('i am writing function')\n",
    "addition()"
   ]
  },
  {
   "cell_type": "code",
   "execution_count": 10,
   "id": "f1333822",
   "metadata": {},
   "outputs": [
    {
     "name": "stdout",
     "output_type": "stream",
     "text": [
      "Enter a number:34\n",
      "hello\n",
      "i am writing function\n"
     ]
    }
   ],
   "source": [
    "def addition():\n",
    "    n1=eval(input(\"Enter a number:\"))\n",
    "    print('hello')\n",
    "    print('i am writing function')\n",
    "addition()"
   ]
  },
  {
   "cell_type": "code",
   "execution_count": 11,
   "id": "88c183a5",
   "metadata": {},
   "outputs": [
    {
     "name": "stdout",
     "output_type": "stream",
     "text": [
      "hello\n",
      "i am writing function\n"
     ]
    }
   ],
   "source": [
    "def hello():\n",
    "    print('hello')\n",
    "    print('i am writing function')\n",
    "hello()"
   ]
  },
  {
   "cell_type": "code",
   "execution_count": 12,
   "id": "ea6dc765",
   "metadata": {},
   "outputs": [
    {
     "name": "stdout",
     "output_type": "stream",
     "text": [
      "hello good morning\n"
     ]
    }
   ],
   "source": [
    "def hello_world():\n",
    "    print('hello good morning')\n",
    "hello_world()    "
   ]
  },
  {
   "cell_type": "code",
   "execution_count": null,
   "id": "64cc4aba",
   "metadata": {},
   "outputs": [],
   "source": [
    "# take three number find the average\n",
    "# Wap ask the uswr enter 3 number\n",
    "# n1=eval(input())\n",
    "# n2=eval(input())\n",
    "#n3=eval(input())\n",
    "#avg=(n1+n2+n3)/3\n",
    "#first write normal codwe\n",
    "# then implment the function"
   ]
  },
  {
   "cell_type": "code",
   "execution_count": 13,
   "id": "1bb48ceb",
   "metadata": {},
   "outputs": [
    {
     "name": "stdout",
     "output_type": "stream",
     "text": [
      "Enter the number1:45\n",
      "Enter the number2:50\n",
      "Enter the number3:55\n",
      "The average of 45,50and 55 is 50.0\n"
     ]
    }
   ],
   "source": [
    "n1=eval(input(\"Enter the number1:\"))\n",
    "n2=eval(input(\"Enter the number2:\"))\n",
    "n3=eval(input(\"Enter the number3:\"))\n",
    "average=(n1+n2+n3)/3\n",
    "print(\"The average of {},{}and {} is {}\".format(n1,n2,n3,average))"
   ]
  },
  {
   "cell_type": "code",
   "execution_count": 14,
   "id": "361b6210",
   "metadata": {},
   "outputs": [
    {
     "name": "stdout",
     "output_type": "stream",
     "text": [
      "Enter the number1:45\n",
      "Enter the number2:50\n",
      "Enter the number3:55\n",
      "The average of 45,50and 55 is 50.0\n"
     ]
    }
   ],
   "source": [
    "def average():\n",
    "    n1=eval(input(\"Enter the number1:\"))\n",
    "    n2=eval(input(\"Enter the number2:\"))\n",
    "    n3=eval(input(\"Enter the number3:\"))\n",
    "    average=(n1+n2+n3)/3\n",
    "    print(\"The average of {},{}and {} is {}\".format(n1,n2,n3,average))\n",
    "average()    "
   ]
  },
  {
   "cell_type": "code",
   "execution_count": 15,
   "id": "0a8a23a3",
   "metadata": {},
   "outputs": [
    {
     "name": "stdout",
     "output_type": "stream",
     "text": [
      "Enter the number1:45\n",
      "Enter the number2:55\n",
      "Enter the number3:50\n"
     ]
    },
    {
     "ename": "NameError",
     "evalue": "name 'n333' is not defined",
     "output_type": "error",
     "traceback": [
      "\u001b[1;31m---------------------------------------------------------------------------\u001b[0m",
      "\u001b[1;31mNameError\u001b[0m                                 Traceback (most recent call last)",
      "Cell \u001b[1;32mIn[15], line 7\u001b[0m\n\u001b[0;32m      5\u001b[0m     average\u001b[38;5;241m=\u001b[39m(n1\u001b[38;5;241m+\u001b[39mn2\u001b[38;5;241m+\u001b[39mn333)\u001b[38;5;241m/\u001b[39m\u001b[38;5;241m3\u001b[39m\n\u001b[0;32m      6\u001b[0m     \u001b[38;5;28mprint\u001b[39m(\u001b[38;5;124m\"\u001b[39m\u001b[38;5;124mThe average of \u001b[39m\u001b[38;5;132;01m{}\u001b[39;00m\u001b[38;5;124m,\u001b[39m\u001b[38;5;132;01m{}\u001b[39;00m\u001b[38;5;124mand \u001b[39m\u001b[38;5;132;01m{}\u001b[39;00m\u001b[38;5;124m is \u001b[39m\u001b[38;5;132;01m{}\u001b[39;00m\u001b[38;5;124m\"\u001b[39m\u001b[38;5;241m.\u001b[39mformat(n1,n2,n3,average))\n\u001b[1;32m----> 7\u001b[0m average()\n",
      "Cell \u001b[1;32mIn[15], line 5\u001b[0m, in \u001b[0;36maverage\u001b[1;34m()\u001b[0m\n\u001b[0;32m      3\u001b[0m n2\u001b[38;5;241m=\u001b[39m\u001b[38;5;28meval\u001b[39m(\u001b[38;5;28minput\u001b[39m(\u001b[38;5;124m\"\u001b[39m\u001b[38;5;124mEnter the number2:\u001b[39m\u001b[38;5;124m\"\u001b[39m))\n\u001b[0;32m      4\u001b[0m n3\u001b[38;5;241m=\u001b[39m\u001b[38;5;28meval\u001b[39m(\u001b[38;5;28minput\u001b[39m(\u001b[38;5;124m\"\u001b[39m\u001b[38;5;124mEnter the number3:\u001b[39m\u001b[38;5;124m\"\u001b[39m))\n\u001b[1;32m----> 5\u001b[0m average\u001b[38;5;241m=\u001b[39m(n1\u001b[38;5;241m+\u001b[39mn2\u001b[38;5;241m+\u001b[39mn333)\u001b[38;5;241m/\u001b[39m\u001b[38;5;241m3\u001b[39m\n\u001b[0;32m      6\u001b[0m \u001b[38;5;28mprint\u001b[39m(\u001b[38;5;124m\"\u001b[39m\u001b[38;5;124mThe average of \u001b[39m\u001b[38;5;132;01m{}\u001b[39;00m\u001b[38;5;124m,\u001b[39m\u001b[38;5;132;01m{}\u001b[39;00m\u001b[38;5;124mand \u001b[39m\u001b[38;5;132;01m{}\u001b[39;00m\u001b[38;5;124m is \u001b[39m\u001b[38;5;132;01m{}\u001b[39;00m\u001b[38;5;124m\"\u001b[39m\u001b[38;5;241m.\u001b[39mformat(n1,n2,n3,average))\n",
      "\u001b[1;31mNameError\u001b[0m: name 'n333' is not defined"
     ]
    }
   ],
   "source": [
    "def average():\n",
    "    n1=eval(input(\"Enter the number1:\"))\n",
    "    n2=eval(input(\"Enter the number2:\"))\n",
    "    n3=eval(input(\"Enter the number3:\"))\n",
    "    average=(n1+n2+n333)/3\n",
    "    print(\"The average of {},{}and {} is {}\".format(n1,n2,n3,average))\n",
    "average()    "
   ]
  },
  {
   "cell_type": "markdown",
   "id": "c20d2e98",
   "metadata": {},
   "source": [
    "# Note:-\n",
    "- we are not sure , the function is defined correct or wrong\n",
    "- untill unless we call the function"
   ]
  },
  {
   "cell_type": "code",
   "execution_count": 17,
   "id": "1a1a24f4",
   "metadata": {},
   "outputs": [
    {
     "name": "stdout",
     "output_type": "stream",
     "text": [
      "Enter the number1:45\n",
      "Enter the number2:50\n",
      "Enter the number3:55\n",
      "The average of 45,50and 55 is 50.0\n"
     ]
    }
   ],
   "source": [
    "def average():\n",
    "    try:\n",
    "        n1=eval(input(\"Enter the number1:\"))\n",
    "        n2=eval(input(\"Enter the number2:\"))\n",
    "        n3=eval(input(\"Enter the number3:\"))\n",
    "        average=(n1+n2+n3)/3\n",
    "        print(\"The average of {},{}and {} is {}\".format(n1,n2,n3,average))\n",
    "    except Exception as e:\n",
    "        print(e)\n",
    "average()    "
   ]
  },
  {
   "cell_type": "code",
   "execution_count": 18,
   "id": "3184fa5e",
   "metadata": {},
   "outputs": [
    {
     "name": "stdout",
     "output_type": "stream",
     "text": [
      "Enter the number1:45\n",
      "Enter the number2:50\n",
      "Enter the number3:55\n",
      "name 'n333' is not defined\n"
     ]
    }
   ],
   "source": [
    "def average():\n",
    "    try:\n",
    "        n1=eval(input(\"Enter the number1:\"))\n",
    "        n2=eval(input(\"Enter the number2:\"))\n",
    "        n3=eval(input(\"Enter the number3:\"))\n",
    "        average=(n1+n2+n333)/3\n",
    "        print(\"The average of {},{}and {} is {}\".format(n1,n2,n3,average))\n",
    "    except Exception as e:\n",
    "        print(e)\n",
    "average() "
   ]
  },
  {
   "cell_type": "code",
   "execution_count": null,
   "id": "700c0cad",
   "metadata": {},
   "outputs": [],
   "source": [
    "# WAP ask the user enter bill amount\n",
    "# ask the user enter tip amonut\n",
    "# calculate total bill"
   ]
  },
  {
   "cell_type": "code",
   "execution_count": 20,
   "id": "9af346cf",
   "metadata": {},
   "outputs": [
    {
     "name": "stdout",
     "output_type": "stream",
     "text": [
      "Enter the bill amount:5000\n",
      "Enter the tip amount:600\n",
      "The total bill amount is 5600\n"
     ]
    }
   ],
   "source": [
    "try:\n",
    "    bill=eval(input(\"Enter the bill amount:\"))\n",
    "    tip=eval(input(\"Enter the tip amount:\"))\n",
    "    total_bill=bill+tip\n",
    "    print(\"The total bill amount is {}\".format(total_bill))\n",
    "except Exception as error:\n",
    "    print(error)"
   ]
  },
  {
   "cell_type": "code",
   "execution_count": 21,
   "id": "5a2ff0ad",
   "metadata": {},
   "outputs": [
    {
     "name": "stdout",
     "output_type": "stream",
     "text": [
      "Enter the bill amount:5000\n",
      "Enter the tip amount:600\n",
      "The total bill amount is 5600\n"
     ]
    }
   ],
   "source": [
    "def bill():\n",
    "    try:\n",
    "        bill=eval(input(\"Enter the bill amount:\"))\n",
    "        tip=eval(input(\"Enter the tip amount:\"))\n",
    "        total_bill=bill+tip\n",
    "        print(\"The total bill amount is {}\".format(total_bill))\n",
    "    except Exception as error:\n",
    "        print(error)\n",
    "bill()        "
   ]
  },
  {
   "cell_type": "code",
   "execution_count": null,
   "id": "8462b2aa",
   "metadata": {},
   "outputs": [],
   "source": [
    "# WAP ask the user get a random number between 1 to 100\n",
    "# print it is even or odd\n",
    "# Implement using function"
   ]
  },
  {
   "cell_type": "code",
   "execution_count": 22,
   "id": "7d00e550",
   "metadata": {},
   "outputs": [
    {
     "name": "stdout",
     "output_type": "stream",
     "text": [
      "91 is an odd number \n"
     ]
    }
   ],
   "source": [
    "import random\n",
    "num1=random.randint(1,100)\n",
    "try:\n",
    "    if num1%2==0:\n",
    "        print(\"{} is a even number \".format(num1))\n",
    "    else:\n",
    "        print(\"{} is an odd number \".format(num1))\n",
    "except exception as errro:\n",
    "    print(error)"
   ]
  },
  {
   "cell_type": "code",
   "execution_count": 27,
   "id": "0b17f3b6",
   "metadata": {},
   "outputs": [
    {
     "name": "stdout",
     "output_type": "stream",
     "text": [
      "47 is an odd number \n"
     ]
    }
   ],
   "source": [
    "def even_odd():\n",
    "    import random\n",
    "    num1=random.randint(1,100)\n",
    "    try:\n",
    "        if num1%2==0:\n",
    "            print(\"{} is a even number \".format(num1))\n",
    "        else:\n",
    "            print(\"{} is an odd number \".format(num1))\n",
    "    except exception as errror:\n",
    "        print(error)\n",
    "even_odd()        "
   ]
  },
  {
   "cell_type": "code",
   "execution_count": 28,
   "id": "091b0e26",
   "metadata": {},
   "outputs": [
    {
     "name": "stdout",
     "output_type": "stream",
     "text": [
      "69 is an odd number \n"
     ]
    }
   ],
   "source": [
    "def even_odd():\n",
    "    import random\n",
    "    num1=random.randint(1,100)\n",
    "    try:\n",
    "        if num1%2==0:\n",
    "            print(\"{} is a even number \".format(num1))\n",
    "        else:\n",
    "            print(\"{} is an odd number \".format(num1))\n",
    "    except exception as errror:\n",
    "        print(error)\n",
    "even_odd()   "
   ]
  },
  {
   "cell_type": "code",
   "execution_count": 29,
   "id": "5a2b4664",
   "metadata": {},
   "outputs": [
    {
     "name": "stdout",
     "output_type": "stream",
     "text": [
      "python\n",
      "i am good\n",
      "53 is an odd number \n",
      "byeee\n",
      "take care\n"
     ]
    }
   ],
   "source": [
    "print(\"python\")\n",
    "print(\"i am good\")\n",
    "def even_odd():\n",
    "    import random\n",
    "    num1=random.randint(1,100)\n",
    "    try:\n",
    "        if num1%2==0:\n",
    "            print(\"{} is a even number \".format(num1))\n",
    "        else:\n",
    "            print(\"{} is an odd number \".format(num1))\n",
    "    except exception as errror:\n",
    "        print(error)\n",
    "even_odd() \n",
    "print(\"byeee\")\n",
    "print(\"take care\")"
   ]
  },
  {
   "cell_type": "code",
   "execution_count": 31,
   "id": "4cb8d16f",
   "metadata": {},
   "outputs": [
    {
     "name": "stdout",
     "output_type": "stream",
     "text": [
      "addition: 50\n",
      "mul function starts\n",
      "mul: 600\n",
      "mul function done\n",
      "substraction function starts\n",
      "substraction: -10\n",
      "substraction is done\n",
      "anything remains\n",
      "no\n",
      "then call the function\n"
     ]
    }
   ],
   "source": [
    "def addition():\n",
    "    n1=20\n",
    "    n2=30\n",
    "    print('addition:',n1+n2)\n",
    "addition()    \n",
    "print(\"mul function starts\")\n",
    "def mul():\n",
    "    n1=20\n",
    "    n2=30\n",
    "    print('mul:',n1*n2)\n",
    "    print(\"mul function done\")\n",
    "mul()    \n",
    "print(\"substraction function starts\")\n",
    "def sub():\n",
    "    n1=20\n",
    "    n2=30\n",
    "    print('substraction:',n1-n2)\n",
    "    print(\"substraction is done\")\n",
    "sub()    \n",
    "print(\"anything remains\")\n",
    "print(\"no\")\n",
    "print(\"then call the function\")"
   ]
  },
  {
   "cell_type": "code",
   "execution_count": 32,
   "id": "86a17c7b",
   "metadata": {},
   "outputs": [
    {
     "name": "stdout",
     "output_type": "stream",
     "text": [
      "mul function starts\n",
      "substraction function starts\n",
      "anything remains\n",
      "no\n",
      "then call the function\n"
     ]
    }
   ],
   "source": [
    "def addition():\n",
    "    n1=20\n",
    "    n2=30\n",
    "    print('addition:',n1+n2)\n",
    "    \n",
    "print(\"mul function starts\")\n",
    "def mul():\n",
    "    n1=20\n",
    "    n2=30\n",
    "    print('mul:',n1*n2)\n",
    "    print(\"mul function done\")\n",
    "   \n",
    "print(\"substraction function starts\")\n",
    "def sub():\n",
    "    n1=20\n",
    "    n2=30\n",
    "    print('substraction:',n1-n2)\n",
    "    print(\"substraction is done\")\n",
    "    \n",
    "print(\"anything remains\")\n",
    "print(\"no\")\n",
    "print(\"then call the function\")"
   ]
  },
  {
   "cell_type": "code",
   "execution_count": null,
   "id": "9617814f",
   "metadata": {},
   "outputs": [],
   "source": [
    "addition()\n",
    "bill()"
   ]
  },
  {
   "cell_type": "markdown",
   "id": "a81a789b",
   "metadata": {},
   "source": [
    "# Notes:-\n",
    "- if you not mentioning any values inside the function bracket\n",
    "- with out argument or without parameter\n",
    "- arguments or parameters"
   ]
  },
  {
   "cell_type": "markdown",
   "id": "50c834a2",
   "metadata": {},
   "source": [
    "# With Argument"
   ]
  },
  {
   "cell_type": "code",
   "execution_count": 33,
   "id": "8e6b551c",
   "metadata": {},
   "outputs": [
    {
     "name": "stdout",
     "output_type": "stream",
     "text": [
      "The addition of 20 and 30 is 50\n"
     ]
    }
   ],
   "source": [
    "def addition(n1,n2):  # Arguments\n",
    "    add=n1+n2\n",
    "    print(\"The addition of {} and {} is {}\".format(n1,n2,add))\n",
    "    \n",
    "addition(20,30)    # n1=20, n2=30"
   ]
  },
  {
   "cell_type": "code",
   "execution_count": 34,
   "id": "1ae4c045",
   "metadata": {},
   "outputs": [
    {
     "ename": "TypeError",
     "evalue": "addition() missing 1 required positional argument: 'n2'",
     "output_type": "error",
     "traceback": [
      "\u001b[1;31m---------------------------------------------------------------------------\u001b[0m",
      "\u001b[1;31mTypeError\u001b[0m                                 Traceback (most recent call last)",
      "Cell \u001b[1;32mIn[34], line 5\u001b[0m\n\u001b[0;32m      2\u001b[0m     add\u001b[38;5;241m=\u001b[39mn1\u001b[38;5;241m+\u001b[39mn2\n\u001b[0;32m      3\u001b[0m     \u001b[38;5;28mprint\u001b[39m(\u001b[38;5;124m\"\u001b[39m\u001b[38;5;124mThe addition of \u001b[39m\u001b[38;5;132;01m{}\u001b[39;00m\u001b[38;5;124m and \u001b[39m\u001b[38;5;132;01m{}\u001b[39;00m\u001b[38;5;124m is \u001b[39m\u001b[38;5;132;01m{}\u001b[39;00m\u001b[38;5;124m\"\u001b[39m\u001b[38;5;241m.\u001b[39mformat(n1,n2,add))\n\u001b[1;32m----> 5\u001b[0m addition(\u001b[38;5;241m200\u001b[39m)\n",
      "\u001b[1;31mTypeError\u001b[0m: addition() missing 1 required positional argument: 'n2'"
     ]
    }
   ],
   "source": [
    "def addition(n1,n2):  # Arguments\n",
    "    add=n1+n2\n",
    "    print(\"The addition of {} and {} is {}\".format(n1,n2,add))\n",
    "    \n",
    "addition(200)    "
   ]
  },
  {
   "cell_type": "code",
   "execution_count": 35,
   "id": "3c0ac20b",
   "metadata": {},
   "outputs": [
    {
     "ename": "TypeError",
     "evalue": "addition11() takes 0 positional arguments but 2 were given",
     "output_type": "error",
     "traceback": [
      "\u001b[1;31m---------------------------------------------------------------------------\u001b[0m",
      "\u001b[1;31mTypeError\u001b[0m                                 Traceback (most recent call last)",
      "Cell \u001b[1;32mIn[35], line 6\u001b[0m\n\u001b[0;32m      3\u001b[0m     add\u001b[38;5;241m=\u001b[39mn1111\u001b[38;5;241m+\u001b[39mn2222\n\u001b[0;32m      4\u001b[0m     \u001b[38;5;28mprint\u001b[39m(\u001b[38;5;124m\"\u001b[39m\u001b[38;5;124mThe addition of \u001b[39m\u001b[38;5;132;01m{}\u001b[39;00m\u001b[38;5;124m and \u001b[39m\u001b[38;5;132;01m{}\u001b[39;00m\u001b[38;5;124m is \u001b[39m\u001b[38;5;132;01m{}\u001b[39;00m\u001b[38;5;124m\"\u001b[39m\u001b[38;5;241m.\u001b[39mformat(n1111,n2222,add))\n\u001b[1;32m----> 6\u001b[0m addition11(\u001b[38;5;241m200\u001b[39m,\u001b[38;5;241m300\u001b[39m)\n",
      "\u001b[1;31mTypeError\u001b[0m: addition11() takes 0 positional arguments but 2 were given"
     ]
    }
   ],
   "source": [
    "def addition11():\n",
    "    add=n1111+n2222\n",
    "    add=n1111+n2222\n",
    "    print(\"The addition of {} and {} is {}\".format(n1111,n2222,add))\n",
    "    \n",
    "addition11(200,300)   "
   ]
  },
  {
   "cell_type": "code",
   "execution_count": null,
   "id": "2461122e",
   "metadata": {},
   "outputs": [],
   "source": [
    "# Implement below code using with argument\n",
    "def average():\n",
    "    try:\n",
    "        n1=eval(input(\"Enter the number1:\"))\n",
    "        n2=eval(input(\"Enter the number2:\"))\n",
    "        n3=eval(input(\"Enter the number3:\"))\n",
    "        average=(n1+n2+n3)/3\n",
    "        print(\"The average of {},{}and {} is {}\".format(n1,n2,n3,average))\n",
    "    except Exception as e:\n",
    "        print(e)\n",
    "average()"
   ]
  },
  {
   "cell_type": "markdown",
   "id": "b54f1e74",
   "metadata": {},
   "source": [
    "$ solution $\n"
   ]
  },
  {
   "cell_type": "code",
   "execution_count": 2,
   "id": "270847b0",
   "metadata": {},
   "outputs": [
    {
     "name": "stdout",
     "output_type": "stream",
     "text": [
      "n1: 20\n",
      "n2: 30\n",
      "n3: 40\n",
      "The average of 20,30and 40 is 30.0\n"
     ]
    }
   ],
   "source": [
    "# Implement below code with argument\n",
    "def average(n1,n2,n3):\n",
    "    try:\n",
    "        print(\"n1:\",n1)  #20\n",
    "        print(\"n2:\",n2) #30\n",
    "        print(\"n3:\",n3) # 40\n",
    "        average=(n1+n2+n3)/3\n",
    "        print(\"The average of {},{}and {} is {}\".format(n1,n2,n3,average))\n",
    "    except Exception as e:\n",
    "        print(e)\n",
    "average(20,30,40)"
   ]
  },
  {
   "cell_type": "code",
   "execution_count": null,
   "id": "17297d7c",
   "metadata": {},
   "outputs": [],
   "source": []
  }
 ],
 "metadata": {
  "kernelspec": {
   "display_name": "Python 3 (ipykernel)",
   "language": "python",
   "name": "python3"
  },
  "language_info": {
   "codemirror_mode": {
    "name": "ipython",
    "version": 3
   },
   "file_extension": ".py",
   "mimetype": "text/x-python",
   "name": "python",
   "nbconvert_exporter": "python",
   "pygments_lexer": "ipython3",
   "version": "3.11.5"
  }
 },
 "nbformat": 4,
 "nbformat_minor": 5
}
