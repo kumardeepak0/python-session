{
 "cells": [
  {
   "cell_type": "code",
   "execution_count": null,
   "id": "dbc746d8",
   "metadata": {},
   "outputs": [],
   "source": [
    "# WAP ask the user enter a basic_sallery\n",
    "# ask the user enter DA amount\n",
    "# ask the user enter HRA amount\n",
    "# calculate total pay=basic sallery+DA+HRA"
   ]
  },
  {
   "cell_type": "code",
   "execution_count": 3,
   "id": "712815dc",
   "metadata": {},
   "outputs": [
    {
     "name": "stdout",
     "output_type": "stream",
     "text": [
      "Enter the basic sallery :50000\n",
      "Enter the DA amount:10000\n",
      "Enter the HRA amount:15000\n",
      "The total sallery is: 75000\n"
     ]
    }
   ],
   "source": [
    "basic_sallery=eval(input(\"Enter the basic sallery :\"))\n",
    "DA=eval(input(\"Enter the DA amount:\"))\n",
    "HRA=eval(input(\"Enter the HRA amount:\"))\n",
    "totalpay=basic_sallery+DA+HRA\n",
    "print(\"The total sallery is:\",totalpay)"
   ]
  },
  {
   "cell_type": "code",
   "execution_count": null,
   "id": "6650da0d",
   "metadata": {},
   "outputs": [],
   "source": [
    "# WRA ask the user  enter sallery\n",
    "# ask the user tax percentage\n",
    "# calculate how much tax user need to pay"
   ]
  },
  {
   "cell_type": "code",
   "execution_count": 4,
   "id": "5cfeccf6",
   "metadata": {},
   "outputs": [
    {
     "name": "stdout",
     "output_type": "stream",
     "text": [
      "Enter the sallery of the user :70000\n",
      "Enter the tax percent pay by the user :15\n",
      "The tax by the user is 10500.0\n"
     ]
    }
   ],
   "source": [
    "sallery=eval(input(\"Enter the sallery of the user :\"))\n",
    "tax_percent=eval(input(\"Enter the tax percent pay by the user :\"))\n",
    "tax_pay=sallery*(tax_percent/100)\n",
    "print(\"The tax by the user is\",tax_pay)"
   ]
  },
  {
   "cell_type": "code",
   "execution_count": null,
   "id": "f5d0a41f",
   "metadata": {},
   "outputs": [],
   "source": [
    "what if we use int(input()) in place of eval"
   ]
  },
  {
   "cell_type": "code",
   "execution_count": null,
   "id": "659c7a54",
   "metadata": {},
   "outputs": [],
   "source": [
    "('100.5')"
   ]
  },
  {
   "cell_type": "code",
   "execution_count": null,
   "id": "25b145f2",
   "metadata": {},
   "outputs": [],
   "source": [
    "float('100.5')"
   ]
  },
  {
   "cell_type": "code",
   "execution_count": null,
   "id": "8ae6b05a",
   "metadata": {},
   "outputs": [],
   "source": [
    "# WAP ask the user get a random value between 1 and 100\n",
    "# perform th square of the number"
   ]
  },
  {
   "cell_type": "code",
   "execution_count": 6,
   "id": "3b96cf8e",
   "metadata": {},
   "outputs": [
    {
     "data": {
      "text/plain": [
       "19"
      ]
     },
     "execution_count": 6,
     "metadata": {},
     "output_type": "execute_result"
    }
   ],
   "source": [
    "random.randint(1,100)"
   ]
  },
  {
   "cell_type": "code",
   "execution_count": 9,
   "id": "45ac2ee6",
   "metadata": {},
   "outputs": [],
   "source": [
    "import random"
   ]
  },
  {
   "cell_type": "code",
   "execution_count": 7,
   "id": "c2189465",
   "metadata": {},
   "outputs": [
    {
     "data": {
      "text/plain": [
       "83"
      ]
     },
     "execution_count": 7,
     "metadata": {},
     "output_type": "execute_result"
    }
   ],
   "source": [
    "import random\n",
    "random.randint(1,100)\n"
   ]
  },
  {
   "cell_type": "code",
   "execution_count": 1,
   "id": "2d9dc49d",
   "metadata": {},
   "outputs": [
    {
     "name": "stdout",
     "output_type": "stream",
     "text": [
      " the square of 21 is 441\n"
     ]
    }
   ],
   "source": [
    "import random\n",
    "value=random.randint(1,100)\n",
    "square=value*value\n",
    "print(\" the square of {} is {}\".format(value,square))"
   ]
  },
  {
   "cell_type": "code",
   "execution_count": 10,
   "id": "2ef09cd6",
   "metadata": {},
   "outputs": [
    {
     "name": "stdout",
     "output_type": "stream",
     "text": [
      "Enter the value ask  by the user:70\n",
      " the square of 70 is 4900\n"
     ]
    }
   ],
   "source": [
    "value=eval(input(\"Enter the value ask  by the user:\"))\n",
    "square=value*value\n",
    "print(\" the square of {} is {}\".format(value,square))"
   ]
  },
  {
   "cell_type": "code",
   "execution_count": 11,
   "id": "f7f38107",
   "metadata": {},
   "outputs": [
    {
     "name": "stdout",
     "output_type": "stream",
     "text": [
      " the square of 30 is 900\n"
     ]
    }
   ],
   "source": [
    "value=30       #30 is saved in a variable 'value'\n",
    "square=value*value    # 30*30\n",
    "print(\" the square of {} is {}\".format(value,square))"
   ]
  },
  {
   "cell_type": "code",
   "execution_count": 2,
   "id": "c8b50179",
   "metadata": {},
   "outputs": [
    {
     "name": "stdout",
     "output_type": "stream",
     "text": [
      " the square of 236 is 55696\n"
     ]
    }
   ],
   "source": [
    "import random\n",
    "value=random.randint(1,400)   # computer will generate a random number\n",
    "# between 1 to 400, that will be save in value \n",
    "square=value*value\n",
    "print(\" the square of {} is {}\".format(value,square))"
   ]
  },
  {
   "cell_type": "code",
   "execution_count": null,
   "id": "f4805d48",
   "metadata": {},
   "outputs": [],
   "source": [
    "what is the use of random.randint function in practical?\n",
    "==> Statistics\n",
    "\n",
    "can we directly accept 2 digit number only whe user give input\n",
    "==> is the directly it is not possible\n",
    "2222"
   ]
  },
  {
   "cell_type": "code",
   "execution_count": null,
   "id": "71e1e781",
   "metadata": {},
   "outputs": [],
   "source": [
    "eval(input())"
   ]
  },
  {
   "cell_type": "code",
   "execution_count": null,
   "id": "8467adc3",
   "metadata": {},
   "outputs": [],
   "source": [
    "# WAP as the user enter a distance \n",
    "# ask the user enter a rate per distance\n",
    "# calculate total charge"
   ]
  },
  {
   "cell_type": "code",
   "execution_count": 12,
   "id": "aaf1f411",
   "metadata": {},
   "outputs": [
    {
     "name": "stdout",
     "output_type": "stream",
     "text": [
      "enetr the distance cover by the user :50\n",
      "Enetr the rate per distance :9\n",
      "the total charge is  450\n"
     ]
    }
   ],
   "source": [
    "distance=eval(input(\"enetr the distance cover by the user :\"))\n",
    "rate_per_distance=eval(input(\"Enetr the rate per distance :\"))\n",
    "total_charge=distance*rate_per_distance\n",
    "print(\"the total charge is \",total_charge)"
   ]
  },
  {
   "cell_type": "code",
   "execution_count": null,
   "id": "4831df0c",
   "metadata": {},
   "outputs": [],
   "source": [
    "# ask the user enter total bill in dollars\n",
    "# manager: the dollar are not accepted\n",
    "#user: what will accepted\n",
    "#manger: only indian rupees\n",
    "#ask the user enter one dollar is equal tomhow many rupees\n",
    "# total bill=100*80\n",
    "#manager:Thankyou"
   ]
  },
  {
   "cell_type": "code",
   "execution_count": null,
   "id": "90cee9fc",
   "metadata": {},
   "outputs": [],
   "source": [
    "bill=eval(input(\"enter total bill in dollars:\"))\n",
    "conversion_rate=eval(input('one dollar equal to:'))\n",
    "total_amount=bill*conversion_rate\n",
    "print(total_amount)"
   ]
  },
  {
   "cell_type": "code",
   "execution_count": 17,
   "id": "1a5ce325",
   "metadata": {},
   "outputs": [
    {
     "name": "stdout",
     "output_type": "stream",
     "text": [
      "user:what is my total bill in dollars\n",
      "manager:sir the dollar is not accepted \n",
      "user:if dollar is not accepted the what will accpted\n",
      "manger:only indian rupees\n",
      "user:so what is the total amount in indian ruppes\n",
      "enter the bill in dollar:100\n",
      "enter the value of 1 dollar in rupees:80\n",
      "for your bill of 100 dollars ypu have to pay 8000 rupees\n"
     ]
    }
   ],
   "source": [
    "import time\n",
    "print(\"user:what is my total bill in dollars\")\n",
    "time.sleep(2)\n",
    "print(\"manager:sir the dollar is not accepted \")\n",
    "time.sleep(2)\n",
    "print(\"user:if dollar is not accepted the what will accpted\")\n",
    "time.sleep(2)\n",
    "print(\"manger:only indian rupees\")\n",
    "time.sleep(2)\n",
    "print(\"user:so what is the total amount in indian ruppes\")\n",
    "time.sleep(2)\n",
    "bill=eval(input(\"enter the bill in dollar:\"))\n",
    "conversion_rate=eval(input(\"enter the value of 1 dollar in rupees:\"))\n",
    "total_amount=bill*conversion_rate\n",
    "print(\"for your bill of {} dollars ypu have to pay {} rupees\".format(bill,total_amount))"
   ]
  },
  {
   "cell_type": "code",
   "execution_count": null,
   "id": "0527ef96",
   "metadata": {},
   "outputs": [],
   "source": [
    "a= eval(input(\"Enter total bill in dollars:\"))\n",
    "print(\"manager:the dollars are not accepted\")\n",
    "print(\"user: what will be accepted\")\n",
    "print(\"manager: only indian rupees\")\n",
    "b=eval(input(\"enter one dollar is equals to :\"))\n",
    "c=a*b\n",
    "print(\"total amount in rupees is {}\".format(c))"
   ]
  },
  {
   "cell_type": "code",
   "execution_count": null,
   "id": "51e1f5de",
   "metadata": {},
   "outputs": [],
   "source": [
    "bill=eval(input(\"Enter total bill in dollars:\"))\n",
    "print(\"manager:the dollars are not accepted\")\n",
    "print(\"user: what will be accepted\")\n",
    "print(\"manager: only indian rupees\")\n",
    "conversion_rate=eval(input(\"user: May I know the 1 dollar is equa to how much rupees :\"))\n",
    "\n",
    "print(\"for your bill of dollars, you need to pay {} rs.\".format(bill,bill*80))"
   ]
  },
  {
   "cell_type": "code",
   "execution_count": null,
   "id": "39c10db8",
   "metadata": {},
   "outputs": [],
   "source": [
    "bill=eval(input(\"Enter total bill in dollars:\"))\n",
    "print(\"manager:the dollars are not accepted\")\n",
    "print(\"user: what will be accepted\")\n",
    "print(\"manager: only indian rupees\")\n",
    "doll=eval(input(\"enter one dollar is equals to :\"))\n",
    "totalbill=bill*doll\n",
    "print(\"the totalbill {} is \".format(totalbill))\n",
    "print(\"manager:thankyou\")"
   ]
  },
  {
   "cell_type": "code",
   "execution_count": 3,
   "id": "e43dbcaf",
   "metadata": {},
   "outputs": [
    {
     "name": "stdout",
     "output_type": "stream",
     "text": [
      "manager:Enter the total bill in dollars:800\n",
      "manager response:Dollar are not accepted\n",
      "user response:Which currency will be accepted?\n",
      "manager response:only indian rupees\n",
      "Dollar con version:80\n",
      "The total amount is: 64000\n"
     ]
    }
   ],
   "source": [
    "Bill=eval(input(\"manager:Enter the total bill in dollars:\"))\n",
    "input('manager response:')\n",
    "input('user response:')\n",
    "input(\"manager response:\")\n",
    "CR=eval(input(\"Dollar con version:\"))\n",
    "Total=Bill*CR\n",
    "print(\"The total amount is:\",Total)"
   ]
  },
  {
   "cell_type": "code",
   "execution_count": 2,
   "id": "e978d01b",
   "metadata": {},
   "outputs": [
    {
     "name": "stdout",
     "output_type": "stream",
     "text": [
      "Enter total bill in dollars:100\n",
      "manager:the dollars are not accepted\n",
      "user: what will be accepted\n",
      "manager: only indian rupees\n",
      "user: May I know the 1 dollar is equa to how much rupees :80\n",
      "for your bill of 100 dollars, you need to pay 8000 rs.\n"
     ]
    }
   ],
   "source": [
    "import time\n",
    "bill=eval(input(\"Enter total bill in dollars:\"))\n",
    "time.sleep(5)\n",
    "print(\"manager:the dollars are not accepted\")\n",
    "time.sleep(5)\n",
    "print(\"user: what will be accepted\")\n",
    "time.sleep(5)\n",
    "print(\"manager: only indian rupees\")\n",
    "time.sleep(5)\n",
    "conversion_rate=eval(input(\"user: May I know the 1 dollar is equa to how much rupees :\"))\n",
    "print(\"for your bill of {} dollars, you need to pay {} rs.\".format(bill,bill*80))"
   ]
  },
  {
   "cell_type": "code",
   "execution_count": 3,
   "id": "1f7f4084",
   "metadata": {},
   "outputs": [
    {
     "name": "stdout",
     "output_type": "stream",
     "text": [
      "Enter a number10\n"
     ]
    },
    {
     "data": {
      "text/plain": [
       "'10'"
      ]
     },
     "execution_count": 3,
     "metadata": {},
     "output_type": "execute_result"
    }
   ],
   "source": [
    "input(\"Enter a number\")"
   ]
  },
  {
   "cell_type": "code",
   "execution_count": null,
   "id": "3ebf9e3d",
   "metadata": {},
   "outputs": [],
   "source": [
    "# father and son\n",
    "# Father: which course you want to do\n",
    "#son: I want to pursue DS course\n",
    "# Father : oh! That is very nice!\n",
    "# Father: May I know your JEE rank\n",
    "# son: 20000 =================================user input\n",
    "# Father : Then how can you pursue\n",
    "# Son: payment seat\n",
    "# Father : Which college is offer\n",
    "# son: Naresh IT=============================user input\n",
    "# father: how much the fee\n",
    "# Son : 20000=================================user input\n",
    "# Father : how many sem\n",
    "# Son : 4======================================user input\n",
    "# Father : how much total cost\n",
    "# Son: 4*20000=====================================calculation"
   ]
  },
  {
   "cell_type": "code",
   "execution_count": 24,
   "id": "816b48ca",
   "metadata": {},
   "outputs": [
    {
     "name": "stdout",
     "output_type": "stream",
     "text": [
      "Father: which course you want to do\n",
      "Son: I want to pursue DS course\n",
      "Father: Oh! that is nice!\n",
      "Father: May I know your JEE rank\n",
      " Enter the jee rank:200000\n",
      "Then how can you pursue:\n",
      "Son:payment seat\n",
      "Father: which college is offer\n",
      "Enter the college name:Naresh IT\n",
      "Father:How much the fee\n",
      "enter the fee course:20000\n",
      "Father:How many sem\n",
      "Enter the total sem:4\n",
      "Father: How much the total cost\n",
      "The total fee is 80000\n"
     ]
    }
   ],
   "source": [
    "print(\"Father: which course you want to do\")\n",
    "print(\"Son: I want to pursue DS course\")\n",
    "print(\"Father: Oh! that is nice!\")\n",
    "print(\"Father: May I know your JEE rank\")\n",
    "jee_rank=eval(input(\" Enter the jee rank:\"))\n",
    "print(\"Then how can you pursue:\")\n",
    "print(\"Son:payment seat\")\n",
    "print(\"Father: which college is offer\")\n",
    "college_name=input(\"Enter the college name:\")\n",
    "print(\"Father:How much the fee\")\n",
    "fee=eval(input(\"enter the fee course:\"))\n",
    "print(\"Father:How many sem\")\n",
    "sem=input(\"Enter the total sem:\")\n",
    "print(\"Father: How much the total cost\")\n",
    "total_cost=fee*4\n",
    "print(\"The total fee is\",total_cost)"
   ]
  },
  {
   "cell_type": "code",
   "execution_count": 4,
   "id": "75ec2c01",
   "metadata": {},
   "outputs": [
    {
     "name": "stdout",
     "output_type": "stream",
     "text": [
      "Father: which course you want to do\n",
      "Son: I want to pursue DS course\n",
      "Father: Oh! that is nice!\n",
      "Father: May I know your JEE rank\n",
      " Enter the jee rank:20000\n",
      "Then how can you pursue:\n",
      "Son:payment seat\n",
      "Father: which college is offer\n",
      "Enter the college name:Naresh IT\n",
      "Father:How much the fee\n",
      "enter the fee course:20000\n",
      "Father:How many sem\n",
      "Enter the total sem:4\n",
      "Father: How much the total cost\n",
      "The total fee is 80000\n"
     ]
    }
   ],
   "source": [
    "import time\n",
    "print(\"Father: which course you want to do\")\n",
    "time.sleep(2)\n",
    "print(\"Son: I want to pursue DS course\")\n",
    "time.sleep(2)\n",
    "print(\"Father: Oh! that is nice!\")\n",
    "time.sleep(2)\n",
    "print(\"Father: May I know your JEE rank\")\n",
    "time.sleep(2)\n",
    "jee_rank=eval(input(\" Enter the jee rank:\"))\n",
    "time.sleep(2)\n",
    "print(\"Then how can you pursue:\")\n",
    "time.sleep(2)\n",
    "print(\"Son:payment seat\")\n",
    "time.sleep(2)\n",
    "print(\"Father: which college is offer\")\n",
    "time.sleep(2)\n",
    "college_name=input(\"Enter the college name:\")\n",
    "time.sleep(2)\n",
    "print(\"Father:How much the fee\")\n",
    "time.sleep(2)\n",
    "fee=eval(input(\"enter the fee course:\"))\n",
    "time.sleep(2)\n",
    "print(\"Father:How many sem\")\n",
    "time.sleep(2)\n",
    "sem=input(\"Enter the total sem:\")\n",
    "time.sleep(2)\n",
    "print(\"Father: How much the total cost\")\n",
    "time.sleep(2)\n",
    "total_cost=fee*4\n",
    "time.sleep(2)\n",
    "print(\"The total fee is\",total_cost)"
   ]
  },
  {
   "cell_type": "code",
   "execution_count": 5,
   "id": "db85dcb7",
   "metadata": {},
   "outputs": [
    {
     "name": "stdout",
     "output_type": "stream",
     "text": [
      "Son: hi dad i want to do some course instead of some post grad\n",
      "Father:Which course you wany to do?\n",
      "Son:DATA SCIENCE\n",
      "Father: OH! thats nice then\n",
      "Father: Can i know your JEE rank\n",
      "Son: the rank is:23000\n",
      "Father: Then how you pursue further\n",
      "Son: payment seat i am thninking of\n",
      "Father:Ok, which college is offering this course on payment\n",
      "Son:Naresh It\n",
      "Father: how much the fees?\n",
      "son:the fees is:20000\n",
      "Father : how much the total fee \n",
      "Son:total fees is 80000\n"
     ]
    }
   ],
   "source": [
    "import time\n",
    "print(\"Son: hi dad i want to do some course instead of some post grad\")\n",
    "time.sleep(2)\n",
    "print(\"Father:Which course you wany to do?\")\n",
    "time.sleep(2)\n",
    "print(\"Son:DATA SCIENCE\")\n",
    "time.sleep(2)\n",
    "print(\"Father: OH! thats nice then\")\n",
    "time.sleep(2)\n",
    "print(\"Father: Can i know your JEE rank\")\n",
    "time.sleep(2)\n",
    "rank=eval(input(\"Son: the rank is:\"))\n",
    "time.sleep(2)\n",
    "print(\"Father: Then how you pursue further\")\n",
    "time.sleep(2)\n",
    "print(\"Son: payment seat i am thninking of\")\n",
    "time.sleep(2)\n",
    "print(\"Father:Ok, which college is offering this course on payment\")\n",
    "time.sleep(2)\n",
    "input(\"Son:\")\n",
    "time.sleep(2)\n",
    "print(\"Father: how much the fees?\")\n",
    "time.sleep(2)\n",
    "fees=eval(input(\"son:the fees is:\"))\n",
    "time.sleep(2)\n",
    "print(\"Father : how much the total fee \")\n",
    "time.sleep(2)\n",
    "calculate=fees*4\n",
    "time.sleep(2)\n",
    "print(\"Son:total fees is {}\".format(calculate))"
   ]
  },
  {
   "cell_type": "code",
   "execution_count": 8,
   "id": "29467105",
   "metadata": {},
   "outputs": [
    {
     "name": "stdout",
     "output_type": "stream",
     "text": [
      "Fatherhii\n",
      "Sonds\n",
      "Fathernice\n",
      "Fatherjee\n",
      "jee rank3000\n",
      "Fatherhow\n",
      "Sonpay\n",
      "Fatherwhich\n",
      "college namenareshit\n",
      "Father:sem\n",
      "fee is20000\n",
      "Father:sem\n",
      "sems are4\n",
      "Father:to\n"
     ]
    }
   ],
   "source": [
    "input(\"Father\")\n",
    "input(\"Son\")\n",
    "input(\"Father\")\n",
    "input(\"Father\")\n",
    "rank=eval(input(\"jee rank\"))\n",
    "input(\"Father\")\n",
    "input(\"Son\")\n",
    "input(\"Father\")\n",
    "college=str(input(\"college name\"))\n",
    "input(\"Father:\")\n",
    "fee=eval(input(\"fee is\"))\n",
    "input(\"Father:\")\n",
    "sem=eval(input(\"sems are\"))\n",
    "input(\"Father:\")\n",
    "totalamount=fee*sem\n",
    "print=(\"Total amount is {}:\".format(totalamount))\n"
   ]
  },
  {
   "cell_type": "code",
   "execution_count": null,
   "id": "8635fb91",
   "metadata": {},
   "outputs": [],
   "source": []
  }
 ],
 "metadata": {
  "kernelspec": {
   "display_name": "Python 3 (ipykernel)",
   "language": "python",
   "name": "python3"
  },
  "language_info": {
   "codemirror_mode": {
    "name": "ipython",
    "version": 3
   },
   "file_extension": ".py",
   "mimetype": "text/x-python",
   "name": "python",
   "nbconvert_exporter": "python",
   "pygments_lexer": "ipython3",
   "version": "3.11.5"
  }
 },
 "nbformat": 4,
 "nbformat_minor": 5
}
